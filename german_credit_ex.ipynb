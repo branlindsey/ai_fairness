{
 "cells": [
  {
   "cell_type": "code",
   "execution_count": 1,
   "metadata": {},
   "outputs": [],
   "source": [
    "import sys"
   ]
  },
  {
   "cell_type": "code",
   "execution_count": 2,
   "metadata": {},
   "outputs": [
    {
     "data": {
      "text/plain": [
       "['/Users/bethany.lindsey/Galvanize/capstone/capstone_three/ai_fairness',\n",
       " '//anaconda3/lib/python37.zip',\n",
       " '//anaconda3/lib/python3.7',\n",
       " '//anaconda3/lib/python3.7/lib-dynload',\n",
       " '',\n",
       " '//anaconda3/lib/python3.7/site-packages',\n",
       " '//anaconda3/lib/python3.7/site-packages/aeosa',\n",
       " '//anaconda3/lib/python3.7/site-packages/IPython/extensions',\n",
       " '/Users/bethany.lindsey/.ipython']"
      ]
     },
     "execution_count": 2,
     "metadata": {},
     "output_type": "execute_result"
    }
   ],
   "source": [
    "sys.path"
   ]
  },
  {
   "cell_type": "code",
   "execution_count": 3,
   "metadata": {},
   "outputs": [],
   "source": [
    "#sys.path.insert(1, \"../\") "
   ]
  },
  {
   "cell_type": "code",
   "execution_count": 4,
   "metadata": {},
   "outputs": [],
   "source": [
    "import numpy as np\n",
    "np.random.seed(0)\n",
    "import pandas as pd"
   ]
  },
  {
   "cell_type": "code",
   "execution_count": 5,
   "metadata": {},
   "outputs": [],
   "source": [
    "from tqdm import tqdm"
   ]
  },
  {
   "cell_type": "code",
   "execution_count": 7,
   "metadata": {},
   "outputs": [],
   "source": [
    "from common_utils import compute_metrics\n"
   ]
  },
  {
   "cell_type": "code",
   "execution_count": 42,
   "metadata": {},
   "outputs": [],
   "source": [
    "import matplotlib.pyplot as plt"
   ]
  },
  {
   "cell_type": "code",
   "execution_count": 8,
   "metadata": {},
   "outputs": [],
   "source": [
    "from aif360.datasets import GermanDataset\n",
    "from aif360.metrics import BinaryLabelDatasetMetric\n",
    "from aif360.algorithms.preprocessing import Reweighing\n",
    "from aif360.metrics import ClassificationMetric"
   ]
  },
  {
   "cell_type": "code",
   "execution_count": 10,
   "metadata": {},
   "outputs": [],
   "source": [
    "from IPython.display import Markdown, display"
   ]
  },
  {
   "cell_type": "code",
   "execution_count": 11,
   "metadata": {},
   "outputs": [],
   "source": [
    "dataset_orig = GermanDataset(\n",
    "    protected_attribute_names=['age'],\n",
    "    privileged_classes = [lambda x: x>=25],\n",
    "    features_to_drop=['personal_status', 'sex'])\n",
    "    "
   ]
  },
  {
   "cell_type": "code",
   "execution_count": 12,
   "metadata": {},
   "outputs": [
    {
     "data": {
      "text/plain": [
       "abc.ABCMeta"
      ]
     },
     "execution_count": 12,
     "metadata": {},
     "output_type": "execute_result"
    }
   ],
   "source": [
    "type(GermanDataset)"
   ]
  },
  {
   "cell_type": "code",
   "execution_count": 13,
   "metadata": {},
   "outputs": [],
   "source": [
    "dataset_orig_train, dataset_orig_vt = dataset_orig.split([0.7], shuffle=True)\n",
    "dataset_orig_valid, dataset_orig_test = dataset_orig_vt.split([0.5], shuffle=True)"
   ]
  },
  {
   "cell_type": "code",
   "execution_count": 14,
   "metadata": {},
   "outputs": [
    {
     "data": {
      "text/plain": [
       "aif360.datasets.german_dataset.GermanDataset"
      ]
     },
     "execution_count": 14,
     "metadata": {},
     "output_type": "execute_result"
    }
   ],
   "source": [
    "type(dataset_orig_train)"
   ]
  },
  {
   "cell_type": "code",
   "execution_count": 15,
   "metadata": {},
   "outputs": [],
   "source": [
    "privileged_groups= [{'age':1}]\n",
    "unprivileged_groups=[{'age': 0}]"
   ]
  },
  {
   "cell_type": "code",
   "execution_count": 16,
   "metadata": {},
   "outputs": [
    {
     "data": {
      "text/plain": [
       "['credit']"
      ]
     },
     "execution_count": 16,
     "metadata": {},
     "output_type": "execute_result"
    }
   ],
   "source": [
    "dataset_orig_train.label_names"
   ]
  },
  {
   "cell_type": "code",
   "execution_count": 17,
   "metadata": {},
   "outputs": [],
   "source": [
    "metric_orig_train = BinaryLabelDatasetMetric(dataset_orig_train, \n",
    "                                             unprivileged_groups=unprivileged_groups, \n",
    "                                            privileged_groups=privileged_groups)"
   ]
  },
  {
   "cell_type": "code",
   "execution_count": 18,
   "metadata": {},
   "outputs": [
    {
     "data": {
      "text/markdown": [
       "#### Original training dataset"
      ],
      "text/plain": [
       "<IPython.core.display.Markdown object>"
      ]
     },
     "metadata": {},
     "output_type": "display_data"
    },
    {
     "name": "stdout",
     "output_type": "stream",
     "text": [
      "Difference in mean outcomes between unprivileged and privileged groups = -0.169905\n"
     ]
    }
   ],
   "source": [
    "display(Markdown(\"#### Original training dataset\"))\n",
    "print(\"Difference in mean outcomes between unprivileged and privileged groups = %f\" % metric_orig_train.mean_difference())"
   ]
  },
  {
   "cell_type": "code",
   "execution_count": 46,
   "metadata": {},
   "outputs": [],
   "source": [
    "RW = Reweighing(unprivileged_groups=unprivileged_groups, \n",
    "               privileged_groups=privileged_groups)"
   ]
  },
  {
   "cell_type": "code",
   "execution_count": 47,
   "metadata": {},
   "outputs": [],
   "source": [
    "dataset_transf_train = RW.fit_transform(dataset_orig_train)\n"
   ]
  },
  {
   "cell_type": "code",
   "execution_count": 48,
   "metadata": {},
   "outputs": [],
   "source": [
    "metric_transf_train = BinaryLabelDatasetMetric(dataset_transf_train, \n",
    "                                             unprivileged_groups=unprivileged_groups, \n",
    "                                            privileged_groups=privileged_groups)"
   ]
  },
  {
   "cell_type": "code",
   "execution_count": 49,
   "metadata": {},
   "outputs": [
    {
     "data": {
      "text/markdown": [
       "#### Transformed training dataset"
      ],
      "text/plain": [
       "<IPython.core.display.Markdown object>"
      ]
     },
     "metadata": {},
     "output_type": "display_data"
    },
    {
     "name": "stdout",
     "output_type": "stream",
     "text": [
      "Difference in mean outcomes between privileged and unprivileged = 0.000000\n"
     ]
    }
   ],
   "source": [
    "display(Markdown('#### Transformed training dataset'))\n",
    "print('Difference in mean outcomes between privileged and unprivileged = %f' % metric_transf_train.mean_difference())"
   ]
  },
  {
   "cell_type": "code",
   "execution_count": 23,
   "metadata": {},
   "outputs": [
    {
     "data": {
      "text/plain": [
       "aif360.datasets.german_dataset.GermanDataset"
      ]
     },
     "execution_count": 23,
     "metadata": {},
     "output_type": "execute_result"
    }
   ],
   "source": [
    "type(dataset_transf_train)"
   ]
  },
  {
   "cell_type": "code",
   "execution_count": 24,
   "metadata": {},
   "outputs": [
    {
     "data": {
      "text/plain": [
       "['age']"
      ]
     },
     "execution_count": 24,
     "metadata": {},
     "output_type": "execute_result"
    }
   ],
   "source": [
    "dataset_transf_train.protected_attribute_names"
   ]
  },
  {
   "cell_type": "code",
   "execution_count": 25,
   "metadata": {},
   "outputs": [
    {
     "data": {
      "text/plain": [
       "['month',\n",
       " 'credit_amount',\n",
       " 'investment_as_income_percentage',\n",
       " 'residence_since',\n",
       " 'age',\n",
       " 'number_of_credits',\n",
       " 'people_liable_for',\n",
       " 'status=A11',\n",
       " 'status=A12',\n",
       " 'status=A13',\n",
       " 'status=A14',\n",
       " 'credit_history=A30',\n",
       " 'credit_history=A31',\n",
       " 'credit_history=A32',\n",
       " 'credit_history=A33',\n",
       " 'credit_history=A34',\n",
       " 'purpose=A40',\n",
       " 'purpose=A41',\n",
       " 'purpose=A410',\n",
       " 'purpose=A42',\n",
       " 'purpose=A43',\n",
       " 'purpose=A44',\n",
       " 'purpose=A45',\n",
       " 'purpose=A46',\n",
       " 'purpose=A48',\n",
       " 'purpose=A49',\n",
       " 'savings=A61',\n",
       " 'savings=A62',\n",
       " 'savings=A63',\n",
       " 'savings=A64',\n",
       " 'savings=A65',\n",
       " 'employment=A71',\n",
       " 'employment=A72',\n",
       " 'employment=A73',\n",
       " 'employment=A74',\n",
       " 'employment=A75',\n",
       " 'other_debtors=A101',\n",
       " 'other_debtors=A102',\n",
       " 'other_debtors=A103',\n",
       " 'property=A121',\n",
       " 'property=A122',\n",
       " 'property=A123',\n",
       " 'property=A124',\n",
       " 'installment_plans=A141',\n",
       " 'installment_plans=A142',\n",
       " 'installment_plans=A143',\n",
       " 'housing=A151',\n",
       " 'housing=A152',\n",
       " 'housing=A153',\n",
       " 'skill_level=A171',\n",
       " 'skill_level=A172',\n",
       " 'skill_level=A173',\n",
       " 'skill_level=A174',\n",
       " 'telephone=A191',\n",
       " 'telephone=A192',\n",
       " 'foreign_worker=A201',\n",
       " 'foreign_worker=A202']"
      ]
     },
     "execution_count": 25,
     "metadata": {},
     "output_type": "execute_result"
    }
   ],
   "source": [
    "dataset_transf_train.feature_names"
   ]
  },
  {
   "cell_type": "code",
   "execution_count": 26,
   "metadata": {
    "collapsed": true,
    "jupyter": {
     "outputs_hidden": true
    }
   },
   "outputs": [
    {
     "data": {
      "text/plain": [
       "['993',\n",
       " '859',\n",
       " '298',\n",
       " '553',\n",
       " '672',\n",
       " '971',\n",
       " '27',\n",
       " '231',\n",
       " '306',\n",
       " '706',\n",
       " '496',\n",
       " '558',\n",
       " '784',\n",
       " '239',\n",
       " '578',\n",
       " '55',\n",
       " '906',\n",
       " '175',\n",
       " '14',\n",
       " '77',\n",
       " '31',\n",
       " '481',\n",
       " '310',\n",
       " '311',\n",
       " '883',\n",
       " '788',\n",
       " '45',\n",
       " '103',\n",
       " '760',\n",
       " '1',\n",
       " '823',\n",
       " '710',\n",
       " '614',\n",
       " '790',\n",
       " '408',\n",
       " '736',\n",
       " '957',\n",
       " '366',\n",
       " '918',\n",
       " '267',\n",
       " '230',\n",
       " '996',\n",
       " '635',\n",
       " '698',\n",
       " '251',\n",
       " '783',\n",
       " '819',\n",
       " '141',\n",
       " '316',\n",
       " '587',\n",
       " '331',\n",
       " '295',\n",
       " '262',\n",
       " '432',\n",
       " '862',\n",
       " '582',\n",
       " '272',\n",
       " '270',\n",
       " '987',\n",
       " '319',\n",
       " '569',\n",
       " '643',\n",
       " '142',\n",
       " '202',\n",
       " '413',\n",
       " '196',\n",
       " '264',\n",
       " '531',\n",
       " '252',\n",
       " '576',\n",
       " '738',\n",
       " '299',\n",
       " '740',\n",
       " '247',\n",
       " '926',\n",
       " '412',\n",
       " '389',\n",
       " '796',\n",
       " '601',\n",
       " '654',\n",
       " '261',\n",
       " '456',\n",
       " '386',\n",
       " '982',\n",
       " '909',\n",
       " '693',\n",
       " '236',\n",
       " '501',\n",
       " '497',\n",
       " '874',\n",
       " '452',\n",
       " '494',\n",
       " '923',\n",
       " '279',\n",
       " '638',\n",
       " '485',\n",
       " '568',\n",
       " '108',\n",
       " '367',\n",
       " '644',\n",
       " '785',\n",
       " '873',\n",
       " '65',\n",
       " '902',\n",
       " '317',\n",
       " '636',\n",
       " '666',\n",
       " '789',\n",
       " '958',\n",
       " '214',\n",
       " '97',\n",
       " '583',\n",
       " '466',\n",
       " '523',\n",
       " '255',\n",
       " '385',\n",
       " '545',\n",
       " '382',\n",
       " '489',\n",
       " '513',\n",
       " '780',\n",
       " '904',\n",
       " '122',\n",
       " '946',\n",
       " '60',\n",
       " '844',\n",
       " '372',\n",
       " '283',\n",
       " '939',\n",
       " '608',\n",
       " '495',\n",
       " '630',\n",
       " '596',\n",
       " '713',\n",
       " '753',\n",
       " '624',\n",
       " '312',\n",
       " '8',\n",
       " '529',\n",
       " '876',\n",
       " '101',\n",
       " '615',\n",
       " '520',\n",
       " '249',\n",
       " '278',\n",
       " '424',\n",
       " '384',\n",
       " '395',\n",
       " '54',\n",
       " '34',\n",
       " '271',\n",
       " '30',\n",
       " '403',\n",
       " '757',\n",
       " '975',\n",
       " '990',\n",
       " '457',\n",
       " '362',\n",
       " '860',\n",
       " '483',\n",
       " '580',\n",
       " '986',\n",
       " '688',\n",
       " '864',\n",
       " '927',\n",
       " '378',\n",
       " '320',\n",
       " '942',\n",
       " '351',\n",
       " '418',\n",
       " '945',\n",
       " '795',\n",
       " '145',\n",
       " '826',\n",
       " '492',\n",
       " '751',\n",
       " '240',\n",
       " '648',\n",
       " '886',\n",
       " '144',\n",
       " '767',\n",
       " '999',\n",
       " '467',\n",
       " '315',\n",
       " '989',\n",
       " '922',\n",
       " '717',\n",
       " '458',\n",
       " '773',\n",
       " '204',\n",
       " '834',\n",
       " '832',\n",
       " '435',\n",
       " '5',\n",
       " '769',\n",
       " '679',\n",
       " '722',\n",
       " '215',\n",
       " '653',\n",
       " '150',\n",
       " '687',\n",
       " '500',\n",
       " '332',\n",
       " '979',\n",
       " '817',\n",
       " '620',\n",
       " '814',\n",
       " '516',\n",
       " '518',\n",
       " '940',\n",
       " '113',\n",
       " '612',\n",
       " '37',\n",
       " '894',\n",
       " '895',\n",
       " '992',\n",
       " '158',\n",
       " '154',\n",
       " '40',\n",
       " '585',\n",
       " '805',\n",
       " '592',\n",
       " '964',\n",
       " '266',\n",
       " '406',\n",
       " '294',\n",
       " '604',\n",
       " '522',\n",
       " '18',\n",
       " '425',\n",
       " '527',\n",
       " '308',\n",
       " '622',\n",
       " '794',\n",
       " '62',\n",
       " '79',\n",
       " '680',\n",
       " '193',\n",
       " '750',\n",
       " '181',\n",
       " '535',\n",
       " '484',\n",
       " '200',\n",
       " '364',\n",
       " '991',\n",
       " '462',\n",
       " '356',\n",
       " '2',\n",
       " '478',\n",
       " '695',\n",
       " '253',\n",
       " '667',\n",
       " '85',\n",
       " '969',\n",
       " '75',\n",
       " '786',\n",
       " '658',\n",
       " '465',\n",
       " '920',\n",
       " '38',\n",
       " '944',\n",
       " '725',\n",
       " '436',\n",
       " '140',\n",
       " '818',\n",
       " '602',\n",
       " '745',\n",
       " '471',\n",
       " '342',\n",
       " '416',\n",
       " '711',\n",
       " '557',\n",
       " '50',\n",
       " '162',\n",
       " '765',\n",
       " '856',\n",
       " '867',\n",
       " '524',\n",
       " '443',\n",
       " '172',\n",
       " '956',\n",
       " '330',\n",
       " '352',\n",
       " '857',\n",
       " '766',\n",
       " '39',\n",
       " '852',\n",
       " '875',\n",
       " '156',\n",
       " '222',\n",
       " '641',\n",
       " '210',\n",
       " '746',\n",
       " '960',\n",
       " '700',\n",
       " '167',\n",
       " '998',\n",
       " '984',\n",
       " '491',\n",
       " '10',\n",
       " '105',\n",
       " '68',\n",
       " '479',\n",
       " '399',\n",
       " '434',\n",
       " '258',\n",
       " '827',\n",
       " '884',\n",
       " '304',\n",
       " '811',\n",
       " '938',\n",
       " '924',\n",
       " '526',\n",
       " '20',\n",
       " '905',\n",
       " '380',\n",
       " '420',\n",
       " '285',\n",
       " '71',\n",
       " '49',\n",
       " '179',\n",
       " '506',\n",
       " '929',\n",
       " '116',\n",
       " '293',\n",
       " '76',\n",
       " '48',\n",
       " '503',\n",
       " '263',\n",
       " '808',\n",
       " '863',\n",
       " '748',\n",
       " '64',\n",
       " '798',\n",
       " '52',\n",
       " '440',\n",
       " '124',\n",
       " '650',\n",
       " '409',\n",
       " '752',\n",
       " '952',\n",
       " '477',\n",
       " '118',\n",
       " '12',\n",
       " '157',\n",
       " '337',\n",
       " '127',\n",
       " '46',\n",
       " '235',\n",
       " '538',\n",
       " '241',\n",
       " '590',\n",
       " '358',\n",
       " '959',\n",
       " '848',\n",
       " '792',\n",
       " '325',\n",
       " '899',\n",
       " '809',\n",
       " '350',\n",
       " '363',\n",
       " '17',\n",
       " '186',\n",
       " '402',\n",
       " '338',\n",
       " '206',\n",
       " '963',\n",
       " '345',\n",
       " '313',\n",
       " '242',\n",
       " '913',\n",
       " '170',\n",
       " '187',\n",
       " '934',\n",
       " '133',\n",
       " '301',\n",
       " '731',\n",
       " '670',\n",
       " '318',\n",
       " '78',\n",
       " '521',\n",
       " '346',\n",
       " '198',\n",
       " '865',\n",
       " '548',\n",
       " '915',\n",
       " '588',\n",
       " '447',\n",
       " '21',\n",
       " '724',\n",
       " '718',\n",
       " '250',\n",
       " '243',\n",
       " '571',\n",
       " '35',\n",
       " '81',\n",
       " '159',\n",
       " '333',\n",
       " '837',\n",
       " '474',\n",
       " '671',\n",
       " '109',\n",
       " '661',\n",
       " '379',\n",
       " '625',\n",
       " '603',\n",
       " '92',\n",
       " '451',\n",
       " '652',\n",
       " '822',\n",
       " '855',\n",
       " '390',\n",
       " '577',\n",
       " '985',\n",
       " '422',\n",
       " '211',\n",
       " '171',\n",
       " '165',\n",
       " '238',\n",
       " '188',\n",
       " '685',\n",
       " '803',\n",
       " '344',\n",
       " '741',\n",
       " '453',\n",
       " '646',\n",
       " '830',\n",
       " '155',\n",
       " '487',\n",
       " '597',\n",
       " '988',\n",
       " '125',\n",
       " '66',\n",
       " '908',\n",
       " '511',\n",
       " '224',\n",
       " '268',\n",
       " '161',\n",
       " '813',\n",
       " '618',\n",
       " '676',\n",
       " '178',\n",
       " '950',\n",
       " '415',\n",
       " '100',\n",
       " '733',\n",
       " '689',\n",
       " '229',\n",
       " '334',\n",
       " '627',\n",
       " '702',\n",
       " '878',\n",
       " '482',\n",
       " '919',\n",
       " '220',\n",
       " '391',\n",
       " '912',\n",
       " '427',\n",
       " '309',\n",
       " '775',\n",
       " '885',\n",
       " '15',\n",
       " '493',\n",
       " '245',\n",
       " '898',\n",
       " '6',\n",
       " '613',\n",
       " '533',\n",
       " '397',\n",
       " '721',\n",
       " '858',\n",
       " '691',\n",
       " '104',\n",
       " '303',\n",
       " '549',\n",
       " '729',\n",
       " '208',\n",
       " '302',\n",
       " '51',\n",
       " '90',\n",
       " '354',\n",
       " '632',\n",
       " '460',\n",
       " '22',\n",
       " '374',\n",
       " '546',\n",
       " '439',\n",
       " '218',\n",
       " '737',\n",
       " '505',\n",
       " '605',\n",
       " '801',\n",
       " '948',\n",
       " '683',\n",
       " '205',\n",
       " '647',\n",
       " '190',\n",
       " '361',\n",
       " '664',\n",
       " '375',\n",
       " '631',\n",
       " '185',\n",
       " '732',\n",
       " '404',\n",
       " '194',\n",
       " '564',\n",
       " '401',\n",
       " '530',\n",
       " '656',\n",
       " '441',\n",
       " '132',\n",
       " '233',\n",
       " '173',\n",
       " '428',\n",
       " '567',\n",
       " '967',\n",
       " '758',\n",
       " '626',\n",
       " '96',\n",
       " '781',\n",
       " '499',\n",
       " '74',\n",
       " '89',\n",
       " '609',\n",
       " '0',\n",
       " '392',\n",
       " '476',\n",
       " '799',\n",
       " '519',\n",
       " '107',\n",
       " '708',\n",
       " '634',\n",
       " '223',\n",
       " '327',\n",
       " '102',\n",
       " '704',\n",
       " '475',\n",
       " '213',\n",
       " '135',\n",
       " '246',\n",
       " '970',\n",
       " '891',\n",
       " '619',\n",
       " '815',\n",
       " '365',\n",
       " '812',\n",
       " '26',\n",
       " '642',\n",
       " '417',\n",
       " '907',\n",
       " '921',\n",
       " '3',\n",
       " '134',\n",
       " '355',\n",
       " '877',\n",
       " '768',\n",
       " '836',\n",
       " '561',\n",
       " '892',\n",
       " '225',\n",
       " '820',\n",
       " '369',\n",
       " '681',\n",
       " '339',\n",
       " '419',\n",
       " '829',\n",
       " '951',\n",
       " '454',\n",
       " '63',\n",
       " '759',\n",
       " '360',\n",
       " '237',\n",
       " '112',\n",
       " '640',\n",
       " '532',\n",
       " '126',\n",
       " '259',\n",
       " '742',\n",
       " '761',\n",
       " '137',\n",
       " '7',\n",
       " '502',\n",
       " '831',\n",
       " '762',\n",
       " '851',\n",
       " '407',\n",
       " '692',\n",
       " '353',\n",
       " '153',\n",
       " '566',\n",
       " '542',\n",
       " '343',\n",
       " '887',\n",
       " '997',\n",
       " '825',\n",
       " '56',\n",
       " '400',\n",
       " '572',\n",
       " '473',\n",
       " '468',\n",
       " '651',\n",
       " '669',\n",
       " '504',\n",
       " '900',\n",
       " '649',\n",
       " '931',\n",
       " '300',\n",
       " '674',\n",
       " '665',\n",
       " '570',\n",
       " '163',\n",
       " '336',\n",
       " '59',\n",
       " '821',\n",
       " '933',\n",
       " '490',\n",
       " '787',\n",
       " '449',\n",
       " '703',\n",
       " '437',\n",
       " '563',\n",
       " '720',\n",
       " '890',\n",
       " '219',\n",
       " '678',\n",
       " '586',\n",
       " '282',\n",
       " '348',\n",
       " '686',\n",
       " '4',\n",
       " '995',\n",
       " '463',\n",
       " '776',\n",
       " '682',\n",
       " '879',\n",
       " '517',\n",
       " '573',\n",
       " '793',\n",
       " '893',\n",
       " '534',\n",
       " '903',\n",
       " '276',\n",
       " '284',\n",
       " '470',\n",
       " '426',\n",
       " '281',\n",
       " '120',\n",
       " '593',\n",
       " '981',\n",
       " '13',\n",
       " '655',\n",
       " '455',\n",
       " '584',\n",
       " '955',\n",
       " '160',\n",
       " '977',\n",
       " '973',\n",
       " '715',\n",
       " '744',\n",
       " '195',\n",
       " '191',\n",
       " '628',\n",
       " '536',\n",
       " '880',\n",
       " '164',\n",
       " '106',\n",
       " '16',\n",
       " '575',\n",
       " '925',\n",
       " '712',\n",
       " '540',\n",
       " '329',\n",
       " '480',\n",
       " '498',\n",
       " '968',\n",
       " '405',\n",
       " '743',\n",
       " '93',\n",
       " '433',\n",
       " '83',\n",
       " '843',\n",
       " '914',\n",
       " '657',\n",
       " '414',\n",
       " '662',\n",
       " '978',\n",
       " '771',\n",
       " '728',\n",
       " '911',\n",
       " '807',\n",
       " '322',\n",
       " '556',\n",
       " '357',\n",
       " '69',\n",
       " '514',\n",
       " '509',\n",
       " '340',\n",
       " '221',\n",
       " '928',\n",
       " '146']"
      ]
     },
     "execution_count": 26,
     "metadata": {},
     "output_type": "execute_result"
    }
   ],
   "source": [
    "dataset_transf_train.instance_names"
   ]
  },
  {
   "cell_type": "code",
   "execution_count": 27,
   "metadata": {},
   "outputs": [
    {
     "data": {
      "text/plain": [
       "'993'"
      ]
     },
     "execution_count": 27,
     "metadata": {},
     "output_type": "execute_result"
    }
   ],
   "source": [
    "dataset_transf_train.instance_names[0]"
   ]
  },
  {
   "cell_type": "markdown",
   "metadata": {},
   "source": [
    "### Creating a Logistic Regression Model"
   ]
  },
  {
   "cell_type": "code",
   "execution_count": 28,
   "metadata": {},
   "outputs": [],
   "source": [
    "from sklearn.linear_model import LogisticRegression\n",
    "from sklearn.preprocessing import StandardScaler\n",
    "from sklearn.metrics import accuracy_score"
   ]
  },
  {
   "cell_type": "code",
   "execution_count": 29,
   "metadata": {},
   "outputs": [],
   "source": [
    "scale_orig = StandardScaler()\n",
    "X_train = scale_orig.fit_transform(dataset_orig_train.features)"
   ]
  },
  {
   "cell_type": "code",
   "execution_count": 30,
   "metadata": {},
   "outputs": [],
   "source": [
    "y_train = dataset_orig_train.labels.ravel()"
   ]
  },
  {
   "cell_type": "code",
   "execution_count": 31,
   "metadata": {},
   "outputs": [],
   "source": [
    "w_train= dataset_orig_train.instance_weights.ravel()"
   ]
  },
  {
   "cell_type": "code",
   "execution_count": 32,
   "metadata": {},
   "outputs": [
    {
     "name": "stderr",
     "output_type": "stream",
     "text": [
      "//anaconda3/lib/python3.7/site-packages/sklearn/linear_model/logistic.py:432: FutureWarning: Default solver will be changed to 'lbfgs' in 0.22. Specify a solver to silence this warning.\n",
      "  FutureWarning)\n"
     ]
    }
   ],
   "source": [
    "lmod = LogisticRegression()\n",
    "lmod.fit(X_train, y_train, sample_weight=dataset_orig_train.instance_weights)\n",
    "y_train_pred = lmod.predict(X_train)"
   ]
  },
  {
   "cell_type": "code",
   "execution_count": 33,
   "metadata": {},
   "outputs": [
    {
     "data": {
      "text/plain": [
       "0.7857142857142857"
      ]
     },
     "execution_count": 33,
     "metadata": {},
     "output_type": "execute_result"
    }
   ],
   "source": [
    "accuracy_score(y_train, y_train_pred)"
   ]
  },
  {
   "cell_type": "code",
   "execution_count": 34,
   "metadata": {},
   "outputs": [],
   "source": [
    "X_test = scale_orig.transform(dataset_orig_test.features)\n",
    "y_test = dataset_orig_test.labels"
   ]
  },
  {
   "cell_type": "code",
   "execution_count": 35,
   "metadata": {},
   "outputs": [],
   "source": [
    "y_test_pred = lmod.predict(X_test)"
   ]
  },
  {
   "cell_type": "code",
   "execution_count": 36,
   "metadata": {},
   "outputs": [
    {
     "data": {
      "text/plain": [
       "0.7266666666666667"
      ]
     },
     "execution_count": 36,
     "metadata": {},
     "output_type": "execute_result"
    }
   ],
   "source": [
    "accuracy_score(y_test, y_test_pred)"
   ]
  },
  {
   "cell_type": "code",
   "execution_count": 37,
   "metadata": {},
   "outputs": [],
   "source": [
    "pos_ind = np.where(lmod.classes_ == dataset_orig_train.favorable_label)[0][0]\n",
    "\n",
    "dataset_orig_test.scores = lmod.predict_proba(X_test)[:,pos_ind].reshape(-1,1)\n"
   ]
  },
  {
   "cell_type": "code",
   "execution_count": 38,
   "metadata": {},
   "outputs": [],
   "source": [
    "dataset_orig_valid_pred = dataset_orig_valid.copy(deepcopy=True)\n",
    "X_valid = scale_orig.transform(dataset_orig_valid_pred.features)\n",
    "y_valid = dataset_orig_valid_pred.labels\n",
    "dataset_orig_valid_pred.scores = lmod.predict_proba(X_valid)[:,pos_ind].reshape(-1,1)\n",
    "\n",
    "dataset_orig_test_pred = dataset_orig_test.copy(deepcopy=True)\n",
    "X_test = scale_orig.transform(dataset_orig_test_pred.features)\n",
    "y_test = dataset_orig_test_pred.labels\n",
    "dataset_orig_test_pred.scores = lmod.predict_proba(X_test)[:,pos_ind].reshape(-1,1)"
   ]
  },
  {
   "cell_type": "code",
   "execution_count": null,
   "metadata": {},
   "outputs": [],
   "source": []
  },
  {
   "cell_type": "code",
   "execution_count": 39,
   "metadata": {},
   "outputs": [
    {
     "name": "stdout",
     "output_type": "stream",
     "text": [
      "Best balanced accuracy (no reweighing) = 0.7261\n",
      "Optimal classification threshold (no reweighing) = 0.8316\n"
     ]
    }
   ],
   "source": [
    "num_thresh = 100\n",
    "ba_arr = np.zeros(num_thresh)\n",
    "class_thresh_arr = np.linspace(0.01, 0.99, num_thresh)\n",
    "for idx, class_thresh in enumerate(class_thresh_arr):\n",
    "    \n",
    "    fav_inds = dataset_orig_valid_pred.scores > class_thresh\n",
    "    dataset_orig_valid_pred.labels[fav_inds] = dataset_orig_valid_pred.favorable_label\n",
    "    dataset_orig_valid_pred.labels[~fav_inds] = dataset_orig_valid_pred.unfavorable_label\n",
    "    \n",
    "    classified_metric_orig_valid = ClassificationMetric(dataset_orig_valid,\n",
    "                                             dataset_orig_valid_pred, \n",
    "                                             unprivileged_groups=unprivileged_groups,\n",
    "                                             privileged_groups=privileged_groups)\n",
    "    \n",
    "    ba_arr[idx] = 0.5*(classified_metric_orig_valid.true_positive_rate()\\\n",
    "                       +classified_metric_orig_valid.true_negative_rate())\n",
    "\n",
    "best_ind = np.where(ba_arr == np.max(ba_arr))[0][0]\n",
    "best_class_thresh = class_thresh_arr[best_ind]\n",
    "\n",
    "print(\"Best balanced accuracy (no reweighing) = %.4f\" % np.max(ba_arr))\n",
    "print(\"Optimal classification threshold (no reweighing) = %.4f\" % best_class_thresh)"
   ]
  },
  {
   "cell_type": "code",
   "execution_count": 40,
   "metadata": {},
   "outputs": [
    {
     "data": {
      "text/markdown": [
       "#### Predictions from original testing data"
      ],
      "text/plain": [
       "<IPython.core.display.Markdown object>"
      ]
     },
     "metadata": {},
     "output_type": "display_data"
    },
    {
     "name": "stderr",
     "output_type": "stream",
     "text": [
      " 63%|██████▎   | 63/100 [00:00<00:00, 628.59it/s]"
     ]
    },
    {
     "name": "stdout",
     "output_type": "stream",
     "text": [
      "Classification threshold used = 0.8316\n",
      "Balanced accuracy = 0.7050\n",
      "Statistical parity difference = -0.2780\n",
      "Disparate impact = 0.4309\n",
      "Average odds difference = -0.1909\n",
      "Equal opportunity difference = -0.4333\n",
      "Theil index = 0.3457\n"
     ]
    },
    {
     "name": "stderr",
     "output_type": "stream",
     "text": [
      "100%|██████████| 100/100 [00:00<00:00, 421.23it/s]\n"
     ]
    }
   ],
   "source": [
    "display(Markdown(\"#### Predictions from original testing data\"))\n",
    "bal_acc_arr_orig = []\n",
    "disp_imp_arr_orig = []\n",
    "avg_odds_diff_arr_orig = []\n",
    "\n",
    "print(\"Classification threshold used = %.4f\" % best_class_thresh)\n",
    "for thresh in tqdm(class_thresh_arr):\n",
    "    \n",
    "    if thresh == best_class_thresh:\n",
    "        disp = True\n",
    "    else:\n",
    "        disp = False\n",
    "    \n",
    "    fav_inds = dataset_orig_test_pred.scores > thresh\n",
    "    dataset_orig_test_pred.labels[fav_inds] = dataset_orig_test_pred.favorable_label\n",
    "    dataset_orig_test_pred.labels[~fav_inds] = dataset_orig_test_pred.unfavorable_label\n",
    "    \n",
    "    metric_test_bef = compute_metrics(dataset_orig_test, dataset_orig_test_pred, \n",
    "                                      unprivileged_groups, privileged_groups,\n",
    "                                      disp = disp)\n",
    "\n",
    "    bal_acc_arr_orig.append(metric_test_bef[\"Balanced accuracy\"])\n",
    "    avg_odds_diff_arr_orig.append(metric_test_bef[\"Average odds difference\"])\n",
    "    disp_imp_arr_orig.append(metric_test_bef[\"Disparate impact\"])"
   ]
  },
  {
   "cell_type": "code",
   "execution_count": 56,
   "metadata": {},
   "outputs": [
    {
     "data": {
      "image/png": "[encoded data removed]",
      "text/plain": [
       "<Figure size 720x504 with 2 Axes>"
      ]
     },
     "metadata": {
      "needs_background": "light"
     },
     "output_type": "display_data"
    }
   ],
   "source": [
    "fig, ax1 = plt.subplots(figsize=(10,7))\n",
    "ax1.plot(class_thresh_arr, bal_acc_arr_orig)\n",
    "ax1.set_xlabel('Classification Thresholds', fontsize=16, fontweight='bold')\n",
    "ax1.set_ylabel('Balanced Accuracy', color='b', fontsize=16, fontweight='bold')\n",
    "ax1.xaxis.set_tick_params(labelsize=14)\n",
    "ax1.yaxis.set_tick_params(labelsize=14)\n",
    "\n",
    "\n",
    "ax2 = ax1.twinx()\n",
    "ax2.plot(class_thresh_arr, np.abs(1.0-np.array(disp_imp_arr_orig)), color='r')\n",
    "ax2.set_ylabel('abs(1-disparate impact)', color='r', fontsize=16, fontweight='bold')\n",
    "ax2.axvline(np.array(class_thresh_arr)[best_ind], \n",
    "            color='k', linestyle=':')\n",
    "ax2.yaxis.set_tick_params(labelsize=14)\n",
    "ax2.grid(True)\n",
    "\n",
    "disp_imp_at_best_bal_acc_orig = np.abs(1.0-np.array(disp_imp_arr_orig))[best_ind]"
   ]
  },
  {
   "cell_type": "code",
   "execution_count": 44,
   "metadata": {},
   "outputs": [
    {
     "name": "stderr",
     "output_type": "stream",
     "text": [
      "//anaconda3/lib/python3.7/site-packages/sklearn/linear_model/logistic.py:432: FutureWarning: Default solver will be changed to 'lbfgs' in 0.22. Specify a solver to silence this warning.\n",
      "  FutureWarning)\n"
     ]
    }
   ],
   "source": [
    "scale_transf = StandardScaler()\n",
    "X_train = scale_transf.fit_transform(dataset_transf_train.features)\n",
    "y_train = dataset_transf_train.labels.ravel()\n",
    "\n",
    "lmod = LogisticRegression()\n",
    "lmod.fit(X_train, y_train)\n",
    "y_train_pred = lmod.predict(X_train)\n",
    "\n",
    "dataset_transf_train_pred = dataset_transf_train.copy()\n",
    "dataset_transf_train_pred.labels = y_train_pred"
   ]
  },
  {
   "cell_type": "code",
   "execution_count": 51,
   "metadata": {},
   "outputs": [],
   "source": [
    "dataset_transf_test = RW.fit_transform(dataset_orig_test)\n"
   ]
  },
  {
   "cell_type": "code",
   "execution_count": 52,
   "metadata": {},
   "outputs": [],
   "source": [
    "dataset_transf_test_pred = dataset_transf_test.copy(deepcopy=True)\n",
    "X_test = scale_transf.transform(dataset_transf_test_pred.features)\n",
    "y_test = dataset_transf_test_pred.labels\n",
    "dataset_transf_test_pred.scores = lmod.predict_proba(X_test)[:,pos_ind].reshape(-1,1)"
   ]
  },
  {
   "cell_type": "code",
   "execution_count": 53,
   "metadata": {},
   "outputs": [
    {
     "data": {
      "text/markdown": [
       "#### Predictions from transformed testing data"
      ],
      "text/plain": [
       "<IPython.core.display.Markdown object>"
      ]
     },
     "metadata": {},
     "output_type": "display_data"
    },
    {
     "data": {
      "text/markdown": [
       "#### Testing set"
      ],
      "text/plain": [
       "<IPython.core.display.Markdown object>"
      ]
     },
     "metadata": {},
     "output_type": "display_data"
    },
    {
     "data": {
      "text/markdown": [
       "##### Transformed predictions - No fairness constraints"
      ],
      "text/plain": [
       "<IPython.core.display.Markdown object>"
      ]
     },
     "metadata": {},
     "output_type": "display_data"
    },
    {
     "name": "stderr",
     "output_type": "stream",
     "text": [
      "\n",
      "  0%|          | 0/100 [00:00<?, ?it/s]\u001b[A\n",
      " 29%|██▉       | 29/100 [00:00<00:00, 278.60it/s]\u001b[A\n",
      "100%|██████████| 100/100 [00:00<00:00, 345.44it/s][A"
     ]
    },
    {
     "name": "stdout",
     "output_type": "stream",
     "text": [
      "Balanced accuracy = 0.7006\n",
      "Statistical parity difference = -0.2717\n",
      "Disparate impact = 0.4329\n",
      "Average odds difference = -0.1909\n",
      "Equal opportunity difference = -0.4333\n",
      "Theil index = 0.3457\n"
     ]
    },
    {
     "name": "stderr",
     "output_type": "stream",
     "text": [
      "\n"
     ]
    }
   ],
   "source": [
    "display(Markdown(\"#### Predictions from transformed testing data\"))\n",
    "\n",
    "bal_acc_arr_transf = []\n",
    "disp_imp_arr_transf = []\n",
    "avg_odds_diff_arr_transf = []\n",
    "\n",
    "display(Markdown(\"#### Testing set\"))\n",
    "display(Markdown(\"##### Transformed predictions - No fairness constraints\"))\n",
    "\n",
    "for thresh in tqdm(class_thresh_arr):\n",
    "    \n",
    "    fav_inds = dataset_transf_test_pred.scores > thresh\n",
    "    dataset_transf_test_pred.labels[fav_inds] = dataset_transf_test_pred.favorable_label\n",
    "    dataset_transf_test_pred.labels[~fav_inds] = dataset_transf_test_pred.unfavorable_label\n",
    "\n",
    "    if (thresh == best_class_thresh):\n",
    "        disp = True\n",
    "    else:\n",
    "        disp = False\n",
    "        \n",
    "    metric_test_bef = compute_metrics(dataset_transf_test, dataset_transf_test_pred, \n",
    "                                       unprivileged_groups, privileged_groups, disp=disp)\n",
    "    \n",
    "    bal_acc_arr_transf.append(metric_test_bef[\"Balanced accuracy\"])\n",
    "    avg_odds_diff_arr_transf.append(metric_test_bef[\"Average odds difference\"])\n",
    "    disp_imp_arr_transf.append(metric_test_bef[\"Disparate impact\"])"
   ]
  },
  {
   "cell_type": "code",
   "execution_count": 55,
   "metadata": {},
   "outputs": [
    {
     "data": {
      "image/png": "[encoded data removed]",
      "text/plain": [
       "<Figure size 720x504 with 2 Axes>"
      ]
     },
     "metadata": {
      "needs_background": "light"
     },
     "output_type": "display_data"
    }
   ],
   "source": [
    "fig, ax1 = plt.subplots(figsize=(10,7))\n",
    "ax1.plot(class_thresh_arr, bal_acc_arr_transf)\n",
    "ax1.set_xlabel('Classification Thresholds', fontsize=16, fontweight='bold')\n",
    "ax1.set_ylabel('Balanced Accuracy', color='b', fontsize=16, fontweight='bold')\n",
    "ax1.xaxis.set_tick_params(labelsize=14)\n",
    "ax1.yaxis.set_tick_params(labelsize=14)\n",
    "\n",
    "\n",
    "ax2 = ax1.twinx()\n",
    "ax2.plot(class_thresh_arr, np.abs(1.0-np.array(disp_imp_arr_transf)), color='r')\n",
    "ax2.set_ylabel('abs(1-disparate impact)', color='r', fontsize=16, fontweight='bold')\n",
    "ax2.axvline(np.array(class_thresh_arr)[best_ind], \n",
    "            color='k', linestyle=':')\n",
    "ax2.yaxis.set_tick_params(labelsize=14)\n",
    "ax2.grid(True)\n",
    "\n",
    "disp_imp_at_best_bal_acc_transf = np.abs(1.0-np.array(disp_imp_arr_transf))[best_ind]"
   ]
  },
  {
   "cell_type": "code",
   "execution_count": null,
   "metadata": {},
   "outputs": [],
   "source": []
  }
 ],
 "metadata": {
  "kernelspec": {
   "display_name": "Python 3",
   "language": "python",
   "name": "python3"
  },
  "language_info": {
   "codemirror_mode": {
    "name": "ipython",
    "version": 3
   },
   "file_extension": ".py",
   "mimetype": "text/x-python",
   "name": "python",
   "nbconvert_exporter": "python",
   "pygments_lexer": "ipython3",
   "version": "3.7.3"
  }
 },
 "nbformat": 4,
 "nbformat_minor": 4
}
