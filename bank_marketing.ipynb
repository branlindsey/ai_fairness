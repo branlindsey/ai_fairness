{
 "cells": [
  {
   "cell_type": "code",
   "execution_count": 41,
   "metadata": {},
   "outputs": [],
   "source": [
    "import pandas as pd\n",
    "import numpy as np\n",
    "import matplotlib.pyplot as plt\n",
    "%matplotlib inline\n",
    "from aif360.datasets import StandardDataset\n",
    "from aif360.metrics import DatasetMetric\n",
    "from aif360.datasets import BinaryLabelDataset\n",
    "from aif360.metrics import BinaryLabelDatasetMetric, ClassificationMetric\n",
    "from aif360.algorithms.preprocessing import Reweighing\n",
    "from aif360.metrics import ClassificationMetric\n",
    "from aif360.algorithms.inprocessing import AdversarialDebiasing\n",
    "\n",
    "# Explainers\n",
    "from aif360.explainers import MetricTextExplainer\n",
    "\n",
    "#Sklearn\n",
    "from sklearn.ensemble import RandomForestClassifier\n",
    "from sklearn.metrics import accuracy_score\n",
    "from sklearn.model_selection import GridSearchCV, train_test_split\n",
    "\n",
    "#Tensorflow -- install version before 2.0\n",
    "import tensorflow as tf \n",
    "\n",
    "from IPython.display import Markdown, display"
   ]
  },
  {
   "cell_type": "code",
   "execution_count": 2,
   "metadata": {},
   "outputs": [],
   "source": [
    "data = pd.read_csv('../bank-additional/bank-additional-full.csv', sep=';' )"
   ]
  },
  {
   "cell_type": "code",
   "execution_count": 3,
   "metadata": {},
   "outputs": [
    {
     "name": "stdout",
     "output_type": "stream",
     "text": [
      "<class 'pandas.core.frame.DataFrame'>\n",
      "RangeIndex: 41188 entries, 0 to 41187\n",
      "Data columns (total 21 columns):\n",
      " #   Column          Non-Null Count  Dtype  \n",
      "---  ------          --------------  -----  \n",
      " 0   age             41188 non-null  int64  \n",
      " 1   job             41188 non-null  object \n",
      " 2   marital         41188 non-null  object \n",
      " 3   education       41188 non-null  object \n",
      " 4   default         41188 non-null  object \n",
      " 5   housing         41188 non-null  object \n",
      " 6   loan            41188 non-null  object \n",
      " 7   contact         41188 non-null  object \n",
      " 8   month           41188 non-null  object \n",
      " 9   day_of_week     41188 non-null  object \n",
      " 10  duration        41188 non-null  int64  \n",
      " 11  campaign        41188 non-null  int64  \n",
      " 12  pdays           41188 non-null  int64  \n",
      " 13  previous        41188 non-null  int64  \n",
      " 14  poutcome        41188 non-null  object \n",
      " 15  emp.var.rate    41188 non-null  float64\n",
      " 16  cons.price.idx  41188 non-null  float64\n",
      " 17  cons.conf.idx   41188 non-null  float64\n",
      " 18  euribor3m       41188 non-null  float64\n",
      " 19  nr.employed     41188 non-null  float64\n",
      " 20  y               41188 non-null  object \n",
      "dtypes: float64(5), int64(5), object(11)\n",
      "memory usage: 6.6+ MB\n"
     ]
    }
   ],
   "source": [
    "data.info()"
   ]
  },
  {
   "cell_type": "code",
   "execution_count": 4,
   "metadata": {},
   "outputs": [
    {
     "data": {
      "text/html": [
       "<div>\n",
       "<style scoped>\n",
       "    .dataframe tbody tr th:only-of-type {\n",
       "        vertical-align: middle;\n",
       "    }\n",
       "\n",
       "    .dataframe tbody tr th {\n",
       "        vertical-align: top;\n",
       "    }\n",
       "\n",
       "    .dataframe thead th {\n",
       "        text-align: right;\n",
       "    }\n",
       "</style>\n",
       "<table border=\"1\" class=\"dataframe\">\n",
       "  <thead>\n",
       "    <tr style=\"text-align: right;\">\n",
       "      <th></th>\n",
       "      <th>age</th>\n",
       "      <th>job</th>\n",
       "      <th>marital</th>\n",
       "      <th>education</th>\n",
       "      <th>default</th>\n",
       "      <th>housing</th>\n",
       "      <th>loan</th>\n",
       "      <th>contact</th>\n",
       "      <th>month</th>\n",
       "      <th>day_of_week</th>\n",
       "      <th>...</th>\n",
       "      <th>campaign</th>\n",
       "      <th>pdays</th>\n",
       "      <th>previous</th>\n",
       "      <th>poutcome</th>\n",
       "      <th>emp.var.rate</th>\n",
       "      <th>cons.price.idx</th>\n",
       "      <th>cons.conf.idx</th>\n",
       "      <th>euribor3m</th>\n",
       "      <th>nr.employed</th>\n",
       "      <th>y</th>\n",
       "    </tr>\n",
       "  </thead>\n",
       "  <tbody>\n",
       "    <tr>\n",
       "      <th>0</th>\n",
       "      <td>56</td>\n",
       "      <td>housemaid</td>\n",
       "      <td>married</td>\n",
       "      <td>basic.4y</td>\n",
       "      <td>no</td>\n",
       "      <td>no</td>\n",
       "      <td>no</td>\n",
       "      <td>telephone</td>\n",
       "      <td>may</td>\n",
       "      <td>mon</td>\n",
       "      <td>...</td>\n",
       "      <td>1</td>\n",
       "      <td>999</td>\n",
       "      <td>0</td>\n",
       "      <td>nonexistent</td>\n",
       "      <td>1.1</td>\n",
       "      <td>93.994</td>\n",
       "      <td>-36.4</td>\n",
       "      <td>4.857</td>\n",
       "      <td>5191.0</td>\n",
       "      <td>no</td>\n",
       "    </tr>\n",
       "    <tr>\n",
       "      <th>1</th>\n",
       "      <td>57</td>\n",
       "      <td>services</td>\n",
       "      <td>married</td>\n",
       "      <td>high.school</td>\n",
       "      <td>unknown</td>\n",
       "      <td>no</td>\n",
       "      <td>no</td>\n",
       "      <td>telephone</td>\n",
       "      <td>may</td>\n",
       "      <td>mon</td>\n",
       "      <td>...</td>\n",
       "      <td>1</td>\n",
       "      <td>999</td>\n",
       "      <td>0</td>\n",
       "      <td>nonexistent</td>\n",
       "      <td>1.1</td>\n",
       "      <td>93.994</td>\n",
       "      <td>-36.4</td>\n",
       "      <td>4.857</td>\n",
       "      <td>5191.0</td>\n",
       "      <td>no</td>\n",
       "    </tr>\n",
       "    <tr>\n",
       "      <th>2</th>\n",
       "      <td>37</td>\n",
       "      <td>services</td>\n",
       "      <td>married</td>\n",
       "      <td>high.school</td>\n",
       "      <td>no</td>\n",
       "      <td>yes</td>\n",
       "      <td>no</td>\n",
       "      <td>telephone</td>\n",
       "      <td>may</td>\n",
       "      <td>mon</td>\n",
       "      <td>...</td>\n",
       "      <td>1</td>\n",
       "      <td>999</td>\n",
       "      <td>0</td>\n",
       "      <td>nonexistent</td>\n",
       "      <td>1.1</td>\n",
       "      <td>93.994</td>\n",
       "      <td>-36.4</td>\n",
       "      <td>4.857</td>\n",
       "      <td>5191.0</td>\n",
       "      <td>no</td>\n",
       "    </tr>\n",
       "    <tr>\n",
       "      <th>3</th>\n",
       "      <td>40</td>\n",
       "      <td>admin.</td>\n",
       "      <td>married</td>\n",
       "      <td>basic.6y</td>\n",
       "      <td>no</td>\n",
       "      <td>no</td>\n",
       "      <td>no</td>\n",
       "      <td>telephone</td>\n",
       "      <td>may</td>\n",
       "      <td>mon</td>\n",
       "      <td>...</td>\n",
       "      <td>1</td>\n",
       "      <td>999</td>\n",
       "      <td>0</td>\n",
       "      <td>nonexistent</td>\n",
       "      <td>1.1</td>\n",
       "      <td>93.994</td>\n",
       "      <td>-36.4</td>\n",
       "      <td>4.857</td>\n",
       "      <td>5191.0</td>\n",
       "      <td>no</td>\n",
       "    </tr>\n",
       "    <tr>\n",
       "      <th>4</th>\n",
       "      <td>56</td>\n",
       "      <td>services</td>\n",
       "      <td>married</td>\n",
       "      <td>high.school</td>\n",
       "      <td>no</td>\n",
       "      <td>no</td>\n",
       "      <td>yes</td>\n",
       "      <td>telephone</td>\n",
       "      <td>may</td>\n",
       "      <td>mon</td>\n",
       "      <td>...</td>\n",
       "      <td>1</td>\n",
       "      <td>999</td>\n",
       "      <td>0</td>\n",
       "      <td>nonexistent</td>\n",
       "      <td>1.1</td>\n",
       "      <td>93.994</td>\n",
       "      <td>-36.4</td>\n",
       "      <td>4.857</td>\n",
       "      <td>5191.0</td>\n",
       "      <td>no</td>\n",
       "    </tr>\n",
       "  </tbody>\n",
       "</table>\n",
       "<p>5 rows × 21 columns</p>\n",
       "</div>"
      ],
      "text/plain": [
       "   age        job  marital    education  default housing loan    contact  \\\n",
       "0   56  housemaid  married     basic.4y       no      no   no  telephone   \n",
       "1   57   services  married  high.school  unknown      no   no  telephone   \n",
       "2   37   services  married  high.school       no     yes   no  telephone   \n",
       "3   40     admin.  married     basic.6y       no      no   no  telephone   \n",
       "4   56   services  married  high.school       no      no  yes  telephone   \n",
       "\n",
       "  month day_of_week  ...  campaign  pdays  previous     poutcome emp.var.rate  \\\n",
       "0   may         mon  ...         1    999         0  nonexistent          1.1   \n",
       "1   may         mon  ...         1    999         0  nonexistent          1.1   \n",
       "2   may         mon  ...         1    999         0  nonexistent          1.1   \n",
       "3   may         mon  ...         1    999         0  nonexistent          1.1   \n",
       "4   may         mon  ...         1    999         0  nonexistent          1.1   \n",
       "\n",
       "   cons.price.idx  cons.conf.idx  euribor3m  nr.employed   y  \n",
       "0          93.994          -36.4      4.857       5191.0  no  \n",
       "1          93.994          -36.4      4.857       5191.0  no  \n",
       "2          93.994          -36.4      4.857       5191.0  no  \n",
       "3          93.994          -36.4      4.857       5191.0  no  \n",
       "4          93.994          -36.4      4.857       5191.0  no  \n",
       "\n",
       "[5 rows x 21 columns]"
      ]
     },
     "execution_count": 4,
     "metadata": {},
     "output_type": "execute_result"
    }
   ],
   "source": [
    "data.head()"
   ]
  },
  {
   "cell_type": "code",
   "execution_count": 5,
   "metadata": {},
   "outputs": [
    {
     "data": {
      "text/plain": [
       "married     24928\n",
       "single      11568\n",
       "divorced     4612\n",
       "unknown        80\n",
       "Name: marital, dtype: int64"
      ]
     },
     "execution_count": 5,
     "metadata": {},
     "output_type": "execute_result"
    }
   ],
   "source": [
    "data['marital'].value_counts()"
   ]
  },
  {
   "cell_type": "code",
   "execution_count": 6,
   "metadata": {},
   "outputs": [],
   "source": [
    "#Drop duration because of leakage explained in dataset website.\n",
    "data = data.drop(labels=['duration'], axis=1)\n"
   ]
  },
  {
   "cell_type": "code",
   "execution_count": 7,
   "metadata": {},
   "outputs": [
    {
     "data": {
      "text/plain": [
       "78"
      ]
     },
     "execution_count": 7,
     "metadata": {},
     "output_type": "execute_result"
    }
   ],
   "source": [
    "len(data['age'].unique())"
   ]
  },
  {
   "cell_type": "code",
   "execution_count": 8,
   "metadata": {},
   "outputs": [
    {
     "data": {
      "text/plain": [
       "(array([3.300e+01, 4.200e+01, 6.500e+01, 1.020e+02, 1.370e+02, 2.260e+02,\n",
       "        4.630e+02, 5.980e+02, 6.980e+02, 8.510e+02, 1.001e+03, 1.453e+03,\n",
       "        1.714e+03, 1.947e+03, 1.846e+03, 1.833e+03, 1.745e+03, 1.759e+03,\n",
       "        1.780e+03, 1.475e+03, 1.407e+03, 1.432e+03, 1.161e+03, 1.278e+03,\n",
       "        1.142e+03, 1.055e+03, 2.114e+03, 1.030e+03, 9.280e+02, 9.790e+02,\n",
       "        8.390e+02, 8.750e+02, 7.540e+02, 7.790e+02, 7.330e+02, 6.840e+02,\n",
       "        6.480e+02, 7.040e+02, 6.460e+02, 5.760e+02, 4.630e+02, 2.830e+02,\n",
       "        7.300e+01, 6.200e+01, 5.500e+01, 5.700e+01, 4.400e+01, 5.700e+01,\n",
       "        2.600e+01, 3.300e+01, 3.400e+01, 4.700e+01, 8.700e+01, 3.400e+01,\n",
       "        3.200e+01, 2.400e+01, 3.400e+01, 2.000e+01, 2.700e+01, 1.400e+01,\n",
       "        3.100e+01, 2.000e+01, 1.700e+01, 1.700e+01, 7.000e+00, 1.500e+01,\n",
       "        8.000e+00, 1.000e+00, 2.200e+01, 2.000e+00, 0.000e+00, 2.000e+00,\n",
       "        4.000e+00, 0.000e+00, 1.000e+00, 1.000e+00, 0.000e+00, 2.000e+00]),\n",
       " array([17.        , 18.03846154, 19.07692308, 20.11538462, 21.15384615,\n",
       "        22.19230769, 23.23076923, 24.26923077, 25.30769231, 26.34615385,\n",
       "        27.38461538, 28.42307692, 29.46153846, 30.5       , 31.53846154,\n",
       "        32.57692308, 33.61538462, 34.65384615, 35.69230769, 36.73076923,\n",
       "        37.76923077, 38.80769231, 39.84615385, 40.88461538, 41.92307692,\n",
       "        42.96153846, 44.        , 45.03846154, 46.07692308, 47.11538462,\n",
       "        48.15384615, 49.19230769, 50.23076923, 51.26923077, 52.30769231,\n",
       "        53.34615385, 54.38461538, 55.42307692, 56.46153846, 57.5       ,\n",
       "        58.53846154, 59.57692308, 60.61538462, 61.65384615, 62.69230769,\n",
       "        63.73076923, 64.76923077, 65.80769231, 66.84615385, 67.88461538,\n",
       "        68.92307692, 69.96153846, 71.        , 72.03846154, 73.07692308,\n",
       "        74.11538462, 75.15384615, 76.19230769, 77.23076923, 78.26923077,\n",
       "        79.30769231, 80.34615385, 81.38461538, 82.42307692, 83.46153846,\n",
       "        84.5       , 85.53846154, 86.57692308, 87.61538462, 88.65384615,\n",
       "        89.69230769, 90.73076923, 91.76923077, 92.80769231, 93.84615385,\n",
       "        94.88461538, 95.92307692, 96.96153846, 98.        ]),\n",
       " <a list of 78 Patch objects>)"
      ]
     },
     "execution_count": 8,
     "metadata": {},
     "output_type": "execute_result"
    },
    {
     "data": {
      "image/png": "[encoded data removed]",
      "text/plain": [
       "<Figure size 432x288 with 1 Axes>"
      ]
     },
     "metadata": {
      "needs_background": "light"
     },
     "output_type": "display_data"
    }
   ],
   "source": [
    "plt.hist(data['age'], bins=78)"
   ]
  },
  {
   "cell_type": "code",
   "execution_count": 9,
   "metadata": {},
   "outputs": [],
   "source": [
    "data['y'] = data['y'].transform(lambda x: 1 if x == 'yes' else 0)"
   ]
  },
  {
   "cell_type": "code",
   "execution_count": 10,
   "metadata": {},
   "outputs": [
    {
     "data": {
      "text/plain": [
       "<matplotlib.legend.Legend at 0x1234e9eb8>"
      ]
     },
     "execution_count": 10,
     "metadata": {},
     "output_type": "execute_result"
    },
    {
     "data": {
      "image/png": "[encoded data removed]",
      "text/plain": [
       "<Figure size 576x432 with 2 Axes>"
      ]
     },
     "metadata": {
      "needs_background": "light"
     },
     "output_type": "display_data"
    }
   ],
   "source": [
    "yes_data = data[data['y']==1]\n",
    "\n",
    "no_data = data[data['y']==0]\n",
    "\n",
    "fig, ax = plt.subplots(figsize=(8,6))\n",
    "\n",
    "ax.hist(yes_data['age'], bins=78, alpha=.5, label='yes')\n",
    "\n",
    "ax2 = ax.twinx()\n",
    "ax2.hist(no_data['age'], bins=78, alpha=.5, label='no', color='green')\n",
    "\n",
    "fig.legend()\n"
   ]
  },
  {
   "cell_type": "code",
   "execution_count": 11,
   "metadata": {},
   "outputs": [
    {
     "data": {
      "text/plain": [
       "university.degree      0.287239\n",
       "high.school            0.232133\n",
       "basic.9y               0.152457\n",
       "professional.course    0.127175\n",
       "basic.4y               0.102550\n",
       "basic.6y               0.057568\n",
       "unknown                0.040495\n",
       "illiterate             0.000383\n",
       "Name: education, dtype: float64"
      ]
     },
     "execution_count": 11,
     "metadata": {},
     "output_type": "execute_result"
    }
   ],
   "source": [
    "no_data['education'].value_counts() / len(no_data['education'])\n"
   ]
  },
  {
   "cell_type": "code",
   "execution_count": 12,
   "metadata": {},
   "outputs": [
    {
     "data": {
      "text/plain": [
       "university.degree      0.359914\n",
       "high.school            0.222198\n",
       "professional.course    0.128233\n",
       "basic.9y               0.101940\n",
       "basic.4y               0.092241\n",
       "unknown                0.054095\n",
       "basic.6y               0.040517\n",
       "illiterate             0.000862\n",
       "Name: education, dtype: float64"
      ]
     },
     "execution_count": 12,
     "metadata": {},
     "output_type": "execute_result"
    }
   ],
   "source": [
    "yes_data['education'].value_counts()/ len(yes_data['education'])"
   ]
  },
  {
   "cell_type": "code",
   "execution_count": null,
   "metadata": {},
   "outputs": [],
   "source": []
  },
  {
   "cell_type": "code",
   "execution_count": 13,
   "metadata": {},
   "outputs": [],
   "source": [
    "data['education'] = data['education'].transform(lambda x: 1 if x =='university.degree' or x=='professional.course' else 0)"
   ]
  },
  {
   "cell_type": "code",
   "execution_count": 14,
   "metadata": {},
   "outputs": [
    {
     "data": {
      "text/html": [
       "<div>\n",
       "<style scoped>\n",
       "    .dataframe tbody tr th:only-of-type {\n",
       "        vertical-align: middle;\n",
       "    }\n",
       "\n",
       "    .dataframe tbody tr th {\n",
       "        vertical-align: top;\n",
       "    }\n",
       "\n",
       "    .dataframe thead th {\n",
       "        text-align: right;\n",
       "    }\n",
       "</style>\n",
       "<table border=\"1\" class=\"dataframe\">\n",
       "  <thead>\n",
       "    <tr style=\"text-align: right;\">\n",
       "      <th></th>\n",
       "      <th>age</th>\n",
       "      <th>job</th>\n",
       "      <th>marital</th>\n",
       "      <th>education</th>\n",
       "      <th>default</th>\n",
       "      <th>housing</th>\n",
       "      <th>loan</th>\n",
       "      <th>contact</th>\n",
       "      <th>month</th>\n",
       "      <th>day_of_week</th>\n",
       "      <th>campaign</th>\n",
       "      <th>pdays</th>\n",
       "      <th>previous</th>\n",
       "      <th>poutcome</th>\n",
       "      <th>emp.var.rate</th>\n",
       "      <th>cons.price.idx</th>\n",
       "      <th>cons.conf.idx</th>\n",
       "      <th>euribor3m</th>\n",
       "      <th>nr.employed</th>\n",
       "      <th>y</th>\n",
       "    </tr>\n",
       "  </thead>\n",
       "  <tbody>\n",
       "    <tr>\n",
       "      <th>0</th>\n",
       "      <td>56</td>\n",
       "      <td>housemaid</td>\n",
       "      <td>married</td>\n",
       "      <td>0</td>\n",
       "      <td>no</td>\n",
       "      <td>no</td>\n",
       "      <td>no</td>\n",
       "      <td>telephone</td>\n",
       "      <td>may</td>\n",
       "      <td>mon</td>\n",
       "      <td>1</td>\n",
       "      <td>999</td>\n",
       "      <td>0</td>\n",
       "      <td>nonexistent</td>\n",
       "      <td>1.1</td>\n",
       "      <td>93.994</td>\n",
       "      <td>-36.4</td>\n",
       "      <td>4.857</td>\n",
       "      <td>5191.0</td>\n",
       "      <td>0</td>\n",
       "    </tr>\n",
       "    <tr>\n",
       "      <th>1</th>\n",
       "      <td>57</td>\n",
       "      <td>services</td>\n",
       "      <td>married</td>\n",
       "      <td>0</td>\n",
       "      <td>unknown</td>\n",
       "      <td>no</td>\n",
       "      <td>no</td>\n",
       "      <td>telephone</td>\n",
       "      <td>may</td>\n",
       "      <td>mon</td>\n",
       "      <td>1</td>\n",
       "      <td>999</td>\n",
       "      <td>0</td>\n",
       "      <td>nonexistent</td>\n",
       "      <td>1.1</td>\n",
       "      <td>93.994</td>\n",
       "      <td>-36.4</td>\n",
       "      <td>4.857</td>\n",
       "      <td>5191.0</td>\n",
       "      <td>0</td>\n",
       "    </tr>\n",
       "    <tr>\n",
       "      <th>2</th>\n",
       "      <td>37</td>\n",
       "      <td>services</td>\n",
       "      <td>married</td>\n",
       "      <td>0</td>\n",
       "      <td>no</td>\n",
       "      <td>yes</td>\n",
       "      <td>no</td>\n",
       "      <td>telephone</td>\n",
       "      <td>may</td>\n",
       "      <td>mon</td>\n",
       "      <td>1</td>\n",
       "      <td>999</td>\n",
       "      <td>0</td>\n",
       "      <td>nonexistent</td>\n",
       "      <td>1.1</td>\n",
       "      <td>93.994</td>\n",
       "      <td>-36.4</td>\n",
       "      <td>4.857</td>\n",
       "      <td>5191.0</td>\n",
       "      <td>0</td>\n",
       "    </tr>\n",
       "    <tr>\n",
       "      <th>3</th>\n",
       "      <td>40</td>\n",
       "      <td>admin.</td>\n",
       "      <td>married</td>\n",
       "      <td>0</td>\n",
       "      <td>no</td>\n",
       "      <td>no</td>\n",
       "      <td>no</td>\n",
       "      <td>telephone</td>\n",
       "      <td>may</td>\n",
       "      <td>mon</td>\n",
       "      <td>1</td>\n",
       "      <td>999</td>\n",
       "      <td>0</td>\n",
       "      <td>nonexistent</td>\n",
       "      <td>1.1</td>\n",
       "      <td>93.994</td>\n",
       "      <td>-36.4</td>\n",
       "      <td>4.857</td>\n",
       "      <td>5191.0</td>\n",
       "      <td>0</td>\n",
       "    </tr>\n",
       "    <tr>\n",
       "      <th>4</th>\n",
       "      <td>56</td>\n",
       "      <td>services</td>\n",
       "      <td>married</td>\n",
       "      <td>0</td>\n",
       "      <td>no</td>\n",
       "      <td>no</td>\n",
       "      <td>yes</td>\n",
       "      <td>telephone</td>\n",
       "      <td>may</td>\n",
       "      <td>mon</td>\n",
       "      <td>1</td>\n",
       "      <td>999</td>\n",
       "      <td>0</td>\n",
       "      <td>nonexistent</td>\n",
       "      <td>1.1</td>\n",
       "      <td>93.994</td>\n",
       "      <td>-36.4</td>\n",
       "      <td>4.857</td>\n",
       "      <td>5191.0</td>\n",
       "      <td>0</td>\n",
       "    </tr>\n",
       "  </tbody>\n",
       "</table>\n",
       "</div>"
      ],
      "text/plain": [
       "   age        job  marital  education  default housing loan    contact month  \\\n",
       "0   56  housemaid  married          0       no      no   no  telephone   may   \n",
       "1   57   services  married          0  unknown      no   no  telephone   may   \n",
       "2   37   services  married          0       no     yes   no  telephone   may   \n",
       "3   40     admin.  married          0       no      no   no  telephone   may   \n",
       "4   56   services  married          0       no      no  yes  telephone   may   \n",
       "\n",
       "  day_of_week  campaign  pdays  previous     poutcome  emp.var.rate  \\\n",
       "0         mon         1    999         0  nonexistent           1.1   \n",
       "1         mon         1    999         0  nonexistent           1.1   \n",
       "2         mon         1    999         0  nonexistent           1.1   \n",
       "3         mon         1    999         0  nonexistent           1.1   \n",
       "4         mon         1    999         0  nonexistent           1.1   \n",
       "\n",
       "   cons.price.idx  cons.conf.idx  euribor3m  nr.employed  y  \n",
       "0          93.994          -36.4      4.857       5191.0  0  \n",
       "1          93.994          -36.4      4.857       5191.0  0  \n",
       "2          93.994          -36.4      4.857       5191.0  0  \n",
       "3          93.994          -36.4      4.857       5191.0  0  \n",
       "4          93.994          -36.4      4.857       5191.0  0  "
      ]
     },
     "execution_count": 14,
     "metadata": {},
     "output_type": "execute_result"
    }
   ],
   "source": [
    "data.head()"
   ]
  },
  {
   "cell_type": "code",
   "execution_count": 15,
   "metadata": {},
   "outputs": [],
   "source": [
    "u = [{'education': 0}]\n",
    "p = [{'education': 1}]"
   ]
  },
  {
   "cell_type": "code",
   "execution_count": 16,
   "metadata": {},
   "outputs": [
    {
     "data": {
      "text/plain": [
       "Index(['age', 'job', 'marital', 'education', 'default', 'housing', 'loan',\n",
       "       'contact', 'month', 'day_of_week', 'campaign', 'pdays', 'previous',\n",
       "       'poutcome', 'emp.var.rate', 'cons.price.idx', 'cons.conf.idx',\n",
       "       'euribor3m', 'nr.employed', 'y'],\n",
       "      dtype='object')"
      ]
     },
     "execution_count": 16,
     "metadata": {},
     "output_type": "execute_result"
    }
   ],
   "source": [
    "data.columns"
   ]
  },
  {
   "cell_type": "code",
   "execution_count": 17,
   "metadata": {},
   "outputs": [],
   "source": [
    "sd_ed = StandardDataset(df=data,   \n",
    "                         label_name='y',\n",
    "                         favorable_classes =[1],\n",
    "                        protected_attribute_names=['education'], \n",
    "                         privileged_classes=[[1]],\n",
    "                        categorical_features=['job', 'marital', 'default', 'housing', 'loan','contact', 'month', 'day_of_week', 'poutcome'])\n",
    "\n"
   ]
  },
  {
   "cell_type": "code",
   "execution_count": 18,
   "metadata": {},
   "outputs": [],
   "source": [
    "df_ed = sd_ed.convert_to_dataframe()"
   ]
  },
  {
   "cell_type": "code",
   "execution_count": 19,
   "metadata": {},
   "outputs": [],
   "source": [
    "#age\n",
    "#bl_age = BinaryLabelDataset(favorable_label=1, unfavorable_label=0, df=df_age[0], label_names=['y'],\n",
    " #                   protected_attribute_names=['age'])"
   ]
  },
  {
   "cell_type": "code",
   "execution_count": 20,
   "metadata": {},
   "outputs": [],
   "source": [
    "bl_ed = BinaryLabelDataset(favorable_label=1, unfavorable_label=0, df=df_ed[0], label_names=['y'],\n",
    "              protected_attribute_names=['education'])"
   ]
  },
  {
   "cell_type": "code",
   "execution_count": 21,
   "metadata": {},
   "outputs": [],
   "source": [
    "data_train, data_vt = bl_ed.split([0.7], shuffle=True)\n",
    "\n",
    "data_val, data_test = data_vt.split([0.5], shuffle=True)"
   ]
  },
  {
   "cell_type": "code",
   "execution_count": 46,
   "metadata": {},
   "outputs": [
    {
     "name": "stdout",
     "output_type": "stream",
     "text": [
      "Mean difference (mean label value on privileged instances - mean label value on unprivileged instances): -0.028721307658736664\n",
      "Disparate impact (probability of favorable outcome for unprivileged instances / probability of favorable outcome for privileged instances): 0.7787456343978083\n"
     ]
    }
   ],
   "source": [
    "metric_train = BinaryLabelDatasetMetric(data_train, \n",
    "                            unprivileged_groups=u, \n",
    "                            privileged_groups=p)\n",
    "#Explainer! \n",
    "ex_metric_train = MetricTextExplainer(metric_train)\n",
    "\n",
    "print(ex_metric_train.mean_difference())\n",
    "print(ex_metric_train.disparate_impact())\n",
    "\n"
   ]
  },
  {
   "cell_type": "markdown",
   "metadata": {},
   "source": [
    "## Random Forest Classifer "
   ]
  },
  {
   "cell_type": "code",
   "execution_count": 26,
   "metadata": {},
   "outputs": [],
   "source": [
    "from sklearn.ensemble import RandomForestClassifier\n",
    "from sklearn.metrics import accuracy_score\n",
    "from sklearn.model_selection import GridSearchCV, train_test_split"
   ]
  },
  {
   "cell_type": "code",
   "execution_count": 27,
   "metadata": {},
   "outputs": [],
   "source": [
    "rfc = RandomForestClassifier(n_estimators=500, max_depth=5)\n",
    "\n",
    "df_train = data_train.convert_to_dataframe()[0]\n",
    "\n",
    "X_train = df_train.values[:,:-1]\n",
    "\n",
    "y_train = df_train.values[:,-1]\n",
    "\n",
    "df_val = data_val.convert_to_dataframe()[0]\n",
    "X_test = df_val.values[:,:-1]\n",
    "y_test = df_val.values[:,-1]"
   ]
  },
  {
   "cell_type": "code",
   "execution_count": 32,
   "metadata": {},
   "outputs": [
    {
     "data": {
      "text/plain": [
       "RandomForestClassifier(bootstrap=True, class_weight=None, criterion='gini',\n",
       "                       max_depth=5, max_features='auto', max_leaf_nodes=None,\n",
       "                       min_impurity_decrease=0.0, min_impurity_split=None,\n",
       "                       min_samples_leaf=1, min_samples_split=2,\n",
       "                       min_weight_fraction_leaf=0.0, n_estimators=500,\n",
       "                       n_jobs=None, oob_score=False, random_state=None,\n",
       "                       verbose=0, warm_start=False)"
      ]
     },
     "execution_count": 32,
     "metadata": {},
     "output_type": "execute_result"
    }
   ],
   "source": [
    "rfc.fit(X_train, y_train)"
   ]
  },
  {
   "cell_type": "code",
   "execution_count": 33,
   "metadata": {},
   "outputs": [],
   "source": [
    "y_pred = rfc.predict(X_test)"
   ]
  },
  {
   "cell_type": "code",
   "execution_count": 34,
   "metadata": {},
   "outputs": [
    {
     "data": {
      "text/plain": [
       "0.9030430560051796"
      ]
     },
     "execution_count": 34,
     "metadata": {},
     "output_type": "execute_result"
    }
   ],
   "source": [
    "rfc.score(X_test, y_test)"
   ]
  },
  {
   "cell_type": "code",
   "execution_count": 35,
   "metadata": {},
   "outputs": [],
   "source": [
    "data_val_pred = data_val.copy()\n",
    "\n",
    "data_val_pred.labels = y_pred"
   ]
  },
  {
   "cell_type": "code",
   "execution_count": 39,
   "metadata": {},
   "outputs": [
    {
     "name": "stdout",
     "output_type": "stream",
     "text": [
      "-0.01376187628208109\n",
      "0.601058497556116\n"
     ]
    }
   ],
   "source": [
    "metric_preds = BinaryLabelDatasetMetric(data_val_pred, \n",
    "                            unprivileged_groups=u, \n",
    "                            privileged_groups=p)\n",
    "\n",
    "print(metric_preds.mean_difference())\n",
    "print(metric_preds.disparate_impact())"
   ]
  },
  {
   "cell_type": "code",
   "execution_count": 36,
   "metadata": {},
   "outputs": [],
   "source": [
    "metric = ClassificationMetric(data_val, data_val_pred, \n",
    "                            unprivileged_groups=u, \n",
    "                            privileged_groups=p)"
   ]
  },
  {
   "cell_type": "code",
   "execution_count": 37,
   "metadata": {},
   "outputs": [],
   "source": [
    "aod = metric.average_odds_difference()\n",
    "\n",
    "eod = metric.equal_opportunity_difference()\n",
    "\n",
    "ti = metric.theil_index()"
   ]
  },
  {
   "cell_type": "code",
   "execution_count": 38,
   "metadata": {},
   "outputs": [
    {
     "data": {
      "text/plain": [
       "<matplotlib.lines.Line2D at 0x123800cf8>"
      ]
     },
     "execution_count": 38,
     "metadata": {},
     "output_type": "execute_result"
    },
    {
     "data": {
      "image/png": "[encoded data removed]",
      "text/plain": [
       "<Figure size 576x432 with 1 Axes>"
      ]
     },
     "metadata": {
      "needs_background": "light"
     },
     "output_type": "display_data"
    }
   ],
   "source": [
    "metric_list = [aod,eod,ti]\n",
    "tick_list = ['Av. Odds Diff', 'Eq Opp Diff', 'Theil Index']\n",
    "fig, ax = plt.subplots(figsize=(8,6))\n",
    "\n",
    "ax.bar(range(len(tick_list)), metric_list)\n",
    "ax.set_xticks([0,1,2])\n",
    "ax.set_xticklabels(tick_list)\n",
    "ax.axhline(0, color='black', lw=5)"
   ]
  },
  {
   "cell_type": "markdown",
   "metadata": {},
   "source": [
    "## Reweighing"
   ]
  },
  {
   "cell_type": "code",
   "execution_count": 49,
   "metadata": {},
   "outputs": [],
   "source": [
    "RW = Reweighing(unprivileged_groups=u, \n",
    "               privileged_groups=p)\n",
    "\n",
    "data_transf_train = RW.fit_transform(data_train)\n",
    "\n",
    "data_transf_train.instance_weights\n",
    "\n",
    "data_transf_val = RW.fit_transform(data_val)"
   ]
  },
  {
   "cell_type": "code",
   "execution_count": 53,
   "metadata": {},
   "outputs": [],
   "source": [
    "metric_transf_train = BinaryLabelDatasetMetric(data_transf_train, \n",
    "                                             unprivileged_groups=u, \n",
    "                                            privileged_groups=p)"
   ]
  },
  {
   "cell_type": "code",
   "execution_count": 54,
   "metadata": {},
   "outputs": [
    {
     "data": {
      "text/plain": [
       "2.7755575615628914e-17"
      ]
     },
     "execution_count": 54,
     "metadata": {},
     "output_type": "execute_result"
    }
   ],
   "source": [
    "metric_transf_train.mean_difference()"
   ]
  },
  {
   "cell_type": "code",
   "execution_count": 55,
   "metadata": {},
   "outputs": [],
   "source": [
    "rfc_rw = RandomForestClassifier(n_estimators=500, max_depth=5)\n",
    "\n",
    "X_tr_train = data_transf_train.features\n",
    "\n",
    "y_tr_train = data_transf_train.labels.ravel()\n",
    "\n",
    "X_tr_test = data_transf_val.features\n",
    "y_tr_test = data_transf_val.labels\n",
    "\n",
    "\n",
    "rfc_rw.fit(X_tr_train, y_tr_train, sample_weight=data_transf_train.instance_weights)"
   ]
  },
  {
   "cell_type": "code",
   "execution_count": 60,
   "metadata": {},
   "outputs": [],
   "source": [
    "y_tr_pred = rfc_rw.predict(X_tr_test)"
   ]
  },
  {
   "cell_type": "code",
   "execution_count": 61,
   "metadata": {},
   "outputs": [],
   "source": [
    "data_val_tr_pred = data_transf_val.copy()\n",
    "data_val_tr_pred.labels = y_tr_pred"
   ]
  },
  {
   "cell_type": "code",
   "execution_count": 62,
   "metadata": {},
   "outputs": [
    {
     "name": "stdout",
     "output_type": "stream",
     "text": [
      "Average odds difference (average of TPR difference and FPR difference, 0 = equality of odds): -0.023327284906835333\n",
      "True positive rate difference (true positive rate on unprivileged instances - true positive rate on privileged instances): -0.04176730022051872\n",
      "Theil index (generalized entropy index with alpha = 1): 0.0976792122323697\n"
     ]
    }
   ],
   "source": [
    "metric_tf = ClassificationMetric(data_transf_val, data_val_tr_pred, \n",
    "                            unprivileged_groups=u, \n",
    "                            privileged_groups=p)\n",
    "\n",
    "ex_metric_tf = MetricTextExplainer(metric_tf)\n",
    "print(ex_metric_tf.average_odds_difference())\n",
    "print(ex_metric_tf.equal_opportunity_difference())\n",
    "print(ex_metric_tf.theil_index())"
   ]
  },
  {
   "cell_type": "code",
   "execution_count": 53,
   "metadata": {},
   "outputs": [],
   "source": [
    "aod_tr = metric_tf.average_odds_difference()\n",
    "\n",
    "eod_tr = metric_tf.equal_opportunity_difference()\n",
    "\n",
    "ti_tr = metric_tf.theil_index()"
   ]
  },
  {
   "cell_type": "code",
   "execution_count": 54,
   "metadata": {},
   "outputs": [
    {
     "data": {
      "text/plain": [
       "<matplotlib.lines.Line2D at 0x12db23f28>"
      ]
     },
     "execution_count": 54,
     "metadata": {},
     "output_type": "execute_result"
    },
    {
     "data": {
      "image/png": "[encoded data removed]",
      "text/plain": [
       "<Figure size 576x432 with 1 Axes>"
      ]
     },
     "metadata": {
      "needs_background": "light"
     },
     "output_type": "display_data"
    }
   ],
   "source": [
    "metric_list = [aod,eod,ti]\n",
    "metric_tr_list= [aod_tr, eod_tr, ti_tr]\n",
    "ind = np.arange(len(metric_list))\n",
    "width = 0.35\n",
    "tick_list = ['Av. Odds Diff', 'Eq Opp Diff', 'Theil Index']\n",
    "fig, ax = plt.subplots(figsize=(8,6))\n",
    "\n",
    "ax.bar(ind-width/2, metric_list, width)\n",
    "ax.bar(ind+width/2, metric_tr_list, width)\n",
    "ax.set_xticks([0,1,2])\n",
    "ax.set_xticklabels(tick_list)\n",
    "ax.axhline(0, color='black', lw=5)"
   ]
  },
  {
   "cell_type": "markdown",
   "metadata": {},
   "source": [
    "### Adverserial Debiasing"
   ]
  },
  {
   "cell_type": "code",
   "execution_count": 55,
   "metadata": {},
   "outputs": [
    {
     "name": "stderr",
     "output_type": "stream",
     "text": [
      "//anaconda3/lib/python3.7/site-packages/dask/dataframe/utils.py:15: FutureWarning: pandas.util.testing is deprecated. Use the functions in the public API at pandas.testing instead.\n",
      "  import pandas.util.testing as tm\n"
     ]
    }
   ],
   "source": [
    "from aif360.algorithms.inprocessing import AdversarialDebiasing\n",
    "import tensorflow as tf\n"
   ]
  },
  {
   "cell_type": "code",
   "execution_count": 56,
   "metadata": {},
   "outputs": [],
   "source": [
    "sess = tf.Session()\n",
    "plain_model = AdversarialDebiasing(privileged_groups = p,\n",
    "                          unprivileged_groups = u,\n",
    "                          scope_name='plain_classifier',\n",
    "                          debias=False,\n",
    "                          sess=sess)"
   ]
  },
  {
   "cell_type": "code",
   "execution_count": 57,
   "metadata": {},
   "outputs": [
    {
     "name": "stdout",
     "output_type": "stream",
     "text": [
      "WARNING:tensorflow:From //anaconda3/lib/python3.7/site-packages/aif360/algorithms/inprocessing/adversarial_debiasing.py:133: The name tf.variable_scope is deprecated. Please use tf.compat.v1.variable_scope instead.\n",
      "\n",
      "WARNING:tensorflow:From //anaconda3/lib/python3.7/site-packages/aif360/algorithms/inprocessing/adversarial_debiasing.py:137: The name tf.placeholder is deprecated. Please use tf.compat.v1.placeholder instead.\n",
      "\n",
      "WARNING:tensorflow:From //anaconda3/lib/python3.7/site-packages/aif360/algorithms/inprocessing/adversarial_debiasing.py:82: The name tf.get_variable is deprecated. Please use tf.compat.v1.get_variable instead.\n",
      "\n",
      "WARNING:tensorflow:\n",
      "The TensorFlow contrib module will not be included in TensorFlow 2.0.\n",
      "For more information, please see:\n",
      "  * https://github.com/tensorflow/community/blob/master/rfcs/20180907-contrib-sunset.md\n",
      "  * https://github.com/tensorflow/addons\n",
      "  * https://github.com/tensorflow/io (for I/O related ops)\n",
      "If you depend on functionality not listed there, please file an issue.\n",
      "\n",
      "WARNING:tensorflow:From //anaconda3/lib/python3.7/site-packages/aif360/algorithms/inprocessing/adversarial_debiasing.py:87: calling dropout (from tensorflow.python.ops.nn_ops) with keep_prob is deprecated and will be removed in a future version.\n",
      "Instructions for updating:\n",
      "Please use `rate` instead of `keep_prob`. Rate should be set to `rate = 1 - keep_prob`.\n",
      "WARNING:tensorflow:From //anaconda3/lib/python3.7/site-packages/tensorflow_core/python/ops/nn_impl.py:183: where (from tensorflow.python.ops.array_ops) is deprecated and will be removed in a future version.\n",
      "Instructions for updating:\n",
      "Use tf.where in 2.0, which has the same broadcast rule as np.where\n",
      "WARNING:tensorflow:From //anaconda3/lib/python3.7/site-packages/aif360/algorithms/inprocessing/adversarial_debiasing.py:155: The name tf.train.exponential_decay is deprecated. Please use tf.compat.v1.train.exponential_decay instead.\n",
      "\n",
      "WARNING:tensorflow:From //anaconda3/lib/python3.7/site-packages/aif360/algorithms/inprocessing/adversarial_debiasing.py:157: The name tf.train.AdamOptimizer is deprecated. Please use tf.compat.v1.train.AdamOptimizer instead.\n",
      "\n",
      "WARNING:tensorflow:From //anaconda3/lib/python3.7/site-packages/aif360/algorithms/inprocessing/adversarial_debiasing.py:161: The name tf.trainable_variables is deprecated. Please use tf.compat.v1.trainable_variables instead.\n",
      "\n",
      "WARNING:tensorflow:From //anaconda3/lib/python3.7/site-packages/aif360/algorithms/inprocessing/adversarial_debiasing.py:182: The name tf.global_variables_initializer is deprecated. Please use tf.compat.v1.global_variables_initializer instead.\n",
      "\n",
      "WARNING:tensorflow:From //anaconda3/lib/python3.7/site-packages/aif360/algorithms/inprocessing/adversarial_debiasing.py:183: The name tf.local_variables_initializer is deprecated. Please use tf.compat.v1.local_variables_initializer instead.\n",
      "\n",
      "epoch 0; iter: 0; batch classifier loss: 58.795753\n",
      "epoch 0; iter: 200; batch classifier loss: 14.487020\n",
      "epoch 1; iter: 0; batch classifier loss: 12.348308\n",
      "epoch 1; iter: 200; batch classifier loss: 1.921310\n",
      "epoch 2; iter: 0; batch classifier loss: 1.306221\n",
      "epoch 2; iter: 200; batch classifier loss: 0.284668\n",
      "epoch 3; iter: 0; batch classifier loss: 0.403237\n",
      "epoch 3; iter: 200; batch classifier loss: 0.628210\n",
      "epoch 4; iter: 0; batch classifier loss: 0.259356\n",
      "epoch 4; iter: 200; batch classifier loss: 0.337533\n",
      "epoch 5; iter: 0; batch classifier loss: 0.474795\n",
      "epoch 5; iter: 200; batch classifier loss: 0.479666\n",
      "epoch 6; iter: 0; batch classifier loss: 0.571382\n",
      "epoch 6; iter: 200; batch classifier loss: 0.291435\n",
      "epoch 7; iter: 0; batch classifier loss: 0.383154\n",
      "epoch 7; iter: 200; batch classifier loss: 0.283569\n",
      "epoch 8; iter: 0; batch classifier loss: 0.426485\n",
      "epoch 8; iter: 200; batch classifier loss: 0.295999\n",
      "epoch 9; iter: 0; batch classifier loss: 0.257454\n",
      "epoch 9; iter: 200; batch classifier loss: 0.275806\n",
      "epoch 10; iter: 0; batch classifier loss: 0.332590\n",
      "epoch 10; iter: 200; batch classifier loss: 0.435204\n",
      "epoch 11; iter: 0; batch classifier loss: 0.254897\n",
      "epoch 11; iter: 200; batch classifier loss: 0.271607\n",
      "epoch 12; iter: 0; batch classifier loss: 0.222633\n",
      "epoch 12; iter: 200; batch classifier loss: 0.228276\n",
      "epoch 13; iter: 0; batch classifier loss: 0.287232\n",
      "epoch 13; iter: 200; batch classifier loss: 0.293010\n",
      "epoch 14; iter: 0; batch classifier loss: 0.273366\n",
      "epoch 14; iter: 200; batch classifier loss: 0.263198\n",
      "epoch 15; iter: 0; batch classifier loss: 0.345538\n",
      "epoch 15; iter: 200; batch classifier loss: 0.308285\n",
      "epoch 16; iter: 0; batch classifier loss: 0.257866\n",
      "epoch 16; iter: 200; batch classifier loss: 0.353784\n",
      "epoch 17; iter: 0; batch classifier loss: 0.374356\n",
      "epoch 17; iter: 200; batch classifier loss: 0.365950\n",
      "epoch 18; iter: 0; batch classifier loss: 0.287046\n",
      "epoch 18; iter: 200; batch classifier loss: 0.263175\n",
      "epoch 19; iter: 0; batch classifier loss: 0.366753\n",
      "epoch 19; iter: 200; batch classifier loss: 0.303374\n",
      "epoch 20; iter: 0; batch classifier loss: 0.348747\n",
      "epoch 20; iter: 200; batch classifier loss: 0.361097\n",
      "epoch 21; iter: 0; batch classifier loss: 0.173574\n",
      "epoch 21; iter: 200; batch classifier loss: 0.432774\n",
      "epoch 22; iter: 0; batch classifier loss: 0.249690\n",
      "epoch 22; iter: 200; batch classifier loss: 0.300246\n",
      "epoch 23; iter: 0; batch classifier loss: 0.320852\n",
      "epoch 23; iter: 200; batch classifier loss: 0.295267\n",
      "epoch 24; iter: 0; batch classifier loss: 0.191624\n",
      "epoch 24; iter: 200; batch classifier loss: 0.337451\n",
      "epoch 25; iter: 0; batch classifier loss: 0.279331\n",
      "epoch 25; iter: 200; batch classifier loss: 0.446162\n",
      "epoch 26; iter: 0; batch classifier loss: 0.240879\n",
      "epoch 26; iter: 200; batch classifier loss: 0.201398\n",
      "epoch 27; iter: 0; batch classifier loss: 0.305474\n",
      "epoch 27; iter: 200; batch classifier loss: 0.274687\n",
      "epoch 28; iter: 0; batch classifier loss: 0.373030\n",
      "epoch 28; iter: 200; batch classifier loss: 0.231297\n",
      "epoch 29; iter: 0; batch classifier loss: 0.286069\n",
      "epoch 29; iter: 200; batch classifier loss: 0.321951\n",
      "epoch 30; iter: 0; batch classifier loss: 0.237365\n",
      "epoch 30; iter: 200; batch classifier loss: 0.359295\n",
      "epoch 31; iter: 0; batch classifier loss: 0.235197\n",
      "epoch 31; iter: 200; batch classifier loss: 0.303184\n",
      "epoch 32; iter: 0; batch classifier loss: 0.320146\n",
      "epoch 32; iter: 200; batch classifier loss: 0.277124\n",
      "epoch 33; iter: 0; batch classifier loss: 0.305011\n",
      "epoch 33; iter: 200; batch classifier loss: 0.220096\n",
      "epoch 34; iter: 0; batch classifier loss: 0.262208\n",
      "epoch 34; iter: 200; batch classifier loss: 0.312793\n",
      "epoch 35; iter: 0; batch classifier loss: 0.324644\n",
      "epoch 35; iter: 200; batch classifier loss: 0.274107\n",
      "epoch 36; iter: 0; batch classifier loss: 0.311163\n",
      "epoch 36; iter: 200; batch classifier loss: 0.283246\n",
      "epoch 37; iter: 0; batch classifier loss: 0.289207\n",
      "epoch 37; iter: 200; batch classifier loss: 0.261305\n",
      "epoch 38; iter: 0; batch classifier loss: 0.360530\n",
      "epoch 38; iter: 200; batch classifier loss: 0.328372\n",
      "epoch 39; iter: 0; batch classifier loss: 0.288429\n",
      "epoch 39; iter: 200; batch classifier loss: 0.195450\n",
      "epoch 40; iter: 0; batch classifier loss: 0.358494\n",
      "epoch 40; iter: 200; batch classifier loss: 0.292843\n",
      "epoch 41; iter: 0; batch classifier loss: 0.371698\n",
      "epoch 41; iter: 200; batch classifier loss: 0.290479\n",
      "epoch 42; iter: 0; batch classifier loss: 0.345318\n",
      "epoch 42; iter: 200; batch classifier loss: 0.284834\n",
      "epoch 43; iter: 0; batch classifier loss: 0.261576\n",
      "epoch 43; iter: 200; batch classifier loss: 0.440721\n",
      "epoch 44; iter: 0; batch classifier loss: 0.273360\n",
      "epoch 44; iter: 200; batch classifier loss: 0.270707\n",
      "epoch 45; iter: 0; batch classifier loss: 0.362425\n",
      "epoch 45; iter: 200; batch classifier loss: 0.317874\n",
      "epoch 46; iter: 0; batch classifier loss: 0.337405\n",
      "epoch 46; iter: 200; batch classifier loss: 0.306051\n",
      "epoch 47; iter: 0; batch classifier loss: 0.311015\n",
      "epoch 47; iter: 200; batch classifier loss: 0.305003\n",
      "epoch 48; iter: 0; batch classifier loss: 0.309875\n",
      "epoch 48; iter: 200; batch classifier loss: 0.328183\n",
      "epoch 49; iter: 0; batch classifier loss: 0.348152\n",
      "epoch 49; iter: 200; batch classifier loss: 0.228821\n"
     ]
    },
    {
     "data": {
      "text/plain": [
       "<aif360.algorithms.inprocessing.adversarial_debiasing.AdversarialDebiasing at 0x154ae3ba8>"
      ]
     },
     "execution_count": 57,
     "metadata": {},
     "output_type": "execute_result"
    }
   ],
   "source": [
    "plain_model.fit(data_train) "
   ]
  },
  {
   "cell_type": "code",
   "execution_count": 60,
   "metadata": {},
   "outputs": [],
   "source": [
    "dataset_nodebiasing_train = plain_model.predict(data_train)\n",
    "dataset_nodebiasing_test = plain_model.predict(data_val)"
   ]
  },
  {
   "cell_type": "code",
   "execution_count": 66,
   "metadata": {},
   "outputs": [
    {
     "data": {
      "text/markdown": [
       "#### Plain model - without debiasing - dataset metrics"
      ],
      "text/plain": [
       "<IPython.core.display.Markdown object>"
      ]
     },
     "metadata": {},
     "output_type": "display_data"
    },
    {
     "name": "stdout",
     "output_type": "stream",
     "text": [
      "Train set: Difference in mean outcomes between unprivileged and privileged groups = -0.011153\n",
      "Test set: Difference in mean outcomes between unprivileged and privileged groups = -0.009183\n"
     ]
    },
    {
     "data": {
      "text/markdown": [
       "#### Plain model - without debiasing - classification metrics"
      ],
      "text/plain": [
       "<IPython.core.display.Markdown object>"
      ]
     },
     "metadata": {},
     "output_type": "display_data"
    },
    {
     "name": "stdout",
     "output_type": "stream",
     "text": [
      "Test set: Classification accuracy = 0.893655\n",
      "Test set: Balanced classification accuracy = 0.551516\n",
      "Test set: Disparate impact = 0.549154\n",
      "Test set: Equal opportunity difference = -0.016521\n",
      "Test set: Average odds difference = -0.010522\n",
      "Test set: Theil_index = 0.110539\n"
     ]
    }
   ],
   "source": [
    "# Metrics for the dataset from plain model (without debiasing)\n",
    "display(Markdown(\"#### Plain model - without debiasing - dataset metrics\"))\n",
    "metric_dataset_nodebiasing_train = BinaryLabelDatasetMetric(dataset_nodebiasing_train, \n",
    "                                             unprivileged_groups=u,\n",
    "                                             privileged_groups=p)\n",
    "\n",
    "print(\"Train set: Difference in mean outcomes between unprivileged and privileged groups = %f\" % metric_dataset_nodebiasing_train.mean_difference())\n",
    "\n",
    "metric_dataset_nodebiasing_test = BinaryLabelDatasetMetric(dataset_nodebiasing_test, \n",
    "                                             unprivileged_groups=u,\n",
    "                                             privileged_groups=p)\n",
    "\n",
    "print(\"Test set: Difference in mean outcomes between unprivileged and privileged groups = %f\" % metric_dataset_nodebiasing_test.mean_difference())\n",
    "\n",
    "display(Markdown(\"#### Plain model - without debiasing - classification metrics\"))\n",
    "classified_metric_nodebiasing_test = ClassificationMetric(data_val, \n",
    "                                                 dataset_nodebiasing_test,\n",
    "                                                 unprivileged_groups=u,\n",
    "                                                 privileged_groups=p)\n",
    "print(\"Test set: Classification accuracy = %f\" % classified_metric_nodebiasing_test.accuracy())\n",
    "TPR = classified_metric_nodebiasing_test.true_positive_rate()\n",
    "TNR = classified_metric_nodebiasing_test.true_negative_rate()\n",
    "bal_acc_nodebiasing_test = 0.5*(TPR+TNR)\n",
    "print(\"Test set: Balanced classification accuracy = %f\" % bal_acc_nodebiasing_test)\n",
    "print(\"Test set: Disparate impact = %f\" % classified_metric_nodebiasing_test.disparate_impact())\n",
    "print(\"Test set: Equal opportunity difference = %f\" % classified_metric_nodebiasing_test.equal_opportunity_difference())\n",
    "print(\"Test set: Average odds difference = %f\" % classified_metric_nodebiasing_test.average_odds_difference())\n",
    "print(\"Test set: Theil_index = %f\" % classified_metric_nodebiasing_test.theil_index())"
   ]
  },
  {
   "cell_type": "markdown",
   "metadata": {},
   "source": [
    "### Debiasing"
   ]
  },
  {
   "cell_type": "code",
   "execution_count": 68,
   "metadata": {},
   "outputs": [],
   "source": [
    "sess.close()\n",
    "tf.reset_default_graph()\n",
    "sess = tf.Session()"
   ]
  },
  {
   "cell_type": "code",
   "execution_count": 69,
   "metadata": {},
   "outputs": [],
   "source": [
    "debiased_model = AdversarialDebiasing(privileged_groups = p,\n",
    "                          unprivileged_groups = u,\n",
    "                          scope_name='debiased_classifier',\n",
    "                          debias=True,\n",
    "                          sess=sess)"
   ]
  },
  {
   "cell_type": "code",
   "execution_count": 70,
   "metadata": {},
   "outputs": [
    {
     "name": "stdout",
     "output_type": "stream",
     "text": [
      "epoch 0; iter: 0; batch classifier loss: 50.281715; batch adversarial loss: 0.717845\n",
      "epoch 0; iter: 200; batch classifier loss: 3.902729; batch adversarial loss: 0.685226\n",
      "epoch 1; iter: 0; batch classifier loss: 5.783326; batch adversarial loss: 0.678673\n",
      "epoch 1; iter: 200; batch classifier loss: 0.637712; batch adversarial loss: 0.676483\n",
      "epoch 2; iter: 0; batch classifier loss: 0.475482; batch adversarial loss: 0.690023\n",
      "epoch 2; iter: 200; batch classifier loss: 0.679652; batch adversarial loss: 0.675735\n",
      "epoch 3; iter: 0; batch classifier loss: 0.564595; batch adversarial loss: 0.676557\n",
      "epoch 3; iter: 200; batch classifier loss: 0.409397; batch adversarial loss: 0.659905\n",
      "epoch 4; iter: 0; batch classifier loss: 0.443260; batch adversarial loss: 0.681696\n",
      "epoch 4; iter: 200; batch classifier loss: 0.307216; batch adversarial loss: 0.698528\n",
      "epoch 5; iter: 0; batch classifier loss: 0.315358; batch adversarial loss: 0.683182\n",
      "epoch 5; iter: 200; batch classifier loss: 0.331659; batch adversarial loss: 0.690374\n",
      "epoch 6; iter: 0; batch classifier loss: 0.393446; batch adversarial loss: 0.675500\n",
      "epoch 6; iter: 200; batch classifier loss: 0.438274; batch adversarial loss: 0.673041\n",
      "epoch 7; iter: 0; batch classifier loss: 0.392023; batch adversarial loss: 0.684521\n",
      "epoch 7; iter: 200; batch classifier loss: 0.377898; batch adversarial loss: 0.690824\n",
      "epoch 8; iter: 0; batch classifier loss: 0.295516; batch adversarial loss: 0.672757\n",
      "epoch 8; iter: 200; batch classifier loss: 0.240080; batch adversarial loss: 0.688586\n",
      "epoch 9; iter: 0; batch classifier loss: 0.286355; batch adversarial loss: 0.683095\n",
      "epoch 9; iter: 200; batch classifier loss: 0.380352; batch adversarial loss: 0.690139\n",
      "epoch 10; iter: 0; batch classifier loss: 0.346850; batch adversarial loss: 0.663634\n",
      "epoch 10; iter: 200; batch classifier loss: 0.255839; batch adversarial loss: 0.681678\n",
      "epoch 11; iter: 0; batch classifier loss: 0.267386; batch adversarial loss: 0.668873\n",
      "epoch 11; iter: 200; batch classifier loss: 0.231960; batch adversarial loss: 0.696949\n",
      "epoch 12; iter: 0; batch classifier loss: 0.310375; batch adversarial loss: 0.683336\n",
      "epoch 12; iter: 200; batch classifier loss: 0.335456; batch adversarial loss: 0.662440\n",
      "epoch 13; iter: 0; batch classifier loss: 0.215976; batch adversarial loss: 0.668701\n",
      "epoch 13; iter: 200; batch classifier loss: 0.401712; batch adversarial loss: 0.681365\n",
      "epoch 14; iter: 0; batch classifier loss: 0.260171; batch adversarial loss: 0.655829\n",
      "epoch 14; iter: 200; batch classifier loss: 0.267136; batch adversarial loss: 0.673154\n",
      "epoch 15; iter: 0; batch classifier loss: 0.331500; batch adversarial loss: 0.663549\n",
      "epoch 15; iter: 200; batch classifier loss: 0.272006; batch adversarial loss: 0.693207\n",
      "epoch 16; iter: 0; batch classifier loss: 0.364307; batch adversarial loss: 0.691858\n",
      "epoch 16; iter: 200; batch classifier loss: 0.336785; batch adversarial loss: 0.695688\n",
      "epoch 17; iter: 0; batch classifier loss: 0.291213; batch adversarial loss: 0.681874\n",
      "epoch 17; iter: 200; batch classifier loss: 0.382624; batch adversarial loss: 0.663677\n",
      "epoch 18; iter: 0; batch classifier loss: 0.318380; batch adversarial loss: 0.702503\n",
      "epoch 18; iter: 200; batch classifier loss: 0.263757; batch adversarial loss: 0.688094\n",
      "epoch 19; iter: 0; batch classifier loss: 0.258466; batch adversarial loss: 0.674234\n",
      "epoch 19; iter: 200; batch classifier loss: 0.296188; batch adversarial loss: 0.668723\n",
      "epoch 20; iter: 0; batch classifier loss: 0.226131; batch adversarial loss: 0.679018\n",
      "epoch 20; iter: 200; batch classifier loss: 0.282766; batch adversarial loss: 0.699216\n",
      "epoch 21; iter: 0; batch classifier loss: 0.330186; batch adversarial loss: 0.679968\n",
      "epoch 21; iter: 200; batch classifier loss: 0.300609; batch adversarial loss: 0.686100\n",
      "epoch 22; iter: 0; batch classifier loss: 0.366390; batch adversarial loss: 0.667680\n",
      "epoch 22; iter: 200; batch classifier loss: 0.358726; batch adversarial loss: 0.715874\n",
      "epoch 23; iter: 0; batch classifier loss: 0.359581; batch adversarial loss: 0.704690\n",
      "epoch 23; iter: 200; batch classifier loss: 0.318263; batch adversarial loss: 0.705472\n",
      "epoch 24; iter: 0; batch classifier loss: 0.282615; batch adversarial loss: 0.689439\n",
      "epoch 24; iter: 200; batch classifier loss: 0.312040; batch adversarial loss: 0.672037\n",
      "epoch 25; iter: 0; batch classifier loss: 0.327881; batch adversarial loss: 0.671092\n",
      "epoch 25; iter: 200; batch classifier loss: 0.247147; batch adversarial loss: 0.680253\n",
      "epoch 26; iter: 0; batch classifier loss: 0.371561; batch adversarial loss: 0.658866\n",
      "epoch 26; iter: 200; batch classifier loss: 0.395004; batch adversarial loss: 0.665091\n",
      "epoch 27; iter: 0; batch classifier loss: 0.315922; batch adversarial loss: 0.681945\n",
      "epoch 27; iter: 200; batch classifier loss: 0.278584; batch adversarial loss: 0.683870\n",
      "epoch 28; iter: 0; batch classifier loss: 0.330121; batch adversarial loss: 0.673082\n",
      "epoch 28; iter: 200; batch classifier loss: 0.303407; batch adversarial loss: 0.688471\n",
      "epoch 29; iter: 0; batch classifier loss: 0.302201; batch adversarial loss: 0.686241\n",
      "epoch 29; iter: 200; batch classifier loss: 0.334468; batch adversarial loss: 0.697181\n",
      "epoch 30; iter: 0; batch classifier loss: 0.290685; batch adversarial loss: 0.665578\n",
      "epoch 30; iter: 200; batch classifier loss: 0.325008; batch adversarial loss: 0.678327\n",
      "epoch 31; iter: 0; batch classifier loss: 0.368432; batch adversarial loss: 0.683132\n",
      "epoch 31; iter: 200; batch classifier loss: 0.310966; batch adversarial loss: 0.692987\n",
      "epoch 32; iter: 0; batch classifier loss: 0.369370; batch adversarial loss: 0.694552\n",
      "epoch 32; iter: 200; batch classifier loss: 0.379550; batch adversarial loss: 0.665256\n",
      "epoch 33; iter: 0; batch classifier loss: 0.404648; batch adversarial loss: 0.681533\n",
      "epoch 33; iter: 200; batch classifier loss: 0.331030; batch adversarial loss: 0.678909\n",
      "epoch 34; iter: 0; batch classifier loss: 0.265380; batch adversarial loss: 0.691650\n",
      "epoch 34; iter: 200; batch classifier loss: 0.214729; batch adversarial loss: 0.681979\n",
      "epoch 35; iter: 0; batch classifier loss: 0.386435; batch adversarial loss: 0.699407\n",
      "epoch 35; iter: 200; batch classifier loss: 0.390284; batch adversarial loss: 0.668567\n",
      "epoch 36; iter: 0; batch classifier loss: 0.331070; batch adversarial loss: 0.666739\n",
      "epoch 36; iter: 200; batch classifier loss: 0.278012; batch adversarial loss: 0.697913\n",
      "epoch 37; iter: 0; batch classifier loss: 0.275726; batch adversarial loss: 0.668632\n",
      "epoch 37; iter: 200; batch classifier loss: 0.188510; batch adversarial loss: 0.642088\n",
      "epoch 38; iter: 0; batch classifier loss: 0.361898; batch adversarial loss: 0.675038\n",
      "epoch 38; iter: 200; batch classifier loss: 0.381600; batch adversarial loss: 0.694622\n",
      "epoch 39; iter: 0; batch classifier loss: 0.357811; batch adversarial loss: 0.675484\n",
      "epoch 39; iter: 200; batch classifier loss: 0.302193; batch adversarial loss: 0.686524\n",
      "epoch 40; iter: 0; batch classifier loss: 0.243564; batch adversarial loss: 0.684188\n",
      "epoch 40; iter: 200; batch classifier loss: 0.293064; batch adversarial loss: 0.678211\n",
      "epoch 41; iter: 0; batch classifier loss: 0.297427; batch adversarial loss: 0.680881\n",
      "epoch 41; iter: 200; batch classifier loss: 0.280742; batch adversarial loss: 0.652294\n",
      "epoch 42; iter: 0; batch classifier loss: 0.261231; batch adversarial loss: 0.677179\n",
      "epoch 42; iter: 200; batch classifier loss: 0.248691; batch adversarial loss: 0.681077\n",
      "epoch 43; iter: 0; batch classifier loss: 0.359728; batch adversarial loss: 0.696227\n",
      "epoch 43; iter: 200; batch classifier loss: 0.320500; batch adversarial loss: 0.665245\n",
      "epoch 44; iter: 0; batch classifier loss: 0.246835; batch adversarial loss: 0.690119\n",
      "epoch 44; iter: 200; batch classifier loss: 0.351166; batch adversarial loss: 0.696918\n",
      "epoch 45; iter: 0; batch classifier loss: 0.283106; batch adversarial loss: 0.681143\n",
      "epoch 45; iter: 200; batch classifier loss: 0.216156; batch adversarial loss: 0.674752\n",
      "epoch 46; iter: 0; batch classifier loss: 0.258194; batch adversarial loss: 0.668148\n",
      "epoch 46; iter: 200; batch classifier loss: 0.331916; batch adversarial loss: 0.679346\n",
      "epoch 47; iter: 0; batch classifier loss: 0.425275; batch adversarial loss: 0.668013\n",
      "epoch 47; iter: 200; batch classifier loss: 0.325399; batch adversarial loss: 0.677822\n",
      "epoch 48; iter: 0; batch classifier loss: 0.310732; batch adversarial loss: 0.653964\n",
      "epoch 48; iter: 200; batch classifier loss: 0.278111; batch adversarial loss: 0.673606\n",
      "epoch 49; iter: 0; batch classifier loss: 0.315373; batch adversarial loss: 0.668279\n",
      "epoch 49; iter: 200; batch classifier loss: 0.349127; batch adversarial loss: 0.680442\n"
     ]
    },
    {
     "data": {
      "text/plain": [
       "<aif360.algorithms.inprocessing.adversarial_debiasing.AdversarialDebiasing at 0x155e7eb38>"
      ]
     },
     "execution_count": 70,
     "metadata": {},
     "output_type": "execute_result"
    }
   ],
   "source": [
    "\n",
    "debiased_model.fit(data_train)"
   ]
  },
  {
   "cell_type": "code",
   "execution_count": 72,
   "metadata": {},
   "outputs": [],
   "source": [
    "# Apply the plain model to test data\n",
    "dataset_debiasing_train = debiased_model.predict(data_train)\n",
    "dataset_debiasing_test = debiased_model.predict(data_val)"
   ]
  },
  {
   "cell_type": "code",
   "execution_count": 73,
   "metadata": {},
   "outputs": [
    {
     "data": {
      "text/markdown": [
       "#### Plain model - without debiasing - dataset metrics"
      ],
      "text/plain": [
       "<IPython.core.display.Markdown object>"
      ]
     },
     "metadata": {},
     "output_type": "display_data"
    },
    {
     "name": "stdout",
     "output_type": "stream",
     "text": [
      "Train set: Difference in mean outcomes between unprivileged and privileged groups = -0.011153\n",
      "Test set: Difference in mean outcomes between unprivileged and privileged groups = -0.009183\n"
     ]
    },
    {
     "data": {
      "text/markdown": [
       "#### Model - with debiasing - dataset metrics"
      ],
      "text/plain": [
       "<IPython.core.display.Markdown object>"
      ]
     },
     "metadata": {},
     "output_type": "display_data"
    },
    {
     "name": "stdout",
     "output_type": "stream",
     "text": [
      "Train set: Difference in mean outcomes between unprivileged and privileged groups = -0.013209\n",
      "Test set: Difference in mean outcomes between unprivileged and privileged groups = -0.012286\n"
     ]
    },
    {
     "data": {
      "text/markdown": [
       "#### Plain model - without debiasing - classification metrics"
      ],
      "text/plain": [
       "<IPython.core.display.Markdown object>"
      ]
     },
     "metadata": {},
     "output_type": "display_data"
    },
    {
     "name": "stdout",
     "output_type": "stream",
     "text": [
      "Test set: Classification accuracy = 0.893655\n",
      "Test set: Balanced classification accuracy = 0.551516\n",
      "Test set: Disparate impact = 0.549154\n",
      "Test set: Equal opportunity difference = -0.016521\n",
      "Test set: Average odds difference = -0.010522\n",
      "Test set: Theil_index = 0.110539\n"
     ]
    },
    {
     "data": {
      "text/markdown": [
       "#### Model - with debiasing - classification metrics"
      ],
      "text/plain": [
       "<IPython.core.display.Markdown object>"
      ]
     },
     "metadata": {},
     "output_type": "display_data"
    },
    {
     "name": "stdout",
     "output_type": "stream",
     "text": [
      "Test set: Classification accuracy = 0.897702\n",
      "Test set: Balanced classification accuracy = 0.588998\n",
      "Test set: Disparate impact = 0.666993\n",
      "Test set: Equal opportunity difference = -0.031776\n",
      "Test set: Average odds difference = -0.017541\n",
      "Test set: Theil_index = 0.102324\n"
     ]
    }
   ],
   "source": [
    "# Metrics for the dataset from plain model (without debiasing)\n",
    "display(Markdown(\"#### Plain model - without debiasing - dataset metrics\"))\n",
    "print(\"Train set: Difference in mean outcomes between unprivileged and privileged groups = %f\" % metric_dataset_nodebiasing_train.mean_difference())\n",
    "print(\"Test set: Difference in mean outcomes between unprivileged and privileged groups = %f\" % metric_dataset_nodebiasing_test.mean_difference())\n",
    "\n",
    "# Metrics for the dataset from model with debiasing\n",
    "display(Markdown(\"#### Model - with debiasing - dataset metrics\"))\n",
    "metric_dataset_debiasing_train = BinaryLabelDatasetMetric(dataset_debiasing_train, \n",
    "                                             unprivileged_groups=u,\n",
    "                                             privileged_groups=p)\n",
    "\n",
    "print(\"Train set: Difference in mean outcomes between unprivileged and privileged groups = %f\" % metric_dataset_debiasing_train.mean_difference())\n",
    "\n",
    "metric_dataset_debiasing_test = BinaryLabelDatasetMetric(dataset_debiasing_test, \n",
    "                                             unprivileged_groups=u,\n",
    "                                             privileged_groups=p)\n",
    "\n",
    "print(\"Test set: Difference in mean outcomes between unprivileged and privileged groups = %f\" % metric_dataset_debiasing_test.mean_difference())\n",
    "\n",
    "\n",
    "\n",
    "display(Markdown(\"#### Plain model - without debiasing - classification metrics\"))\n",
    "print(\"Test set: Classification accuracy = %f\" % classified_metric_nodebiasing_test.accuracy())\n",
    "TPR = classified_metric_nodebiasing_test.true_positive_rate()\n",
    "TNR = classified_metric_nodebiasing_test.true_negative_rate()\n",
    "bal_acc_nodebiasing_test = 0.5*(TPR+TNR)\n",
    "print(\"Test set: Balanced classification accuracy = %f\" % bal_acc_nodebiasing_test)\n",
    "print(\"Test set: Disparate impact = %f\" % classified_metric_nodebiasing_test.disparate_impact())\n",
    "print(\"Test set: Equal opportunity difference = %f\" % classified_metric_nodebiasing_test.equal_opportunity_difference())\n",
    "print(\"Test set: Average odds difference = %f\" % classified_metric_nodebiasing_test.average_odds_difference())\n",
    "print(\"Test set: Theil_index = %f\" % classified_metric_nodebiasing_test.theil_index())\n",
    "\n",
    "\n",
    "\n",
    "display(Markdown(\"#### Model - with debiasing - classification metrics\"))\n",
    "classified_metric_debiasing_test = ClassificationMetric(data_val, \n",
    "                                                 dataset_debiasing_test,\n",
    "                                                    unprivileged_groups=u,\n",
    "                                                 privileged_groups=p)\n",
    "print(\"Test set: Classification accuracy = %f\" % classified_metric_debiasing_test.accuracy())\n",
    "TPR = classified_metric_debiasing_test.true_positive_rate()\n",
    "TNR = classified_metric_debiasing_test.true_negative_rate()\n",
    "bal_acc_debiasing_test = 0.5*(TPR+TNR)\n",
    "print(\"Test set: Balanced classification accuracy = %f\" % bal_acc_debiasing_test)\n",
    "print(\"Test set: Disparate impact = %f\" % classified_metric_debiasing_test.disparate_impact())\n",
    "print(\"Test set: Equal opportunity difference = %f\" % classified_metric_debiasing_test.equal_opportunity_difference())\n",
    "print(\"Test set: Average odds difference = %f\" % classified_metric_debiasing_test.average_odds_difference())\n",
    "print(\"Test set: Theil_index = %f\" % classified_metric_debiasing_test.theil_index())\n",
    "                                                        \n",
    "                                                        \n",
    "                                                        \n",
    "                                                        \n",
    "                                                        "
   ]
  },
  {
   "cell_type": "code",
   "execution_count": null,
   "metadata": {},
   "outputs": [],
   "source": []
  }
 ],
 "metadata": {
  "kernelspec": {
   "display_name": "Python 3",
   "language": "python",
   "name": "python3"
  },
  "language_info": {
   "codemirror_mode": {
    "name": "ipython",
    "version": 3
   },
   "file_extension": ".py",
   "mimetype": "text/x-python",
   "name": "python",
   "nbconvert_exporter": "python",
   "pygments_lexer": "ipython3",
   "version": "3.7.3"
  }
 },
 "nbformat": 4,
 "nbformat_minor": 4
}
