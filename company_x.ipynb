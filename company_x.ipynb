{
 "cells": [
  {
   "cell_type": "markdown",
   "metadata": {},
   "source": [
    "### Company X Biased Predictor Analysis"
   ]
  },
  {
   "cell_type": "markdown",
   "metadata": {},
   "source": [
    "#### Imports"
   ]
  },
  {
   "cell_type": "code",
   "execution_count": 151,
   "metadata": {},
   "outputs": [],
   "source": [
    "#Standard\n",
    "import pandas as pd\n",
    "import numpy as np\n",
    "import matplotlib.pyplot as plt\n",
    "%matplotlib inline\n",
    "\n",
    "#AIF360 Dataset Classes \n",
    "from aif360.datasets import StandardDataset\n",
    "from aif360.datasets import BinaryLabelDataset\n",
    "\n",
    "#AIF360 Metrics Classes  \n",
    "from aif360.metrics import BinaryLabelDatasetMetric, ClassificationMetric\n",
    "from aif360.algorithms.preprocessing import Reweighing\n",
    "from aif360.metrics import ClassificationMetric\n",
    "\n",
    "#AIF360 Algorithms \n",
    "from aif360.algorithms.preprocessing import Reweighing\n",
    "from aif360.algorithms.inprocessing import AdversarialDebiasing\n",
    "from aif360.algorithms.postprocessing import CalibratedEqOddsPostprocessing, EqOddsPostprocessing\n",
    "# AI360 Explainers\n",
    "from aif360.explainers import MetricTextExplainer\n",
    "\n",
    "#Sklearn\n",
    "from sklearn.ensemble import RandomForestClassifier\n",
    "from sklearn.metrics import accuracy_score, recall_score, precision_score\n",
    "from sklearn.model_selection import GridSearchCV, RandomizedSearchCV,train_test_split\n",
    "\n",
    "#Tensorflow -- install version before 2.0\n",
    "import tensorflow as tf \n",
    "\n",
    "#For Markdown\n",
    "from IPython.display import Markdown, display\n",
    "\n",
    "#Helper Functions\n",
    "from src.classifier_functions import *"
   ]
  },
  {
   "cell_type": "markdown",
   "metadata": {},
   "source": [
    "#### Load Data\n"
   ]
  },
  {
   "cell_type": "code",
   "execution_count": 55,
   "metadata": {},
   "outputs": [],
   "source": [
    "data = pd.read_csv('../company_x.csv', index_col='employee_id')"
   ]
  },
  {
   "cell_type": "code",
   "execution_count": 56,
   "metadata": {},
   "outputs": [
    {
     "data": {
      "text/html": [
       "<div>\n",
       "<style scoped>\n",
       "    .dataframe tbody tr th:only-of-type {\n",
       "        vertical-align: middle;\n",
       "    }\n",
       "\n",
       "    .dataframe tbody tr th {\n",
       "        vertical-align: top;\n",
       "    }\n",
       "\n",
       "    .dataframe thead th {\n",
       "        text-align: right;\n",
       "    }\n",
       "</style>\n",
       "<table border=\"1\" class=\"dataframe\">\n",
       "  <thead>\n",
       "    <tr style=\"text-align: right;\">\n",
       "      <th></th>\n",
       "      <th>signing_bonus</th>\n",
       "      <th>salary</th>\n",
       "      <th>degree_level</th>\n",
       "      <th>sex</th>\n",
       "      <th>yrs_experience</th>\n",
       "      <th>dept</th>\n",
       "      <th>is_manager</th>\n",
       "      <th>direct_reports</th>\n",
       "      <th>boss_id</th>\n",
       "      <th>total_reports</th>\n",
       "      <th>company_level</th>\n",
       "    </tr>\n",
       "    <tr>\n",
       "      <th>employee_id</th>\n",
       "      <th></th>\n",
       "      <th></th>\n",
       "      <th></th>\n",
       "      <th></th>\n",
       "      <th></th>\n",
       "      <th></th>\n",
       "      <th></th>\n",
       "      <th></th>\n",
       "      <th></th>\n",
       "      <th></th>\n",
       "      <th></th>\n",
       "    </tr>\n",
       "  </thead>\n",
       "  <tbody>\n",
       "    <tr>\n",
       "      <th>138719</th>\n",
       "      <td>0</td>\n",
       "      <td>273000.0</td>\n",
       "      <td>Master</td>\n",
       "      <td>M</td>\n",
       "      <td>2</td>\n",
       "      <td>engineering</td>\n",
       "      <td>False</td>\n",
       "      <td>0.0</td>\n",
       "      <td>43602</td>\n",
       "      <td>0</td>\n",
       "      <td>0</td>\n",
       "    </tr>\n",
       "    <tr>\n",
       "      <th>3192</th>\n",
       "      <td>0</td>\n",
       "      <td>301000.0</td>\n",
       "      <td>Bachelor</td>\n",
       "      <td>F</td>\n",
       "      <td>1</td>\n",
       "      <td>sales</td>\n",
       "      <td>False</td>\n",
       "      <td>0.0</td>\n",
       "      <td>87847</td>\n",
       "      <td>0</td>\n",
       "      <td>0</td>\n",
       "    </tr>\n",
       "    <tr>\n",
       "      <th>114657</th>\n",
       "      <td>0</td>\n",
       "      <td>261000.0</td>\n",
       "      <td>Master</td>\n",
       "      <td>F</td>\n",
       "      <td>2</td>\n",
       "      <td>sales</td>\n",
       "      <td>False</td>\n",
       "      <td>0.0</td>\n",
       "      <td>180854</td>\n",
       "      <td>0</td>\n",
       "      <td>0</td>\n",
       "    </tr>\n",
       "    <tr>\n",
       "      <th>29039</th>\n",
       "      <td>0</td>\n",
       "      <td>86000.0</td>\n",
       "      <td>High_School</td>\n",
       "      <td>F</td>\n",
       "      <td>4</td>\n",
       "      <td>HR</td>\n",
       "      <td>False</td>\n",
       "      <td>0.0</td>\n",
       "      <td>88370</td>\n",
       "      <td>0</td>\n",
       "      <td>0</td>\n",
       "    </tr>\n",
       "    <tr>\n",
       "      <th>118607</th>\n",
       "      <td>0</td>\n",
       "      <td>126000.0</td>\n",
       "      <td>Bachelor</td>\n",
       "      <td>F</td>\n",
       "      <td>3</td>\n",
       "      <td>sales</td>\n",
       "      <td>False</td>\n",
       "      <td>0.0</td>\n",
       "      <td>23565</td>\n",
       "      <td>0</td>\n",
       "      <td>0</td>\n",
       "    </tr>\n",
       "  </tbody>\n",
       "</table>\n",
       "</div>"
      ],
      "text/plain": [
       "             signing_bonus    salary degree_level sex  yrs_experience  \\\n",
       "employee_id                                                             \n",
       "138719                   0  273000.0       Master   M               2   \n",
       "3192                     0  301000.0     Bachelor   F               1   \n",
       "114657                   0  261000.0       Master   F               2   \n",
       "29039                    0   86000.0  High_School   F               4   \n",
       "118607                   0  126000.0     Bachelor   F               3   \n",
       "\n",
       "                    dept  is_manager  direct_reports  boss_id  total_reports  \\\n",
       "employee_id                                                                    \n",
       "138719       engineering       False             0.0    43602              0   \n",
       "3192               sales       False             0.0    87847              0   \n",
       "114657             sales       False             0.0   180854              0   \n",
       "29039                 HR       False             0.0    88370              0   \n",
       "118607             sales       False             0.0    23565              0   \n",
       "\n",
       "             company_level  \n",
       "employee_id                 \n",
       "138719                   0  \n",
       "3192                     0  \n",
       "114657                   0  \n",
       "29039                    0  \n",
       "118607                   0  "
      ]
     },
     "execution_count": 56,
     "metadata": {},
     "output_type": "execute_result"
    }
   ],
   "source": [
    "data.head()\n"
   ]
  },
  {
   "cell_type": "code",
   "execution_count": 57,
   "metadata": {},
   "outputs": [
    {
     "name": "stdout",
     "output_type": "stream",
     "text": [
      "<class 'pandas.core.frame.DataFrame'>\n",
      "Int64Index: 10000 entries, 138719 to 72227\n",
      "Data columns (total 11 columns):\n",
      " #   Column          Non-Null Count  Dtype  \n",
      "---  ------          --------------  -----  \n",
      " 0   signing_bonus   10000 non-null  int64  \n",
      " 1   salary          10000 non-null  float64\n",
      " 2   degree_level    10000 non-null  object \n",
      " 3   sex             10000 non-null  object \n",
      " 4   yrs_experience  10000 non-null  int64  \n",
      " 5   dept            10000 non-null  object \n",
      " 6   is_manager      10000 non-null  bool   \n",
      " 7   direct_reports  10000 non-null  float64\n",
      " 8   boss_id         10000 non-null  int64  \n",
      " 9   total_reports   10000 non-null  int64  \n",
      " 10  company_level   10000 non-null  int64  \n",
      "dtypes: bool(1), float64(2), int64(5), object(3)\n",
      "memory usage: 869.1+ KB\n"
     ]
    }
   ],
   "source": [
    "data.info()"
   ]
  },
  {
   "cell_type": "code",
   "execution_count": 113,
   "metadata": {},
   "outputs": [
    {
     "data": {
      "text/html": [
       "<div>\n",
       "<style scoped>\n",
       "    .dataframe tbody tr th:only-of-type {\n",
       "        vertical-align: middle;\n",
       "    }\n",
       "\n",
       "    .dataframe tbody tr th {\n",
       "        vertical-align: top;\n",
       "    }\n",
       "\n",
       "    .dataframe thead th {\n",
       "        text-align: right;\n",
       "    }\n",
       "</style>\n",
       "<table border=\"1\" class=\"dataframe\">\n",
       "  <thead>\n",
       "    <tr style=\"text-align: right;\">\n",
       "      <th></th>\n",
       "      <th>signing_bonus</th>\n",
       "      <th>salary</th>\n",
       "      <th>degree_level</th>\n",
       "      <th>sex</th>\n",
       "      <th>yrs_experience</th>\n",
       "      <th>dept</th>\n",
       "      <th>is_manager</th>\n",
       "      <th>direct_reports</th>\n",
       "      <th>boss_id</th>\n",
       "      <th>total_reports</th>\n",
       "      <th>company_level</th>\n",
       "    </tr>\n",
       "    <tr>\n",
       "      <th>employee_id</th>\n",
       "      <th></th>\n",
       "      <th></th>\n",
       "      <th></th>\n",
       "      <th></th>\n",
       "      <th></th>\n",
       "      <th></th>\n",
       "      <th></th>\n",
       "      <th></th>\n",
       "      <th></th>\n",
       "      <th></th>\n",
       "      <th></th>\n",
       "    </tr>\n",
       "  </thead>\n",
       "  <tbody>\n",
       "    <tr>\n",
       "      <th>138719</th>\n",
       "      <td>0</td>\n",
       "      <td>1</td>\n",
       "      <td>Master</td>\n",
       "      <td>1</td>\n",
       "      <td>2</td>\n",
       "      <td>engineering</td>\n",
       "      <td>False</td>\n",
       "      <td>0.0</td>\n",
       "      <td>43602</td>\n",
       "      <td>0</td>\n",
       "      <td>0</td>\n",
       "    </tr>\n",
       "    <tr>\n",
       "      <th>3192</th>\n",
       "      <td>0</td>\n",
       "      <td>1</td>\n",
       "      <td>Bachelor</td>\n",
       "      <td>0</td>\n",
       "      <td>1</td>\n",
       "      <td>sales</td>\n",
       "      <td>False</td>\n",
       "      <td>0.0</td>\n",
       "      <td>87847</td>\n",
       "      <td>0</td>\n",
       "      <td>0</td>\n",
       "    </tr>\n",
       "    <tr>\n",
       "      <th>114657</th>\n",
       "      <td>0</td>\n",
       "      <td>1</td>\n",
       "      <td>Master</td>\n",
       "      <td>0</td>\n",
       "      <td>2</td>\n",
       "      <td>sales</td>\n",
       "      <td>False</td>\n",
       "      <td>0.0</td>\n",
       "      <td>180854</td>\n",
       "      <td>0</td>\n",
       "      <td>0</td>\n",
       "    </tr>\n",
       "    <tr>\n",
       "      <th>29039</th>\n",
       "      <td>0</td>\n",
       "      <td>0</td>\n",
       "      <td>High_School</td>\n",
       "      <td>0</td>\n",
       "      <td>4</td>\n",
       "      <td>HR</td>\n",
       "      <td>False</td>\n",
       "      <td>0.0</td>\n",
       "      <td>88370</td>\n",
       "      <td>0</td>\n",
       "      <td>0</td>\n",
       "    </tr>\n",
       "    <tr>\n",
       "      <th>118607</th>\n",
       "      <td>0</td>\n",
       "      <td>1</td>\n",
       "      <td>Bachelor</td>\n",
       "      <td>0</td>\n",
       "      <td>3</td>\n",
       "      <td>sales</td>\n",
       "      <td>False</td>\n",
       "      <td>0.0</td>\n",
       "      <td>23565</td>\n",
       "      <td>0</td>\n",
       "      <td>0</td>\n",
       "    </tr>\n",
       "  </tbody>\n",
       "</table>\n",
       "</div>"
      ],
      "text/plain": [
       "             signing_bonus  salary degree_level  sex  yrs_experience  \\\n",
       "employee_id                                                            \n",
       "138719                   0       1       Master    1               2   \n",
       "3192                     0       1     Bachelor    0               1   \n",
       "114657                   0       1       Master    0               2   \n",
       "29039                    0       0  High_School    0               4   \n",
       "118607                   0       1     Bachelor    0               3   \n",
       "\n",
       "                    dept  is_manager  direct_reports  boss_id  total_reports  \\\n",
       "employee_id                                                                    \n",
       "138719       engineering       False             0.0    43602              0   \n",
       "3192               sales       False             0.0    87847              0   \n",
       "114657             sales       False             0.0   180854              0   \n",
       "29039                 HR       False             0.0    88370              0   \n",
       "118607             sales       False             0.0    23565              0   \n",
       "\n",
       "             company_level  \n",
       "employee_id                 \n",
       "138719                   0  \n",
       "3192                     0  \n",
       "114657                   0  \n",
       "29039                    0  \n",
       "118607                   0  "
      ]
     },
     "execution_count": 113,
     "metadata": {},
     "output_type": "execute_result"
    }
   ],
   "source": [
    "## Create Label \n",
    "data_with_label = data.copy()\n",
    "data_with_label['salary'] = data_with_label['salary'].transform(lambda x: x > 100000).astype(int)\n",
    "data_with_label['sex'] = data_with_label['sex'].transform(lambda x: x == 'M').astype(int)\n",
    "data_with_label.head()"
   ]
  },
  {
   "cell_type": "code",
   "execution_count": 114,
   "metadata": {},
   "outputs": [],
   "source": [
    "### Create StandardDataset\n",
    "\n",
    "std_data = StandardDataset(df=data_with_label,   \n",
    "                         label_name='salary',\n",
    "                         favorable_classes =[1],\n",
    "                        protected_attribute_names=['sex'], \n",
    "                         privileged_classes=[[1]],\n",
    "                        categorical_features=['degree_level', 'dept'], \n",
    "                          features_to_drop=['boss_id', 'is_manager'])\n",
    "\n"
   ]
  },
  {
   "cell_type": "code",
   "execution_count": 115,
   "metadata": {},
   "outputs": [],
   "source": [
    "df_data = std_data.convert_to_dataframe()\n",
    "binary_data = BinaryLabelDataset(favorable_label=1, unfavorable_label=0, df=df_data[0], label_names=['salary'],\n",
    "              protected_attribute_names=['sex'])\n",
    "\n",
    "privileged_groups= [{'sex':1}]\n",
    "unprivileged_groups= [{'sex': 0}]"
   ]
  },
  {
   "cell_type": "code",
   "execution_count": 116,
   "metadata": {},
   "outputs": [],
   "source": [
    "## Splitting the Data\n",
    "data_train, data_vt = binary_data.split([0.7], shuffle=True)\n",
    "\n",
    "data_val, data_test = data_vt.split([0.5], shuffle=True)"
   ]
  },
  {
   "cell_type": "code",
   "execution_count": 117,
   "metadata": {},
   "outputs": [
    {
     "name": "stdout",
     "output_type": "stream",
     "text": [
      "Mean difference (mean label value on privileged instances - mean label value on unprivileged instances): -0.1461893846888619\n",
      "\n",
      "\n",
      "Disparate impact (probability of favorable outcome for unprivileged instances / probability of favorable outcome for privileged instances): 0.8258243465060383\n"
     ]
    }
   ],
   "source": [
    "### First Metrics\n",
    "metric_train = BinaryLabelDatasetMetric(data_train, \n",
    "                            unprivileged_groups=unprivileged_groups, \n",
    "                            privileged_groups=privileged_groups)\n",
    "#Explainer \n",
    "ex_metric_train = MetricTextExplainer(metric_train)\n",
    "\n",
    "print(ex_metric_train.mean_difference())\n",
    "print('\\n')\n",
    "print(ex_metric_train.disparate_impact())"
   ]
  },
  {
   "cell_type": "markdown",
   "metadata": {},
   "source": [
    "### Random Forest Classifier "
   ]
  },
  {
   "cell_type": "code",
   "execution_count": 165,
   "metadata": {},
   "outputs": [],
   "source": [
    "#Creating X,y\n",
    "X_train = data_train.features\n",
    "y_train = data_train.labels.ravel()\n",
    "X_test = data_val.features\n",
    "y_test = data_val.labels.ravel()"
   ]
  },
  {
   "cell_type": "code",
   "execution_count": 119,
   "metadata": {},
   "outputs": [],
   "source": [
    "# Creating Random Forest Classifier\n",
    "rfc = RandomForestClassifier()\n",
    "# #rf_random = RandomizedSearchCV(estimator = rfc, \n",
    "#                                param_distributions = random_grid, \n",
    "#                                n_iter = 100, cv = 5, verbose=5, \n",
    "#                                random_state=42, n_jobs = -1)"
   ]
  },
  {
   "cell_type": "code",
   "execution_count": 120,
   "metadata": {},
   "outputs": [],
   "source": [
    "# # Number of trees in random forest\n",
    "# n_estimators = [int(x) for x in np.linspace(start = 200, stop = 2000, num = 5)]\n",
    "# # Number of features to consider at every split\n",
    "# max_features = ['auto', 'sqrt']\n",
    "# # Maximum number of levels in tree\n",
    "# max_depth = [int(x) for x in np.linspace(3,10,7)]\n",
    "# max_depth.append(None)\n",
    "# # Minimum number of samples required to split a node\n",
    "# min_samples_split = [2, 5, 10]\n",
    "# # Minimum number of samples required at each leaf node\n",
    "# min_samples_leaf = [1, 2, 4]\n",
    "# # Method of selecting samples for training each tree\n",
    "\n",
    "# # Create the random grid\n",
    "# random_grid = {'n_estimators': n_estimators,\n",
    "#                'max_features': max_features,\n",
    "#                'max_depth': max_depth,\n",
    "#                'min_samples_split': min_samples_split,\n",
    "#                'min_samples_leaf': min_samples_leaf}\n",
    "# print(random_grid)"
   ]
  },
  {
   "cell_type": "code",
   "execution_count": 121,
   "metadata": {},
   "outputs": [],
   "source": [
    "# Fit the random search modelrfc.fit(X_train, y_train)\n",
    "#rf_random.fit(X_train, y_train)\n",
    "# rf_random.best_params_"
   ]
  },
  {
   "cell_type": "code",
   "execution_count": 166,
   "metadata": {},
   "outputs": [],
   "source": [
    "rfc = RandomForestClassifier(n_estimators=500, \n",
    "                             min_samples_split=10,\n",
    "                             min_samples_leaf=1, \n",
    "                             max_features='sqrt',\n",
    "                            max_depth =5)"
   ]
  },
  {
   "cell_type": "code",
   "execution_count": 167,
   "metadata": {
    "collapsed": true,
    "jupyter": {
     "outputs_hidden": true
    }
   },
   "outputs": [
    {
     "data": {
      "text/plain": [
       "RandomForestClassifier(bootstrap=True, class_weight=None, criterion='gini',\n",
       "                       max_depth=5, max_features='sqrt', max_leaf_nodes=None,\n",
       "                       min_impurity_decrease=0.0, min_impurity_split=None,\n",
       "                       min_samples_leaf=1, min_samples_split=10,\n",
       "                       min_weight_fraction_leaf=0.0, n_estimators=500,\n",
       "                       n_jobs=None, oob_score=False, random_state=None,\n",
       "                       verbose=0, warm_start=False)"
      ]
     },
     "execution_count": 167,
     "metadata": {},
     "output_type": "execute_result"
    }
   ],
   "source": [
    "rfc.fit(X_train, y_train)"
   ]
  },
  {
   "cell_type": "code",
   "execution_count": 168,
   "metadata": {},
   "outputs": [],
   "source": [
    "#Creating Predicted Dataframe\n",
    "y_pred = rfc.predict(X_test)\n",
    "data_val_pred = data_val.copy()\n",
    "data_val_pred.labels = y_pred.ravel()"
   ]
  },
  {
   "cell_type": "code",
   "execution_count": 156,
   "metadata": {},
   "outputs": [],
   "source": [
    "#Prep dataset to test out Aequitas \n",
    "# df = data_val.convert_to_dataframe()[0]\n",
    "# df.head()\n",
    "# aeq_df = pd.DataFrame()\n",
    "# aeq_df['score'] = y_pred\n",
    "# aeq_df['label_value'] = df['salary'].values\n",
    "# aeq_df['sex'] = df['sex'].values\n",
    "# aeq_df['sex'] = aeq_df['sex'].transform(lambda x: 'Male' if x == 1 else 'Female') \n",
    "# aeq_df.to_csv('../aeq.csv', index=False)\n",
    "# aeq_df.head()"
   ]
  },
  {
   "cell_type": "code",
   "execution_count": 157,
   "metadata": {},
   "outputs": [
    {
     "data": {
      "text/plain": [
       "0.8826666666666667"
      ]
     },
     "execution_count": 157,
     "metadata": {},
     "output_type": "execute_result"
    }
   ],
   "source": [
    "rfc.score(X_test, y_test)"
   ]
  },
  {
   "cell_type": "code",
   "execution_count": 172,
   "metadata": {},
   "outputs": [
    {
     "data": {
      "text/plain": [
       "array([1., 0., 0., ..., 1., 0., 1.])"
      ]
     },
     "execution_count": 172,
     "metadata": {},
     "output_type": "execute_result"
    }
   ],
   "source": [
    "data_val_pred"
   ]
  },
  {
   "cell_type": "code",
   "execution_count": 158,
   "metadata": {},
   "outputs": [
    {
     "data": {
      "text/plain": [
       "array([[0.13043594, 0.86956406],\n",
       "       [0.74166198, 0.25833802],\n",
       "       [0.72040179, 0.27959821],\n",
       "       [0.11563695, 0.88436305],\n",
       "       [0.11563178, 0.88436822],\n",
       "       [0.10897434, 0.89102566],\n",
       "       [0.12653249, 0.87346751],\n",
       "       [0.11918074, 0.88081926],\n",
       "       [0.08710609, 0.91289391],\n",
       "       [0.11515705, 0.88484295]])"
      ]
     },
     "execution_count": 158,
     "metadata": {},
     "output_type": "execute_result"
    }
   ],
   "source": [
    "rfc.predict_proba(X_test)[:10]"
   ]
  },
  {
   "cell_type": "code",
   "execution_count": 159,
   "metadata": {},
   "outputs": [
    {
     "name": "stdout",
     "output_type": "stream",
     "text": [
      "Mean difference (mean label value on privileged instances - mean label value on unprivileged instances): -0.1731013749938397\n",
      "\n",
      "\n",
      "Disparate impact (probability of favorable outcome for unprivileged instances / probability of favorable outcome for privileged instances): 0.8066838385839772\n",
      "\n",
      "\n",
      "Average odds difference (average of TPR difference and FPR difference, 0 = equality of odds): -0.16692926345609418\n",
      "\n",
      "\n",
      "True positive rate difference (true positive rate on unprivileged instances - true positive rate on privileged instances): -0.04584209866395472\n",
      "\n",
      "\n",
      "Theil index (generalized entropy index with alpha = 1): 0.056627397722064106\n",
      "Positive predictive value on privileged instances: 0.8900226757369615\n",
      "Positive predictive value on unprivileged instances: 0.8978494623655914\n",
      "True positive rate on privileged instances: 0.9788029925187033\n",
      "True positive rate on unprivileged instances: 0.9329608938547486\n"
     ]
    }
   ],
   "source": [
    "#Getting the Metrics \n",
    "metric_preds = BinaryLabelDatasetMetric(data_val_pred, \n",
    "                            unprivileged_groups=unprivileged_groups, \n",
    "                            privileged_groups=privileged_groups)\n",
    "\n",
    "ex_metric_preds = MetricTextExplainer(metric_preds)\n",
    "\n",
    "print(ex_metric_preds.mean_difference())\n",
    "print('\\n')\n",
    "print(ex_metric_preds.disparate_impact())\n",
    "\n",
    "\n",
    "model_metric = ClassificationMetric(data_val, data_val_pred, \n",
    "                            unprivileged_groups=unprivileged_groups, \n",
    "                            privileged_groups=privileged_groups)\n",
    "\n",
    "ex_model_metric= MetricTextExplainer(model_metric)\n",
    "\n",
    "print('\\n')\n",
    "\n",
    "print(ex_model_metric.average_odds_difference())\n",
    "print('\\n')\n",
    "print(ex_model_metric.equal_opportunity_difference())\n",
    "print('\\n')\n",
    "print(ex_model_metric.theil_index())\n",
    "\n",
    "\n",
    "print(ex_model_metric.precision(privileged=True))\n",
    "print(ex_model_metric.precision(privileged=False))\n",
    "print(ex_model_metric.recall(privileged=True))\n",
    "print(ex_model_metric.recall(privileged=False))\n"
   ]
  },
  {
   "cell_type": "code",
   "execution_count": 111,
   "metadata": {},
   "outputs": [
    {
     "name": "stdout",
     "output_type": "stream",
     "text": [
      "The Accuracy score is 0.830.\n",
      "\n",
      "The Precision score is 0.803.\n",
      "\n",
      "The Recall score is 0.991.\n",
      "\n",
      "      Confusion Matrix\n"
     ]
    },
    {
     "data": {
      "text/html": [
       "<div>\n",
       "<style scoped>\n",
       "    .dataframe tbody tr th:only-of-type {\n",
       "        vertical-align: middle;\n",
       "    }\n",
       "\n",
       "    .dataframe tbody tr th {\n",
       "        vertical-align: top;\n",
       "    }\n",
       "\n",
       "    .dataframe thead th {\n",
       "        text-align: right;\n",
       "    }\n",
       "</style>\n",
       "<table border=\"1\" class=\"dataframe\">\n",
       "  <thead>\n",
       "    <tr style=\"text-align: right;\">\n",
       "      <th></th>\n",
       "      <th>Actual True</th>\n",
       "      <th>Actual False</th>\n",
       "    </tr>\n",
       "  </thead>\n",
       "  <tbody>\n",
       "    <tr>\n",
       "      <th>Predicted True</th>\n",
       "      <td>1001</td>\n",
       "      <td>246</td>\n",
       "    </tr>\n",
       "    <tr>\n",
       "      <th>Predicted False</th>\n",
       "      <td>9</td>\n",
       "      <td>244</td>\n",
       "    </tr>\n",
       "  </tbody>\n",
       "</table>\n",
       "</div>"
      ],
      "text/plain": [
       "                 Actual True  Actual False\n",
       "Predicted True          1001           246\n",
       "Predicted False            9           244"
      ]
     },
     "execution_count": 111,
     "metadata": {},
     "output_type": "execute_result"
    }
   ],
   "source": [
    "scorecard(y_test, y_pred)"
   ]
  },
  {
   "cell_type": "code",
   "execution_count": 74,
   "metadata": {},
   "outputs": [
    {
     "data": {
      "text/plain": [
       "(1500, 1)"
      ]
     },
     "execution_count": 74,
     "metadata": {},
     "output_type": "execute_result"
    }
   ],
   "source": [
    "data_val.labels.shape"
   ]
  },
  {
   "cell_type": "code",
   "execution_count": 75,
   "metadata": {},
   "outputs": [
    {
     "data": {
      "text/plain": [
       "(1500,)"
      ]
     },
     "execution_count": 75,
     "metadata": {},
     "output_type": "execute_result"
    }
   ],
   "source": [
    "data_val_pred.labels.shape"
   ]
  },
  {
   "cell_type": "markdown",
   "metadata": {},
   "source": [
    "## Debiasing through Preprocessing "
   ]
  },
  {
   "cell_type": "markdown",
   "metadata": {},
   "source": [
    "#### Reweighing"
   ]
  },
  {
   "cell_type": "code",
   "execution_count": 76,
   "metadata": {},
   "outputs": [],
   "source": [
    "RW = Reweighing(unprivileged_groups=unprivileged_groups, \n",
    "               privileged_groups=privileged_groups)\n",
    "\n",
    "#Splitting the Data\n",
    "data_rw_train = RW.fit_transform(data_train)\n",
    "\n",
    "data_rw_val = RW.fit_transform(data_val)"
   ]
  },
  {
   "cell_type": "code",
   "execution_count": 130,
   "metadata": {},
   "outputs": [
    {
     "name": "stdout",
     "output_type": "stream",
     "text": [
      "Mean difference (mean label value on privileged instances - mean label value on unprivileged instances): -4.440892098500626e-16\n",
      "\n",
      "\n",
      "Disparate impact (probability of favorable outcome for unprivileged instances / probability of favorable outcome for privileged instances): 0.9999999999999994\n"
     ]
    }
   ],
   "source": [
    "### Reweigh Metrics\n",
    "metric_rw_train = BinaryLabelDatasetMetric(data_rw_train, \n",
    "                            unprivileged_groups=unprivileged_groups, \n",
    "                            privileged_groups=privileged_groups)\n",
    "#Explainer \n",
    "ex_metric_rw_train = MetricTextExplainer(metric_rw_train)\n",
    "\n",
    "print(ex_metric_rw_train.mean_difference())\n",
    "print('\\n')\n",
    "print(ex_metric_rw_train.disparate_impact())"
   ]
  },
  {
   "cell_type": "markdown",
   "metadata": {},
   "source": [
    "### Random Forest Classifier with Reweighing "
   ]
  },
  {
   "cell_type": "code",
   "execution_count": 131,
   "metadata": {},
   "outputs": [],
   "source": [
    "#Creating X,y\n",
    "X_rw_train = data_rw_train.features\n",
    "y_rw_train = data_rw_train.labels.ravel()\n",
    "X_rw_test = data_rw_val.features\n",
    "y_rw_test = data_rw_val.labels.ravel()"
   ]
  },
  {
   "cell_type": "code",
   "execution_count": 132,
   "metadata": {},
   "outputs": [
    {
     "data": {
      "text/plain": [
       "RandomForestClassifier(bootstrap=True, class_weight=None, criterion='gini',\n",
       "                       max_depth=5, max_features='auto', max_leaf_nodes=None,\n",
       "                       min_impurity_decrease=0.0, min_impurity_split=None,\n",
       "                       min_samples_leaf=1, min_samples_split=2,\n",
       "                       min_weight_fraction_leaf=0.0, n_estimators=1000,\n",
       "                       n_jobs=None, oob_score=False, random_state=None,\n",
       "                       verbose=0, warm_start=False)"
      ]
     },
     "execution_count": 132,
     "metadata": {},
     "output_type": "execute_result"
    }
   ],
   "source": [
    "# Creating Random Forest Classifier\n",
    "rfc_rw = RandomForestClassifier(n_estimators=1000, max_depth=5)\n",
    "rfc_rw.fit(X_rw_train, y_rw_train, sample_weight=data_rw_train.instance_weights)"
   ]
  },
  {
   "cell_type": "code",
   "execution_count": 133,
   "metadata": {},
   "outputs": [],
   "source": [
    "#Creating Predicted Dataframe\n",
    "y_rw_pred = rfc_rw.predict(X_test)\n",
    "data_val_rw_pred = data_rw_val.copy()\n",
    "data_val_rw_pred.labels = y_rw_pred"
   ]
  },
  {
   "cell_type": "code",
   "execution_count": 134,
   "metadata": {},
   "outputs": [
    {
     "data": {
      "text/markdown": [
       "#### Model - with reweighing - dataset metrics"
      ],
      "text/plain": [
       "<IPython.core.display.Markdown object>"
      ]
     },
     "metadata": {},
     "output_type": "display_data"
    },
    {
     "name": "stdout",
     "output_type": "stream",
     "text": [
      "Mean difference (mean label value on privileged instances - mean label value on unprivileged instances): 0.005402156724691465\n",
      "\n",
      "\n",
      "Disparate impact (probability of favorable outcome for unprivileged instances / probability of favorable outcome for privileged instances): 1.006487525561851\n"
     ]
    },
    {
     "data": {
      "text/markdown": [
       "#### Model - with reweighing - classification metrics"
      ],
      "text/plain": [
       "<IPython.core.display.Markdown object>"
      ]
     },
     "metadata": {},
     "output_type": "display_data"
    },
    {
     "name": "stdout",
     "output_type": "stream",
     "text": [
      "True positive rate (TPR, recall, sensitivity = TP / (TP + FN)): 0.8292135549872123\n",
      "Positive predictive value (PPV, precision = TP / (TP + FP)): 0.7842587177108318\n",
      "Average odds difference (average of TPR difference and FPR difference, 0 = equality of odds): 0.019407656928970007\n",
      "True positive rate difference (true positive rate on unprivileged instances - true positive rate on privileged instances): -0.004795396419437159\n",
      "Theil index (generalized entropy index with alpha = 1): 0.19456277933687138\n",
      "Positive predictive value on privileged instances: 0.7876111957393863\n",
      "Positive predictive value on unprivileged instances: 0.7780181241960171\n",
      "True positive rate on privileged instances: 0.8308823529411764\n",
      "True positive rate on unprivileged instances: 0.8260869565217392\n"
     ]
    }
   ],
   "source": [
    "#Getting the Metrics \n",
    "display(Markdown(\"#### Model - with reweighing - dataset metrics\"))\n",
    "\n",
    "\n",
    "metric_rw_preds = BinaryLabelDatasetMetric(data_val_rw_pred, \n",
    "                            unprivileged_groups=unprivileged_groups, \n",
    "                            privileged_groups=privileged_groups)\n",
    "\n",
    "ex_metric_rw_preds = MetricTextExplainer(metric_rw_preds)\n",
    "\n",
    "print(ex_metric_rw_preds.mean_difference())\n",
    "print('\\n')\n",
    "print(ex_metric_rw_preds.disparate_impact())\n",
    "\n",
    "display(Markdown(\"#### Model - with reweighing - classification metrics\"))\n",
    "model_rw_metric = ClassificationMetric(data_rw_val, data_val_rw_pred, \n",
    "                            unprivileged_groups=unprivileged_groups, \n",
    "                            privileged_groups=privileged_groups)\n",
    "\n",
    "ex_model_rw_metric= MetricTextExplainer(model_rw_metric)\n",
    "\n",
    "print(ex_model_rw_metric.average_odds_difference())\n",
    "print(ex_model_rw_metric.equal_opportunity_difference())\n",
    "print(ex_model_rw_metric.theil_index())\n",
    "print(ex_model_rw_metric.precision(privileged=True))\n",
    "print(ex_model_rw_metric.precision(privileged=False))\n",
    "print(ex_model_rw_metric.recall(privileged=True))\n",
    "print(ex_model_rw_metric.recall(privileged=False))"
   ]
  },
  {
   "cell_type": "code",
   "execution_count": 82,
   "metadata": {},
   "outputs": [
    {
     "name": "stdout",
     "output_type": "stream",
     "text": [
      "The Accuracy score is 0.898.\n",
      "\n",
      "The Precision score is 0.911.\n",
      "\n",
      "The Recall score is 0.965.\n",
      "\n",
      "      Confusion Matrix\n"
     ]
    },
    {
     "data": {
      "text/html": [
       "<div>\n",
       "<style scoped>\n",
       "    .dataframe tbody tr th:only-of-type {\n",
       "        vertical-align: middle;\n",
       "    }\n",
       "\n",
       "    .dataframe tbody tr th {\n",
       "        vertical-align: top;\n",
       "    }\n",
       "\n",
       "    .dataframe thead th {\n",
       "        text-align: right;\n",
       "    }\n",
       "</style>\n",
       "<table border=\"1\" class=\"dataframe\">\n",
       "  <thead>\n",
       "    <tr style=\"text-align: right;\">\n",
       "      <th></th>\n",
       "      <th>Actual True</th>\n",
       "      <th>Actual False</th>\n",
       "    </tr>\n",
       "  </thead>\n",
       "  <tbody>\n",
       "    <tr>\n",
       "      <th>Predicted True</th>\n",
       "      <td>1143</td>\n",
       "      <td>112</td>\n",
       "    </tr>\n",
       "    <tr>\n",
       "      <th>Predicted False</th>\n",
       "      <td>41</td>\n",
       "      <td>204</td>\n",
       "    </tr>\n",
       "  </tbody>\n",
       "</table>\n",
       "</div>"
      ],
      "text/plain": [
       "                 Actual True  Actual False\n",
       "Predicted True          1143           112\n",
       "Predicted False           41           204"
      ]
     },
     "execution_count": 82,
     "metadata": {},
     "output_type": "execute_result"
    }
   ],
   "source": [
    "scorecard(y_rw_test, y_rw_pred)"
   ]
  },
  {
   "cell_type": "markdown",
   "metadata": {},
   "source": [
    "### Inprocessing with Adversarial Debiaising\n",
    "\n"
   ]
  },
  {
   "cell_type": "code",
   "execution_count": 135,
   "metadata": {},
   "outputs": [],
   "source": [
    "#sess.close()\n",
    "tf.reset_default_graph()\n",
    "sess = tf.Session()"
   ]
  },
  {
   "cell_type": "code",
   "execution_count": 136,
   "metadata": {},
   "outputs": [],
   "source": [
    "##Creating Tensorflow Session - must not use Tensorflow 2.0 \n",
    "sess = tf.Session()\n",
    "db_model = AdversarialDebiasing(privileged_groups = privileged_groups,\n",
    "                          unprivileged_groups = unprivileged_groups,\n",
    "                          scope_name='debiased_classifier',\n",
    "                            num_epochs  = 100,\n",
    "                            batch_size = 50,\n",
    "                            adversary_loss_weight = .1,     \n",
    "                            debias=True,\n",
    "                          sess=sess)"
   ]
  },
  {
   "cell_type": "code",
   "execution_count": 137,
   "metadata": {},
   "outputs": [
    {
     "name": "stdout",
     "output_type": "stream",
     "text": [
      "epoch 0; iter: 0; batch classifier loss: 0.744275; batch adversarial loss: 0.716503\n",
      "epoch 1; iter: 0; batch classifier loss: 0.405986; batch adversarial loss: 0.692637\n",
      "epoch 2; iter: 0; batch classifier loss: 0.282487; batch adversarial loss: 0.679347\n",
      "epoch 3; iter: 0; batch classifier loss: 0.276106; batch adversarial loss: 0.622846\n",
      "epoch 4; iter: 0; batch classifier loss: 0.273404; batch adversarial loss: 0.575941\n",
      "epoch 5; iter: 0; batch classifier loss: 0.320075; batch adversarial loss: 0.668837\n",
      "epoch 6; iter: 0; batch classifier loss: 0.293012; batch adversarial loss: 0.692117\n",
      "epoch 7; iter: 0; batch classifier loss: 0.570814; batch adversarial loss: 0.609986\n",
      "epoch 8; iter: 0; batch classifier loss: 0.281676; batch adversarial loss: 0.671186\n",
      "epoch 9; iter: 0; batch classifier loss: 0.252646; batch adversarial loss: 0.552042\n",
      "epoch 10; iter: 0; batch classifier loss: 0.311970; batch adversarial loss: 0.567946\n",
      "epoch 11; iter: 0; batch classifier loss: 0.172832; batch adversarial loss: 0.639775\n",
      "epoch 12; iter: 0; batch classifier loss: 0.227211; batch adversarial loss: 0.498121\n",
      "epoch 13; iter: 0; batch classifier loss: 0.475665; batch adversarial loss: 0.600903\n",
      "epoch 14; iter: 0; batch classifier loss: 0.360373; batch adversarial loss: 0.556606\n",
      "epoch 15; iter: 0; batch classifier loss: 0.322895; batch adversarial loss: 0.581995\n",
      "epoch 16; iter: 0; batch classifier loss: 0.292674; batch adversarial loss: 0.532027\n",
      "epoch 17; iter: 0; batch classifier loss: 0.263784; batch adversarial loss: 0.669283\n",
      "epoch 18; iter: 0; batch classifier loss: 0.304162; batch adversarial loss: 0.609060\n",
      "epoch 19; iter: 0; batch classifier loss: 0.408894; batch adversarial loss: 0.684160\n",
      "epoch 20; iter: 0; batch classifier loss: 0.455403; batch adversarial loss: 0.583114\n",
      "epoch 21; iter: 0; batch classifier loss: 0.273717; batch adversarial loss: 0.653761\n",
      "epoch 22; iter: 0; batch classifier loss: 0.225352; batch adversarial loss: 0.669350\n",
      "epoch 23; iter: 0; batch classifier loss: 0.332888; batch adversarial loss: 0.595019\n",
      "epoch 24; iter: 0; batch classifier loss: 0.390521; batch adversarial loss: 0.647505\n",
      "epoch 25; iter: 0; batch classifier loss: 0.362211; batch adversarial loss: 0.602831\n",
      "epoch 26; iter: 0; batch classifier loss: 0.264041; batch adversarial loss: 0.579191\n",
      "epoch 27; iter: 0; batch classifier loss: 0.333829; batch adversarial loss: 0.626887\n",
      "epoch 28; iter: 0; batch classifier loss: 0.262296; batch adversarial loss: 0.671124\n",
      "epoch 29; iter: 0; batch classifier loss: 0.182862; batch adversarial loss: 0.658915\n",
      "epoch 30; iter: 0; batch classifier loss: 0.424033; batch adversarial loss: 0.598317\n",
      "epoch 31; iter: 0; batch classifier loss: 0.282578; batch adversarial loss: 0.623941\n",
      "epoch 32; iter: 0; batch classifier loss: 0.223876; batch adversarial loss: 0.547252\n",
      "epoch 33; iter: 0; batch classifier loss: 0.462732; batch adversarial loss: 0.664294\n",
      "epoch 34; iter: 0; batch classifier loss: 0.289158; batch adversarial loss: 0.611867\n",
      "epoch 35; iter: 0; batch classifier loss: 0.319247; batch adversarial loss: 0.706795\n",
      "epoch 36; iter: 0; batch classifier loss: 0.409213; batch adversarial loss: 0.646384\n",
      "epoch 37; iter: 0; batch classifier loss: 0.250712; batch adversarial loss: 0.567926\n",
      "epoch 38; iter: 0; batch classifier loss: 0.268985; batch adversarial loss: 0.624860\n",
      "epoch 39; iter: 0; batch classifier loss: 0.302328; batch adversarial loss: 0.634595\n",
      "epoch 40; iter: 0; batch classifier loss: 0.413732; batch adversarial loss: 0.700860\n",
      "epoch 41; iter: 0; batch classifier loss: 0.285099; batch adversarial loss: 0.686271\n",
      "epoch 42; iter: 0; batch classifier loss: 0.325666; batch adversarial loss: 0.764589\n",
      "epoch 43; iter: 0; batch classifier loss: 0.357581; batch adversarial loss: 0.607921\n",
      "epoch 44; iter: 0; batch classifier loss: 0.276893; batch adversarial loss: 0.506189\n",
      "epoch 45; iter: 0; batch classifier loss: 0.416897; batch adversarial loss: 0.645138\n",
      "epoch 46; iter: 0; batch classifier loss: 0.265398; batch adversarial loss: 0.624872\n",
      "epoch 47; iter: 0; batch classifier loss: 0.632748; batch adversarial loss: 0.626762\n",
      "epoch 48; iter: 0; batch classifier loss: 0.498462; batch adversarial loss: 0.580397\n",
      "epoch 49; iter: 0; batch classifier loss: 0.441287; batch adversarial loss: 0.629991\n",
      "epoch 50; iter: 0; batch classifier loss: 0.426772; batch adversarial loss: 0.694723\n",
      "epoch 51; iter: 0; batch classifier loss: 0.460404; batch adversarial loss: 0.733925\n",
      "epoch 52; iter: 0; batch classifier loss: 0.270974; batch adversarial loss: 0.619029\n",
      "epoch 53; iter: 0; batch classifier loss: 0.308339; batch adversarial loss: 0.543584\n",
      "epoch 54; iter: 0; batch classifier loss: 0.366801; batch adversarial loss: 0.677456\n",
      "epoch 55; iter: 0; batch classifier loss: 0.411097; batch adversarial loss: 0.721317\n",
      "epoch 56; iter: 0; batch classifier loss: 0.344980; batch adversarial loss: 0.604135\n",
      "epoch 57; iter: 0; batch classifier loss: 0.196453; batch adversarial loss: 0.694259\n",
      "epoch 58; iter: 0; batch classifier loss: 0.314659; batch adversarial loss: 0.646924\n",
      "epoch 59; iter: 0; batch classifier loss: 0.290970; batch adversarial loss: 0.638160\n",
      "epoch 60; iter: 0; batch classifier loss: 0.363128; batch adversarial loss: 0.663053\n",
      "epoch 61; iter: 0; batch classifier loss: 0.477139; batch adversarial loss: 0.580142\n",
      "epoch 62; iter: 0; batch classifier loss: 0.236356; batch adversarial loss: 0.571919\n",
      "epoch 63; iter: 0; batch classifier loss: 0.274593; batch adversarial loss: 0.568043\n",
      "epoch 64; iter: 0; batch classifier loss: 0.447005; batch adversarial loss: 0.522542\n",
      "epoch 65; iter: 0; batch classifier loss: 0.309867; batch adversarial loss: 0.549993\n",
      "epoch 66; iter: 0; batch classifier loss: 0.236056; batch adversarial loss: 0.521625\n",
      "epoch 67; iter: 0; batch classifier loss: 0.367411; batch adversarial loss: 0.622635\n",
      "epoch 68; iter: 0; batch classifier loss: 0.146400; batch adversarial loss: 0.686007\n",
      "epoch 69; iter: 0; batch classifier loss: 0.364673; batch adversarial loss: 0.703034\n",
      "epoch 70; iter: 0; batch classifier loss: 0.573218; batch adversarial loss: 0.630373\n",
      "epoch 71; iter: 0; batch classifier loss: 0.506695; batch adversarial loss: 0.553291\n",
      "epoch 72; iter: 0; batch classifier loss: 0.493735; batch adversarial loss: 0.612171\n",
      "epoch 73; iter: 0; batch classifier loss: 0.363308; batch adversarial loss: 0.639193\n",
      "epoch 74; iter: 0; batch classifier loss: 0.337201; batch adversarial loss: 0.672667\n",
      "epoch 75; iter: 0; batch classifier loss: 0.402746; batch adversarial loss: 0.597970\n",
      "epoch 76; iter: 0; batch classifier loss: 0.192522; batch adversarial loss: 0.703203\n",
      "epoch 77; iter: 0; batch classifier loss: 0.221039; batch adversarial loss: 0.639932\n",
      "epoch 78; iter: 0; batch classifier loss: 0.264540; batch adversarial loss: 0.626406\n",
      "epoch 79; iter: 0; batch classifier loss: 0.310708; batch adversarial loss: 0.630360\n",
      "epoch 80; iter: 0; batch classifier loss: 0.485505; batch adversarial loss: 0.687554\n",
      "epoch 81; iter: 0; batch classifier loss: 0.360388; batch adversarial loss: 0.669200\n",
      "epoch 82; iter: 0; batch classifier loss: 0.404294; batch adversarial loss: 0.581182\n",
      "epoch 83; iter: 0; batch classifier loss: 0.198634; batch adversarial loss: 0.616761\n",
      "epoch 84; iter: 0; batch classifier loss: 0.280900; batch adversarial loss: 0.585385\n",
      "epoch 85; iter: 0; batch classifier loss: 0.219285; batch adversarial loss: 0.582856\n",
      "epoch 86; iter: 0; batch classifier loss: 0.378063; batch adversarial loss: 0.499804\n",
      "epoch 87; iter: 0; batch classifier loss: 0.313344; batch adversarial loss: 0.565455\n",
      "epoch 88; iter: 0; batch classifier loss: 0.213148; batch adversarial loss: 0.525314\n",
      "epoch 89; iter: 0; batch classifier loss: 0.434414; batch adversarial loss: 0.561440\n",
      "epoch 90; iter: 0; batch classifier loss: 0.316945; batch adversarial loss: 0.654787\n",
      "epoch 91; iter: 0; batch classifier loss: 0.273158; batch adversarial loss: 0.600084\n",
      "epoch 92; iter: 0; batch classifier loss: 0.186620; batch adversarial loss: 0.741840\n",
      "epoch 93; iter: 0; batch classifier loss: 0.303632; batch adversarial loss: 0.627042\n",
      "epoch 94; iter: 0; batch classifier loss: 0.269763; batch adversarial loss: 0.662067\n",
      "epoch 95; iter: 0; batch classifier loss: 0.275123; batch adversarial loss: 0.639538\n",
      "epoch 96; iter: 0; batch classifier loss: 0.296067; batch adversarial loss: 0.656206\n",
      "epoch 97; iter: 0; batch classifier loss: 0.274313; batch adversarial loss: 0.625945\n",
      "epoch 98; iter: 0; batch classifier loss: 0.216887; batch adversarial loss: 0.591311\n",
      "epoch 99; iter: 0; batch classifier loss: 0.290373; batch adversarial loss: 0.576796\n"
     ]
    },
    {
     "data": {
      "text/plain": [
       "<aif360.algorithms.inprocessing.adversarial_debiasing.AdversarialDebiasing at 0x14dc670f0>"
      ]
     },
     "execution_count": 137,
     "metadata": {},
     "output_type": "execute_result"
    }
   ],
   "source": [
    "db_model.fit(data_train) "
   ]
  },
  {
   "cell_type": "code",
   "execution_count": 138,
   "metadata": {},
   "outputs": [],
   "source": [
    "dataset_debiasing_train = db_model.predict(data_train)\n",
    "dataset_debiasing_test = db_model.predict(data_val)"
   ]
  },
  {
   "cell_type": "code",
   "execution_count": 139,
   "metadata": {},
   "outputs": [
    {
     "data": {
      "text/markdown": [
       "#### Model - with debiasing - dataset metrics"
      ],
      "text/plain": [
       "<IPython.core.display.Markdown object>"
      ]
     },
     "metadata": {},
     "output_type": "display_data"
    },
    {
     "name": "stdout",
     "output_type": "stream",
     "text": [
      "Train set: Difference in mean outcomes between unprivileged and privileged groups = -0.199540\n",
      "Test set: Difference in mean outcomes between unprivileged and privileged groups = -0.163393\n"
     ]
    },
    {
     "data": {
      "text/markdown": [
       "#### Model - with debiasing - classification metrics"
      ],
      "text/plain": [
       "<IPython.core.display.Markdown object>"
      ]
     },
     "metadata": {},
     "output_type": "display_data"
    },
    {
     "name": "stdout",
     "output_type": "stream",
     "text": [
      "Test set: Classification accuracy = 0.879333\n",
      "Test set: Balanced classification accuracy = 0.776445\n",
      "Test set: Disparate impact = 0.817526\n",
      "Test set: Equal opportunity difference = -0.045842\n",
      "Test set: Average odds difference = -0.151006\n",
      "Test set: Theil_index = 0.057463\n"
     ]
    }
   ],
   "source": [
    "\n",
    "# Metrics for the dataset from model with debiasing\n",
    "display(Markdown(\"#### Model - with debiasing - dataset metrics\"))\n",
    "metric_dataset_debiasing_train = BinaryLabelDatasetMetric(dataset_debiasing_train, \n",
    "                                             unprivileged_groups=unprivileged_groups,\n",
    "                                             privileged_groups=privileged_groups)\n",
    "\n",
    "print(\"Train set: Difference in mean outcomes between unprivileged and privileged groups = %f\" % metric_dataset_debiasing_train.mean_difference())\n",
    "\n",
    "metric_dataset_debiasing_test = BinaryLabelDatasetMetric(dataset_debiasing_test, \n",
    "                                             unprivileged_groups=unprivileged_groups,\n",
    "                                             privileged_groups=privileged_groups)\n",
    "\n",
    "print(\"Test set: Difference in mean outcomes between unprivileged and privileged groups = %f\" % metric_dataset_debiasing_test.mean_difference())\n",
    "\n",
    "\n",
    "\n",
    "display(Markdown(\"#### Model - with debiasing - classification metrics\"))\n",
    "classified_metric_debiasing_test = ClassificationMetric(data_val, \n",
    "                                                 dataset_debiasing_test,\n",
    "                                                    unprivileged_groups=unprivileged_groups,\n",
    "                                                 privileged_groups=privileged_groups)\n",
    "print(\"Test set: Classification accuracy = %f\" % classified_metric_debiasing_test.accuracy())\n",
    "TPR = classified_metric_debiasing_test.true_positive_rate()\n",
    "TNR = classified_metric_debiasing_test.true_negative_rate()\n",
    "bal_acc_debiasing_test = 0.5*(TPR+TNR)\n",
    "print(\"Test set: Balanced classification accuracy = %f\" % bal_acc_debiasing_test)\n",
    "print(\"Test set: Disparate impact = %f\" % classified_metric_debiasing_test.disparate_impact())\n",
    "print(\"Test set: Equal opportunity difference = %f\" % classified_metric_debiasing_test.equal_opportunity_difference())\n",
    "print(\"Test set: Average odds difference = %f\" % classified_metric_debiasing_test.average_odds_difference())\n",
    "print(\"Test set: Theil_index = %f\" % classified_metric_debiasing_test.theil_index())\n",
    "                                                        \n",
    "                                                        "
   ]
  },
  {
   "cell_type": "code",
   "execution_count": 140,
   "metadata": {},
   "outputs": [
    {
     "name": "stdout",
     "output_type": "stream",
     "text": [
      "The Accuracy score is 0.879.\n",
      "\n",
      "The Precision score is 0.889.\n",
      "\n",
      "The Recall score is 0.965.\n",
      "\n",
      "      Confusion Matrix\n"
     ]
    },
    {
     "data": {
      "text/html": [
       "<div>\n",
       "<style scoped>\n",
       "    .dataframe tbody tr th:only-of-type {\n",
       "        vertical-align: middle;\n",
       "    }\n",
       "\n",
       "    .dataframe tbody tr th {\n",
       "        vertical-align: top;\n",
       "    }\n",
       "\n",
       "    .dataframe thead th {\n",
       "        text-align: right;\n",
       "    }\n",
       "</style>\n",
       "<table border=\"1\" class=\"dataframe\">\n",
       "  <thead>\n",
       "    <tr style=\"text-align: right;\">\n",
       "      <th></th>\n",
       "      <th>Actual True</th>\n",
       "      <th>Actual False</th>\n",
       "    </tr>\n",
       "  </thead>\n",
       "  <tbody>\n",
       "    <tr>\n",
       "      <th>Predicted True</th>\n",
       "      <td>1119</td>\n",
       "      <td>140</td>\n",
       "    </tr>\n",
       "    <tr>\n",
       "      <th>Predicted False</th>\n",
       "      <td>41</td>\n",
       "      <td>200</td>\n",
       "    </tr>\n",
       "  </tbody>\n",
       "</table>\n",
       "</div>"
      ],
      "text/plain": [
       "                 Actual True  Actual False\n",
       "Predicted True          1119           140\n",
       "Predicted False           41           200"
      ]
     },
     "execution_count": 140,
     "metadata": {},
     "output_type": "execute_result"
    }
   ],
   "source": [
    "scorecard(data_val.labels, dataset_debiasing_test.labels)"
   ]
  },
  {
   "cell_type": "markdown",
   "metadata": {},
   "source": [
    "### Postprocessing with Equalized Odds Postprocessing"
   ]
  },
  {
   "cell_type": "code",
   "execution_count": 141,
   "metadata": {},
   "outputs": [],
   "source": [
    "\n",
    "# Learn parameters to equalize odds and apply to create a new dataset\n",
    "cpp = CalibratedEqOddsPostprocessing(privileged_groups = privileged_groups,\n",
    "                                     unprivileged_groups = unprivileged_groups,\n",
    "                                     cost_constraint='fpr')\n",
    "cpp = cpp.fit(data_val, data_val_pred)"
   ]
  },
  {
   "cell_type": "code",
   "execution_count": 162,
   "metadata": {},
   "outputs": [],
   "source": [
    "cpp_pred = cpp.predict(data_val)\n",
    "\n",
    "\n",
    "cpp_metric = ClassificationMetric(data_val, cpp_pred,\n",
    "                             unprivileged_groups=unprivileged_groups,\n",
    "                             privileged_groups=privileged_groups)"
   ]
  },
  {
   "cell_type": "code",
   "execution_count": 163,
   "metadata": {},
   "outputs": [
    {
     "name": "stdout",
     "output_type": "stream",
     "text": [
      "0.0\n",
      "0.0\n"
     ]
    }
   ],
   "source": [
    "print(cpp_metric.generalized_false_positive_rate())\n",
    "\n",
    "print(cpp_metric.generalized_false_negative_rate())"
   ]
  },
  {
   "cell_type": "code",
   "execution_count": 164,
   "metadata": {},
   "outputs": [
    {
     "name": "stdout",
     "output_type": "stream",
     "text": [
      "The Accuracy score is 1.000.\n",
      "\n",
      "The Precision score is 1.000.\n",
      "\n",
      "The Recall score is 1.000.\n",
      "\n",
      "      Confusion Matrix\n"
     ]
    },
    {
     "data": {
      "text/html": [
       "<div>\n",
       "<style scoped>\n",
       "    .dataframe tbody tr th:only-of-type {\n",
       "        vertical-align: middle;\n",
       "    }\n",
       "\n",
       "    .dataframe tbody tr th {\n",
       "        vertical-align: top;\n",
       "    }\n",
       "\n",
       "    .dataframe thead th {\n",
       "        text-align: right;\n",
       "    }\n",
       "</style>\n",
       "<table border=\"1\" class=\"dataframe\">\n",
       "  <thead>\n",
       "    <tr style=\"text-align: right;\">\n",
       "      <th></th>\n",
       "      <th>Actual True</th>\n",
       "      <th>Actual False</th>\n",
       "    </tr>\n",
       "  </thead>\n",
       "  <tbody>\n",
       "    <tr>\n",
       "      <th>Predicted True</th>\n",
       "      <td>1160</td>\n",
       "      <td>0</td>\n",
       "    </tr>\n",
       "    <tr>\n",
       "      <th>Predicted False</th>\n",
       "      <td>0</td>\n",
       "      <td>340</td>\n",
       "    </tr>\n",
       "  </tbody>\n",
       "</table>\n",
       "</div>"
      ],
      "text/plain": [
       "                 Actual True  Actual False\n",
       "Predicted True          1160             0\n",
       "Predicted False            0           340"
      ]
     },
     "execution_count": 164,
     "metadata": {},
     "output_type": "execute_result"
    }
   ],
   "source": [
    "scorecard(data_val.labels, cpp_pred.labels)"
   ]
  },
  {
   "cell_type": "code",
   "execution_count": 161,
   "metadata": {},
   "outputs": [
    {
     "ename": "TypeError",
     "evalue": "'classified_dataset' should be a BinaryLabelDataset.",
     "output_type": "error",
     "traceback": [
      "\u001b[0;31m---------------------------------------------------------------------------\u001b[0m",
      "\u001b[0;31mTypeError\u001b[0m                                 Traceback (most recent call last)",
      "\u001b[0;32m<ipython-input-161-14e362b6716e>\u001b[0m in \u001b[0;36m<module>\u001b[0;34m\u001b[0m\n\u001b[1;32m     10\u001b[0m eop_metric = ClassificationMetric(data_val, eop,\n\u001b[1;32m     11\u001b[0m                              \u001b[0munprivileged_groups\u001b[0m\u001b[0;34m=\u001b[0m\u001b[0munprivileged_groups\u001b[0m\u001b[0;34m,\u001b[0m\u001b[0;34m\u001b[0m\u001b[0;34m\u001b[0m\u001b[0m\n\u001b[0;32m---> 12\u001b[0;31m                              privileged_groups=privileged_groups)\n\u001b[0m",
      "\u001b[0;32m//anaconda3/lib/python3.7/site-packages/aif360/metrics/classification_metric.py\u001b[0m in \u001b[0;36m__init__\u001b[0;34m(self, dataset, classified_dataset, unprivileged_groups, privileged_groups)\u001b[0m\n\u001b[1;32m     44\u001b[0m             \u001b[0mself\u001b[0m\u001b[0;34m.\u001b[0m\u001b[0mclassified_dataset\u001b[0m \u001b[0;34m=\u001b[0m \u001b[0mclassified_dataset\u001b[0m\u001b[0;34m\u001b[0m\u001b[0;34m\u001b[0m\u001b[0m\n\u001b[1;32m     45\u001b[0m         \u001b[0;32melse\u001b[0m\u001b[0;34m:\u001b[0m\u001b[0;34m\u001b[0m\u001b[0;34m\u001b[0m\u001b[0m\n\u001b[0;32m---> 46\u001b[0;31m             raise TypeError(\"'classified_dataset' should be a \"\n\u001b[0m\u001b[1;32m     47\u001b[0m                             \"BinaryLabelDataset.\")\n\u001b[1;32m     48\u001b[0m \u001b[0;34m\u001b[0m\u001b[0m\n",
      "\u001b[0;31mTypeError\u001b[0m: 'classified_dataset' should be a BinaryLabelDataset."
     ]
    }
   ],
   "source": [
    "# Learn parameters to equalize odds and apply to create a new dataset\n",
    "eop = EqOddsPostprocessing(privileged_groups = privileged_groups,\n",
    "                                     unprivileged_groups = unprivileged_groups,\n",
    "                                     )\n",
    "eop = eop.fit(data_val, data_val_pred)\n",
    "\n",
    "eop_pred = eop.predict(data_val)\n",
    "\n",
    "\n",
    "eop_metric = ClassificationMetric(data_val, eop,\n",
    "                             unprivileged_groups=unprivileged_groups,\n",
    "                             privileged_groups=privileged_groups)"
   ]
  },
  {
   "cell_type": "code",
   "execution_count": 149,
   "metadata": {},
   "outputs": [
    {
     "name": "stdout",
     "output_type": "stream",
     "text": [
      "0.0\n",
      "0.0\n"
     ]
    }
   ],
   "source": [
    "print(cpp_metric.generalized_false_positive_rate())\n",
    "\n",
    "print(cpp_metric.generalized_false_negative_rate())"
   ]
  },
  {
   "cell_type": "code",
   "execution_count": null,
   "metadata": {},
   "outputs": [],
   "source": []
  }
 ],
 "metadata": {
  "kernelspec": {
   "display_name": "Python 3",
   "language": "python",
   "name": "python3"
  },
  "language_info": {
   "codemirror_mode": {
    "name": "ipython",
    "version": 3
   },
   "file_extension": ".py",
   "mimetype": "text/x-python",
   "name": "python",
   "nbconvert_exporter": "python",
   "pygments_lexer": "ipython3",
   "version": "3.7.3"
  }
 },
 "nbformat": 4,
 "nbformat_minor": 4
}
