{
 "cells": [
  {
   "cell_type": "markdown",
   "metadata": {},
   "source": [
    "### Company X Bias Analysis"
   ]
  },
  {
   "cell_type": "markdown",
   "metadata": {},
   "source": [
    "#### Imports"
   ]
  },
  {
   "cell_type": "code",
   "execution_count": 277,
   "metadata": {},
   "outputs": [],
   "source": [
    "#Standard\n",
    "import pandas as pd\n",
    "import numpy as np\n",
    "import matplotlib.pyplot as plt\n",
    "%matplotlib inline\n",
    "\n",
    "#AIF360 Dataset Classes \n",
    "from aif360.datasets import StandardDataset\n",
    "from aif360.datasets import BinaryLabelDataset\n",
    "\n",
    "#AIF360 Metrics Classes  \n",
    "from aif360.metrics import BinaryLabelDatasetMetric, ClassificationMetric\n",
    "from aif360.algorithms.preprocessing import Reweighing\n",
    "from aif360.metrics import ClassificationMetric\n",
    "\n",
    "#AIF360 Algorithms \n",
    "from aif360.algorithms.preprocessing import Reweighing\n",
    "from aif360.algorithms.inprocessing import AdversarialDebiasing\n",
    "from aif360.algorithms.postprocessing import CalibratedEqOddsPostprocessing\n",
    "# AI360 Explainers\n",
    "from aif360.explainers import MetricTextExplainer\n",
    "\n",
    "#Sklearn\n",
    "from sklearn.ensemble import RandomForestClassifier\n",
    "from sklearn.metrics import accuracy_score, recall_score, precision_score\n",
    "from sklearn.model_selection import GridSearchCV, train_test_split\n",
    "\n",
    "#Tensorflow -- install version before 2.0\n",
    "import tensorflow as tf \n",
    "\n",
    "#For Markdown\n",
    "from IPython.display import Markdown, display\n",
    "\n",
    "#Helper Functions\n",
    "from src.classifier_functions import *"
   ]
  },
  {
   "cell_type": "markdown",
   "metadata": {},
   "source": [
    "#### Load Data\n"
   ]
  },
  {
   "cell_type": "code",
   "execution_count": 278,
   "metadata": {},
   "outputs": [],
   "source": [
    "data = pd.read_csv('../company_x.csv', index_col='employee_id')"
   ]
  },
  {
   "cell_type": "code",
   "execution_count": 279,
   "metadata": {},
   "outputs": [
    {
     "data": {
      "text/html": [
       "<div>\n",
       "<style scoped>\n",
       "    .dataframe tbody tr th:only-of-type {\n",
       "        vertical-align: middle;\n",
       "    }\n",
       "\n",
       "    .dataframe tbody tr th {\n",
       "        vertical-align: top;\n",
       "    }\n",
       "\n",
       "    .dataframe thead th {\n",
       "        text-align: right;\n",
       "    }\n",
       "</style>\n",
       "<table border=\"1\" class=\"dataframe\">\n",
       "  <thead>\n",
       "    <tr style=\"text-align: right;\">\n",
       "      <th></th>\n",
       "      <th>signing_bonus</th>\n",
       "      <th>salary</th>\n",
       "      <th>degree_level</th>\n",
       "      <th>sex</th>\n",
       "      <th>yrs_experience</th>\n",
       "      <th>dept</th>\n",
       "      <th>is_manager</th>\n",
       "      <th>direct_reports</th>\n",
       "      <th>boss_id</th>\n",
       "      <th>total_reports</th>\n",
       "      <th>company_level</th>\n",
       "    </tr>\n",
       "    <tr>\n",
       "      <th>employee_id</th>\n",
       "      <th></th>\n",
       "      <th></th>\n",
       "      <th></th>\n",
       "      <th></th>\n",
       "      <th></th>\n",
       "      <th></th>\n",
       "      <th></th>\n",
       "      <th></th>\n",
       "      <th></th>\n",
       "      <th></th>\n",
       "      <th></th>\n",
       "    </tr>\n",
       "  </thead>\n",
       "  <tbody>\n",
       "    <tr>\n",
       "      <th>138719</th>\n",
       "      <td>0</td>\n",
       "      <td>273000.0</td>\n",
       "      <td>Master</td>\n",
       "      <td>M</td>\n",
       "      <td>2</td>\n",
       "      <td>engineering</td>\n",
       "      <td>False</td>\n",
       "      <td>0.0</td>\n",
       "      <td>43602</td>\n",
       "      <td>0</td>\n",
       "      <td>0</td>\n",
       "    </tr>\n",
       "    <tr>\n",
       "      <th>3192</th>\n",
       "      <td>0</td>\n",
       "      <td>301000.0</td>\n",
       "      <td>Bachelor</td>\n",
       "      <td>F</td>\n",
       "      <td>1</td>\n",
       "      <td>sales</td>\n",
       "      <td>False</td>\n",
       "      <td>0.0</td>\n",
       "      <td>87847</td>\n",
       "      <td>0</td>\n",
       "      <td>0</td>\n",
       "    </tr>\n",
       "    <tr>\n",
       "      <th>114657</th>\n",
       "      <td>0</td>\n",
       "      <td>261000.0</td>\n",
       "      <td>Master</td>\n",
       "      <td>F</td>\n",
       "      <td>2</td>\n",
       "      <td>sales</td>\n",
       "      <td>False</td>\n",
       "      <td>0.0</td>\n",
       "      <td>180854</td>\n",
       "      <td>0</td>\n",
       "      <td>0</td>\n",
       "    </tr>\n",
       "    <tr>\n",
       "      <th>29039</th>\n",
       "      <td>0</td>\n",
       "      <td>86000.0</td>\n",
       "      <td>High_School</td>\n",
       "      <td>F</td>\n",
       "      <td>4</td>\n",
       "      <td>HR</td>\n",
       "      <td>False</td>\n",
       "      <td>0.0</td>\n",
       "      <td>88370</td>\n",
       "      <td>0</td>\n",
       "      <td>0</td>\n",
       "    </tr>\n",
       "    <tr>\n",
       "      <th>118607</th>\n",
       "      <td>0</td>\n",
       "      <td>126000.0</td>\n",
       "      <td>Bachelor</td>\n",
       "      <td>F</td>\n",
       "      <td>3</td>\n",
       "      <td>sales</td>\n",
       "      <td>False</td>\n",
       "      <td>0.0</td>\n",
       "      <td>23565</td>\n",
       "      <td>0</td>\n",
       "      <td>0</td>\n",
       "    </tr>\n",
       "  </tbody>\n",
       "</table>\n",
       "</div>"
      ],
      "text/plain": [
       "             signing_bonus    salary degree_level sex  yrs_experience  \\\n",
       "employee_id                                                             \n",
       "138719                   0  273000.0       Master   M               2   \n",
       "3192                     0  301000.0     Bachelor   F               1   \n",
       "114657                   0  261000.0       Master   F               2   \n",
       "29039                    0   86000.0  High_School   F               4   \n",
       "118607                   0  126000.0     Bachelor   F               3   \n",
       "\n",
       "                    dept  is_manager  direct_reports  boss_id  total_reports  \\\n",
       "employee_id                                                                    \n",
       "138719       engineering       False             0.0    43602              0   \n",
       "3192               sales       False             0.0    87847              0   \n",
       "114657             sales       False             0.0   180854              0   \n",
       "29039                 HR       False             0.0    88370              0   \n",
       "118607             sales       False             0.0    23565              0   \n",
       "\n",
       "             company_level  \n",
       "employee_id                 \n",
       "138719                   0  \n",
       "3192                     0  \n",
       "114657                   0  \n",
       "29039                    0  \n",
       "118607                   0  "
      ]
     },
     "execution_count": 279,
     "metadata": {},
     "output_type": "execute_result"
    }
   ],
   "source": [
    "data.head()\n"
   ]
  },
  {
   "cell_type": "code",
   "execution_count": 280,
   "metadata": {},
   "outputs": [
    {
     "name": "stdout",
     "output_type": "stream",
     "text": [
      "<class 'pandas.core.frame.DataFrame'>\n",
      "Int64Index: 10000 entries, 138719 to 72227\n",
      "Data columns (total 11 columns):\n",
      " #   Column          Non-Null Count  Dtype  \n",
      "---  ------          --------------  -----  \n",
      " 0   signing_bonus   10000 non-null  int64  \n",
      " 1   salary          10000 non-null  float64\n",
      " 2   degree_level    10000 non-null  object \n",
      " 3   sex             10000 non-null  object \n",
      " 4   yrs_experience  10000 non-null  int64  \n",
      " 5   dept            10000 non-null  object \n",
      " 6   is_manager      10000 non-null  bool   \n",
      " 7   direct_reports  10000 non-null  float64\n",
      " 8   boss_id         10000 non-null  int64  \n",
      " 9   total_reports   10000 non-null  int64  \n",
      " 10  company_level   10000 non-null  int64  \n",
      "dtypes: bool(1), float64(2), int64(5), object(3)\n",
      "memory usage: 869.1+ KB\n"
     ]
    }
   ],
   "source": [
    "data.info()"
   ]
  },
  {
   "cell_type": "code",
   "execution_count": 281,
   "metadata": {},
   "outputs": [
    {
     "data": {
      "text/html": [
       "<div>\n",
       "<style scoped>\n",
       "    .dataframe tbody tr th:only-of-type {\n",
       "        vertical-align: middle;\n",
       "    }\n",
       "\n",
       "    .dataframe tbody tr th {\n",
       "        vertical-align: top;\n",
       "    }\n",
       "\n",
       "    .dataframe thead th {\n",
       "        text-align: right;\n",
       "    }\n",
       "</style>\n",
       "<table border=\"1\" class=\"dataframe\">\n",
       "  <thead>\n",
       "    <tr style=\"text-align: right;\">\n",
       "      <th></th>\n",
       "      <th>signing_bonus</th>\n",
       "      <th>salary</th>\n",
       "      <th>degree_level</th>\n",
       "      <th>sex</th>\n",
       "      <th>yrs_experience</th>\n",
       "      <th>dept</th>\n",
       "      <th>is_manager</th>\n",
       "      <th>direct_reports</th>\n",
       "      <th>boss_id</th>\n",
       "      <th>total_reports</th>\n",
       "      <th>company_level</th>\n",
       "    </tr>\n",
       "    <tr>\n",
       "      <th>employee_id</th>\n",
       "      <th></th>\n",
       "      <th></th>\n",
       "      <th></th>\n",
       "      <th></th>\n",
       "      <th></th>\n",
       "      <th></th>\n",
       "      <th></th>\n",
       "      <th></th>\n",
       "      <th></th>\n",
       "      <th></th>\n",
       "      <th></th>\n",
       "    </tr>\n",
       "  </thead>\n",
       "  <tbody>\n",
       "    <tr>\n",
       "      <th>138719</th>\n",
       "      <td>0</td>\n",
       "      <td>1</td>\n",
       "      <td>Master</td>\n",
       "      <td>1</td>\n",
       "      <td>2</td>\n",
       "      <td>engineering</td>\n",
       "      <td>False</td>\n",
       "      <td>0.0</td>\n",
       "      <td>43602</td>\n",
       "      <td>0</td>\n",
       "      <td>0</td>\n",
       "    </tr>\n",
       "    <tr>\n",
       "      <th>3192</th>\n",
       "      <td>0</td>\n",
       "      <td>1</td>\n",
       "      <td>Bachelor</td>\n",
       "      <td>0</td>\n",
       "      <td>1</td>\n",
       "      <td>sales</td>\n",
       "      <td>False</td>\n",
       "      <td>0.0</td>\n",
       "      <td>87847</td>\n",
       "      <td>0</td>\n",
       "      <td>0</td>\n",
       "    </tr>\n",
       "    <tr>\n",
       "      <th>114657</th>\n",
       "      <td>0</td>\n",
       "      <td>1</td>\n",
       "      <td>Master</td>\n",
       "      <td>0</td>\n",
       "      <td>2</td>\n",
       "      <td>sales</td>\n",
       "      <td>False</td>\n",
       "      <td>0.0</td>\n",
       "      <td>180854</td>\n",
       "      <td>0</td>\n",
       "      <td>0</td>\n",
       "    </tr>\n",
       "    <tr>\n",
       "      <th>29039</th>\n",
       "      <td>0</td>\n",
       "      <td>0</td>\n",
       "      <td>High_School</td>\n",
       "      <td>0</td>\n",
       "      <td>4</td>\n",
       "      <td>HR</td>\n",
       "      <td>False</td>\n",
       "      <td>0.0</td>\n",
       "      <td>88370</td>\n",
       "      <td>0</td>\n",
       "      <td>0</td>\n",
       "    </tr>\n",
       "    <tr>\n",
       "      <th>118607</th>\n",
       "      <td>0</td>\n",
       "      <td>0</td>\n",
       "      <td>Bachelor</td>\n",
       "      <td>0</td>\n",
       "      <td>3</td>\n",
       "      <td>sales</td>\n",
       "      <td>False</td>\n",
       "      <td>0.0</td>\n",
       "      <td>23565</td>\n",
       "      <td>0</td>\n",
       "      <td>0</td>\n",
       "    </tr>\n",
       "  </tbody>\n",
       "</table>\n",
       "</div>"
      ],
      "text/plain": [
       "             signing_bonus  salary degree_level  sex  yrs_experience  \\\n",
       "employee_id                                                            \n",
       "138719                   0       1       Master    1               2   \n",
       "3192                     0       1     Bachelor    0               1   \n",
       "114657                   0       1       Master    0               2   \n",
       "29039                    0       0  High_School    0               4   \n",
       "118607                   0       0     Bachelor    0               3   \n",
       "\n",
       "                    dept  is_manager  direct_reports  boss_id  total_reports  \\\n",
       "employee_id                                                                    \n",
       "138719       engineering       False             0.0    43602              0   \n",
       "3192               sales       False             0.0    87847              0   \n",
       "114657             sales       False             0.0   180854              0   \n",
       "29039                 HR       False             0.0    88370              0   \n",
       "118607             sales       False             0.0    23565              0   \n",
       "\n",
       "             company_level  \n",
       "employee_id                 \n",
       "138719                   0  \n",
       "3192                     0  \n",
       "114657                   0  \n",
       "29039                    0  \n",
       "118607                   0  "
      ]
     },
     "execution_count": 281,
     "metadata": {},
     "output_type": "execute_result"
    }
   ],
   "source": [
    "## Create Label \n",
    "data_with_label = data.copy()\n",
    "data_with_label['salary'] = data_with_label['salary'].transform(lambda x: x > 150000).astype(int)\n",
    "data_with_label['sex'] = data_with_label['sex'].transform(lambda x: x == 'M').astype(int)\n",
    "data_with_label.head()"
   ]
  },
  {
   "cell_type": "code",
   "execution_count": 282,
   "metadata": {},
   "outputs": [],
   "source": [
    "### Create StandardDataset\n",
    "\n",
    "std_data = StandardDataset(df=data_with_label,   \n",
    "                         label_name='salary',\n",
    "                         favorable_classes =[1],\n",
    "                        protected_attribute_names=['sex'], \n",
    "                         privileged_classes=[[1]],\n",
    "                        categorical_features=['degree_level', 'dept'], \n",
    "                          features_to_drop=['boss_id', 'is_manager'])\n",
    "\n"
   ]
  },
  {
   "cell_type": "code",
   "execution_count": 283,
   "metadata": {},
   "outputs": [],
   "source": [
    "df_data = std_data.convert_to_dataframe()\n",
    "binary_data = BinaryLabelDataset(favorable_label=1, unfavorable_label=0, df=df_data[0], label_names=['salary'],\n",
    "              protected_attribute_names=['sex'])\n",
    "\n",
    "privileged_groups= [{'sex':1}]\n",
    "unprivileged_groups= [{'sex': 0}]"
   ]
  },
  {
   "cell_type": "code",
   "execution_count": 284,
   "metadata": {},
   "outputs": [],
   "source": [
    "## Splitting the Data\n",
    "data_train, data_vt = binary_data.split([0.7], shuffle=True)\n",
    "\n",
    "data_val, data_test = data_vt.split([0.5], shuffle=True)"
   ]
  },
  {
   "cell_type": "code",
   "execution_count": 285,
   "metadata": {},
   "outputs": [
    {
     "name": "stdout",
     "output_type": "stream",
     "text": [
      "Mean difference (mean label value on privileged instances - mean label value on unprivileged instances): -0.1539438514958028\n",
      "\n",
      "\n",
      "Disparate impact (probability of favorable outcome for unprivileged instances / probability of favorable outcome for privileged instances): 0.7694434250764527\n"
     ]
    }
   ],
   "source": [
    "### First Metrics\n",
    "metric_train = BinaryLabelDatasetMetric(data_train, \n",
    "                            unprivileged_groups=unprivileged_groups, \n",
    "                            privileged_groups=privileged_groups)\n",
    "#Explainer \n",
    "ex_metric_train = MetricTextExplainer(metric_train)\n",
    "\n",
    "print(ex_metric_train.mean_difference())\n",
    "print('\\n')\n",
    "print(ex_metric_train.disparate_impact())"
   ]
  },
  {
   "cell_type": "markdown",
   "metadata": {},
   "source": [
    "### Random Forest Classifier "
   ]
  },
  {
   "cell_type": "code",
   "execution_count": 286,
   "metadata": {},
   "outputs": [],
   "source": [
    "#Creating X,y\n",
    "X_train = data_train.features\n",
    "y_train = data_train.labels.ravel()\n",
    "X_test = data_val.features\n",
    "y_test = data_val.labels.ravel()"
   ]
  },
  {
   "cell_type": "code",
   "execution_count": 287,
   "metadata": {},
   "outputs": [
    {
     "data": {
      "text/plain": [
       "RandomForestClassifier(bootstrap=True, class_weight=None, criterion='gini',\n",
       "                       max_depth=5, max_features='auto', max_leaf_nodes=None,\n",
       "                       min_impurity_decrease=0.0, min_impurity_split=None,\n",
       "                       min_samples_leaf=1, min_samples_split=2,\n",
       "                       min_weight_fraction_leaf=0.0, n_estimators=1000,\n",
       "                       n_jobs=None, oob_score=False, random_state=None,\n",
       "                       verbose=0, warm_start=False)"
      ]
     },
     "execution_count": 287,
     "metadata": {},
     "output_type": "execute_result"
    }
   ],
   "source": [
    "# Creating Random Forest Classifier\n",
    "rfc = RandomForestClassifier(n_estimators=1000, max_depth=5)\n",
    "rfc.fit(X_train, y_train)\n"
   ]
  },
  {
   "cell_type": "code",
   "execution_count": 288,
   "metadata": {},
   "outputs": [],
   "source": [
    "#Creating Predicted Dataframe\n",
    "y_pred = rfc.predict(X_test)\n",
    "data_val_pred = data_val.copy()\n",
    "data_val_pred.labels = y_pred.ravel()"
   ]
  },
  {
   "cell_type": "code",
   "execution_count": 326,
   "metadata": {},
   "outputs": [],
   "source": [
    "df = data_val.convert_to_dataframe()[0]\n",
    "\n",
    "df.head()\n",
    "\n",
    "aeq_df = pd.DataFrame()\n",
    "\n",
    "aeq_df['score'] = y_pred\n",
    "\n",
    "aeq_df['label_value'] = df['salary'].values\n",
    "aeq_df['attribute_1'] = df['sex'].values\n",
    "\n",
    "aeq_df.to_csv('../aeq.csv', index=False)"
   ]
  },
  {
   "cell_type": "code",
   "execution_count": 325,
   "metadata": {},
   "outputs": [],
   "source": []
  },
  {
   "cell_type": "code",
   "execution_count": 310,
   "metadata": {},
   "outputs": [],
   "source": [
    "rfc.score(X_test, y_test)"
   ]
  },
  {
   "cell_type": "code",
   "execution_count": 290,
   "metadata": {},
   "outputs": [
    {
     "data": {
      "text/plain": [
       "array([[0.3188316 , 0.6811684 ],\n",
       "       [0.8918013 , 0.1081987 ],\n",
       "       [0.207084  , 0.792916  ],\n",
       "       [0.33393571, 0.66606429],\n",
       "       [0.32045447, 0.67954553],\n",
       "       [0.32809142, 0.67190858],\n",
       "       [0.3344556 , 0.6655444 ],\n",
       "       [0.20656722, 0.79343278],\n",
       "       [0.34651684, 0.65348316],\n",
       "       [0.19013065, 0.80986935]])"
      ]
     },
     "execution_count": 290,
     "metadata": {},
     "output_type": "execute_result"
    }
   ],
   "source": [
    "rfc.predict_proba(X_test)[:10]"
   ]
  },
  {
   "cell_type": "code",
   "execution_count": 246,
   "metadata": {},
   "outputs": [
    {
     "data": {
      "text/plain": [
       "1.0"
      ]
     },
     "execution_count": 246,
     "metadata": {},
     "output_type": "execute_result"
    }
   ],
   "source": [
    "y_pred[5]"
   ]
  },
  {
   "cell_type": "code",
   "execution_count": 291,
   "metadata": {},
   "outputs": [
    {
     "name": "stdout",
     "output_type": "stream",
     "text": [
      "Mean difference (mean label value on privileged instances - mean label value on unprivileged instances): -0.18825947645245145\n",
      "\n",
      "\n",
      "Disparate impact (probability of favorable outcome for unprivileged instances / probability of favorable outcome for privileged instances): 0.7894523326572008\n",
      "\n",
      "\n",
      "True positive rate (TPR, recall, sensitivity = TP / (TP + FN)): 0.9977777777777778\n",
      "\n",
      "\n",
      "Positive predictive value (PPV, precision = TP / (TP + FP)): 0.7230273752012882\n",
      "\n",
      "\n",
      "Average odds difference (average of TPR difference and FPR difference, 0 = equality of odds): -0.13791230963088524\n",
      "\n",
      "\n",
      "True positive rate difference (true positive rate on unprivileged instances - true positive rate on privileged instances): -0.0022664723976040246\n",
      "\n",
      "\n",
      "Theil index (generalized entropy index with alpha = 1): 0.0535085341324013\n"
     ]
    }
   ],
   "source": [
    "#Getting the Metrics \n",
    "metric_preds = BinaryLabelDatasetMetric(data_val_pred, \n",
    "                            unprivileged_groups=unprivileged_groups, \n",
    "                            privileged_groups=privileged_groups)\n",
    "\n",
    "ex_metric_preds = MetricTextExplainer(metric_preds)\n",
    "\n",
    "print(ex_metric_preds.mean_difference())\n",
    "print('\\n')\n",
    "print(ex_metric_preds.disparate_impact())\n",
    "\n",
    "\n",
    "model_metric = ClassificationMetric(data_val, data_val_pred, \n",
    "                            unprivileged_groups=unprivileged_groups, \n",
    "                            privileged_groups=privileged_groups)\n",
    "\n",
    "ex_model_metric= MetricTextExplainer(model_metric)\n",
    "print('\\n')\n",
    "print(ex_model_metric.recall())\n",
    "print('\\n')\n",
    "print(ex_model_metric.precision())\n",
    "print('\\n')\n",
    "print(ex_model_metric.average_odds_difference())\n",
    "print('\\n')\n",
    "print(ex_model_metric.equal_opportunity_difference())\n",
    "print('\\n')\n",
    "print(ex_model_metric.theil_index())"
   ]
  },
  {
   "cell_type": "code",
   "execution_count": 260,
   "metadata": {},
   "outputs": [
    {
     "name": "stdout",
     "output_type": "stream",
     "text": [
      "The Accuracy score is 0.795.\n",
      "\n",
      "The Precision score is 0.754.\n",
      "\n",
      "The Recall score is 0.997.\n",
      "\n",
      "      Confusion Matrix\n"
     ]
    },
    {
     "data": {
      "text/html": [
       "<div>\n",
       "<style scoped>\n",
       "    .dataframe tbody tr th:only-of-type {\n",
       "        vertical-align: middle;\n",
       "    }\n",
       "\n",
       "    .dataframe tbody tr th {\n",
       "        vertical-align: top;\n",
       "    }\n",
       "\n",
       "    .dataframe thead th {\n",
       "        text-align: right;\n",
       "    }\n",
       "</style>\n",
       "<table border=\"1\" class=\"dataframe\">\n",
       "  <thead>\n",
       "    <tr style=\"text-align: right;\">\n",
       "      <th></th>\n",
       "      <th>Actual True</th>\n",
       "      <th>Actual False</th>\n",
       "    </tr>\n",
       "  </thead>\n",
       "  <tbody>\n",
       "    <tr>\n",
       "      <th>Predicted True</th>\n",
       "      <td>933</td>\n",
       "      <td>305</td>\n",
       "    </tr>\n",
       "    <tr>\n",
       "      <th>Predicted False</th>\n",
       "      <td>3</td>\n",
       "      <td>259</td>\n",
       "    </tr>\n",
       "  </tbody>\n",
       "</table>\n",
       "</div>"
      ],
      "text/plain": [
       "                 Actual True  Actual False\n",
       "Predicted True           933           305\n",
       "Predicted False            3           259"
      ]
     },
     "execution_count": 260,
     "metadata": {},
     "output_type": "execute_result"
    }
   ],
   "source": [
    "scorecard(y_test, y_rw_pred)"
   ]
  },
  {
   "cell_type": "code",
   "execution_count": 207,
   "metadata": {},
   "outputs": [
    {
     "data": {
      "text/plain": [
       "(1500, 1)"
      ]
     },
     "execution_count": 207,
     "metadata": {},
     "output_type": "execute_result"
    }
   ],
   "source": [
    "data_val.labels.shape"
   ]
  },
  {
   "cell_type": "code",
   "execution_count": 208,
   "metadata": {},
   "outputs": [
    {
     "data": {
      "text/plain": [
       "(1500,)"
      ]
     },
     "execution_count": 208,
     "metadata": {},
     "output_type": "execute_result"
    }
   ],
   "source": [
    "data_val_pred.labels.shape"
   ]
  },
  {
   "cell_type": "markdown",
   "metadata": {},
   "source": [
    "## Debiasing through Preprocessing "
   ]
  },
  {
   "cell_type": "markdown",
   "metadata": {},
   "source": [
    "#### Reweighing"
   ]
  },
  {
   "cell_type": "code",
   "execution_count": 292,
   "metadata": {},
   "outputs": [],
   "source": [
    "RW = Reweighing(unprivileged_groups=unprivileged_groups, \n",
    "               privileged_groups=privileged_groups)\n",
    "\n",
    "#Splitting the Data\n",
    "data_rw_train = RW.fit_transform(data_train)\n",
    "\n",
    "data_rw_val = RW.fit_transform(data_val)"
   ]
  },
  {
   "cell_type": "code",
   "execution_count": 293,
   "metadata": {},
   "outputs": [
    {
     "name": "stdout",
     "output_type": "stream",
     "text": [
      "Mean difference (mean label value on privileged instances - mean label value on unprivileged instances): 0.0\n",
      "\n",
      "\n",
      "Disparate impact (probability of favorable outcome for unprivileged instances / probability of favorable outcome for privileged instances): 1.0\n"
     ]
    }
   ],
   "source": [
    "### Reweigh Metrics\n",
    "metric_rw_train = BinaryLabelDatasetMetric(data_rw_train, \n",
    "                            unprivileged_groups=unprivileged_groups, \n",
    "                            privileged_groups=privileged_groups)\n",
    "#Explainer \n",
    "ex_metric_rw_train = MetricTextExplainer(metric_rw_train)\n",
    "\n",
    "print(ex_metric_rw_train.mean_difference())\n",
    "print('\\n')\n",
    "print(ex_metric_rw_train.disparate_impact())"
   ]
  },
  {
   "cell_type": "markdown",
   "metadata": {},
   "source": [
    "### Random Forest Classifier with Reweighing "
   ]
  },
  {
   "cell_type": "code",
   "execution_count": 294,
   "metadata": {},
   "outputs": [],
   "source": [
    "#Creating X,y\n",
    "X_rw_train = data_rw_train.features\n",
    "y_rw_train = data_rw_train.labels.ravel()\n",
    "X_rw_test = data_rw_val.features\n",
    "y_rw_test = data_rw_val.labels.ravel()"
   ]
  },
  {
   "cell_type": "code",
   "execution_count": 303,
   "metadata": {},
   "outputs": [
    {
     "data": {
      "text/plain": [
       "RandomForestClassifier(bootstrap=True, class_weight=None, criterion='gini',\n",
       "                       max_depth=5, max_features='auto', max_leaf_nodes=None,\n",
       "                       min_impurity_decrease=0.0, min_impurity_split=None,\n",
       "                       min_samples_leaf=1, min_samples_split=2,\n",
       "                       min_weight_fraction_leaf=0.0, n_estimators=1000,\n",
       "                       n_jobs=None, oob_score=False, random_state=None,\n",
       "                       verbose=0, warm_start=False)"
      ]
     },
     "execution_count": 303,
     "metadata": {},
     "output_type": "execute_result"
    }
   ],
   "source": [
    "# Creating Random Forest Classifier\n",
    "rfc_rw = RandomForestClassifier(n_estimators=1000, max_depth=5)\n",
    "rfc_rw.fit(X_rw_train, y_rw_train, sample_weight=data_rw_train.instance_weights)"
   ]
  },
  {
   "cell_type": "code",
   "execution_count": 304,
   "metadata": {},
   "outputs": [],
   "source": [
    "#Creating Predicted Dataframe\n",
    "y_rw_pred = rfc_rw.predict(X_test)\n",
    "data_val_rw_pred = data_rw_val.copy()\n",
    "data_val_rw_pred.labels = y_rw_pred"
   ]
  },
  {
   "cell_type": "code",
   "execution_count": 305,
   "metadata": {},
   "outputs": [
    {
     "data": {
      "text/markdown": [
       "#### Model - with reweighing - dataset metrics"
      ],
      "text/plain": [
       "<IPython.core.display.Markdown object>"
      ]
     },
     "metadata": {},
     "output_type": "display_data"
    },
    {
     "name": "stdout",
     "output_type": "stream",
     "text": [
      "Mean difference (mean label value on privileged instances - mean label value on unprivileged instances): -0.1107831421842288\n",
      "\n",
      "\n",
      "Disparate impact (probability of favorable outcome for unprivileged instances / probability of favorable outcome for privileged instances): 0.8736657919674279\n"
     ]
    },
    {
     "data": {
      "text/markdown": [
       "#### Model - with reweighing - classification metrics"
      ],
      "text/plain": [
       "<IPython.core.display.Markdown object>"
      ]
     },
     "metadata": {},
     "output_type": "display_data"
    },
    {
     "name": "stdout",
     "output_type": "stream",
     "text": [
      "True positive rate (TPR, recall, sensitivity = TP / (TP + FN)): 0.9976387674707247\n",
      "Positive predictive value (PPV, precision = TP / (TP + FP)): 0.7143138695057106\n",
      "Average odds difference (average of TPR difference and FPR difference, 0 = equality of odds): -0.13791230963088524\n",
      "True positive rate difference (true positive rate on unprivileged instances - true positive rate on privileged instances): -0.0022664723976040246\n",
      "Theil index (generalized entropy index with alpha = 1): 0.0535085341324013\n",
      "Classification accuracy on privileged instances: 0.7212167214866043\n",
      "Classification accuracy on unprivileged instances: 0.8292800967937086\n"
     ]
    }
   ],
   "source": [
    "#Getting the Metrics \n",
    "display(Markdown(\"#### Model - with reweighing - dataset metrics\"))\n",
    "\n",
    "\n",
    "metric_rw_preds = BinaryLabelDatasetMetric(data_val_rw_pred, \n",
    "                            unprivileged_groups=unprivileged_groups, \n",
    "                            privileged_groups=privileged_groups)\n",
    "\n",
    "ex_metric_rw_preds = MetricTextExplainer(metric_rw_preds)\n",
    "\n",
    "print(ex_metric_rw_preds.mean_difference())\n",
    "print('\\n')\n",
    "print(ex_metric_rw_preds.disparate_impact())\n",
    "\n",
    "display(Markdown(\"#### Model - with reweighing - classification metrics\"))\n",
    "model_rw_metric = ClassificationMetric(data_rw_val, data_val_rw_pred, \n",
    "                            unprivileged_groups=unprivileged_groups, \n",
    "                            privileged_groups=privileged_groups)\n",
    "\n",
    "ex_model_rw_metric= MetricTextExplainer(model_rw_metric)\n",
    "\n",
    "print(ex_model_rw_metric.recall())\n",
    "print(ex_model_rw_metric.precision())\n",
    "print(ex_model_rw_metric.average_odds_difference())\n",
    "print(ex_model_rw_metric.equal_opportunity_difference())\n",
    "print(ex_model_rw_metric.theil_index())\n",
    "print(ex_model_rw_metric.accuracy(privileged=True))\n",
    "print(ex_model_rw_metric.accuracy(privileged=False))"
   ]
  },
  {
   "cell_type": "code",
   "execution_count": 307,
   "metadata": {},
   "outputs": [
    {
     "name": "stdout",
     "output_type": "stream",
     "text": [
      "The Accuracy score is 0.769.\n",
      "\n",
      "The Precision score is 0.723.\n",
      "\n",
      "The Recall score is 0.998.\n",
      "\n",
      "      Confusion Matrix\n"
     ]
    },
    {
     "data": {
      "text/html": [
       "<div>\n",
       "<style scoped>\n",
       "    .dataframe tbody tr th:only-of-type {\n",
       "        vertical-align: middle;\n",
       "    }\n",
       "\n",
       "    .dataframe tbody tr th {\n",
       "        vertical-align: top;\n",
       "    }\n",
       "\n",
       "    .dataframe thead th {\n",
       "        text-align: right;\n",
       "    }\n",
       "</style>\n",
       "<table border=\"1\" class=\"dataframe\">\n",
       "  <thead>\n",
       "    <tr style=\"text-align: right;\">\n",
       "      <th></th>\n",
       "      <th>Actual True</th>\n",
       "      <th>Actual False</th>\n",
       "    </tr>\n",
       "  </thead>\n",
       "  <tbody>\n",
       "    <tr>\n",
       "      <th>Predicted True</th>\n",
       "      <td>898</td>\n",
       "      <td>344</td>\n",
       "    </tr>\n",
       "    <tr>\n",
       "      <th>Predicted False</th>\n",
       "      <td>2</td>\n",
       "      <td>256</td>\n",
       "    </tr>\n",
       "  </tbody>\n",
       "</table>\n",
       "</div>"
      ],
      "text/plain": [
       "                 Actual True  Actual False\n",
       "Predicted True           898           344\n",
       "Predicted False            2           256"
      ]
     },
     "execution_count": 307,
     "metadata": {},
     "output_type": "execute_result"
    }
   ],
   "source": [
    "scorecard(y_rw_test, y_rw_pred)"
   ]
  },
  {
   "cell_type": "markdown",
   "metadata": {},
   "source": [
    "### Inprocessing with Adversarial Debiaising\n",
    "\n"
   ]
  },
  {
   "cell_type": "code",
   "execution_count": 266,
   "metadata": {},
   "outputs": [],
   "source": [
    "sess.close()\n",
    "tf.reset_default_graph()\n",
    "sess = tf.Session()"
   ]
  },
  {
   "cell_type": "code",
   "execution_count": 267,
   "metadata": {},
   "outputs": [],
   "source": [
    "##Creating Tensorflow Session - must not use Tensorflow 2.0 \n",
    "sess = tf.Session()\n",
    "db_model = AdversarialDebiasing(privileged_groups = privileged_groups,\n",
    "                          unprivileged_groups = unprivileged_groups,\n",
    "                          scope_name='debiased_classifier',\n",
    "                            num_epochs  = 100,\n",
    "                            batch_size = 100,\n",
    "                            adversary_loss_weight = .1,     \n",
    "                            debias=True,\n",
    "                          sess=sess)"
   ]
  },
  {
   "cell_type": "code",
   "execution_count": 268,
   "metadata": {},
   "outputs": [
    {
     "name": "stdout",
     "output_type": "stream",
     "text": [
      "epoch 0; iter: 0; batch classifier loss: 1.122157; batch adversarial loss: 0.791225\n",
      "epoch 1; iter: 0; batch classifier loss: 0.534451; batch adversarial loss: 0.836398\n",
      "epoch 2; iter: 0; batch classifier loss: 0.607169; batch adversarial loss: 0.815159\n",
      "epoch 3; iter: 0; batch classifier loss: 0.507684; batch adversarial loss: 0.806940\n",
      "epoch 4; iter: 0; batch classifier loss: 0.471816; batch adversarial loss: 0.729057\n",
      "epoch 5; iter: 0; batch classifier loss: 0.701160; batch adversarial loss: 0.718264\n",
      "epoch 6; iter: 0; batch classifier loss: 0.458773; batch adversarial loss: 0.700663\n",
      "epoch 7; iter: 0; batch classifier loss: 0.424822; batch adversarial loss: 0.692936\n",
      "epoch 8; iter: 0; batch classifier loss: 0.469862; batch adversarial loss: 0.661269\n",
      "epoch 9; iter: 0; batch classifier loss: 0.470518; batch adversarial loss: 0.689723\n",
      "epoch 10; iter: 0; batch classifier loss: 0.507576; batch adversarial loss: 0.647690\n",
      "epoch 11; iter: 0; batch classifier loss: 0.437040; batch adversarial loss: 0.665116\n",
      "epoch 12; iter: 0; batch classifier loss: 0.480617; batch adversarial loss: 0.639119\n",
      "epoch 13; iter: 0; batch classifier loss: 0.701149; batch adversarial loss: 0.657676\n",
      "epoch 14; iter: 0; batch classifier loss: 0.554706; batch adversarial loss: 0.630958\n",
      "epoch 15; iter: 0; batch classifier loss: 0.407867; batch adversarial loss: 0.604627\n",
      "epoch 16; iter: 0; batch classifier loss: 0.472524; batch adversarial loss: 0.653071\n",
      "epoch 17; iter: 0; batch classifier loss: 0.416585; batch adversarial loss: 0.675493\n",
      "epoch 18; iter: 0; batch classifier loss: 0.574998; batch adversarial loss: 0.673575\n",
      "epoch 19; iter: 0; batch classifier loss: 0.453793; batch adversarial loss: 0.682599\n",
      "epoch 20; iter: 0; batch classifier loss: 0.550040; batch adversarial loss: 0.671408\n",
      "epoch 21; iter: 0; batch classifier loss: 0.523999; batch adversarial loss: 0.593357\n",
      "epoch 22; iter: 0; batch classifier loss: 0.460528; batch adversarial loss: 0.723116\n",
      "epoch 23; iter: 0; batch classifier loss: 0.502788; batch adversarial loss: 0.612217\n",
      "epoch 24; iter: 0; batch classifier loss: 0.402655; batch adversarial loss: 0.645963\n",
      "epoch 25; iter: 0; batch classifier loss: 0.520937; batch adversarial loss: 0.687548\n",
      "epoch 26; iter: 0; batch classifier loss: 0.713731; batch adversarial loss: 0.614190\n",
      "epoch 27; iter: 0; batch classifier loss: 0.468676; batch adversarial loss: 0.649527\n",
      "epoch 28; iter: 0; batch classifier loss: 0.493206; batch adversarial loss: 0.683757\n",
      "epoch 29; iter: 0; batch classifier loss: 0.559284; batch adversarial loss: 0.675285\n",
      "epoch 30; iter: 0; batch classifier loss: 0.562199; batch adversarial loss: 0.692583\n",
      "epoch 31; iter: 0; batch classifier loss: 0.489886; batch adversarial loss: 0.638671\n",
      "epoch 32; iter: 0; batch classifier loss: 0.481066; batch adversarial loss: 0.613888\n",
      "epoch 33; iter: 0; batch classifier loss: 0.519264; batch adversarial loss: 0.657697\n",
      "epoch 34; iter: 0; batch classifier loss: 0.442783; batch adversarial loss: 0.650683\n",
      "epoch 35; iter: 0; batch classifier loss: 0.402775; batch adversarial loss: 0.656205\n",
      "epoch 36; iter: 0; batch classifier loss: 0.561855; batch adversarial loss: 0.629601\n",
      "epoch 37; iter: 0; batch classifier loss: 0.553845; batch adversarial loss: 0.643052\n",
      "epoch 38; iter: 0; batch classifier loss: 0.427891; batch adversarial loss: 0.613682\n",
      "epoch 39; iter: 0; batch classifier loss: 0.459338; batch adversarial loss: 0.658699\n",
      "epoch 40; iter: 0; batch classifier loss: 0.437640; batch adversarial loss: 0.641794\n",
      "epoch 41; iter: 0; batch classifier loss: 0.472632; batch adversarial loss: 0.653058\n",
      "epoch 42; iter: 0; batch classifier loss: 0.570811; batch adversarial loss: 0.621781\n",
      "epoch 43; iter: 0; batch classifier loss: 0.482352; batch adversarial loss: 0.629746\n",
      "epoch 44; iter: 0; batch classifier loss: 0.500344; batch adversarial loss: 0.668065\n",
      "epoch 45; iter: 0; batch classifier loss: 0.408102; batch adversarial loss: 0.615672\n",
      "epoch 46; iter: 0; batch classifier loss: 0.467918; batch adversarial loss: 0.645467\n",
      "epoch 47; iter: 0; batch classifier loss: 0.502842; batch adversarial loss: 0.614533\n",
      "epoch 48; iter: 0; batch classifier loss: 0.537844; batch adversarial loss: 0.579293\n",
      "epoch 49; iter: 0; batch classifier loss: 0.471474; batch adversarial loss: 0.591523\n",
      "epoch 50; iter: 0; batch classifier loss: 0.416546; batch adversarial loss: 0.633229\n",
      "epoch 51; iter: 0; batch classifier loss: 0.415271; batch adversarial loss: 0.625576\n",
      "epoch 52; iter: 0; batch classifier loss: 0.543192; batch adversarial loss: 0.632868\n",
      "epoch 53; iter: 0; batch classifier loss: 0.466506; batch adversarial loss: 0.666009\n",
      "epoch 54; iter: 0; batch classifier loss: 0.541996; batch adversarial loss: 0.665976\n",
      "epoch 55; iter: 0; batch classifier loss: 0.502976; batch adversarial loss: 0.662906\n",
      "epoch 56; iter: 0; batch classifier loss: 0.458994; batch adversarial loss: 0.623754\n",
      "epoch 57; iter: 0; batch classifier loss: 0.519931; batch adversarial loss: 0.654649\n",
      "epoch 58; iter: 0; batch classifier loss: 0.437590; batch adversarial loss: 0.641570\n",
      "epoch 59; iter: 0; batch classifier loss: 0.489705; batch adversarial loss: 0.633761\n",
      "epoch 60; iter: 0; batch classifier loss: 0.540172; batch adversarial loss: 0.636603\n",
      "epoch 61; iter: 0; batch classifier loss: 0.506137; batch adversarial loss: 0.651312\n",
      "epoch 62; iter: 0; batch classifier loss: 0.491654; batch adversarial loss: 0.602722\n",
      "epoch 63; iter: 0; batch classifier loss: 0.423861; batch adversarial loss: 0.669982\n",
      "epoch 64; iter: 0; batch classifier loss: 0.436762; batch adversarial loss: 0.615062\n",
      "epoch 65; iter: 0; batch classifier loss: 0.571543; batch adversarial loss: 0.656365\n",
      "epoch 66; iter: 0; batch classifier loss: 0.492053; batch adversarial loss: 0.680470\n",
      "epoch 67; iter: 0; batch classifier loss: 0.513265; batch adversarial loss: 0.554067\n",
      "epoch 68; iter: 0; batch classifier loss: 0.518477; batch adversarial loss: 0.666578\n",
      "epoch 69; iter: 0; batch classifier loss: 0.409140; batch adversarial loss: 0.645246\n",
      "epoch 70; iter: 0; batch classifier loss: 0.439565; batch adversarial loss: 0.628741\n",
      "epoch 71; iter: 0; batch classifier loss: 0.466835; batch adversarial loss: 0.628254\n",
      "epoch 72; iter: 0; batch classifier loss: 0.446021; batch adversarial loss: 0.655895\n",
      "epoch 73; iter: 0; batch classifier loss: 0.408031; batch adversarial loss: 0.678343\n",
      "epoch 74; iter: 0; batch classifier loss: 0.490604; batch adversarial loss: 0.608958\n",
      "epoch 75; iter: 0; batch classifier loss: 0.421720; batch adversarial loss: 0.638005\n",
      "epoch 76; iter: 0; batch classifier loss: 0.429831; batch adversarial loss: 0.669979\n",
      "epoch 77; iter: 0; batch classifier loss: 0.546073; batch adversarial loss: 0.684881\n",
      "epoch 78; iter: 0; batch classifier loss: 0.432750; batch adversarial loss: 0.667891\n",
      "epoch 79; iter: 0; batch classifier loss: 0.553506; batch adversarial loss: 0.615421\n",
      "epoch 80; iter: 0; batch classifier loss: 0.478123; batch adversarial loss: 0.622046\n",
      "epoch 81; iter: 0; batch classifier loss: 0.492112; batch adversarial loss: 0.636102\n",
      "epoch 82; iter: 0; batch classifier loss: 0.394247; batch adversarial loss: 0.657842\n",
      "epoch 83; iter: 0; batch classifier loss: 0.473974; batch adversarial loss: 0.615955\n",
      "epoch 84; iter: 0; batch classifier loss: 0.466695; batch adversarial loss: 0.663099\n",
      "epoch 85; iter: 0; batch classifier loss: 0.525061; batch adversarial loss: 0.594928\n",
      "epoch 86; iter: 0; batch classifier loss: 0.488356; batch adversarial loss: 0.619367\n",
      "epoch 87; iter: 0; batch classifier loss: 0.455842; batch adversarial loss: 0.647358\n",
      "epoch 88; iter: 0; batch classifier loss: 0.499356; batch adversarial loss: 0.717462\n",
      "epoch 89; iter: 0; batch classifier loss: 0.500660; batch adversarial loss: 0.659349\n",
      "epoch 90; iter: 0; batch classifier loss: 0.568396; batch adversarial loss: 0.609854\n",
      "epoch 91; iter: 0; batch classifier loss: 0.515588; batch adversarial loss: 0.670020\n",
      "epoch 92; iter: 0; batch classifier loss: 0.461483; batch adversarial loss: 0.675659\n",
      "epoch 93; iter: 0; batch classifier loss: 0.602827; batch adversarial loss: 0.710358\n",
      "epoch 94; iter: 0; batch classifier loss: 0.552157; batch adversarial loss: 0.668469\n",
      "epoch 95; iter: 0; batch classifier loss: 0.604350; batch adversarial loss: 0.655694\n",
      "epoch 96; iter: 0; batch classifier loss: 0.617982; batch adversarial loss: 0.652968\n",
      "epoch 97; iter: 0; batch classifier loss: 0.603961; batch adversarial loss: 0.682131\n",
      "epoch 98; iter: 0; batch classifier loss: 0.459990; batch adversarial loss: 0.641661\n",
      "epoch 99; iter: 0; batch classifier loss: 0.586083; batch adversarial loss: 0.624177\n"
     ]
    },
    {
     "data": {
      "text/plain": [
       "<aif360.algorithms.inprocessing.adversarial_debiasing.AdversarialDebiasing at 0x14de8b908>"
      ]
     },
     "execution_count": 268,
     "metadata": {},
     "output_type": "execute_result"
    }
   ],
   "source": [
    "db_model.fit(data_train) "
   ]
  },
  {
   "cell_type": "code",
   "execution_count": 269,
   "metadata": {},
   "outputs": [],
   "source": [
    "dataset_debiasing_train = db_model.predict(data_train)\n",
    "dataset_debiasing_test = db_model.predict(data_val)"
   ]
  },
  {
   "cell_type": "code",
   "execution_count": 270,
   "metadata": {},
   "outputs": [
    {
     "data": {
      "text/markdown": [
       "#### Model - with debiasing - dataset metrics"
      ],
      "text/plain": [
       "<IPython.core.display.Markdown object>"
      ]
     },
     "metadata": {},
     "output_type": "display_data"
    },
    {
     "name": "stdout",
     "output_type": "stream",
     "text": [
      "Train set: Difference in mean outcomes between unprivileged and privileged groups = 0.064034\n",
      "Test set: Difference in mean outcomes between unprivileged and privileged groups = 0.026610\n"
     ]
    },
    {
     "data": {
      "text/markdown": [
       "#### Model - with debiasing - classification metrics"
      ],
      "text/plain": [
       "<IPython.core.display.Markdown object>"
      ]
     },
     "metadata": {},
     "output_type": "display_data"
    },
    {
     "name": "stdout",
     "output_type": "stream",
     "text": [
      "Test set: Classification accuracy = 0.747333\n",
      "Test set: Balanced classification accuracy = 0.719324\n",
      "Test set: Disparate impact = 1.040472\n",
      "Test set: Equal opportunity difference = 0.237269\n",
      "Test set: Average odds difference = 0.073446\n",
      "Test set: Theil_index = 0.154229\n"
     ]
    }
   ],
   "source": [
    "\n",
    "# Metrics for the dataset from model with debiasing\n",
    "display(Markdown(\"#### Model - with debiasing - dataset metrics\"))\n",
    "metric_dataset_debiasing_train = BinaryLabelDatasetMetric(dataset_debiasing_train, \n",
    "                                             unprivileged_groups=unprivileged_groups,\n",
    "                                             privileged_groups=privileged_groups)\n",
    "\n",
    "print(\"Train set: Difference in mean outcomes between unprivileged and privileged groups = %f\" % metric_dataset_debiasing_train.mean_difference())\n",
    "\n",
    "metric_dataset_debiasing_test = BinaryLabelDatasetMetric(dataset_debiasing_test, \n",
    "                                             unprivileged_groups=unprivileged_groups,\n",
    "                                             privileged_groups=privileged_groups)\n",
    "\n",
    "print(\"Test set: Difference in mean outcomes between unprivileged and privileged groups = %f\" % metric_dataset_debiasing_test.mean_difference())\n",
    "\n",
    "\n",
    "\n",
    "display(Markdown(\"#### Model - with debiasing - classification metrics\"))\n",
    "classified_metric_debiasing_test = ClassificationMetric(data_val, \n",
    "                                                 dataset_debiasing_test,\n",
    "                                                    unprivileged_groups=unprivileged_groups,\n",
    "                                                 privileged_groups=privileged_groups)\n",
    "print(\"Test set: Classification accuracy = %f\" % classified_metric_debiasing_test.accuracy())\n",
    "TPR = classified_metric_debiasing_test.true_positive_rate()\n",
    "TNR = classified_metric_debiasing_test.true_negative_rate()\n",
    "bal_acc_debiasing_test = 0.5*(TPR+TNR)\n",
    "print(\"Test set: Balanced classification accuracy = %f\" % bal_acc_debiasing_test)\n",
    "print(\"Test set: Disparate impact = %f\" % classified_metric_debiasing_test.disparate_impact())\n",
    "print(\"Test set: Equal opportunity difference = %f\" % classified_metric_debiasing_test.equal_opportunity_difference())\n",
    "print(\"Test set: Average odds difference = %f\" % classified_metric_debiasing_test.average_odds_difference())\n",
    "print(\"Test set: Theil_index = %f\" % classified_metric_debiasing_test.theil_index())\n",
    "                                                        \n",
    "                                                        "
   ]
  },
  {
   "cell_type": "code",
   "execution_count": 271,
   "metadata": {},
   "outputs": [
    {
     "name": "stdout",
     "output_type": "stream",
     "text": [
      "The Accuracy score is 0.747.\n",
      "\n",
      "The Precision score is 0.778.\n",
      "\n",
      "The Recall score is 0.832.\n",
      "\n",
      "      Confusion Matrix\n"
     ]
    },
    {
     "data": {
      "text/html": [
       "<div>\n",
       "<style scoped>\n",
       "    .dataframe tbody tr th:only-of-type {\n",
       "        vertical-align: middle;\n",
       "    }\n",
       "\n",
       "    .dataframe tbody tr th {\n",
       "        vertical-align: top;\n",
       "    }\n",
       "\n",
       "    .dataframe thead th {\n",
       "        text-align: right;\n",
       "    }\n",
       "</style>\n",
       "<table border=\"1\" class=\"dataframe\">\n",
       "  <thead>\n",
       "    <tr style=\"text-align: right;\">\n",
       "      <th></th>\n",
       "      <th>Actual True</th>\n",
       "      <th>Actual False</th>\n",
       "    </tr>\n",
       "  </thead>\n",
       "  <tbody>\n",
       "    <tr>\n",
       "      <th>Predicted True</th>\n",
       "      <td>779</td>\n",
       "      <td>222</td>\n",
       "    </tr>\n",
       "    <tr>\n",
       "      <th>Predicted False</th>\n",
       "      <td>157</td>\n",
       "      <td>342</td>\n",
       "    </tr>\n",
       "  </tbody>\n",
       "</table>\n",
       "</div>"
      ],
      "text/plain": [
       "                 Actual True  Actual False\n",
       "Predicted True           779           222\n",
       "Predicted False          157           342"
      ]
     },
     "execution_count": 271,
     "metadata": {},
     "output_type": "execute_result"
    }
   ],
   "source": [
    "scorecard(data_val.labels, dataset_debiasing_test.labels)"
   ]
  },
  {
   "cell_type": "markdown",
   "metadata": {},
   "source": [
    "### Postprocessing with Equalized Odds Postprocessing"
   ]
  },
  {
   "cell_type": "code",
   "execution_count": 272,
   "metadata": {},
   "outputs": [],
   "source": [
    "\n",
    "# Learn parameters to equalize odds and apply to create a new dataset\n",
    "cpp = CalibratedEqOddsPostprocessing(privileged_groups = privileged_groups,\n",
    "                                     unprivileged_groups = unprivileged_groups,\n",
    "                                     cost_constraint='fpr')\n",
    "cpp = cpp.fit_predict(data_val, data_val_pred)"
   ]
  },
  {
   "cell_type": "code",
   "execution_count": 273,
   "metadata": {},
   "outputs": [],
   "source": [
    "cpp_metric = ClassificationMetric(data_val, cpp,\n",
    "                             unprivileged_groups=unprivileged_groups,\n",
    "                             privileged_groups=privileged_groups)"
   ]
  },
  {
   "cell_type": "code",
   "execution_count": 274,
   "metadata": {},
   "outputs": [
    {
     "name": "stdout",
     "output_type": "stream",
     "text": [
      "0.0\n"
     ]
    }
   ],
   "source": [
    "print(cpp_metric.generalized_false_positive_rate())"
   ]
  },
  {
   "cell_type": "code",
   "execution_count": 275,
   "metadata": {},
   "outputs": [
    {
     "name": "stdout",
     "output_type": "stream",
     "text": [
      "0.0\n"
     ]
    }
   ],
   "source": [
    "print(cpp_metric.generalized_false_negative_rate())"
   ]
  },
  {
   "cell_type": "code",
   "execution_count": 276,
   "metadata": {},
   "outputs": [
    {
     "name": "stdout",
     "output_type": "stream",
     "text": [
      "The Accuracy score is 1.000.\n",
      "\n",
      "The Precision score is 1.000.\n",
      "\n",
      "The Recall score is 1.000.\n",
      "\n",
      "      Confusion Matrix\n"
     ]
    },
    {
     "data": {
      "text/html": [
       "<div>\n",
       "<style scoped>\n",
       "    .dataframe tbody tr th:only-of-type {\n",
       "        vertical-align: middle;\n",
       "    }\n",
       "\n",
       "    .dataframe tbody tr th {\n",
       "        vertical-align: top;\n",
       "    }\n",
       "\n",
       "    .dataframe thead th {\n",
       "        text-align: right;\n",
       "    }\n",
       "</style>\n",
       "<table border=\"1\" class=\"dataframe\">\n",
       "  <thead>\n",
       "    <tr style=\"text-align: right;\">\n",
       "      <th></th>\n",
       "      <th>Actual True</th>\n",
       "      <th>Actual False</th>\n",
       "    </tr>\n",
       "  </thead>\n",
       "  <tbody>\n",
       "    <tr>\n",
       "      <th>Predicted True</th>\n",
       "      <td>936</td>\n",
       "      <td>0</td>\n",
       "    </tr>\n",
       "    <tr>\n",
       "      <th>Predicted False</th>\n",
       "      <td>0</td>\n",
       "      <td>564</td>\n",
       "    </tr>\n",
       "  </tbody>\n",
       "</table>\n",
       "</div>"
      ],
      "text/plain": [
       "                 Actual True  Actual False\n",
       "Predicted True           936             0\n",
       "Predicted False            0           564"
      ]
     },
     "execution_count": 276,
     "metadata": {},
     "output_type": "execute_result"
    }
   ],
   "source": [
    "scorecard(data_val.labels, cpp.labels)"
   ]
  },
  {
   "cell_type": "code",
   "execution_count": null,
   "metadata": {},
   "outputs": [],
   "source": []
  }
 ],
 "metadata": {
  "kernelspec": {
   "display_name": "Python 3",
   "language": "python",
   "name": "python3"
  },
  "language_info": {
   "codemirror_mode": {
    "name": "ipython",
    "version": 3
   },
   "file_extension": ".py",
   "mimetype": "text/x-python",
   "name": "python",
   "nbconvert_exporter": "python",
   "pygments_lexer": "ipython3",
   "version": "3.7.3"
  }
 },
 "nbformat": 4,
 "nbformat_minor": 4
}
