{
 "cells": [
  {
   "cell_type": "markdown",
   "metadata": {},
   "source": [
    "### Company X Bias Analysis"
   ]
  },
  {
   "cell_type": "markdown",
   "metadata": {},
   "source": [
    "#### Imports"
   ]
  },
  {
   "cell_type": "code",
   "execution_count": 77,
   "metadata": {},
   "outputs": [],
   "source": [
    "#Standard\n",
    "import pandas as pd\n",
    "import numpy as np\n",
    "import matplotlib.pyplot as plt\n",
    "%matplotlib inline\n",
    "\n",
    "#AIF360 Dataset Classes \n",
    "from aif360.datasets import StandardDataset\n",
    "from aif360.datasets import BinaryLabelDataset\n",
    "\n",
    "#AIF360 Metrics Classes  \n",
    "from aif360.metrics import BinaryLabelDatasetMetric, ClassificationMetric\n",
    "from aif360.algorithms.preprocessing import Reweighing\n",
    "from aif360.metrics import ClassificationMetric\n",
    "\n",
    "#AIF360 Algorithms \n",
    "from aif360.algorithms.preprocessing import Reweighing\n",
    "from aif360.algorithms.inprocessing import AdversarialDebiasing\n",
    "# AI360 Explainers\n",
    "from aif360.explainers import MetricTextExplainer\n",
    "\n",
    "#Sklearn\n",
    "from sklearn.ensemble import RandomForestClassifier\n",
    "from sklearn.metrics import accuracy_score, recall_score, precision_score\n",
    "from sklearn.model_selection import GridSearchCV, train_test_split\n",
    "\n",
    "#Tensorflow -- install version before 2.0\n",
    "import tensorflow as tf \n",
    "\n",
    "#For Markdown\n",
    "from IPython.display import Markdown, display\n",
    "\n",
    "#Helper Functions\n",
    "from src.classifier_functions import *"
   ]
  },
  {
   "cell_type": "markdown",
   "metadata": {},
   "source": [
    "#### Load Data\n"
   ]
  },
  {
   "cell_type": "code",
   "execution_count": 11,
   "metadata": {},
   "outputs": [],
   "source": [
    "data = pd.read_csv('../company_x.csv', index_col='employee_id')"
   ]
  },
  {
   "cell_type": "code",
   "execution_count": 12,
   "metadata": {},
   "outputs": [
    {
     "data": {
      "text/html": [
       "<div>\n",
       "<style scoped>\n",
       "    .dataframe tbody tr th:only-of-type {\n",
       "        vertical-align: middle;\n",
       "    }\n",
       "\n",
       "    .dataframe tbody tr th {\n",
       "        vertical-align: top;\n",
       "    }\n",
       "\n",
       "    .dataframe thead th {\n",
       "        text-align: right;\n",
       "    }\n",
       "</style>\n",
       "<table border=\"1\" class=\"dataframe\">\n",
       "  <thead>\n",
       "    <tr style=\"text-align: right;\">\n",
       "      <th></th>\n",
       "      <th>signing_bonus</th>\n",
       "      <th>salary</th>\n",
       "      <th>degree_level</th>\n",
       "      <th>sex</th>\n",
       "      <th>yrs_experience</th>\n",
       "      <th>dept</th>\n",
       "      <th>is_manager</th>\n",
       "      <th>direct_reports</th>\n",
       "      <th>boss_id</th>\n",
       "    </tr>\n",
       "    <tr>\n",
       "      <th>employee_id</th>\n",
       "      <th></th>\n",
       "      <th></th>\n",
       "      <th></th>\n",
       "      <th></th>\n",
       "      <th></th>\n",
       "      <th></th>\n",
       "      <th></th>\n",
       "      <th></th>\n",
       "      <th></th>\n",
       "    </tr>\n",
       "  </thead>\n",
       "  <tbody>\n",
       "    <tr>\n",
       "      <th>138719</th>\n",
       "      <td>0</td>\n",
       "      <td>273000.0</td>\n",
       "      <td>Master</td>\n",
       "      <td>M</td>\n",
       "      <td>2</td>\n",
       "      <td>engineering</td>\n",
       "      <td>False</td>\n",
       "      <td>0.0</td>\n",
       "      <td>43602.0</td>\n",
       "    </tr>\n",
       "    <tr>\n",
       "      <th>3192</th>\n",
       "      <td>0</td>\n",
       "      <td>301000.0</td>\n",
       "      <td>Bachelor</td>\n",
       "      <td>F</td>\n",
       "      <td>1</td>\n",
       "      <td>sales</td>\n",
       "      <td>False</td>\n",
       "      <td>0.0</td>\n",
       "      <td>87847.0</td>\n",
       "    </tr>\n",
       "    <tr>\n",
       "      <th>114657</th>\n",
       "      <td>0</td>\n",
       "      <td>261000.0</td>\n",
       "      <td>Master</td>\n",
       "      <td>F</td>\n",
       "      <td>2</td>\n",
       "      <td>sales</td>\n",
       "      <td>False</td>\n",
       "      <td>0.0</td>\n",
       "      <td>180854.0</td>\n",
       "    </tr>\n",
       "    <tr>\n",
       "      <th>29039</th>\n",
       "      <td>0</td>\n",
       "      <td>86000.0</td>\n",
       "      <td>High_School</td>\n",
       "      <td>F</td>\n",
       "      <td>4</td>\n",
       "      <td>HR</td>\n",
       "      <td>False</td>\n",
       "      <td>0.0</td>\n",
       "      <td>88370.0</td>\n",
       "    </tr>\n",
       "    <tr>\n",
       "      <th>118607</th>\n",
       "      <td>0</td>\n",
       "      <td>126000.0</td>\n",
       "      <td>Bachelor</td>\n",
       "      <td>F</td>\n",
       "      <td>3</td>\n",
       "      <td>sales</td>\n",
       "      <td>False</td>\n",
       "      <td>0.0</td>\n",
       "      <td>23565.0</td>\n",
       "    </tr>\n",
       "  </tbody>\n",
       "</table>\n",
       "</div>"
      ],
      "text/plain": [
       "             signing_bonus    salary degree_level sex  yrs_experience  \\\n",
       "employee_id                                                             \n",
       "138719                   0  273000.0       Master   M               2   \n",
       "3192                     0  301000.0     Bachelor   F               1   \n",
       "114657                   0  261000.0       Master   F               2   \n",
       "29039                    0   86000.0  High_School   F               4   \n",
       "118607                   0  126000.0     Bachelor   F               3   \n",
       "\n",
       "                    dept  is_manager  direct_reports   boss_id  \n",
       "employee_id                                                     \n",
       "138719       engineering       False             0.0   43602.0  \n",
       "3192               sales       False             0.0   87847.0  \n",
       "114657             sales       False             0.0  180854.0  \n",
       "29039                 HR       False             0.0   88370.0  \n",
       "118607             sales       False             0.0   23565.0  "
      ]
     },
     "execution_count": 12,
     "metadata": {},
     "output_type": "execute_result"
    }
   ],
   "source": [
    "data.head()\n"
   ]
  },
  {
   "cell_type": "code",
   "execution_count": 22,
   "metadata": {},
   "outputs": [
    {
     "name": "stdout",
     "output_type": "stream",
     "text": [
      "<class 'pandas.core.frame.DataFrame'>\n",
      "Int64Index: 10000 entries, 138719 to 72227\n",
      "Data columns (total 9 columns):\n",
      " #   Column          Non-Null Count  Dtype  \n",
      "---  ------          --------------  -----  \n",
      " 0   signing_bonus   10000 non-null  int64  \n",
      " 1   salary          10000 non-null  float64\n",
      " 2   degree_level    10000 non-null  object \n",
      " 3   sex             10000 non-null  object \n",
      " 4   yrs_experience  10000 non-null  int64  \n",
      " 5   dept            10000 non-null  object \n",
      " 6   is_manager      10000 non-null  bool   \n",
      " 7   direct_reports  10000 non-null  float64\n",
      " 8   boss_id         9999 non-null   float64\n",
      "dtypes: bool(1), float64(3), int64(2), object(3)\n",
      "memory usage: 712.9+ KB\n"
     ]
    }
   ],
   "source": [
    "data.info()"
   ]
  },
  {
   "cell_type": "code",
   "execution_count": 24,
   "metadata": {},
   "outputs": [
    {
     "data": {
      "text/html": [
       "<div>\n",
       "<style scoped>\n",
       "    .dataframe tbody tr th:only-of-type {\n",
       "        vertical-align: middle;\n",
       "    }\n",
       "\n",
       "    .dataframe tbody tr th {\n",
       "        vertical-align: top;\n",
       "    }\n",
       "\n",
       "    .dataframe thead th {\n",
       "        text-align: right;\n",
       "    }\n",
       "</style>\n",
       "<table border=\"1\" class=\"dataframe\">\n",
       "  <thead>\n",
       "    <tr style=\"text-align: right;\">\n",
       "      <th></th>\n",
       "      <th>signing_bonus</th>\n",
       "      <th>salary</th>\n",
       "      <th>degree_level</th>\n",
       "      <th>sex</th>\n",
       "      <th>yrs_experience</th>\n",
       "      <th>dept</th>\n",
       "      <th>is_manager</th>\n",
       "      <th>direct_reports</th>\n",
       "      <th>boss_id</th>\n",
       "    </tr>\n",
       "    <tr>\n",
       "      <th>employee_id</th>\n",
       "      <th></th>\n",
       "      <th></th>\n",
       "      <th></th>\n",
       "      <th></th>\n",
       "      <th></th>\n",
       "      <th></th>\n",
       "      <th></th>\n",
       "      <th></th>\n",
       "      <th></th>\n",
       "    </tr>\n",
       "  </thead>\n",
       "  <tbody>\n",
       "    <tr>\n",
       "      <th>138719</th>\n",
       "      <td>0</td>\n",
       "      <td>1</td>\n",
       "      <td>Master</td>\n",
       "      <td>1</td>\n",
       "      <td>2</td>\n",
       "      <td>engineering</td>\n",
       "      <td>False</td>\n",
       "      <td>0.0</td>\n",
       "      <td>43602.0</td>\n",
       "    </tr>\n",
       "    <tr>\n",
       "      <th>3192</th>\n",
       "      <td>0</td>\n",
       "      <td>1</td>\n",
       "      <td>Bachelor</td>\n",
       "      <td>0</td>\n",
       "      <td>1</td>\n",
       "      <td>sales</td>\n",
       "      <td>False</td>\n",
       "      <td>0.0</td>\n",
       "      <td>87847.0</td>\n",
       "    </tr>\n",
       "    <tr>\n",
       "      <th>114657</th>\n",
       "      <td>0</td>\n",
       "      <td>1</td>\n",
       "      <td>Master</td>\n",
       "      <td>0</td>\n",
       "      <td>2</td>\n",
       "      <td>sales</td>\n",
       "      <td>False</td>\n",
       "      <td>0.0</td>\n",
       "      <td>180854.0</td>\n",
       "    </tr>\n",
       "    <tr>\n",
       "      <th>29039</th>\n",
       "      <td>0</td>\n",
       "      <td>0</td>\n",
       "      <td>High_School</td>\n",
       "      <td>0</td>\n",
       "      <td>4</td>\n",
       "      <td>HR</td>\n",
       "      <td>False</td>\n",
       "      <td>0.0</td>\n",
       "      <td>88370.0</td>\n",
       "    </tr>\n",
       "    <tr>\n",
       "      <th>118607</th>\n",
       "      <td>0</td>\n",
       "      <td>0</td>\n",
       "      <td>Bachelor</td>\n",
       "      <td>0</td>\n",
       "      <td>3</td>\n",
       "      <td>sales</td>\n",
       "      <td>False</td>\n",
       "      <td>0.0</td>\n",
       "      <td>23565.0</td>\n",
       "    </tr>\n",
       "  </tbody>\n",
       "</table>\n",
       "</div>"
      ],
      "text/plain": [
       "             signing_bonus  salary degree_level  sex  yrs_experience  \\\n",
       "employee_id                                                            \n",
       "138719                   0       1       Master    1               2   \n",
       "3192                     0       1     Bachelor    0               1   \n",
       "114657                   0       1       Master    0               2   \n",
       "29039                    0       0  High_School    0               4   \n",
       "118607                   0       0     Bachelor    0               3   \n",
       "\n",
       "                    dept  is_manager  direct_reports   boss_id  \n",
       "employee_id                                                     \n",
       "138719       engineering       False             0.0   43602.0  \n",
       "3192               sales       False             0.0   87847.0  \n",
       "114657             sales       False             0.0  180854.0  \n",
       "29039                 HR       False             0.0   88370.0  \n",
       "118607             sales       False             0.0   23565.0  "
      ]
     },
     "execution_count": 24,
     "metadata": {},
     "output_type": "execute_result"
    }
   ],
   "source": [
    "## Create Label \n",
    "data_with_label = data.copy()\n",
    "data_with_label['salary'] = data_with_label['salary'].transform(lambda x: x > 150000).astype(int)\n",
    "data_with_label['sex'] = data_with_label['sex'].transform(lambda x: x == 'M').astype(int)\n",
    "data_with_label.head()"
   ]
  },
  {
   "cell_type": "code",
   "execution_count": null,
   "metadata": {},
   "outputs": [],
   "source": []
  },
  {
   "cell_type": "code",
   "execution_count": 26,
   "metadata": {},
   "outputs": [],
   "source": [
    "### Create StandardDataset\n",
    "\n",
    "std_data = StandardDataset(df=data_with_label,   \n",
    "                         label_name='salary',\n",
    "                         favorable_classes =[1],\n",
    "                        protected_attribute_names=['sex'], \n",
    "                         privileged_classes=[[1]],\n",
    "                        categorical_features=['degree_level', 'dept'], \n",
    "                          features_to_drop=['boss_id', 'is_manager'])\n",
    "\n"
   ]
  },
  {
   "cell_type": "code",
   "execution_count": 27,
   "metadata": {},
   "outputs": [],
   "source": [
    "df_data = std_data.convert_to_dataframe()\n",
    "binary_data = BinaryLabelDataset(favorable_label=1, unfavorable_label=0, df=df_data[0], label_names=['salary'],\n",
    "              protected_attribute_names=['sex'])\n",
    "\n",
    "privileged_groups= [{'sex':1}]\n",
    "unprivileged_groups= [{'sex': 0}]"
   ]
  },
  {
   "cell_type": "code",
   "execution_count": 28,
   "metadata": {},
   "outputs": [],
   "source": [
    "## Splitting the Data\n",
    "data_train, data_vt = binary_data.split([0.7], shuffle=True)\n",
    "\n",
    "data_val, data_test = binary_data.split([0.5], shuffle=True)"
   ]
  },
  {
   "cell_type": "code",
   "execution_count": 34,
   "metadata": {},
   "outputs": [
    {
     "name": "stdout",
     "output_type": "stream",
     "text": [
      "Mean difference (mean label value on privileged instances - mean label value on unprivileged instances): -0.1490216737295076\n",
      "\n",
      "\n",
      "Disparate impact (probability of favorable outcome for unprivileged instances / probability of favorable outcome for privileged instances): 0.7756241576968832\n"
     ]
    }
   ],
   "source": [
    "### First Metrics\n",
    "metric_train = BinaryLabelDatasetMetric(data_train, \n",
    "                            unprivileged_groups=unprivileged_groups, \n",
    "                            privileged_groups=privileged_groups)\n",
    "#Explainer \n",
    "ex_metric_train = MetricTextExplainer(metric_train)\n",
    "\n",
    "print(ex_metric_train.mean_difference())\n",
    "print('\\n')\n",
    "print(ex_metric_train.disparate_impact())"
   ]
  },
  {
   "cell_type": "markdown",
   "metadata": {},
   "source": [
    "### Random Forest Classifier "
   ]
  },
  {
   "cell_type": "code",
   "execution_count": 36,
   "metadata": {},
   "outputs": [],
   "source": [
    "#Creating X,y\n",
    "X_train = data_train.features\n",
    "y_train = data_train.labels.ravel()\n",
    "X_test = data_val.features\n",
    "y_test = data_val.labels.ravel()"
   ]
  },
  {
   "cell_type": "code",
   "execution_count": 51,
   "metadata": {},
   "outputs": [
    {
     "data": {
      "text/plain": [
       "RandomForestClassifier(bootstrap=True, class_weight=None, criterion='gini',\n",
       "                       max_depth=5, max_features='auto', max_leaf_nodes=None,\n",
       "                       min_impurity_decrease=0.0, min_impurity_split=None,\n",
       "                       min_samples_leaf=1, min_samples_split=2,\n",
       "                       min_weight_fraction_leaf=0.0, n_estimators=1000,\n",
       "                       n_jobs=None, oob_score=False, random_state=None,\n",
       "                       verbose=0, warm_start=False)"
      ]
     },
     "execution_count": 51,
     "metadata": {},
     "output_type": "execute_result"
    }
   ],
   "source": [
    "# Creating Random Forest Classifier\n",
    "rfc = RandomForestClassifier(n_estimators=1000, max_depth=5)\n",
    "rfc.fit(X_train, y_train)\n"
   ]
  },
  {
   "cell_type": "code",
   "execution_count": 52,
   "metadata": {},
   "outputs": [],
   "source": [
    "#Creating Predicted Dataframe\n",
    "y_pred = rfc.predict(X_test)\n",
    "data_val_pred = data_val.copy()\n",
    "data_val_pred.labels = y_pred"
   ]
  },
  {
   "cell_type": "code",
   "execution_count": 54,
   "metadata": {},
   "outputs": [
    {
     "data": {
      "text/plain": [
       "0.7738"
      ]
     },
     "execution_count": 54,
     "metadata": {},
     "output_type": "execute_result"
    }
   ],
   "source": [
    "rfc.score(X_test, y_test)"
   ]
  },
  {
   "cell_type": "code",
   "execution_count": 55,
   "metadata": {},
   "outputs": [
    {
     "name": "stdout",
     "output_type": "stream",
     "text": [
      "Mean difference (mean label value on privileged instances - mean label value on unprivileged instances): -0.21191370063682125\n",
      "\n",
      "\n",
      "Disparate impact (probability of favorable outcome for unprivileged instances / probability of favorable outcome for privileged instances): 0.7669382359140682\n",
      "\n",
      "\n",
      "True positive rate (TPR, recall, sensitivity = TP / (TP + FN)): 0.9977079240340537\n",
      "\n",
      "\n",
      "Positive predictive value (PPV, precision = TP / (TP + FP)): 0.730520258930712\n",
      "\n",
      "\n",
      "Average odds difference (average of TPR difference and FPR difference, 0 = equality of odds): -0.1703981167343366\n",
      "\n",
      "\n",
      "True positive rate difference (true positive rate on unprivileged instances - true positive rate on privileged instances): -0.0014946461670859446\n",
      "\n",
      "\n",
      "Theil index (generalized entropy index with alpha = 1): 0.053098004316676814\n"
     ]
    }
   ],
   "source": [
    "#Getting the Metrics \n",
    "metric_preds = BinaryLabelDatasetMetric(data_val_pred, \n",
    "                            unprivileged_groups=unprivileged_groups, \n",
    "                            privileged_groups=privileged_groups)\n",
    "\n",
    "ex_metric_preds = MetricTextExplainer(metric_preds)\n",
    "\n",
    "print(ex_metric_preds.mean_difference())\n",
    "print('\\n')\n",
    "print(ex_metric_preds.disparate_impact())\n",
    "\n",
    "\n",
    "model_metric = ClassificationMetric(data_val, data_val_pred, \n",
    "                            unprivileged_groups=unprivileged_groups, \n",
    "                            privileged_groups=privileged_groups)\n",
    "\n",
    "ex_model_metric= MetricTextExplainer(model_metric)\n",
    "print('\\n')\n",
    "print(ex_model_metric.recall())\n",
    "print('\\n')\n",
    "print(ex_model_metric.precision())\n",
    "print('\\n')\n",
    "print(ex_model_metric.average_odds_difference())\n",
    "print('\\n')\n",
    "print(ex_model_metric.equal_opportunity_difference())\n",
    "print('\\n')\n",
    "print(ex_model_metric.theil_index())"
   ]
  },
  {
   "cell_type": "markdown",
   "metadata": {},
   "source": [
    "## Debiasing through Preprocessing "
   ]
  },
  {
   "cell_type": "markdown",
   "metadata": {},
   "source": [
    "#### Reweighing"
   ]
  },
  {
   "cell_type": "code",
   "execution_count": 60,
   "metadata": {},
   "outputs": [],
   "source": [
    "RW = Reweighing(unprivileged_groups=unprivileged_groups, \n",
    "               privileged_groups=privileged_groups)\n",
    "\n",
    "#Splitting the Data\n",
    "data_rw_train = RW.fit_transform(data_train)\n",
    "\n",
    "data_rw_val = RW.fit_transform(data_val)"
   ]
  },
  {
   "cell_type": "code",
   "execution_count": 138,
   "metadata": {},
   "outputs": [
    {
     "data": {
      "text/plain": [
       "array([0.91393568, 0.7877408 , 1.20728437, ..., 0.91393568, 0.91393568,\n",
       "       0.7877408 ])"
      ]
     },
     "execution_count": 138,
     "metadata": {},
     "output_type": "execute_result"
    }
   ],
   "source": []
  },
  {
   "cell_type": "code",
   "execution_count": 63,
   "metadata": {},
   "outputs": [
    {
     "name": "stdout",
     "output_type": "stream",
     "text": [
      "Mean difference (mean label value on privileged instances - mean label value on unprivileged instances): -2.220446049250313e-16\n",
      "\n",
      "\n",
      "Disparate impact (probability of favorable outcome for unprivileged instances / probability of favorable outcome for privileged instances): 0.9999999999999997\n"
     ]
    }
   ],
   "source": [
    "### Reweigh Metrics\n",
    "metric_rw_train = BinaryLabelDatasetMetric(data_rw_train, \n",
    "                            unprivileged_groups=unprivileged_groups, \n",
    "                            privileged_groups=privileged_groups)\n",
    "#Explainer \n",
    "ex_metric_rw_train = MetricTextExplainer(metric_rw_train)\n",
    "\n",
    "print(ex_metric_rw_train.mean_difference())\n",
    "print('\\n')\n",
    "print(ex_metric_rw_train.disparate_impact())"
   ]
  },
  {
   "cell_type": "markdown",
   "metadata": {},
   "source": [
    "### Random Forest Classifier with Reweighing "
   ]
  },
  {
   "cell_type": "code",
   "execution_count": 65,
   "metadata": {},
   "outputs": [],
   "source": [
    "#Creating X,y\n",
    "X_rw_train = data_rw_train.features\n",
    "y_rw_train = data_rw_train.labels.ravel()\n",
    "X_rw_test = data_rw_val.features\n",
    "y_rw_test = data_rw_val.labels.ravel()"
   ]
  },
  {
   "cell_type": "code",
   "execution_count": 87,
   "metadata": {},
   "outputs": [
    {
     "data": {
      "text/plain": [
       "RandomForestClassifier(bootstrap=True, class_weight=None, criterion='gini',\n",
       "                       max_depth=5, max_features='auto', max_leaf_nodes=None,\n",
       "                       min_impurity_decrease=0.0, min_impurity_split=None,\n",
       "                       min_samples_leaf=1, min_samples_split=2,\n",
       "                       min_weight_fraction_leaf=0.0, n_estimators=1000,\n",
       "                       n_jobs=None, oob_score=False, random_state=None,\n",
       "                       verbose=0, warm_start=False)"
      ]
     },
     "execution_count": 87,
     "metadata": {},
     "output_type": "execute_result"
    }
   ],
   "source": [
    "# Creating Random Forest Classifier\n",
    "rfc_rw = RandomForestClassifier(n_estimators=1000, max_depth=5)\n",
    "rfc_rw.fit(X_rw_train, y_rw_train, sample_weight=data_transf_train.instance_weights)"
   ]
  },
  {
   "cell_type": "code",
   "execution_count": 88,
   "metadata": {},
   "outputs": [],
   "source": [
    "#Creating Predicted Dataframe\n",
    "y_rw_pred = rfc_rw.predict(X_test)\n",
    "data_val_rw_pred = data_rw_val.copy()\n",
    "data_val_rw_pred.labels = y_rw_pred"
   ]
  },
  {
   "cell_type": "code",
   "execution_count": 150,
   "metadata": {},
   "outputs": [
    {
     "data": {
      "text/markdown": [
       "#### Model - with reweighing - dataset metrics"
      ],
      "text/plain": [
       "<IPython.core.display.Markdown object>"
      ]
     },
     "metadata": {},
     "output_type": "display_data"
    },
    {
     "name": "stdout",
     "output_type": "stream",
     "text": [
      "Mean difference (mean label value on privileged instances - mean label value on unprivileged instances): -0.13228741122806253\n",
      "\n",
      "\n",
      "Disparate impact (probability of favorable outcome for unprivileged instances / probability of favorable outcome for privileged instances): 0.8520019469702573\n"
     ]
    },
    {
     "data": {
      "text/markdown": [
       "#### Model - with reweighing - classification metrics"
      ],
      "text/plain": [
       "<IPython.core.display.Markdown object>"
      ]
     },
     "metadata": {},
     "output_type": "display_data"
    },
    {
     "name": "stdout",
     "output_type": "stream",
     "text": [
      "True positive rate (TPR, recall, sensitivity = TP / (TP + FN)): 0.9980123407089898\n",
      "Positive predictive value (PPV, precision = TP / (TP + FP)): 0.7197090367884792\n",
      "Average odds difference (average of TPR difference and FPR difference, 0 = equality of odds): -0.1698400810200509\n",
      "True positive rate difference (true positive rate on unprivileged instances - true positive rate on privileged instances): -0.0003785747385145477\n",
      "Theil index (generalized entropy index with alpha = 1): 0.052892902386780814\n",
      "Classification accuracy on privileged instances: 0.714690062815364\n",
      "Classification accuracy on unprivileged instances: 0.846515007142857\n"
     ]
    }
   ],
   "source": [
    "#Getting the Metrics \n",
    "display(Markdown(\"#### Model - with reweighing - dataset metrics\"))\n",
    "\n",
    "\n",
    "metric_rw_preds = BinaryLabelDatasetMetric(data_val_rw_pred, \n",
    "                            unprivileged_groups=unprivileged_groups, \n",
    "                            privileged_groups=privileged_groups)\n",
    "\n",
    "ex_metric_rw_preds = MetricTextExplainer(metric_rw_preds)\n",
    "\n",
    "print(ex_metric_rw_preds.mean_difference())\n",
    "print('\\n')\n",
    "print(ex_metric_rw_preds.disparate_impact())\n",
    "\n",
    "display(Markdown(\"#### Model - with reweighing - classification metrics\"))\n",
    "model_rw_metric = ClassificationMetric(data_rw_val, data_val_rw_pred, \n",
    "                            unprivileged_groups=unprivileged_groups, \n",
    "                            privileged_groups=privileged_groups)\n",
    "\n",
    "ex_model_rw_metric= MetricTextExplainer(model_rw_metric)\n",
    "\n",
    "print(ex_model_rw_metric.recall())\n",
    "print(ex_model_rw_metric.precision())\n",
    "print(ex_model_rw_metric.average_odds_difference())\n",
    "print(ex_model_rw_metric.equal_opportunity_difference())\n",
    "print(ex_model_rw_metric.theil_index())\n",
    "print(ex_model_rw_metric.accuracy(privileged=True))\n",
    "print(ex_model_rw_metric.accuracy(privileged=False))"
   ]
  },
  {
   "cell_type": "code",
   "execution_count": 79,
   "metadata": {},
   "outputs": [
    {
     "name": "stdout",
     "output_type": "stream",
     "text": [
      "The Accuracy score is 0.774.\n",
      "\n",
      "The Precision score is 0.731.\n",
      "\n",
      "The Recall score is 0.998.\n",
      "\n",
      "      Confusion Matrix\n"
     ]
    },
    {
     "data": {
      "text/html": [
       "<div>\n",
       "<style scoped>\n",
       "    .dataframe tbody tr th:only-of-type {\n",
       "        vertical-align: middle;\n",
       "    }\n",
       "\n",
       "    .dataframe tbody tr th {\n",
       "        vertical-align: top;\n",
       "    }\n",
       "\n",
       "    .dataframe thead th {\n",
       "        text-align: right;\n",
       "    }\n",
       "</style>\n",
       "<table border=\"1\" class=\"dataframe\">\n",
       "  <thead>\n",
       "    <tr style=\"text-align: right;\">\n",
       "      <th></th>\n",
       "      <th>Actual True</th>\n",
       "      <th>Actual False</th>\n",
       "    </tr>\n",
       "  </thead>\n",
       "  <tbody>\n",
       "    <tr>\n",
       "      <th>Predicted True</th>\n",
       "      <td>3047</td>\n",
       "      <td>1124</td>\n",
       "    </tr>\n",
       "    <tr>\n",
       "      <th>Predicted False</th>\n",
       "      <td>7</td>\n",
       "      <td>822</td>\n",
       "    </tr>\n",
       "  </tbody>\n",
       "</table>\n",
       "</div>"
      ],
      "text/plain": [
       "                 Actual True  Actual False\n",
       "Predicted True          3047          1124\n",
       "Predicted False            7           822"
      ]
     },
     "execution_count": 79,
     "metadata": {},
     "output_type": "execute_result"
    }
   ],
   "source": [
    "scorecard(y_rw_test, y_rw_pred)"
   ]
  },
  {
   "cell_type": "markdown",
   "metadata": {},
   "source": [
    "### Inprocessing with Adversarial Debiaising\n",
    "\n"
   ]
  },
  {
   "cell_type": "code",
   "execution_count": 153,
   "metadata": {},
   "outputs": [],
   "source": [
    "sess.close()\n",
    "tf.reset_default_graph()\n",
    "sess = tf.Session()"
   ]
  },
  {
   "cell_type": "code",
   "execution_count": 154,
   "metadata": {},
   "outputs": [],
   "source": [
    "##Creating Tensorflow Session - must not use Tensorflow 2.0 \n",
    "sess = tf.Session()\n",
    "db_model = AdversarialDebiasing(privileged_groups = privileged_groups,\n",
    "                          unprivileged_groups = unprivileged_groups,\n",
    "                          scope_name='debiased_classifier',\n",
    "                            num_epochs  = 100,\n",
    "                            batch_size = 100,\n",
    "                            adversary_loss_weight = .1,     \n",
    "                            debias=True,\n",
    "                          sess=sess)"
   ]
  },
  {
   "cell_type": "code",
   "execution_count": 155,
   "metadata": {},
   "outputs": [
    {
     "name": "stdout",
     "output_type": "stream",
     "text": [
      "epoch 0; iter: 0; batch classifier loss: 0.691504; batch adversarial loss: 0.749611\n",
      "epoch 1; iter: 0; batch classifier loss: 0.587889; batch adversarial loss: 0.759727\n",
      "epoch 2; iter: 0; batch classifier loss: 0.464046; batch adversarial loss: 0.709005\n",
      "epoch 3; iter: 0; batch classifier loss: 0.505298; batch adversarial loss: 0.703604\n",
      "epoch 4; iter: 0; batch classifier loss: 0.473328; batch adversarial loss: 0.694708\n",
      "epoch 5; iter: 0; batch classifier loss: 0.423008; batch adversarial loss: 0.684895\n",
      "epoch 6; iter: 0; batch classifier loss: 0.453056; batch adversarial loss: 0.684875\n",
      "epoch 7; iter: 0; batch classifier loss: 0.487496; batch adversarial loss: 0.683074\n",
      "epoch 8; iter: 0; batch classifier loss: 0.392686; batch adversarial loss: 0.613378\n",
      "epoch 9; iter: 0; batch classifier loss: 0.413701; batch adversarial loss: 0.650609\n",
      "epoch 10; iter: 0; batch classifier loss: 0.460129; batch adversarial loss: 0.708791\n",
      "epoch 11; iter: 0; batch classifier loss: 0.533745; batch adversarial loss: 0.594366\n",
      "epoch 12; iter: 0; batch classifier loss: 0.478092; batch adversarial loss: 0.627579\n",
      "epoch 13; iter: 0; batch classifier loss: 0.520575; batch adversarial loss: 0.599800\n",
      "epoch 14; iter: 0; batch classifier loss: 0.482868; batch adversarial loss: 0.672392\n",
      "epoch 15; iter: 0; batch classifier loss: 0.510154; batch adversarial loss: 0.594178\n",
      "epoch 16; iter: 0; batch classifier loss: 0.420038; batch adversarial loss: 0.564373\n",
      "epoch 17; iter: 0; batch classifier loss: 0.411618; batch adversarial loss: 0.628730\n",
      "epoch 18; iter: 0; batch classifier loss: 0.497885; batch adversarial loss: 0.621720\n",
      "epoch 19; iter: 0; batch classifier loss: 0.546368; batch adversarial loss: 0.616132\n",
      "epoch 20; iter: 0; batch classifier loss: 0.513577; batch adversarial loss: 0.630324\n",
      "epoch 21; iter: 0; batch classifier loss: 0.419271; batch adversarial loss: 0.650437\n",
      "epoch 22; iter: 0; batch classifier loss: 0.540125; batch adversarial loss: 0.620846\n",
      "epoch 23; iter: 0; batch classifier loss: 0.431449; batch adversarial loss: 0.624651\n",
      "epoch 24; iter: 0; batch classifier loss: 0.414694; batch adversarial loss: 0.657791\n",
      "epoch 25; iter: 0; batch classifier loss: 0.414857; batch adversarial loss: 0.602855\n",
      "epoch 26; iter: 0; batch classifier loss: 0.418285; batch adversarial loss: 0.650531\n",
      "epoch 27; iter: 0; batch classifier loss: 0.513196; batch adversarial loss: 0.648148\n",
      "epoch 28; iter: 0; batch classifier loss: 0.530476; batch adversarial loss: 0.600568\n",
      "epoch 29; iter: 0; batch classifier loss: 0.532476; batch adversarial loss: 0.672311\n",
      "epoch 30; iter: 0; batch classifier loss: 0.423958; batch adversarial loss: 0.624674\n",
      "epoch 31; iter: 0; batch classifier loss: 0.576490; batch adversarial loss: 0.669079\n",
      "epoch 32; iter: 0; batch classifier loss: 0.580635; batch adversarial loss: 0.652982\n",
      "epoch 33; iter: 0; batch classifier loss: 0.689346; batch adversarial loss: 0.662351\n",
      "epoch 34; iter: 0; batch classifier loss: 0.561587; batch adversarial loss: 0.687555\n",
      "epoch 35; iter: 0; batch classifier loss: 0.581065; batch adversarial loss: 0.662107\n",
      "epoch 36; iter: 0; batch classifier loss: 0.511445; batch adversarial loss: 0.659960\n",
      "epoch 37; iter: 0; batch classifier loss: 0.512383; batch adversarial loss: 0.641299\n",
      "epoch 38; iter: 0; batch classifier loss: 0.537727; batch adversarial loss: 0.651483\n",
      "epoch 39; iter: 0; batch classifier loss: 0.539354; batch adversarial loss: 0.650386\n",
      "epoch 40; iter: 0; batch classifier loss: 0.564522; batch adversarial loss: 0.622554\n",
      "epoch 41; iter: 0; batch classifier loss: 0.563854; batch adversarial loss: 0.659888\n",
      "epoch 42; iter: 0; batch classifier loss: 0.518418; batch adversarial loss: 0.617006\n",
      "epoch 43; iter: 0; batch classifier loss: 0.586383; batch adversarial loss: 0.630411\n",
      "epoch 44; iter: 0; batch classifier loss: 0.497300; batch adversarial loss: 0.636485\n",
      "epoch 45; iter: 0; batch classifier loss: 0.557347; batch adversarial loss: 0.624086\n",
      "epoch 46; iter: 0; batch classifier loss: 0.503657; batch adversarial loss: 0.649116\n",
      "epoch 47; iter: 0; batch classifier loss: 0.481729; batch adversarial loss: 0.634466\n",
      "epoch 48; iter: 0; batch classifier loss: 0.508983; batch adversarial loss: 0.646015\n",
      "epoch 49; iter: 0; batch classifier loss: 0.468123; batch adversarial loss: 0.651767\n",
      "epoch 50; iter: 0; batch classifier loss: 0.598338; batch adversarial loss: 0.658141\n",
      "epoch 51; iter: 0; batch classifier loss: 0.504466; batch adversarial loss: 0.593788\n",
      "epoch 52; iter: 0; batch classifier loss: 0.471708; batch adversarial loss: 0.612854\n",
      "epoch 53; iter: 0; batch classifier loss: 0.491498; batch adversarial loss: 0.677451\n",
      "epoch 54; iter: 0; batch classifier loss: 0.528667; batch adversarial loss: 0.673130\n",
      "epoch 55; iter: 0; batch classifier loss: 0.459345; batch adversarial loss: 0.648548\n",
      "epoch 56; iter: 0; batch classifier loss: 0.510917; batch adversarial loss: 0.640835\n",
      "epoch 57; iter: 0; batch classifier loss: 0.442911; batch adversarial loss: 0.642132\n",
      "epoch 58; iter: 0; batch classifier loss: 0.497764; batch adversarial loss: 0.630315\n",
      "epoch 59; iter: 0; batch classifier loss: 0.478772; batch adversarial loss: 0.672018\n",
      "epoch 60; iter: 0; batch classifier loss: 0.505381; batch adversarial loss: 0.633473\n",
      "epoch 61; iter: 0; batch classifier loss: 0.453514; batch adversarial loss: 0.648045\n",
      "epoch 62; iter: 0; batch classifier loss: 0.524319; batch adversarial loss: 0.650671\n",
      "epoch 63; iter: 0; batch classifier loss: 0.492021; batch adversarial loss: 0.655667\n",
      "epoch 64; iter: 0; batch classifier loss: 0.433086; batch adversarial loss: 0.644388\n",
      "epoch 65; iter: 0; batch classifier loss: 0.433058; batch adversarial loss: 0.614553\n",
      "epoch 66; iter: 0; batch classifier loss: 0.484342; batch adversarial loss: 0.654503\n",
      "epoch 67; iter: 0; batch classifier loss: 0.482962; batch adversarial loss: 0.698157\n",
      "epoch 68; iter: 0; batch classifier loss: 0.446666; batch adversarial loss: 0.672094\n",
      "epoch 69; iter: 0; batch classifier loss: 0.503945; batch adversarial loss: 0.641758\n",
      "epoch 70; iter: 0; batch classifier loss: 0.552655; batch adversarial loss: 0.645747\n",
      "epoch 71; iter: 0; batch classifier loss: 0.539575; batch adversarial loss: 0.658652\n",
      "epoch 72; iter: 0; batch classifier loss: 0.490272; batch adversarial loss: 0.638175\n",
      "epoch 73; iter: 0; batch classifier loss: 0.451097; batch adversarial loss: 0.667021\n",
      "epoch 74; iter: 0; batch classifier loss: 0.457926; batch adversarial loss: 0.620854\n",
      "epoch 75; iter: 0; batch classifier loss: 0.461241; batch adversarial loss: 0.680714\n",
      "epoch 76; iter: 0; batch classifier loss: 0.460840; batch adversarial loss: 0.691905\n",
      "epoch 77; iter: 0; batch classifier loss: 0.479631; batch adversarial loss: 0.646280\n",
      "epoch 78; iter: 0; batch classifier loss: 0.530494; batch adversarial loss: 0.670764\n",
      "epoch 79; iter: 0; batch classifier loss: 0.481887; batch adversarial loss: 0.646263\n",
      "epoch 80; iter: 0; batch classifier loss: 0.514446; batch adversarial loss: 0.675436\n",
      "epoch 81; iter: 0; batch classifier loss: 0.416955; batch adversarial loss: 0.614309\n",
      "epoch 82; iter: 0; batch classifier loss: 0.441972; batch adversarial loss: 0.680487\n",
      "epoch 83; iter: 0; batch classifier loss: 0.464394; batch adversarial loss: 0.630919\n",
      "epoch 84; iter: 0; batch classifier loss: 0.465637; batch adversarial loss: 0.600156\n",
      "epoch 85; iter: 0; batch classifier loss: 0.544451; batch adversarial loss: 0.634107\n",
      "epoch 86; iter: 0; batch classifier loss: 0.477377; batch adversarial loss: 0.697314\n",
      "epoch 87; iter: 0; batch classifier loss: 0.493122; batch adversarial loss: 0.599614\n",
      "epoch 88; iter: 0; batch classifier loss: 0.591821; batch adversarial loss: 0.645183\n",
      "epoch 89; iter: 0; batch classifier loss: 0.496872; batch adversarial loss: 0.660249\n",
      "epoch 90; iter: 0; batch classifier loss: 0.548012; batch adversarial loss: 0.656488\n",
      "epoch 91; iter: 0; batch classifier loss: 0.501909; batch adversarial loss: 0.642722\n",
      "epoch 92; iter: 0; batch classifier loss: 0.484951; batch adversarial loss: 0.663531\n",
      "epoch 93; iter: 0; batch classifier loss: 0.501360; batch adversarial loss: 0.618008\n",
      "epoch 94; iter: 0; batch classifier loss: 0.465385; batch adversarial loss: 0.665424\n",
      "epoch 95; iter: 0; batch classifier loss: 0.459033; batch adversarial loss: 0.647500\n",
      "epoch 96; iter: 0; batch classifier loss: 0.485183; batch adversarial loss: 0.640097\n",
      "epoch 97; iter: 0; batch classifier loss: 0.427462; batch adversarial loss: 0.629064\n",
      "epoch 98; iter: 0; batch classifier loss: 0.473021; batch adversarial loss: 0.602568\n",
      "epoch 99; iter: 0; batch classifier loss: 0.479492; batch adversarial loss: 0.635961\n"
     ]
    },
    {
     "data": {
      "text/plain": [
       "<aif360.algorithms.inprocessing.adversarial_debiasing.AdversarialDebiasing at 0x14b46bd30>"
      ]
     },
     "execution_count": 155,
     "metadata": {},
     "output_type": "execute_result"
    }
   ],
   "source": [
    "db_model.fit(data_train) "
   ]
  },
  {
   "cell_type": "code",
   "execution_count": 156,
   "metadata": {},
   "outputs": [],
   "source": [
    "dataset_debiasing_train = db_model.predict(data_train)\n",
    "dataset_debiasing_test = db_model.predict(data_val)"
   ]
  },
  {
   "cell_type": "code",
   "execution_count": 157,
   "metadata": {},
   "outputs": [
    {
     "data": {
      "text/markdown": [
       "#### Model - with debiasing - dataset metrics"
      ],
      "text/plain": [
       "<IPython.core.display.Markdown object>"
      ]
     },
     "metadata": {},
     "output_type": "display_data"
    },
    {
     "name": "stdout",
     "output_type": "stream",
     "text": [
      "Train set: Difference in mean outcomes between unprivileged and privileged groups = -0.184829\n",
      "Test set: Difference in mean outcomes between unprivileged and privileged groups = -0.198142\n"
     ]
    },
    {
     "data": {
      "text/markdown": [
       "#### Model - with debiasing - classification metrics"
      ],
      "text/plain": [
       "<IPython.core.display.Markdown object>"
      ]
     },
     "metadata": {},
     "output_type": "display_data"
    },
    {
     "name": "stdout",
     "output_type": "stream",
     "text": [
      "Test set: Classification accuracy = 0.775400\n",
      "Test set: Balanced classification accuracy = 0.713417\n",
      "Test set: Disparate impact = 0.779151\n",
      "Test set: Equal opportunity difference = 0.008152\n",
      "Test set: Average odds difference = -0.154266\n",
      "Test set: Theil_index = 0.055493\n"
     ]
    }
   ],
   "source": [
    "\n",
    "# Metrics for the dataset from model with debiasing\n",
    "display(Markdown(\"#### Model - with debiasing - dataset metrics\"))\n",
    "metric_dataset_debiasing_train = BinaryLabelDatasetMetric(dataset_debiasing_train, \n",
    "                                             unprivileged_groups=unprivileged_groups,\n",
    "                                             privileged_groups=privileged_groups)\n",
    "\n",
    "print(\"Train set: Difference in mean outcomes between unprivileged and privileged groups = %f\" % metric_dataset_debiasing_train.mean_difference())\n",
    "\n",
    "metric_dataset_debiasing_test = BinaryLabelDatasetMetric(dataset_debiasing_test, \n",
    "                                             unprivileged_groups=unprivileged_groups,\n",
    "                                             privileged_groups=privileged_groups)\n",
    "\n",
    "print(\"Test set: Difference in mean outcomes between unprivileged and privileged groups = %f\" % metric_dataset_debiasing_test.mean_difference())\n",
    "\n",
    "\n",
    "\n",
    "display(Markdown(\"#### Model - with debiasing - classification metrics\"))\n",
    "classified_metric_debiasing_test = ClassificationMetric(data_val, \n",
    "                                                 dataset_debiasing_test,\n",
    "                                                    unprivileged_groups=unprivileged_groups,\n",
    "                                                 privileged_groups=privileged_groups)\n",
    "print(\"Test set: Classification accuracy = %f\" % classified_metric_debiasing_test.accuracy())\n",
    "TPR = classified_metric_debiasing_test.true_positive_rate()\n",
    "TNR = classified_metric_debiasing_test.true_negative_rate()\n",
    "bal_acc_debiasing_test = 0.5*(TPR+TNR)\n",
    "print(\"Test set: Balanced classification accuracy = %f\" % bal_acc_debiasing_test)\n",
    "print(\"Test set: Disparate impact = %f\" % classified_metric_debiasing_test.disparate_impact())\n",
    "print(\"Test set: Equal opportunity difference = %f\" % classified_metric_debiasing_test.equal_opportunity_difference())\n",
    "print(\"Test set: Average odds difference = %f\" % classified_metric_debiasing_test.average_odds_difference())\n",
    "print(\"Test set: Theil_index = %f\" % classified_metric_debiasing_test.theil_index())\n",
    "                                                        \n",
    "                                                        "
   ]
  },
  {
   "cell_type": "code",
   "execution_count": null,
   "metadata": {},
   "outputs": [],
   "source": [
    "### Postprocessing with ? "
   ]
  }
 ],
 "metadata": {
  "kernelspec": {
   "display_name": "Python 3",
   "language": "python",
   "name": "python3"
  },
  "language_info": {
   "codemirror_mode": {
    "name": "ipython",
    "version": 3
   },
   "file_extension": ".py",
   "mimetype": "text/x-python",
   "name": "python",
   "nbconvert_exporter": "python",
   "pygments_lexer": "ipython3",
   "version": "3.7.3"
  }
 },
 "nbformat": 4,
 "nbformat_minor": 4
}
