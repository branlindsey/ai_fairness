{
 "cells": [
  {
   "cell_type": "markdown",
   "metadata": {},
   "source": [
    "### Company X Biased Predictor Analysis"
   ]
  },
  {
   "cell_type": "markdown",
   "metadata": {},
   "source": [
    "#### Imports"
   ]
  },
  {
   "cell_type": "code",
   "execution_count": 412,
   "metadata": {},
   "outputs": [],
   "source": [
    "#Standard\n",
    "import pandas as pd\n",
    "import numpy as np\n",
    "import matplotlib.pyplot as plt\n",
    "%matplotlib inline\n",
    "\n",
    "#AIF360 Dataset Classes \n",
    "from aif360.datasets import StandardDataset\n",
    "from aif360.datasets import BinaryLabelDataset\n",
    "\n",
    "#AIF360 Metrics Classes  \n",
    "from aif360.metrics import BinaryLabelDatasetMetric, ClassificationMetric\n",
    "from aif360.algorithms.preprocessing import Reweighing\n",
    "from aif360.metrics import ClassificationMetric\n",
    "\n",
    "#AIF360 Algorithms \n",
    "from aif360.algorithms.preprocessing import Reweighing\n",
    "from aif360.algorithms.inprocessing import AdversarialDebiasing\n",
    "from aif360.algorithms.postprocessing import CalibratedEqOddsPostprocessing\n",
    "# AI360 Explainers\n",
    "from aif360.explainers import MetricTextExplainer\n",
    "\n",
    "#Sklearn\n",
    "from sklearn.ensemble import RandomForestClassifier\n",
    "from sklearn.metrics import accuracy_score, recall_score, precision_score\n",
    "from sklearn.model_selection import GridSearchCV, RandomizedSearchCV,train_test_split\n",
    "\n",
    "#Tensorflow -- install version before 2.0\n",
    "import tensorflow as tf \n",
    "\n",
    "#For Markdown\n",
    "from IPython.display import Markdown, display\n",
    "\n",
    "#Helper Functions\n",
    "from src.classifier_functions import *"
   ]
  },
  {
   "cell_type": "markdown",
   "metadata": {},
   "source": [
    "#### Load Data\n"
   ]
  },
  {
   "cell_type": "code",
   "execution_count": 335,
   "metadata": {},
   "outputs": [],
   "source": [
    "data = pd.read_csv('../company_x.csv', index_col='employee_id')"
   ]
  },
  {
   "cell_type": "code",
   "execution_count": 336,
   "metadata": {},
   "outputs": [
    {
     "data": {
      "text/html": [
       "<div>\n",
       "<style scoped>\n",
       "    .dataframe tbody tr th:only-of-type {\n",
       "        vertical-align: middle;\n",
       "    }\n",
       "\n",
       "    .dataframe tbody tr th {\n",
       "        vertical-align: top;\n",
       "    }\n",
       "\n",
       "    .dataframe thead th {\n",
       "        text-align: right;\n",
       "    }\n",
       "</style>\n",
       "<table border=\"1\" class=\"dataframe\">\n",
       "  <thead>\n",
       "    <tr style=\"text-align: right;\">\n",
       "      <th></th>\n",
       "      <th>signing_bonus</th>\n",
       "      <th>salary</th>\n",
       "      <th>degree_level</th>\n",
       "      <th>sex</th>\n",
       "      <th>yrs_experience</th>\n",
       "      <th>dept</th>\n",
       "      <th>is_manager</th>\n",
       "      <th>direct_reports</th>\n",
       "      <th>boss_id</th>\n",
       "      <th>total_reports</th>\n",
       "      <th>company_level</th>\n",
       "    </tr>\n",
       "    <tr>\n",
       "      <th>employee_id</th>\n",
       "      <th></th>\n",
       "      <th></th>\n",
       "      <th></th>\n",
       "      <th></th>\n",
       "      <th></th>\n",
       "      <th></th>\n",
       "      <th></th>\n",
       "      <th></th>\n",
       "      <th></th>\n",
       "      <th></th>\n",
       "      <th></th>\n",
       "    </tr>\n",
       "  </thead>\n",
       "  <tbody>\n",
       "    <tr>\n",
       "      <th>138719</th>\n",
       "      <td>0</td>\n",
       "      <td>273000.0</td>\n",
       "      <td>Master</td>\n",
       "      <td>M</td>\n",
       "      <td>2</td>\n",
       "      <td>engineering</td>\n",
       "      <td>False</td>\n",
       "      <td>0.0</td>\n",
       "      <td>43602</td>\n",
       "      <td>0</td>\n",
       "      <td>0</td>\n",
       "    </tr>\n",
       "    <tr>\n",
       "      <th>3192</th>\n",
       "      <td>0</td>\n",
       "      <td>301000.0</td>\n",
       "      <td>Bachelor</td>\n",
       "      <td>F</td>\n",
       "      <td>1</td>\n",
       "      <td>sales</td>\n",
       "      <td>False</td>\n",
       "      <td>0.0</td>\n",
       "      <td>87847</td>\n",
       "      <td>0</td>\n",
       "      <td>0</td>\n",
       "    </tr>\n",
       "    <tr>\n",
       "      <th>114657</th>\n",
       "      <td>0</td>\n",
       "      <td>261000.0</td>\n",
       "      <td>Master</td>\n",
       "      <td>F</td>\n",
       "      <td>2</td>\n",
       "      <td>sales</td>\n",
       "      <td>False</td>\n",
       "      <td>0.0</td>\n",
       "      <td>180854</td>\n",
       "      <td>0</td>\n",
       "      <td>0</td>\n",
       "    </tr>\n",
       "    <tr>\n",
       "      <th>29039</th>\n",
       "      <td>0</td>\n",
       "      <td>86000.0</td>\n",
       "      <td>High_School</td>\n",
       "      <td>F</td>\n",
       "      <td>4</td>\n",
       "      <td>HR</td>\n",
       "      <td>False</td>\n",
       "      <td>0.0</td>\n",
       "      <td>88370</td>\n",
       "      <td>0</td>\n",
       "      <td>0</td>\n",
       "    </tr>\n",
       "    <tr>\n",
       "      <th>118607</th>\n",
       "      <td>0</td>\n",
       "      <td>126000.0</td>\n",
       "      <td>Bachelor</td>\n",
       "      <td>F</td>\n",
       "      <td>3</td>\n",
       "      <td>sales</td>\n",
       "      <td>False</td>\n",
       "      <td>0.0</td>\n",
       "      <td>23565</td>\n",
       "      <td>0</td>\n",
       "      <td>0</td>\n",
       "    </tr>\n",
       "  </tbody>\n",
       "</table>\n",
       "</div>"
      ],
      "text/plain": [
       "             signing_bonus    salary degree_level sex  yrs_experience  \\\n",
       "employee_id                                                             \n",
       "138719                   0  273000.0       Master   M               2   \n",
       "3192                     0  301000.0     Bachelor   F               1   \n",
       "114657                   0  261000.0       Master   F               2   \n",
       "29039                    0   86000.0  High_School   F               4   \n",
       "118607                   0  126000.0     Bachelor   F               3   \n",
       "\n",
       "                    dept  is_manager  direct_reports  boss_id  total_reports  \\\n",
       "employee_id                                                                    \n",
       "138719       engineering       False             0.0    43602              0   \n",
       "3192               sales       False             0.0    87847              0   \n",
       "114657             sales       False             0.0   180854              0   \n",
       "29039                 HR       False             0.0    88370              0   \n",
       "118607             sales       False             0.0    23565              0   \n",
       "\n",
       "             company_level  \n",
       "employee_id                 \n",
       "138719                   0  \n",
       "3192                     0  \n",
       "114657                   0  \n",
       "29039                    0  \n",
       "118607                   0  "
      ]
     },
     "execution_count": 336,
     "metadata": {},
     "output_type": "execute_result"
    }
   ],
   "source": [
    "data.head()\n"
   ]
  },
  {
   "cell_type": "code",
   "execution_count": 337,
   "metadata": {},
   "outputs": [
    {
     "name": "stdout",
     "output_type": "stream",
     "text": [
      "<class 'pandas.core.frame.DataFrame'>\n",
      "Int64Index: 10000 entries, 138719 to 72227\n",
      "Data columns (total 11 columns):\n",
      " #   Column          Non-Null Count  Dtype  \n",
      "---  ------          --------------  -----  \n",
      " 0   signing_bonus   10000 non-null  int64  \n",
      " 1   salary          10000 non-null  float64\n",
      " 2   degree_level    10000 non-null  object \n",
      " 3   sex             10000 non-null  object \n",
      " 4   yrs_experience  10000 non-null  int64  \n",
      " 5   dept            10000 non-null  object \n",
      " 6   is_manager      10000 non-null  bool   \n",
      " 7   direct_reports  10000 non-null  float64\n",
      " 8   boss_id         10000 non-null  int64  \n",
      " 9   total_reports   10000 non-null  int64  \n",
      " 10  company_level   10000 non-null  int64  \n",
      "dtypes: bool(1), float64(2), int64(5), object(3)\n",
      "memory usage: 869.1+ KB\n"
     ]
    }
   ],
   "source": [
    "data.info()"
   ]
  },
  {
   "cell_type": "code",
   "execution_count": 338,
   "metadata": {},
   "outputs": [
    {
     "data": {
      "text/html": [
       "<div>\n",
       "<style scoped>\n",
       "    .dataframe tbody tr th:only-of-type {\n",
       "        vertical-align: middle;\n",
       "    }\n",
       "\n",
       "    .dataframe tbody tr th {\n",
       "        vertical-align: top;\n",
       "    }\n",
       "\n",
       "    .dataframe thead th {\n",
       "        text-align: right;\n",
       "    }\n",
       "</style>\n",
       "<table border=\"1\" class=\"dataframe\">\n",
       "  <thead>\n",
       "    <tr style=\"text-align: right;\">\n",
       "      <th></th>\n",
       "      <th>signing_bonus</th>\n",
       "      <th>salary</th>\n",
       "      <th>degree_level</th>\n",
       "      <th>sex</th>\n",
       "      <th>yrs_experience</th>\n",
       "      <th>dept</th>\n",
       "      <th>is_manager</th>\n",
       "      <th>direct_reports</th>\n",
       "      <th>boss_id</th>\n",
       "      <th>total_reports</th>\n",
       "      <th>company_level</th>\n",
       "    </tr>\n",
       "    <tr>\n",
       "      <th>employee_id</th>\n",
       "      <th></th>\n",
       "      <th></th>\n",
       "      <th></th>\n",
       "      <th></th>\n",
       "      <th></th>\n",
       "      <th></th>\n",
       "      <th></th>\n",
       "      <th></th>\n",
       "      <th></th>\n",
       "      <th></th>\n",
       "      <th></th>\n",
       "    </tr>\n",
       "  </thead>\n",
       "  <tbody>\n",
       "    <tr>\n",
       "      <th>138719</th>\n",
       "      <td>0</td>\n",
       "      <td>1</td>\n",
       "      <td>Master</td>\n",
       "      <td>1</td>\n",
       "      <td>2</td>\n",
       "      <td>engineering</td>\n",
       "      <td>False</td>\n",
       "      <td>0.0</td>\n",
       "      <td>43602</td>\n",
       "      <td>0</td>\n",
       "      <td>0</td>\n",
       "    </tr>\n",
       "    <tr>\n",
       "      <th>3192</th>\n",
       "      <td>0</td>\n",
       "      <td>1</td>\n",
       "      <td>Bachelor</td>\n",
       "      <td>0</td>\n",
       "      <td>1</td>\n",
       "      <td>sales</td>\n",
       "      <td>False</td>\n",
       "      <td>0.0</td>\n",
       "      <td>87847</td>\n",
       "      <td>0</td>\n",
       "      <td>0</td>\n",
       "    </tr>\n",
       "    <tr>\n",
       "      <th>114657</th>\n",
       "      <td>0</td>\n",
       "      <td>1</td>\n",
       "      <td>Master</td>\n",
       "      <td>0</td>\n",
       "      <td>2</td>\n",
       "      <td>sales</td>\n",
       "      <td>False</td>\n",
       "      <td>0.0</td>\n",
       "      <td>180854</td>\n",
       "      <td>0</td>\n",
       "      <td>0</td>\n",
       "    </tr>\n",
       "    <tr>\n",
       "      <th>29039</th>\n",
       "      <td>0</td>\n",
       "      <td>0</td>\n",
       "      <td>High_School</td>\n",
       "      <td>0</td>\n",
       "      <td>4</td>\n",
       "      <td>HR</td>\n",
       "      <td>False</td>\n",
       "      <td>0.0</td>\n",
       "      <td>88370</td>\n",
       "      <td>0</td>\n",
       "      <td>0</td>\n",
       "    </tr>\n",
       "    <tr>\n",
       "      <th>118607</th>\n",
       "      <td>0</td>\n",
       "      <td>0</td>\n",
       "      <td>Bachelor</td>\n",
       "      <td>0</td>\n",
       "      <td>3</td>\n",
       "      <td>sales</td>\n",
       "      <td>False</td>\n",
       "      <td>0.0</td>\n",
       "      <td>23565</td>\n",
       "      <td>0</td>\n",
       "      <td>0</td>\n",
       "    </tr>\n",
       "  </tbody>\n",
       "</table>\n",
       "</div>"
      ],
      "text/plain": [
       "             signing_bonus  salary degree_level  sex  yrs_experience  \\\n",
       "employee_id                                                            \n",
       "138719                   0       1       Master    1               2   \n",
       "3192                     0       1     Bachelor    0               1   \n",
       "114657                   0       1       Master    0               2   \n",
       "29039                    0       0  High_School    0               4   \n",
       "118607                   0       0     Bachelor    0               3   \n",
       "\n",
       "                    dept  is_manager  direct_reports  boss_id  total_reports  \\\n",
       "employee_id                                                                    \n",
       "138719       engineering       False             0.0    43602              0   \n",
       "3192               sales       False             0.0    87847              0   \n",
       "114657             sales       False             0.0   180854              0   \n",
       "29039                 HR       False             0.0    88370              0   \n",
       "118607             sales       False             0.0    23565              0   \n",
       "\n",
       "             company_level  \n",
       "employee_id                 \n",
       "138719                   0  \n",
       "3192                     0  \n",
       "114657                   0  \n",
       "29039                    0  \n",
       "118607                   0  "
      ]
     },
     "execution_count": 338,
     "metadata": {},
     "output_type": "execute_result"
    }
   ],
   "source": [
    "## Create Label \n",
    "data_with_label = data.copy()\n",
    "data_with_label['salary'] = data_with_label['salary'].transform(lambda x: x > 200000).astype(int)\n",
    "data_with_label['sex'] = data_with_label['sex'].transform(lambda x: x == 'M').astype(int)\n",
    "data_with_label.head()"
   ]
  },
  {
   "cell_type": "code",
   "execution_count": 339,
   "metadata": {},
   "outputs": [],
   "source": [
    "### Create StandardDataset\n",
    "\n",
    "std_data = StandardDataset(df=data_with_label,   \n",
    "                         label_name='salary',\n",
    "                         favorable_classes =[1],\n",
    "                        protected_attribute_names=['sex'], \n",
    "                         privileged_classes=[[1]],\n",
    "                        categorical_features=['degree_level', 'dept'], \n",
    "                          features_to_drop=['boss_id', 'is_manager'])\n",
    "\n"
   ]
  },
  {
   "cell_type": "code",
   "execution_count": 340,
   "metadata": {},
   "outputs": [],
   "source": [
    "df_data = std_data.convert_to_dataframe()\n",
    "binary_data = BinaryLabelDataset(favorable_label=1, unfavorable_label=0, df=df_data[0], label_names=['salary'],\n",
    "              protected_attribute_names=['sex'])\n",
    "\n",
    "privileged_groups= [{'sex':1}]\n",
    "unprivileged_groups= [{'sex': 0}]"
   ]
  },
  {
   "cell_type": "code",
   "execution_count": 341,
   "metadata": {},
   "outputs": [],
   "source": [
    "## Splitting the Data\n",
    "data_train, data_vt = binary_data.split([0.7], shuffle=True)\n",
    "\n",
    "data_val, data_test = data_vt.split([0.5], shuffle=True)"
   ]
  },
  {
   "cell_type": "code",
   "execution_count": 342,
   "metadata": {},
   "outputs": [
    {
     "name": "stdout",
     "output_type": "stream",
     "text": [
      "Mean difference (mean label value on privileged instances - mean label value on unprivileged instances): -0.1415906427075146\n",
      "\n",
      "\n",
      "Disparate impact (probability of favorable outcome for unprivileged instances / probability of favorable outcome for privileged instances): 0.7114938286109229\n"
     ]
    }
   ],
   "source": [
    "### First Metrics\n",
    "metric_train = BinaryLabelDatasetMetric(data_train, \n",
    "                            unprivileged_groups=unprivileged_groups, \n",
    "                            privileged_groups=privileged_groups)\n",
    "#Explainer \n",
    "ex_metric_train = MetricTextExplainer(metric_train)\n",
    "\n",
    "print(ex_metric_train.mean_difference())\n",
    "print('\\n')\n",
    "print(ex_metric_train.disparate_impact())"
   ]
  },
  {
   "cell_type": "markdown",
   "metadata": {},
   "source": [
    "### Random Forest Classifier "
   ]
  },
  {
   "cell_type": "code",
   "execution_count": 343,
   "metadata": {},
   "outputs": [],
   "source": [
    "#Creating X,y\n",
    "X_train = data_train.features\n",
    "y_train = data_train.labels.ravel()\n",
    "X_test = data_val.features\n",
    "y_test = data_val.labels.ravel()"
   ]
  },
  {
   "cell_type": "code",
   "execution_count": 431,
   "metadata": {},
   "outputs": [],
   "source": [
    "# Creating Random Forest Classifier\n",
    "rfc = RandomForestClassifier()\n",
    "#rf_random = RandomizedSearchCV(estimator = rfc, \n",
    "                               param_distributions = random_grid, \n",
    "                               n_iter = 100, cv = 5, verbose=5, \n",
    "                               random_state=42, n_jobs = -1)"
   ]
  },
  {
   "cell_type": "code",
   "execution_count": 432,
   "metadata": {},
   "outputs": [
    {
     "name": "stdout",
     "output_type": "stream",
     "text": [
      "{'n_estimators': [200, 650, 1100, 1550, 2000], 'max_features': ['auto', 'sqrt'], 'max_depth': [3, 4, 5, 6, 7, 8, 10, None], 'min_samples_split': [2, 5, 10], 'min_samples_leaf': [1, 2, 4]}\n"
     ]
    }
   ],
   "source": [
    "# Number of trees in random forest\n",
    "n_estimators = [int(x) for x in np.linspace(start = 200, stop = 2000, num = 5)]\n",
    "# Number of features to consider at every split\n",
    "max_features = ['auto', 'sqrt']\n",
    "# Maximum number of levels in tree\n",
    "max_depth = [int(x) for x in np.linspace(3,10,7)]\n",
    "max_depth.append(None)\n",
    "# Minimum number of samples required to split a node\n",
    "min_samples_split = [2, 5, 10]\n",
    "# Minimum number of samples required at each leaf node\n",
    "min_samples_leaf = [1, 2, 4]\n",
    "# Method of selecting samples for training each tree\n",
    "\n",
    "# Create the random grid\n",
    "random_grid = {'n_estimators': n_estimators,\n",
    "               'max_features': max_features,\n",
    "               'max_depth': max_depth,\n",
    "               'min_samples_split': min_samples_split,\n",
    "               'min_samples_leaf': min_samples_leaf}\n",
    "print(random_grid)"
   ]
  },
  {
   "cell_type": "code",
   "execution_count": 433,
   "metadata": {},
   "outputs": [
    {
     "name": "stdout",
     "output_type": "stream",
     "text": [
      "Fitting 5 folds for each of 100 candidates, totalling 500 fits\n"
     ]
    },
    {
     "name": "stderr",
     "output_type": "stream",
     "text": [
      "[Parallel(n_jobs=-1)]: Using backend LokyBackend with 4 concurrent workers.\n",
      "[Parallel(n_jobs=-1)]: Done  10 tasks      | elapsed:   53.5s\n",
      "[Parallel(n_jobs=-1)]: Done  64 tasks      | elapsed:  3.9min\n",
      "[Parallel(n_jobs=-1)]: Done 154 tasks      | elapsed: 10.6min\n",
      "[Parallel(n_jobs=-1)]: Done 280 tasks      | elapsed: 19.4min\n",
      "[Parallel(n_jobs=-1)]: Done 442 tasks      | elapsed: 25.4min\n",
      "[Parallel(n_jobs=-1)]: Done 500 out of 500 | elapsed: 27.6min finished\n"
     ]
    },
    {
     "data": {
      "text/plain": [
       "RandomizedSearchCV(cv=5, error_score='raise-deprecating',\n",
       "                   estimator=RandomForestClassifier(bootstrap=True,\n",
       "                                                    class_weight=None,\n",
       "                                                    criterion='gini',\n",
       "                                                    max_depth=None,\n",
       "                                                    max_features='auto',\n",
       "                                                    max_leaf_nodes=None,\n",
       "                                                    min_impurity_decrease=0.0,\n",
       "                                                    min_impurity_split=None,\n",
       "                                                    min_samples_leaf=1,\n",
       "                                                    min_samples_split=2,\n",
       "                                                    min_weight_fraction_leaf=0.0,\n",
       "                                                    n_estimators='warn',\n",
       "                                                    n_jobs=None,\n",
       "                                                    oob_sc...\n",
       "                                                    random_state=None,\n",
       "                                                    verbose=0,\n",
       "                                                    warm_start=False),\n",
       "                   iid='warn', n_iter=100, n_jobs=-1,\n",
       "                   param_distributions={'max_depth': [3, 3, 3, 4, 4, 5, 5, 6, 6,\n",
       "                                                      7, None],\n",
       "                                        'max_features': ['auto', 'sqrt'],\n",
       "                                        'min_samples_leaf': [1, 2, 4],\n",
       "                                        'min_samples_split': [2, 5, 10],\n",
       "                                        'n_estimators': [200, 650, 1100, 1550,\n",
       "                                                         2000]},\n",
       "                   pre_dispatch='2*n_jobs', random_state=42, refit=True,\n",
       "                   return_train_score=False, scoring=None, verbose=5)"
      ]
     },
     "execution_count": 433,
     "metadata": {},
     "output_type": "execute_result"
    }
   ],
   "source": [
    "# Fit the random search modelrfc.fit(X_train, y_train)\n",
    "#rf_random.fit(X_train, y_train)"
   ]
  },
  {
   "cell_type": "code",
   "execution_count": 438,
   "metadata": {},
   "outputs": [
    {
     "data": {
      "text/plain": [
       "{'n_estimators': 650,\n",
       " 'min_samples_split': 10,\n",
       " 'min_samples_leaf': 1,\n",
       " 'max_features': 'sqrt',\n",
       " 'max_depth': 5}"
      ]
     },
     "execution_count": 438,
     "metadata": {},
     "output_type": "execute_result"
    }
   ],
   "source": [
    "rf_random.best_params_"
   ]
  },
  {
   "cell_type": "code",
   "execution_count": 441,
   "metadata": {},
   "outputs": [],
   "source": [
    "rfc = RandomForestClassifier(n_estimators=600, \n",
    "                             min_samples_split=10,\n",
    "                             min_samples_leaf=1, \n",
    "                             max_features='sqrt',\n",
    "                            max_depth =5)"
   ]
  },
  {
   "cell_type": "code",
   "execution_count": 442,
   "metadata": {},
   "outputs": [
    {
     "data": {
      "text/plain": [
       "RandomForestClassifier(bootstrap=True, class_weight=None, criterion='gini',\n",
       "                       max_depth=5, max_features='sqrt', max_leaf_nodes=None,\n",
       "                       min_impurity_decrease=0.0, min_impurity_split=None,\n",
       "                       min_samples_leaf=1, min_samples_split=10,\n",
       "                       min_weight_fraction_leaf=0.0, n_estimators=600,\n",
       "                       n_jobs=None, oob_score=False, random_state=None,\n",
       "                       verbose=0, warm_start=False)"
      ]
     },
     "execution_count": 442,
     "metadata": {},
     "output_type": "execute_result"
    }
   ],
   "source": [
    "rfc.fit(X_train, y_train)"
   ]
  },
  {
   "cell_type": "code",
   "execution_count": 443,
   "metadata": {},
   "outputs": [],
   "source": [
    "\n",
    "#Creating Predicted Dataframe\n",
    "y_pred = rfc.predict(X_test)\n",
    "data_val_pred = data_val.copy()\n",
    "data_val_pred.labels = y_pred.ravel()"
   ]
  },
  {
   "cell_type": "code",
   "execution_count": 444,
   "metadata": {},
   "outputs": [],
   "source": [
    "#Prep dataset to test out Aequitas \n",
    "# df = data_val.convert_to_dataframe()[0]\n",
    "# df.head()\n",
    "# aeq_df = pd.DataFrame()\n",
    "# aeq_df['score'] = y_pred\n",
    "# aeq_df['label_value'] = df['salary'].values\n",
    "# aeq_df['sex'] = df['sex'].values\n",
    "# aeq_df['sex'] = aeq_df['sex'].transform(lambda x: 'Male' if x == 1 else 'Female') \n",
    "# aeq_df.to_csv('../aeq.csv', index=False)\n",
    "# aeq_df.head()"
   ]
  },
  {
   "cell_type": "code",
   "execution_count": 445,
   "metadata": {},
   "outputs": [
    {
     "data": {
      "text/plain": [
       "0.6706666666666666"
      ]
     },
     "execution_count": 445,
     "metadata": {},
     "output_type": "execute_result"
    }
   ],
   "source": [
    "rfc.score(X_test, y_test)"
   ]
  },
  {
   "cell_type": "code",
   "execution_count": 446,
   "metadata": {},
   "outputs": [
    {
     "data": {
      "text/plain": [
       "array([[0.57417926, 0.42582074],\n",
       "       [0.89741028, 0.10258972],\n",
       "       [0.53269292, 0.46730708],\n",
       "       [0.36710488, 0.63289512],\n",
       "       [0.36780655, 0.63219345],\n",
       "       [0.41904331, 0.58095669],\n",
       "       [0.57663863, 0.42336137],\n",
       "       [0.53109794, 0.46890206],\n",
       "       [0.57417926, 0.42582074],\n",
       "       [0.53128872, 0.46871128]])"
      ]
     },
     "execution_count": 446,
     "metadata": {},
     "output_type": "execute_result"
    }
   ],
   "source": [
    "rfc.predict_proba(X_test)[:10]"
   ]
  },
  {
   "cell_type": "code",
   "execution_count": 447,
   "metadata": {},
   "outputs": [
    {
     "name": "stdout",
     "output_type": "stream",
     "text": [
      "Mean difference (mean label value on privileged instances - mean label value on unprivileged instances): -0.11742472165991902\n",
      "\n",
      "\n",
      "Disparate impact (probability of favorable outcome for unprivileged instances / probability of favorable outcome for privileged instances): 0.6547154017857143\n",
      "\n",
      "\n",
      "True positive rate (TPR, recall, sensitivity = TP / (TP + FN)): 0.46540880503144655\n",
      "\n",
      "\n",
      "Positive predictive value (PPV, precision = TP / (TP + FP)): 0.6577777777777778\n",
      "\n",
      "\n",
      "Average odds difference (average of TPR difference and FPR difference, 0 = equality of odds): -0.10906119633597297\n",
      "\n",
      "\n",
      "True positive rate difference (true positive rate on unprivileged instances - true positive rate on privileged instances): -0.10986115333941421\n",
      "\n",
      "\n",
      "Theil index (generalized entropy index with alpha = 1): 0.29486204315416514\n"
     ]
    }
   ],
   "source": [
    "#Getting the Metrics \n",
    "metric_preds = BinaryLabelDatasetMetric(data_val_pred, \n",
    "                            unprivileged_groups=unprivileged_groups, \n",
    "                            privileged_groups=privileged_groups)\n",
    "\n",
    "ex_metric_preds = MetricTextExplainer(metric_preds)\n",
    "\n",
    "print(ex_metric_preds.mean_difference())\n",
    "print('\\n')\n",
    "print(ex_metric_preds.disparate_impact())\n",
    "\n",
    "\n",
    "model_metric = ClassificationMetric(data_val, data_val_pred, \n",
    "                            unprivileged_groups=unprivileged_groups, \n",
    "                            privileged_groups=privileged_groups)\n",
    "\n",
    "ex_model_metric= MetricTextExplainer(model_metric)\n",
    "print('\\n')\n",
    "print(ex_model_metric.recall())\n",
    "print('\\n')\n",
    "print(ex_model_metric.precision())\n",
    "print('\\n')\n",
    "print(ex_model_metric.average_odds_difference())\n",
    "print('\\n')\n",
    "print(ex_model_metric.equal_opportunity_difference())\n",
    "print('\\n')\n",
    "print(ex_model_metric.theil_index())"
   ]
  },
  {
   "cell_type": "code",
   "execution_count": 448,
   "metadata": {},
   "outputs": [
    {
     "name": "stdout",
     "output_type": "stream",
     "text": [
      "The Accuracy score is 0.671.\n",
      "\n",
      "The Precision score is 0.658.\n",
      "\n",
      "The Recall score is 0.465.\n",
      "\n",
      "      Confusion Matrix\n"
     ]
    },
    {
     "data": {
      "text/html": [
       "<div>\n",
       "<style scoped>\n",
       "    .dataframe tbody tr th:only-of-type {\n",
       "        vertical-align: middle;\n",
       "    }\n",
       "\n",
       "    .dataframe tbody tr th {\n",
       "        vertical-align: top;\n",
       "    }\n",
       "\n",
       "    .dataframe thead th {\n",
       "        text-align: right;\n",
       "    }\n",
       "</style>\n",
       "<table border=\"1\" class=\"dataframe\">\n",
       "  <thead>\n",
       "    <tr style=\"text-align: right;\">\n",
       "      <th></th>\n",
       "      <th>Actual True</th>\n",
       "      <th>Actual False</th>\n",
       "    </tr>\n",
       "  </thead>\n",
       "  <tbody>\n",
       "    <tr>\n",
       "      <th>Predicted True</th>\n",
       "      <td>296</td>\n",
       "      <td>154</td>\n",
       "    </tr>\n",
       "    <tr>\n",
       "      <th>Predicted False</th>\n",
       "      <td>340</td>\n",
       "      <td>710</td>\n",
       "    </tr>\n",
       "  </tbody>\n",
       "</table>\n",
       "</div>"
      ],
      "text/plain": [
       "                 Actual True  Actual False\n",
       "Predicted True           296           154\n",
       "Predicted False          340           710"
      ]
     },
     "execution_count": 448,
     "metadata": {},
     "output_type": "execute_result"
    }
   ],
   "source": [
    "scorecard(y_test, y_pred)"
   ]
  },
  {
   "cell_type": "code",
   "execution_count": 207,
   "metadata": {},
   "outputs": [
    {
     "data": {
      "text/plain": [
       "(1500, 1)"
      ]
     },
     "execution_count": 207,
     "metadata": {},
     "output_type": "execute_result"
    }
   ],
   "source": [
    "data_val.labels.shape"
   ]
  },
  {
   "cell_type": "code",
   "execution_count": 208,
   "metadata": {},
   "outputs": [
    {
     "data": {
      "text/plain": [
       "(1500,)"
      ]
     },
     "execution_count": 208,
     "metadata": {},
     "output_type": "execute_result"
    }
   ],
   "source": [
    "data_val_pred.labels.shape"
   ]
  },
  {
   "cell_type": "markdown",
   "metadata": {},
   "source": [
    "## Debiasing through Preprocessing "
   ]
  },
  {
   "cell_type": "markdown",
   "metadata": {},
   "source": [
    "#### Reweighing"
   ]
  },
  {
   "cell_type": "code",
   "execution_count": 351,
   "metadata": {},
   "outputs": [],
   "source": [
    "RW = Reweighing(unprivileged_groups=unprivileged_groups, \n",
    "               privileged_groups=privileged_groups)\n",
    "\n",
    "#Splitting the Data\n",
    "data_rw_train = RW.fit_transform(data_train)\n",
    "\n",
    "data_rw_val = RW.fit_transform(data_val)"
   ]
  },
  {
   "cell_type": "code",
   "execution_count": 406,
   "metadata": {},
   "outputs": [
    {
     "name": "stdout",
     "output_type": "stream",
     "text": [
      "Mean difference (mean label value on privileged instances - mean label value on unprivileged instances): -5.551115123125783e-17\n",
      "\n",
      "\n",
      "Disparate impact (probability of favorable outcome for unprivileged instances / probability of favorable outcome for privileged instances): 0.9999999999999999\n"
     ]
    }
   ],
   "source": [
    "### Reweigh Metrics\n",
    "metric_rw_train = BinaryLabelDatasetMetric(data_rw_train, \n",
    "                            unprivileged_groups=unprivileged_groups, \n",
    "                            privileged_groups=privileged_groups)\n",
    "#Explainer \n",
    "ex_metric_rw_train = MetricTextExplainer(metric_rw_train)\n",
    "\n",
    "print(ex_metric_rw_train.mean_difference())\n",
    "print('\\n')\n",
    "print(ex_metric_rw_train.disparate_impact())"
   ]
  },
  {
   "cell_type": "markdown",
   "metadata": {},
   "source": [
    "### Random Forest Classifier with Reweighing "
   ]
  },
  {
   "cell_type": "code",
   "execution_count": 407,
   "metadata": {},
   "outputs": [],
   "source": [
    "#Creating X,y\n",
    "X_rw_train = data_rw_train.features\n",
    "y_rw_train = data_rw_train.labels.ravel()\n",
    "X_rw_test = data_rw_val.features\n",
    "y_rw_test = data_rw_val.labels.ravel()"
   ]
  },
  {
   "cell_type": "code",
   "execution_count": 408,
   "metadata": {},
   "outputs": [
    {
     "data": {
      "text/plain": [
       "RandomForestClassifier(bootstrap=True, class_weight=None, criterion='gini',\n",
       "                       max_depth=5, max_features='auto', max_leaf_nodes=None,\n",
       "                       min_impurity_decrease=0.0, min_impurity_split=None,\n",
       "                       min_samples_leaf=1, min_samples_split=2,\n",
       "                       min_weight_fraction_leaf=0.0, n_estimators=1000,\n",
       "                       n_jobs=None, oob_score=False, random_state=None,\n",
       "                       verbose=0, warm_start=False)"
      ]
     },
     "execution_count": 408,
     "metadata": {},
     "output_type": "execute_result"
    }
   ],
   "source": [
    "# Creating Random Forest Classifier\n",
    "rfc_rw = RandomForestClassifier(n_estimators=1000, max_depth=5)\n",
    "rfc_rw.fit(X_rw_train, y_rw_train, sample_weight=data_rw_train.instance_weights)"
   ]
  },
  {
   "cell_type": "code",
   "execution_count": 409,
   "metadata": {},
   "outputs": [],
   "source": [
    "#Creating Predicted Dataframe\n",
    "y_rw_pred = rfc_rw.predict(X_test)\n",
    "data_val_rw_pred = data_rw_val.copy()\n",
    "data_val_rw_pred.labels = y_rw_pred"
   ]
  },
  {
   "cell_type": "code",
   "execution_count": 410,
   "metadata": {},
   "outputs": [
    {
     "data": {
      "text/markdown": [
       "#### Model - with reweighing - dataset metrics"
      ],
      "text/plain": [
       "<IPython.core.display.Markdown object>"
      ]
     },
     "metadata": {},
     "output_type": "display_data"
    },
    {
     "name": "stdout",
     "output_type": "stream",
     "text": [
      "Mean difference (mean label value on privileged instances - mean label value on unprivileged instances): -0.07808464862761144\n",
      "\n",
      "\n",
      "Disparate impact (probability of favorable outcome for unprivileged instances / probability of favorable outcome for privileged instances): 0.7649101450933115\n"
     ]
    },
    {
     "data": {
      "text/markdown": [
       "#### Model - with reweighing - classification metrics"
      ],
      "text/plain": [
       "<IPython.core.display.Markdown object>"
      ]
     },
     "metadata": {},
     "output_type": "display_data"
    },
    {
     "name": "stdout",
     "output_type": "stream",
     "text": [
      "True positive rate (TPR, recall, sensitivity = TP / (TP + FN)): 0.47225179329527156\n",
      "Positive predictive value (PPV, precision = TP / (TP + FP)): 0.6554432149997058\n",
      "Average odds difference (average of TPR difference and FPR difference, 0 = equality of odds): -0.07625539126475658\n",
      "True positive rate difference (true positive rate on unprivileged instances - true positive rate on privileged instances): -0.0642208033512382\n",
      "Theil index (generalized entropy index with alpha = 1): 0.290954929988672\n",
      "Classification accuracy on privileged instances: 0.6629101750962215\n",
      "Classification accuracy on unprivileged instances: 0.6865355824819831\n"
     ]
    }
   ],
   "source": [
    "#Getting the Metrics \n",
    "display(Markdown(\"#### Model - with reweighing - dataset metrics\"))\n",
    "\n",
    "\n",
    "metric_rw_preds = BinaryLabelDatasetMetric(data_val_rw_pred, \n",
    "                            unprivileged_groups=unprivileged_groups, \n",
    "                            privileged_groups=privileged_groups)\n",
    "\n",
    "ex_metric_rw_preds = MetricTextExplainer(metric_rw_preds)\n",
    "\n",
    "print(ex_metric_rw_preds.mean_difference())\n",
    "print('\\n')\n",
    "print(ex_metric_rw_preds.disparate_impact())\n",
    "\n",
    "display(Markdown(\"#### Model - with reweighing - classification metrics\"))\n",
    "model_rw_metric = ClassificationMetric(data_rw_val, data_val_rw_pred, \n",
    "                            unprivileged_groups=unprivileged_groups, \n",
    "                            privileged_groups=privileged_groups)\n",
    "\n",
    "ex_model_rw_metric= MetricTextExplainer(model_rw_metric)\n",
    "\n",
    "print(ex_model_rw_metric.recall())\n",
    "print(ex_model_rw_metric.precision())\n",
    "print(ex_model_rw_metric.average_odds_difference())\n",
    "print(ex_model_rw_metric.equal_opportunity_difference())\n",
    "print(ex_model_rw_metric.theil_index())\n",
    "print(ex_model_rw_metric.accuracy(privileged=True))\n",
    "print(ex_model_rw_metric.accuracy(privileged=False))"
   ]
  },
  {
   "cell_type": "code",
   "execution_count": 411,
   "metadata": {},
   "outputs": [
    {
     "name": "stdout",
     "output_type": "stream",
     "text": [
      "The Accuracy score is 0.672.\n",
      "\n",
      "The Precision score is 0.657.\n",
      "\n",
      "The Recall score is 0.473.\n",
      "\n",
      "      Confusion Matrix\n"
     ]
    },
    {
     "data": {
      "text/html": [
       "<div>\n",
       "<style scoped>\n",
       "    .dataframe tbody tr th:only-of-type {\n",
       "        vertical-align: middle;\n",
       "    }\n",
       "\n",
       "    .dataframe tbody tr th {\n",
       "        vertical-align: top;\n",
       "    }\n",
       "\n",
       "    .dataframe thead th {\n",
       "        text-align: right;\n",
       "    }\n",
       "</style>\n",
       "<table border=\"1\" class=\"dataframe\">\n",
       "  <thead>\n",
       "    <tr style=\"text-align: right;\">\n",
       "      <th></th>\n",
       "      <th>Actual True</th>\n",
       "      <th>Actual False</th>\n",
       "    </tr>\n",
       "  </thead>\n",
       "  <tbody>\n",
       "    <tr>\n",
       "      <th>Predicted True</th>\n",
       "      <td>301</td>\n",
       "      <td>157</td>\n",
       "    </tr>\n",
       "    <tr>\n",
       "      <th>Predicted False</th>\n",
       "      <td>335</td>\n",
       "      <td>707</td>\n",
       "    </tr>\n",
       "  </tbody>\n",
       "</table>\n",
       "</div>"
      ],
      "text/plain": [
       "                 Actual True  Actual False\n",
       "Predicted True           301           157\n",
       "Predicted False          335           707"
      ]
     },
     "execution_count": 411,
     "metadata": {},
     "output_type": "execute_result"
    }
   ],
   "source": [
    "scorecard(y_rw_test, y_rw_pred)"
   ]
  },
  {
   "cell_type": "markdown",
   "metadata": {},
   "source": [
    "### Inprocessing with Adversarial Debiaising\n",
    "\n"
   ]
  },
  {
   "cell_type": "code",
   "execution_count": 360,
   "metadata": {},
   "outputs": [],
   "source": [
    "sess.close()\n",
    "tf.reset_default_graph()\n",
    "sess = tf.Session()"
   ]
  },
  {
   "cell_type": "code",
   "execution_count": 361,
   "metadata": {},
   "outputs": [],
   "source": [
    "##Creating Tensorflow Session - must not use Tensorflow 2.0 \n",
    "sess = tf.Session()\n",
    "db_model = AdversarialDebiasing(privileged_groups = privileged_groups,\n",
    "                          unprivileged_groups = unprivileged_groups,\n",
    "                          scope_name='debiased_classifier',\n",
    "                            num_epochs  = 100,\n",
    "                            batch_size = 100,\n",
    "                            adversary_loss_weight = .1,     \n",
    "                            debias=True,\n",
    "                          sess=sess)"
   ]
  },
  {
   "cell_type": "code",
   "execution_count": 362,
   "metadata": {},
   "outputs": [
    {
     "name": "stdout",
     "output_type": "stream",
     "text": [
      "epoch 0; iter: 0; batch classifier loss: 0.751847; batch adversarial loss: 0.680444\n",
      "epoch 1; iter: 0; batch classifier loss: 0.647049; batch adversarial loss: 0.659144\n",
      "epoch 2; iter: 0; batch classifier loss: 0.622300; batch adversarial loss: 0.672310\n",
      "epoch 3; iter: 0; batch classifier loss: 0.569649; batch adversarial loss: 0.667673\n",
      "epoch 4; iter: 0; batch classifier loss: 0.608396; batch adversarial loss: 0.652698\n",
      "epoch 5; iter: 0; batch classifier loss: 0.844618; batch adversarial loss: 0.655446\n",
      "epoch 6; iter: 0; batch classifier loss: 0.464263; batch adversarial loss: 0.658076\n",
      "epoch 7; iter: 0; batch classifier loss: 0.550507; batch adversarial loss: 0.689431\n",
      "epoch 8; iter: 0; batch classifier loss: 0.575595; batch adversarial loss: 0.656772\n",
      "epoch 9; iter: 0; batch classifier loss: 0.577544; batch adversarial loss: 0.620880\n",
      "epoch 10; iter: 0; batch classifier loss: 0.574099; batch adversarial loss: 0.624721\n",
      "epoch 11; iter: 0; batch classifier loss: 0.596727; batch adversarial loss: 0.667072\n",
      "epoch 12; iter: 0; batch classifier loss: 0.569340; batch adversarial loss: 0.664602\n",
      "epoch 13; iter: 0; batch classifier loss: 0.698435; batch adversarial loss: 0.632984\n",
      "epoch 14; iter: 0; batch classifier loss: 0.620048; batch adversarial loss: 0.657440\n",
      "epoch 15; iter: 0; batch classifier loss: 0.501760; batch adversarial loss: 0.671211\n",
      "epoch 16; iter: 0; batch classifier loss: 0.565068; batch adversarial loss: 0.652104\n",
      "epoch 17; iter: 0; batch classifier loss: 0.533383; batch adversarial loss: 0.665064\n",
      "epoch 18; iter: 0; batch classifier loss: 0.668081; batch adversarial loss: 0.637811\n",
      "epoch 19; iter: 0; batch classifier loss: 0.585103; batch adversarial loss: 0.637235\n",
      "epoch 20; iter: 0; batch classifier loss: 0.607373; batch adversarial loss: 0.624227\n",
      "epoch 21; iter: 0; batch classifier loss: 0.561372; batch adversarial loss: 0.676676\n",
      "epoch 22; iter: 0; batch classifier loss: 0.561283; batch adversarial loss: 0.649208\n",
      "epoch 23; iter: 0; batch classifier loss: 0.636512; batch adversarial loss: 0.634496\n",
      "epoch 24; iter: 0; batch classifier loss: 0.557273; batch adversarial loss: 0.618608\n",
      "epoch 25; iter: 0; batch classifier loss: 0.571169; batch adversarial loss: 0.709428\n",
      "epoch 26; iter: 0; batch classifier loss: 0.619750; batch adversarial loss: 0.674749\n",
      "epoch 27; iter: 0; batch classifier loss: 0.545025; batch adversarial loss: 0.644998\n",
      "epoch 28; iter: 0; batch classifier loss: 0.619211; batch adversarial loss: 0.601059\n",
      "epoch 29; iter: 0; batch classifier loss: 0.562372; batch adversarial loss: 0.642295\n",
      "epoch 30; iter: 0; batch classifier loss: 0.545550; batch adversarial loss: 0.674279\n",
      "epoch 31; iter: 0; batch classifier loss: 0.647406; batch adversarial loss: 0.635017\n",
      "epoch 32; iter: 0; batch classifier loss: 0.607049; batch adversarial loss: 0.653273\n",
      "epoch 33; iter: 0; batch classifier loss: 0.588583; batch adversarial loss: 0.652377\n",
      "epoch 34; iter: 0; batch classifier loss: 0.554442; batch adversarial loss: 0.643757\n",
      "epoch 35; iter: 0; batch classifier loss: 0.588645; batch adversarial loss: 0.618295\n",
      "epoch 36; iter: 0; batch classifier loss: 0.599779; batch adversarial loss: 0.634202\n",
      "epoch 37; iter: 0; batch classifier loss: 0.563889; batch adversarial loss: 0.647944\n",
      "epoch 38; iter: 0; batch classifier loss: 0.652815; batch adversarial loss: 0.663388\n",
      "epoch 39; iter: 0; batch classifier loss: 0.571671; batch adversarial loss: 0.687122\n",
      "epoch 40; iter: 0; batch classifier loss: 0.552500; batch adversarial loss: 0.585549\n",
      "epoch 41; iter: 0; batch classifier loss: 0.605021; batch adversarial loss: 0.654283\n",
      "epoch 42; iter: 0; batch classifier loss: 0.559012; batch adversarial loss: 0.647408\n",
      "epoch 43; iter: 0; batch classifier loss: 0.565529; batch adversarial loss: 0.588142\n",
      "epoch 44; iter: 0; batch classifier loss: 0.544559; batch adversarial loss: 0.658826\n",
      "epoch 45; iter: 0; batch classifier loss: 0.547668; batch adversarial loss: 0.618553\n",
      "epoch 46; iter: 0; batch classifier loss: 0.647618; batch adversarial loss: 0.642915\n",
      "epoch 47; iter: 0; batch classifier loss: 0.572730; batch adversarial loss: 0.640810\n",
      "epoch 48; iter: 0; batch classifier loss: 0.542729; batch adversarial loss: 0.634790\n",
      "epoch 49; iter: 0; batch classifier loss: 0.608599; batch adversarial loss: 0.643702\n",
      "epoch 50; iter: 0; batch classifier loss: 0.548780; batch adversarial loss: 0.710781\n",
      "epoch 51; iter: 0; batch classifier loss: 0.591054; batch adversarial loss: 0.634856\n",
      "epoch 52; iter: 0; batch classifier loss: 0.512812; batch adversarial loss: 0.639727\n",
      "epoch 53; iter: 0; batch classifier loss: 0.608258; batch adversarial loss: 0.615589\n",
      "epoch 54; iter: 0; batch classifier loss: 0.593112; batch adversarial loss: 0.599643\n",
      "epoch 55; iter: 0; batch classifier loss: 0.566948; batch adversarial loss: 0.658928\n",
      "epoch 56; iter: 0; batch classifier loss: 0.508469; batch adversarial loss: 0.618278\n",
      "epoch 57; iter: 0; batch classifier loss: 0.651641; batch adversarial loss: 0.650339\n",
      "epoch 58; iter: 0; batch classifier loss: 0.658947; batch adversarial loss: 0.629204\n",
      "epoch 59; iter: 0; batch classifier loss: 0.527344; batch adversarial loss: 0.659852\n",
      "epoch 60; iter: 0; batch classifier loss: 0.607071; batch adversarial loss: 0.665555\n",
      "epoch 61; iter: 0; batch classifier loss: 0.553973; batch adversarial loss: 0.638084\n",
      "epoch 62; iter: 0; batch classifier loss: 0.608379; batch adversarial loss: 0.677572\n",
      "epoch 63; iter: 0; batch classifier loss: 0.570200; batch adversarial loss: 0.667106\n",
      "epoch 64; iter: 0; batch classifier loss: 0.579086; batch adversarial loss: 0.623385\n",
      "epoch 65; iter: 0; batch classifier loss: 0.546191; batch adversarial loss: 0.652090\n",
      "epoch 66; iter: 0; batch classifier loss: 0.622090; batch adversarial loss: 0.630934\n",
      "epoch 67; iter: 0; batch classifier loss: 0.564727; batch adversarial loss: 0.628305\n",
      "epoch 68; iter: 0; batch classifier loss: 0.585050; batch adversarial loss: 0.615756\n",
      "epoch 69; iter: 0; batch classifier loss: 0.577646; batch adversarial loss: 0.672365\n",
      "epoch 70; iter: 0; batch classifier loss: 0.600913; batch adversarial loss: 0.644402\n",
      "epoch 71; iter: 0; batch classifier loss: 0.632575; batch adversarial loss: 0.702955\n",
      "epoch 72; iter: 0; batch classifier loss: 0.554860; batch adversarial loss: 0.665048\n",
      "epoch 73; iter: 0; batch classifier loss: 0.621421; batch adversarial loss: 0.693892\n",
      "epoch 74; iter: 0; batch classifier loss: 0.554966; batch adversarial loss: 0.668722\n",
      "epoch 75; iter: 0; batch classifier loss: 0.519384; batch adversarial loss: 0.659392\n",
      "epoch 76; iter: 0; batch classifier loss: 0.573414; batch adversarial loss: 0.583584\n",
      "epoch 77; iter: 0; batch classifier loss: 0.634780; batch adversarial loss: 0.645195\n",
      "epoch 78; iter: 0; batch classifier loss: 0.555211; batch adversarial loss: 0.646264\n",
      "epoch 79; iter: 0; batch classifier loss: 0.602170; batch adversarial loss: 0.663635\n",
      "epoch 80; iter: 0; batch classifier loss: 0.522143; batch adversarial loss: 0.658039\n",
      "epoch 81; iter: 0; batch classifier loss: 0.605826; batch adversarial loss: 0.590945\n",
      "epoch 82; iter: 0; batch classifier loss: 0.563955; batch adversarial loss: 0.613219\n",
      "epoch 83; iter: 0; batch classifier loss: 0.584167; batch adversarial loss: 0.695314\n",
      "epoch 84; iter: 0; batch classifier loss: 0.586953; batch adversarial loss: 0.639465\n",
      "epoch 85; iter: 0; batch classifier loss: 0.589973; batch adversarial loss: 0.633271\n",
      "epoch 86; iter: 0; batch classifier loss: 0.572801; batch adversarial loss: 0.680591\n",
      "epoch 87; iter: 0; batch classifier loss: 0.544973; batch adversarial loss: 0.640216\n",
      "epoch 88; iter: 0; batch classifier loss: 0.573424; batch adversarial loss: 0.675269\n",
      "epoch 89; iter: 0; batch classifier loss: 0.571647; batch adversarial loss: 0.611446\n",
      "epoch 90; iter: 0; batch classifier loss: 0.570966; batch adversarial loss: 0.645600\n",
      "epoch 91; iter: 0; batch classifier loss: 0.593991; batch adversarial loss: 0.619744\n",
      "epoch 92; iter: 0; batch classifier loss: 0.576074; batch adversarial loss: 0.694242\n",
      "epoch 93; iter: 0; batch classifier loss: 0.546942; batch adversarial loss: 0.641219\n",
      "epoch 94; iter: 0; batch classifier loss: 0.581615; batch adversarial loss: 0.655559\n",
      "epoch 95; iter: 0; batch classifier loss: 0.536260; batch adversarial loss: 0.656824\n",
      "epoch 96; iter: 0; batch classifier loss: 0.611622; batch adversarial loss: 0.633205\n",
      "epoch 97; iter: 0; batch classifier loss: 0.536486; batch adversarial loss: 0.680502\n",
      "epoch 98; iter: 0; batch classifier loss: 0.621455; batch adversarial loss: 0.621313\n",
      "epoch 99; iter: 0; batch classifier loss: 0.504278; batch adversarial loss: 0.634607\n"
     ]
    },
    {
     "data": {
      "text/plain": [
       "<aif360.algorithms.inprocessing.adversarial_debiasing.AdversarialDebiasing at 0x1503aa780>"
      ]
     },
     "execution_count": 362,
     "metadata": {},
     "output_type": "execute_result"
    }
   ],
   "source": [
    "db_model.fit(data_train) "
   ]
  },
  {
   "cell_type": "code",
   "execution_count": 363,
   "metadata": {},
   "outputs": [],
   "source": [
    "dataset_debiasing_train = db_model.predict(data_train)\n",
    "dataset_debiasing_test = db_model.predict(data_val)"
   ]
  },
  {
   "cell_type": "code",
   "execution_count": 364,
   "metadata": {},
   "outputs": [
    {
     "data": {
      "text/markdown": [
       "#### Model - with debiasing - dataset metrics"
      ],
      "text/plain": [
       "<IPython.core.display.Markdown object>"
      ]
     },
     "metadata": {},
     "output_type": "display_data"
    },
    {
     "name": "stdout",
     "output_type": "stream",
     "text": [
      "Train set: Difference in mean outcomes between unprivileged and privileged groups = 0.139711\n",
      "Test set: Difference in mean outcomes between unprivileged and privileged groups = 0.163841\n"
     ]
    },
    {
     "data": {
      "text/markdown": [
       "#### Model - with debiasing - classification metrics"
      ],
      "text/plain": [
       "<IPython.core.display.Markdown object>"
      ]
     },
     "metadata": {},
     "output_type": "display_data"
    },
    {
     "name": "stdout",
     "output_type": "stream",
     "text": [
      "Test set: Classification accuracy = 0.670000\n",
      "Test set: Balanced classification accuracy = 0.662092\n",
      "Test set: Disparate impact = 1.445937\n",
      "Test set: Equal opportunity difference = 0.277288\n",
      "Test set: Average odds difference = 0.188830\n",
      "Test set: Theil_index = 0.229096\n"
     ]
    }
   ],
   "source": [
    "\n",
    "# Metrics for the dataset from model with debiasing\n",
    "display(Markdown(\"#### Model - with debiasing - dataset metrics\"))\n",
    "metric_dataset_debiasing_train = BinaryLabelDatasetMetric(dataset_debiasing_train, \n",
    "                                             unprivileged_groups=unprivileged_groups,\n",
    "                                             privileged_groups=privileged_groups)\n",
    "\n",
    "print(\"Train set: Difference in mean outcomes between unprivileged and privileged groups = %f\" % metric_dataset_debiasing_train.mean_difference())\n",
    "\n",
    "metric_dataset_debiasing_test = BinaryLabelDatasetMetric(dataset_debiasing_test, \n",
    "                                             unprivileged_groups=unprivileged_groups,\n",
    "                                             privileged_groups=privileged_groups)\n",
    "\n",
    "print(\"Test set: Difference in mean outcomes between unprivileged and privileged groups = %f\" % metric_dataset_debiasing_test.mean_difference())\n",
    "\n",
    "\n",
    "\n",
    "display(Markdown(\"#### Model - with debiasing - classification metrics\"))\n",
    "classified_metric_debiasing_test = ClassificationMetric(data_val, \n",
    "                                                 dataset_debiasing_test,\n",
    "                                                    unprivileged_groups=unprivileged_groups,\n",
    "                                                 privileged_groups=privileged_groups)\n",
    "print(\"Test set: Classification accuracy = %f\" % classified_metric_debiasing_test.accuracy())\n",
    "TPR = classified_metric_debiasing_test.true_positive_rate()\n",
    "TNR = classified_metric_debiasing_test.true_negative_rate()\n",
    "bal_acc_debiasing_test = 0.5*(TPR+TNR)\n",
    "print(\"Test set: Balanced classification accuracy = %f\" % bal_acc_debiasing_test)\n",
    "print(\"Test set: Disparate impact = %f\" % classified_metric_debiasing_test.disparate_impact())\n",
    "print(\"Test set: Equal opportunity difference = %f\" % classified_metric_debiasing_test.equal_opportunity_difference())\n",
    "print(\"Test set: Average odds difference = %f\" % classified_metric_debiasing_test.average_odds_difference())\n",
    "print(\"Test set: Theil_index = %f\" % classified_metric_debiasing_test.theil_index())\n",
    "                                                        \n",
    "                                                        "
   ]
  },
  {
   "cell_type": "code",
   "execution_count": 370,
   "metadata": {},
   "outputs": [
    {
     "name": "stdout",
     "output_type": "stream",
     "text": [
      "The Accuracy score is 0.670.\n",
      "\n",
      "The Precision score is 0.611.\n",
      "\n",
      "The Recall score is 0.610.\n",
      "\n",
      "      Confusion Matrix\n"
     ]
    },
    {
     "data": {
      "text/html": [
       "<div>\n",
       "<style scoped>\n",
       "    .dataframe tbody tr th:only-of-type {\n",
       "        vertical-align: middle;\n",
       "    }\n",
       "\n",
       "    .dataframe tbody tr th {\n",
       "        vertical-align: top;\n",
       "    }\n",
       "\n",
       "    .dataframe thead th {\n",
       "        text-align: right;\n",
       "    }\n",
       "</style>\n",
       "<table border=\"1\" class=\"dataframe\">\n",
       "  <thead>\n",
       "    <tr style=\"text-align: right;\">\n",
       "      <th></th>\n",
       "      <th>Actual True</th>\n",
       "      <th>Actual False</th>\n",
       "    </tr>\n",
       "  </thead>\n",
       "  <tbody>\n",
       "    <tr>\n",
       "      <th>Predicted True</th>\n",
       "      <td>388</td>\n",
       "      <td>247</td>\n",
       "    </tr>\n",
       "    <tr>\n",
       "      <th>Predicted False</th>\n",
       "      <td>248</td>\n",
       "      <td>617</td>\n",
       "    </tr>\n",
       "  </tbody>\n",
       "</table>\n",
       "</div>"
      ],
      "text/plain": [
       "                 Actual True  Actual False\n",
       "Predicted True           388           247\n",
       "Predicted False          248           617"
      ]
     },
     "execution_count": 370,
     "metadata": {},
     "output_type": "execute_result"
    }
   ],
   "source": [
    "scorecard(data_val.labels, dataset_debiasing_test.labels)"
   ]
  },
  {
   "cell_type": "markdown",
   "metadata": {},
   "source": [
    "### Postprocessing with Equalized Odds Postprocessing"
   ]
  },
  {
   "cell_type": "code",
   "execution_count": 459,
   "metadata": {},
   "outputs": [],
   "source": [
    "\n",
    "# Learn parameters to equalize odds and apply to create a new dataset\n",
    "cpp = CalibratedEqOddsPostprocessing(privileged_groups = privileged_groups,\n",
    "                                     unprivileged_groups = unprivileged_groups,\n",
    "                                     cost_constraint='fpr')\n",
    "cpp = cpp.fit_predict(data_val, data_val_pred)"
   ]
  },
  {
   "cell_type": "code",
   "execution_count": 460,
   "metadata": {},
   "outputs": [],
   "source": [
    "cpp_metric = ClassificationMetric(data_val, cpp,\n",
    "                             unprivileged_groups=unprivileged_groups,\n",
    "                             privileged_groups=privileged_groups)"
   ]
  },
  {
   "cell_type": "code",
   "execution_count": 461,
   "metadata": {},
   "outputs": [
    {
     "name": "stdout",
     "output_type": "stream",
     "text": [
      "0.0\n"
     ]
    }
   ],
   "source": [
    "print(cpp_metric.generalized_false_positive_rate())"
   ]
  },
  {
   "cell_type": "code",
   "execution_count": 462,
   "metadata": {},
   "outputs": [
    {
     "name": "stdout",
     "output_type": "stream",
     "text": [
      "0.0\n"
     ]
    }
   ],
   "source": [
    "print(cpp_metric.generalized_false_negative_rate())"
   ]
  },
  {
   "cell_type": "code",
   "execution_count": 458,
   "metadata": {},
   "outputs": [
    {
     "name": "stdout",
     "output_type": "stream",
     "text": [
      "The Accuracy score is 1.000.\n",
      "\n",
      "The Precision score is 1.000.\n",
      "\n",
      "The Recall score is 1.000.\n",
      "\n",
      "      Confusion Matrix\n"
     ]
    },
    {
     "data": {
      "text/html": [
       "<div>\n",
       "<style scoped>\n",
       "    .dataframe tbody tr th:only-of-type {\n",
       "        vertical-align: middle;\n",
       "    }\n",
       "\n",
       "    .dataframe tbody tr th {\n",
       "        vertical-align: top;\n",
       "    }\n",
       "\n",
       "    .dataframe thead th {\n",
       "        text-align: right;\n",
       "    }\n",
       "</style>\n",
       "<table border=\"1\" class=\"dataframe\">\n",
       "  <thead>\n",
       "    <tr style=\"text-align: right;\">\n",
       "      <th></th>\n",
       "      <th>Actual True</th>\n",
       "      <th>Actual False</th>\n",
       "    </tr>\n",
       "  </thead>\n",
       "  <tbody>\n",
       "    <tr>\n",
       "      <th>Predicted True</th>\n",
       "      <td>636</td>\n",
       "      <td>0</td>\n",
       "    </tr>\n",
       "    <tr>\n",
       "      <th>Predicted False</th>\n",
       "      <td>0</td>\n",
       "      <td>864</td>\n",
       "    </tr>\n",
       "  </tbody>\n",
       "</table>\n",
       "</div>"
      ],
      "text/plain": [
       "                 Actual True  Actual False\n",
       "Predicted True           636             0\n",
       "Predicted False            0           864"
      ]
     },
     "execution_count": 458,
     "metadata": {},
     "output_type": "execute_result"
    }
   ],
   "source": [
    "scorecard(data_val.labels, cpp.labels)"
   ]
  },
  {
   "cell_type": "code",
   "execution_count": null,
   "metadata": {},
   "outputs": [],
   "source": []
  }
 ],
 "metadata": {
  "kernelspec": {
   "display_name": "Python 3",
   "language": "python",
   "name": "python3"
  },
  "language_info": {
   "codemirror_mode": {
    "name": "ipython",
    "version": 3
   },
   "file_extension": ".py",
   "mimetype": "text/x-python",
   "name": "python",
   "nbconvert_exporter": "python",
   "pygments_lexer": "ipython3",
   "version": "3.7.3"
  }
 },
 "nbformat": 4,
 "nbformat_minor": 4
}
