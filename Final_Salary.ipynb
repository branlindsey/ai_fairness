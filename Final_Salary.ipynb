{
 "cells": [
  {
   "cell_type": "code",
   "execution_count": 2,
   "metadata": {},
   "outputs": [
    {
     "name": "stderr",
     "output_type": "stream",
     "text": [
      "//anaconda3/lib/python3.7/site-packages/dask/dataframe/utils.py:15: FutureWarning: pandas.util.testing is deprecated. Use the functions in the public API at pandas.testing instead.\n",
      "  import pandas.util.testing as tm\n"
     ]
    }
   ],
   "source": [
    "#Standard\n",
    "import pandas as pd\n",
    "import numpy as np\n",
    "import matplotlib.pyplot as plt\n",
    "%matplotlib inline\n",
    "plt.style.use('ggplot')\n",
    "\n",
    "#AIF360 Dataset Classes \n",
    "from aif360.datasets import StandardDataset\n",
    "from aif360.datasets import BinaryLabelDataset\n",
    "\n",
    "#AIF360 Metrics Classes  \n",
    "from aif360.metrics import BinaryLabelDatasetMetric, ClassificationMetric\n",
    "from aif360.algorithms.preprocessing import Reweighing\n",
    "from aif360.metrics import ClassificationMetric\n",
    "\n",
    "#AIF360 Algorithms \n",
    "from aif360.algorithms.preprocessing import Reweighing\n",
    "from aif360.algorithms.inprocessing import AdversarialDebiasing, PrejudiceRemover\n",
    "from aif360.algorithms.postprocessing import CalibratedEqOddsPostprocessing, EqOddsPostprocessing\n",
    "# AI360 Explainers\n",
    "from aif360.explainers import MetricTextExplainer\n",
    "\n",
    "#Sklearn\n",
    "from sklearn.ensemble import RandomForestClassifier\n",
    "from sklearn.metrics import accuracy_score, recall_score, precision_score\n",
    "\n",
    "\n",
    "#Tensorflow -- install version before 2.0\n",
    "import tensorflow as tf \n",
    "\n",
    "#For Markdown\n",
    "from IPython.display import Markdown, display\n",
    "\n",
    "#Helper Functions\n",
    "from src.classifier_functions import *\n",
    "from src.dataset_functions import *\n",
    "from src.fair_classifier_functions import *\n"
   ]
  },
  {
   "cell_type": "markdown",
   "metadata": {},
   "source": [
    "### Creating the Datasets to Analyze with AIF 360"
   ]
  },
  {
   "cell_type": "code",
   "execution_count": 3,
   "metadata": {},
   "outputs": [],
   "source": [
    "data = create_multiple_datasets(create_binary_dataset_salary, [150000, 200000])"
   ]
  },
  {
   "cell_type": "code",
   "execution_count": 4,
   "metadata": {},
   "outputs": [],
   "source": [
    "train, val, test = create_split_lists(data)"
   ]
  },
  {
   "cell_type": "code",
   "execution_count": 5,
   "metadata": {},
   "outputs": [],
   "source": [
    "train_mean, train_di = get_dataset_metrics_list(train)"
   ]
  },
  {
   "cell_type": "code",
   "execution_count": 6,
   "metadata": {},
   "outputs": [],
   "source": [
    "val_mean, val_di = get_dataset_metrics_list(val)"
   ]
  },
  {
   "cell_type": "code",
   "execution_count": 7,
   "metadata": {},
   "outputs": [],
   "source": [
    "## Getting the Initial Metrics between the Training Set and the Validation Set"
   ]
  },
  {
   "cell_type": "code",
   "execution_count": 8,
   "metadata": {},
   "outputs": [
    {
     "data": {
      "image/png": "[encoded data removed]",
      "text/plain": [
       "<Figure size 576x432 with 2 Axes>"
      ]
     },
     "metadata": {
      "needs_background": "light"
     },
     "output_type": "display_data"
    }
   ],
   "source": [
    "plot_mean_diff_and_di(train_mean, train_di, val_mean, val_di, 'images/initial_metrics.png')"
   ]
  },
  {
   "cell_type": "markdown",
   "metadata": {},
   "source": [
    "## Creating Predictions from a Random Forest Classifier "
   ]
  },
  {
   "cell_type": "code",
   "execution_count": 9,
   "metadata": {},
   "outputs": [],
   "source": [
    "#Excluding Sex as a category on 150,000 Salary Threshold\n",
    "train_no_gender = train[0].convert_to_dataframe()[0].drop(labels='sex', axis=1)\n",
    "val_no_gender = val[0].convert_to_dataframe()[0].drop(labels='sex', axis=1)\n",
    "\n",
    "rf_no_gender = RandomForestClassifier(n_estimators=500, max_depth=5)\n",
    "\n"
   ]
  },
  {
   "cell_type": "code",
   "execution_count": 10,
   "metadata": {},
   "outputs": [],
   "source": [
    "X_train = train_no_gender.values[:,0:-1]\n",
    "y_train = train_no_gender.values[:,-1]\n",
    "X_test = val_no_gender.values[:,0:-1]\n",
    "y_test = val_no_gender.values[:,-1]"
   ]
  },
  {
   "cell_type": "code",
   "execution_count": 11,
   "metadata": {},
   "outputs": [
    {
     "name": "stdout",
     "output_type": "stream",
     "text": [
      "The Accuracy score is 0.776.\n",
      "\n",
      "The Precision score is 0.732.\n",
      "\n",
      "The Recall score is 0.999.\n",
      "\n",
      "      Confusion Matrix\n"
     ]
    },
    {
     "data": {
      "text/html": [
       "<div>\n",
       "<style scoped>\n",
       "    .dataframe tbody tr th:only-of-type {\n",
       "        vertical-align: middle;\n",
       "    }\n",
       "\n",
       "    .dataframe tbody tr th {\n",
       "        vertical-align: top;\n",
       "    }\n",
       "\n",
       "    .dataframe thead th {\n",
       "        text-align: right;\n",
       "    }\n",
       "</style>\n",
       "<table border=\"1\" class=\"dataframe\">\n",
       "  <thead>\n",
       "    <tr style=\"text-align: right;\">\n",
       "      <th></th>\n",
       "      <th>Actual True</th>\n",
       "      <th>Actual False</th>\n",
       "    </tr>\n",
       "  </thead>\n",
       "  <tbody>\n",
       "    <tr>\n",
       "      <th>Predicted True</th>\n",
       "      <td>976</td>\n",
       "      <td>357</td>\n",
       "    </tr>\n",
       "    <tr>\n",
       "      <th>Predicted False</th>\n",
       "      <td>1</td>\n",
       "      <td>266</td>\n",
       "    </tr>\n",
       "  </tbody>\n",
       "</table>\n",
       "</div>"
      ],
      "text/plain": [
       "                 Actual True  Actual False\n",
       "Predicted True           976           357\n",
       "Predicted False            1           266"
      ]
     },
     "execution_count": 11,
     "metadata": {},
     "output_type": "execute_result"
    }
   ],
   "source": [
    "rf_no_gender.fit(X_train, y_train)\n",
    "no_gender_preds = rf_no_gender.predict(X_test)\n",
    "\n",
    "scorecard(y_test, no_gender_preds)"
   ]
  },
  {
   "cell_type": "code",
   "execution_count": 12,
   "metadata": {},
   "outputs": [],
   "source": [
    "add_gender = val[0].copy()\n",
    "add_gender.labels = no_gender_preds"
   ]
  },
  {
   "cell_type": "code",
   "execution_count": 14,
   "metadata": {},
   "outputs": [
    {
     "data": {
      "text/plain": [
       "([-0.23639779546601514], [0.25641845566834864])"
      ]
     },
     "execution_count": 14,
     "metadata": {},
     "output_type": "execute_result"
    }
   ],
   "source": [
    "get_dataset_metrics_list([add_gender])"
   ]
  },
  {
   "cell_type": "code",
   "execution_count": 17,
   "metadata": {},
   "outputs": [
    {
     "data": {
      "text/plain": [
       "([-0.1731798354094527], [0.25630615640598997])"
      ]
     },
     "execution_count": 17,
     "metadata": {},
     "output_type": "execute_result"
    }
   ],
   "source": [
    "get_dataset_metrics_list([val[0]])"
   ]
  },
  {
   "cell_type": "code",
   "execution_count": 19,
   "metadata": {},
   "outputs": [],
   "source": [
    "## Including Sex as a category\n",
    "pred_list = get_predictions(RandomForestClassifier(n_estimators=500, max_depth=5), \n",
    "                train, val)"
   ]
  },
  {
   "cell_type": "code",
   "execution_count": 20,
   "metadata": {},
   "outputs": [],
   "source": [
    "pred_mean, pred_di = get_dataset_metrics_list(pred_list)"
   ]
  },
  {
   "cell_type": "code",
   "execution_count": 21,
   "metadata": {},
   "outputs": [
    {
     "data": {
      "image/png": "[encoded data removed]",
      "text/plain": [
       "<Figure size 576x432 with 2 Axes>"
      ]
     },
     "metadata": {
      "needs_background": "light"
     },
     "output_type": "display_data"
    }
   ],
   "source": [
    "plot_mean_diff_and_di(val_mean, val_di, pred_mean, pred_di, 'images/initial_rf_metrics.png')"
   ]
  },
  {
   "cell_type": "markdown",
   "metadata": {},
   "source": [
    "## Reweighing to Reduce Bias"
   ]
  },
  {
   "cell_type": "code",
   "execution_count": 22,
   "metadata": {},
   "outputs": [],
   "source": [
    "privileged_groups= [{'sex':1}]\n",
    "unprivileged_groups= [{'sex': 0}]\n",
    "RW = Reweighing(unprivileged_groups=unprivileged_groups, \n",
    "               privileged_groups=privileged_groups)\n",
    "\n",
    "rw_train_datasets = []\n",
    "for dataset in train: \n",
    "    rw = RW.fit_transform(dataset)\n",
    "    rw_train_datasets.append(rw)\n",
    "    \n",
    "rw_val_datasets = [] \n",
    "for dataset in val: \n",
    "    rw = RW.fit_transform(dataset)\n",
    "    rw_val_datasets.append(rw)"
   ]
  },
  {
   "cell_type": "code",
   "execution_count": 23,
   "metadata": {},
   "outputs": [],
   "source": [
    "rw_train_mean, rw_train_di = get_dataset_metrics_list(rw_train_datasets)\n",
    "rw_val_mean, rw_val_di = get_dataset_metrics_list(rw_val_datasets)\n"
   ]
  },
  {
   "cell_type": "code",
   "execution_count": 24,
   "metadata": {},
   "outputs": [
    {
     "data": {
      "image/png": "[encoded data removed]",
      "text/plain": [
       "<Figure size 576x432 with 2 Axes>"
      ]
     },
     "metadata": {
      "needs_background": "light"
     },
     "output_type": "display_data"
    }
   ],
   "source": [
    "plot_mean_diff_and_di(rw_train_mean, rw_train_di, rw_val_mean, rw_val_di, 'images/rw_metrics.png')"
   ]
  },
  {
   "cell_type": "markdown",
   "metadata": {},
   "source": [
    "### New Predictions with Reweighted Random Forest"
   ]
  },
  {
   "cell_type": "code",
   "execution_count": 25,
   "metadata": {},
   "outputs": [],
   "source": [
    "rw_pred_list = get_rw_predictions(RandomForestClassifier(n_estimators=500, max_depth=5), rw_train_datasets, rw_val_datasets)"
   ]
  },
  {
   "cell_type": "code",
   "execution_count": 26,
   "metadata": {},
   "outputs": [],
   "source": [
    "rw_pred_mean, rw_pred_di = get_dataset_metrics_list(rw_pred_list)"
   ]
  },
  {
   "cell_type": "code",
   "execution_count": 27,
   "metadata": {},
   "outputs": [
    {
     "data": {
      "image/png": "[encoded data removed]",
      "text/plain": [
       "<Figure size 576x432 with 2 Axes>"
      ]
     },
     "metadata": {
      "needs_background": "light"
     },
     "output_type": "display_data"
    }
   ],
   "source": [
    "plot_mean_diff_and_di(rw_val_mean, rw_val_di, rw_pred_mean, rw_pred_di, 'images/rw_rf_metrics.png')"
   ]
  },
  {
   "cell_type": "markdown",
   "metadata": {},
   "source": [
    "### Inprocessing with Adversarial Debiasing "
   ]
  },
  {
   "cell_type": "code",
   "execution_count": 28,
   "metadata": {},
   "outputs": [],
   "source": [
    "#sess.close()\n",
    "tf.reset_default_graph()\n",
    "sess = tf.Session()"
   ]
  },
  {
   "cell_type": "code",
   "execution_count": 29,
   "metadata": {},
   "outputs": [],
   "source": [
    "##Creating Tensorflow Session - must not use Tensorflow 2.0 \n",
    "sess = tf.Session()\n",
    "db_model = AdversarialDebiasing(privileged_groups = privileged_groups,\n",
    "                          unprivileged_groups = unprivileged_groups,\n",
    "                          scope_name='debiased_classifier',\n",
    "                            num_epochs  = 100,\n",
    "                            batch_size = 50,\n",
    "                            adversary_loss_weight = .1,     \n",
    "                            debias=True,\n",
    "                          sess=sess)"
   ]
  },
  {
   "cell_type": "code",
   "execution_count": 30,
   "metadata": {
    "collapsed": true,
    "jupyter": {
     "outputs_hidden": true
    }
   },
   "outputs": [
    {
     "name": "stdout",
     "output_type": "stream",
     "text": [
      "WARNING:tensorflow:From //anaconda3/lib/python3.7/site-packages/aif360/algorithms/inprocessing/adversarial_debiasing.py:133: The name tf.variable_scope is deprecated. Please use tf.compat.v1.variable_scope instead.\n",
      "\n",
      "WARNING:tensorflow:From //anaconda3/lib/python3.7/site-packages/aif360/algorithms/inprocessing/adversarial_debiasing.py:137: The name tf.placeholder is deprecated. Please use tf.compat.v1.placeholder instead.\n",
      "\n",
      "WARNING:tensorflow:From //anaconda3/lib/python3.7/site-packages/aif360/algorithms/inprocessing/adversarial_debiasing.py:82: The name tf.get_variable is deprecated. Please use tf.compat.v1.get_variable instead.\n",
      "\n",
      "WARNING:tensorflow:\n",
      "The TensorFlow contrib module will not be included in TensorFlow 2.0.\n",
      "For more information, please see:\n",
      "  * https://github.com/tensorflow/community/blob/master/rfcs/20180907-contrib-sunset.md\n",
      "  * https://github.com/tensorflow/addons\n",
      "  * https://github.com/tensorflow/io (for I/O related ops)\n",
      "If you depend on functionality not listed there, please file an issue.\n",
      "\n",
      "WARNING:tensorflow:From //anaconda3/lib/python3.7/site-packages/aif360/algorithms/inprocessing/adversarial_debiasing.py:87: calling dropout (from tensorflow.python.ops.nn_ops) with keep_prob is deprecated and will be removed in a future version.\n",
      "Instructions for updating:\n",
      "Please use `rate` instead of `keep_prob`. Rate should be set to `rate = 1 - keep_prob`.\n",
      "WARNING:tensorflow:From //anaconda3/lib/python3.7/site-packages/tensorflow_core/python/ops/nn_impl.py:183: where (from tensorflow.python.ops.array_ops) is deprecated and will be removed in a future version.\n",
      "Instructions for updating:\n",
      "Use tf.where in 2.0, which has the same broadcast rule as np.where\n",
      "WARNING:tensorflow:From //anaconda3/lib/python3.7/site-packages/aif360/algorithms/inprocessing/adversarial_debiasing.py:155: The name tf.train.exponential_decay is deprecated. Please use tf.compat.v1.train.exponential_decay instead.\n",
      "\n",
      "WARNING:tensorflow:From //anaconda3/lib/python3.7/site-packages/aif360/algorithms/inprocessing/adversarial_debiasing.py:157: The name tf.train.AdamOptimizer is deprecated. Please use tf.compat.v1.train.AdamOptimizer instead.\n",
      "\n",
      "WARNING:tensorflow:From //anaconda3/lib/python3.7/site-packages/aif360/algorithms/inprocessing/adversarial_debiasing.py:161: The name tf.trainable_variables is deprecated. Please use tf.compat.v1.trainable_variables instead.\n",
      "\n",
      "WARNING:tensorflow:From //anaconda3/lib/python3.7/site-packages/aif360/algorithms/inprocessing/adversarial_debiasing.py:182: The name tf.global_variables_initializer is deprecated. Please use tf.compat.v1.global_variables_initializer instead.\n",
      "\n",
      "WARNING:tensorflow:From //anaconda3/lib/python3.7/site-packages/aif360/algorithms/inprocessing/adversarial_debiasing.py:183: The name tf.local_variables_initializer is deprecated. Please use tf.compat.v1.local_variables_initializer instead.\n",
      "\n",
      "epoch 0; iter: 0; batch classifier loss: 0.687756; batch adversarial loss: 0.699977\n",
      "epoch 1; iter: 0; batch classifier loss: 0.522819; batch adversarial loss: 0.671638\n",
      "epoch 2; iter: 0; batch classifier loss: 0.587038; batch adversarial loss: 0.693643\n",
      "epoch 3; iter: 0; batch classifier loss: 0.417243; batch adversarial loss: 0.656453\n",
      "epoch 4; iter: 0; batch classifier loss: 0.537116; batch adversarial loss: 0.704800\n",
      "epoch 5; iter: 0; batch classifier loss: 0.336167; batch adversarial loss: 0.613898\n",
      "epoch 6; iter: 0; batch classifier loss: 0.503574; batch adversarial loss: 0.569200\n",
      "epoch 7; iter: 0; batch classifier loss: 0.405960; batch adversarial loss: 0.645222\n",
      "epoch 8; iter: 0; batch classifier loss: 0.491786; batch adversarial loss: 0.651948\n",
      "epoch 9; iter: 0; batch classifier loss: 0.457765; batch adversarial loss: 0.563965\n",
      "epoch 10; iter: 0; batch classifier loss: 0.548218; batch adversarial loss: 0.631234\n",
      "epoch 11; iter: 0; batch classifier loss: 0.502768; batch adversarial loss: 0.629989\n",
      "epoch 12; iter: 0; batch classifier loss: 0.503896; batch adversarial loss: 0.596333\n",
      "epoch 13; iter: 0; batch classifier loss: 0.399551; batch adversarial loss: 0.699300\n",
      "epoch 14; iter: 0; batch classifier loss: 0.799798; batch adversarial loss: 0.649176\n",
      "epoch 15; iter: 0; batch classifier loss: 0.598587; batch adversarial loss: 0.500158\n",
      "epoch 16; iter: 0; batch classifier loss: 0.356147; batch adversarial loss: 0.645669\n",
      "epoch 17; iter: 0; batch classifier loss: 0.574093; batch adversarial loss: 0.678736\n",
      "epoch 18; iter: 0; batch classifier loss: 0.354432; batch adversarial loss: 0.626664\n",
      "epoch 19; iter: 0; batch classifier loss: 0.475127; batch adversarial loss: 0.595344\n",
      "epoch 20; iter: 0; batch classifier loss: 0.464572; batch adversarial loss: 0.582242\n",
      "epoch 21; iter: 0; batch classifier loss: 0.448940; batch adversarial loss: 0.641411\n",
      "epoch 22; iter: 0; batch classifier loss: 0.506888; batch adversarial loss: 0.716940\n",
      "epoch 23; iter: 0; batch classifier loss: 0.589477; batch adversarial loss: 0.642940\n",
      "epoch 24; iter: 0; batch classifier loss: 0.503613; batch adversarial loss: 0.643157\n",
      "epoch 25; iter: 0; batch classifier loss: 0.530200; batch adversarial loss: 0.569619\n",
      "epoch 26; iter: 0; batch classifier loss: 0.373278; batch adversarial loss: 0.630236\n",
      "epoch 27; iter: 0; batch classifier loss: 0.570900; batch adversarial loss: 0.605853\n",
      "epoch 28; iter: 0; batch classifier loss: 0.461534; batch adversarial loss: 0.622262\n",
      "epoch 29; iter: 0; batch classifier loss: 0.473301; batch adversarial loss: 0.744173\n",
      "epoch 30; iter: 0; batch classifier loss: 0.487823; batch adversarial loss: 0.604466\n",
      "epoch 31; iter: 0; batch classifier loss: 0.478116; batch adversarial loss: 0.692483\n",
      "epoch 32; iter: 0; batch classifier loss: 0.675645; batch adversarial loss: 0.536101\n",
      "epoch 33; iter: 0; batch classifier loss: 0.537173; batch adversarial loss: 0.676934\n",
      "epoch 34; iter: 0; batch classifier loss: 0.472515; batch adversarial loss: 0.680155\n",
      "epoch 35; iter: 0; batch classifier loss: 0.465762; batch adversarial loss: 0.750985\n",
      "epoch 36; iter: 0; batch classifier loss: 0.446897; batch adversarial loss: 0.584372\n",
      "epoch 37; iter: 0; batch classifier loss: 0.487973; batch adversarial loss: 0.647909\n",
      "epoch 38; iter: 0; batch classifier loss: 0.481515; batch adversarial loss: 0.696461\n",
      "epoch 39; iter: 0; batch classifier loss: 0.505550; batch adversarial loss: 0.731591\n",
      "epoch 40; iter: 0; batch classifier loss: 0.490897; batch adversarial loss: 0.644213\n",
      "epoch 41; iter: 0; batch classifier loss: 0.707708; batch adversarial loss: 0.600195\n",
      "epoch 42; iter: 0; batch classifier loss: 0.548938; batch adversarial loss: 0.641140\n",
      "epoch 43; iter: 0; batch classifier loss: 0.527508; batch adversarial loss: 0.624863\n",
      "epoch 44; iter: 0; batch classifier loss: 0.487694; batch adversarial loss: 0.620890\n",
      "epoch 45; iter: 0; batch classifier loss: 0.479986; batch adversarial loss: 0.663593\n",
      "epoch 46; iter: 0; batch classifier loss: 0.455067; batch adversarial loss: 0.695096\n",
      "epoch 47; iter: 0; batch classifier loss: 0.438257; batch adversarial loss: 0.697047\n",
      "epoch 48; iter: 0; batch classifier loss: 0.361296; batch adversarial loss: 0.560797\n",
      "epoch 49; iter: 0; batch classifier loss: 0.402225; batch adversarial loss: 0.633618\n",
      "epoch 50; iter: 0; batch classifier loss: 0.589352; batch adversarial loss: 0.672019\n",
      "epoch 51; iter: 0; batch classifier loss: 0.528629; batch adversarial loss: 0.629875\n",
      "epoch 52; iter: 0; batch classifier loss: 0.390736; batch adversarial loss: 0.566744\n",
      "epoch 53; iter: 0; batch classifier loss: 0.528904; batch adversarial loss: 0.671909\n",
      "epoch 54; iter: 0; batch classifier loss: 0.505656; batch adversarial loss: 0.685670\n",
      "epoch 55; iter: 0; batch classifier loss: 0.336943; batch adversarial loss: 0.652433\n",
      "epoch 56; iter: 0; batch classifier loss: 0.422624; batch adversarial loss: 0.578748\n",
      "epoch 57; iter: 0; batch classifier loss: 0.571800; batch adversarial loss: 0.641131\n",
      "epoch 58; iter: 0; batch classifier loss: 0.456930; batch adversarial loss: 0.748953\n",
      "epoch 59; iter: 0; batch classifier loss: 0.469929; batch adversarial loss: 0.627004\n",
      "epoch 60; iter: 0; batch classifier loss: 0.532542; batch adversarial loss: 0.616659\n",
      "epoch 61; iter: 0; batch classifier loss: 0.573206; batch adversarial loss: 0.640813\n",
      "epoch 62; iter: 0; batch classifier loss: 0.541008; batch adversarial loss: 0.695192\n",
      "epoch 63; iter: 0; batch classifier loss: 0.574492; batch adversarial loss: 0.690481\n",
      "epoch 64; iter: 0; batch classifier loss: 0.460289; batch adversarial loss: 0.671897\n",
      "epoch 65; iter: 0; batch classifier loss: 0.597232; batch adversarial loss: 0.692019\n",
      "epoch 66; iter: 0; batch classifier loss: 0.478304; batch adversarial loss: 0.674977\n",
      "epoch 67; iter: 0; batch classifier loss: 0.404510; batch adversarial loss: 0.723831\n",
      "epoch 68; iter: 0; batch classifier loss: 0.587146; batch adversarial loss: 0.582137\n",
      "epoch 69; iter: 0; batch classifier loss: 0.541380; batch adversarial loss: 0.582295\n",
      "epoch 70; iter: 0; batch classifier loss: 0.434095; batch adversarial loss: 0.658801\n",
      "epoch 71; iter: 0; batch classifier loss: 0.335072; batch adversarial loss: 0.642625\n",
      "epoch 72; iter: 0; batch classifier loss: 0.487129; batch adversarial loss: 0.675949\n",
      "epoch 73; iter: 0; batch classifier loss: 0.413370; batch adversarial loss: 0.688621\n",
      "epoch 74; iter: 0; batch classifier loss: 0.450609; batch adversarial loss: 0.647758\n",
      "epoch 75; iter: 0; batch classifier loss: 0.538741; batch adversarial loss: 0.631495\n",
      "epoch 76; iter: 0; batch classifier loss: 0.430397; batch adversarial loss: 0.593284\n",
      "epoch 77; iter: 0; batch classifier loss: 0.412827; batch adversarial loss: 0.654451\n",
      "epoch 78; iter: 0; batch classifier loss: 0.577940; batch adversarial loss: 0.672255\n",
      "epoch 79; iter: 0; batch classifier loss: 0.493653; batch adversarial loss: 0.610942\n",
      "epoch 80; iter: 0; batch classifier loss: 0.508611; batch adversarial loss: 0.601752\n",
      "epoch 81; iter: 0; batch classifier loss: 0.589648; batch adversarial loss: 0.674417\n",
      "epoch 82; iter: 0; batch classifier loss: 0.574402; batch adversarial loss: 0.650610\n",
      "epoch 83; iter: 0; batch classifier loss: 0.613807; batch adversarial loss: 0.698189\n",
      "epoch 84; iter: 0; batch classifier loss: 0.518017; batch adversarial loss: 0.678356\n",
      "epoch 85; iter: 0; batch classifier loss: 0.480748; batch adversarial loss: 0.582825\n",
      "epoch 86; iter: 0; batch classifier loss: 0.513267; batch adversarial loss: 0.606380\n",
      "epoch 87; iter: 0; batch classifier loss: 0.567031; batch adversarial loss: 0.628387\n",
      "epoch 88; iter: 0; batch classifier loss: 0.481146; batch adversarial loss: 0.676292\n",
      "epoch 89; iter: 0; batch classifier loss: 0.411603; batch adversarial loss: 0.633151\n",
      "epoch 90; iter: 0; batch classifier loss: 0.480090; batch adversarial loss: 0.660767\n",
      "epoch 91; iter: 0; batch classifier loss: 0.559597; batch adversarial loss: 0.676771\n",
      "epoch 92; iter: 0; batch classifier loss: 0.562908; batch adversarial loss: 0.624592\n",
      "epoch 93; iter: 0; batch classifier loss: 0.417132; batch adversarial loss: 0.664964\n",
      "epoch 94; iter: 0; batch classifier loss: 0.523047; batch adversarial loss: 0.626093\n",
      "epoch 95; iter: 0; batch classifier loss: 0.451128; batch adversarial loss: 0.700803\n",
      "epoch 96; iter: 0; batch classifier loss: 0.547564; batch adversarial loss: 0.723372\n",
      "epoch 97; iter: 0; batch classifier loss: 0.521330; batch adversarial loss: 0.586533\n",
      "epoch 98; iter: 0; batch classifier loss: 0.576773; batch adversarial loss: 0.584807\n",
      "epoch 99; iter: 0; batch classifier loss: 0.429665; batch adversarial loss: 0.771050\n"
     ]
    },
    {
     "data": {
      "text/plain": [
       "<aif360.algorithms.inprocessing.adversarial_debiasing.AdversarialDebiasing at 0x14beff278>"
      ]
     },
     "execution_count": 30,
     "metadata": {},
     "output_type": "execute_result"
    }
   ],
   "source": [
    "db_model.fit(train[0]) "
   ]
  },
  {
   "cell_type": "code",
   "execution_count": 31,
   "metadata": {},
   "outputs": [],
   "source": [
    "adb_preds_1 = db_model.predict(val[0])"
   ]
  },
  {
   "cell_type": "code",
   "execution_count": 32,
   "metadata": {
    "collapsed": true,
    "jupyter": {
     "outputs_hidden": true
    }
   },
   "outputs": [
    {
     "name": "stdout",
     "output_type": "stream",
     "text": [
      "epoch 0; iter: 0; batch classifier loss: 1.154762; batch adversarial loss: 0.689920\n",
      "epoch 1; iter: 0; batch classifier loss: 0.626060; batch adversarial loss: 0.696562\n",
      "epoch 2; iter: 0; batch classifier loss: 0.573802; batch adversarial loss: 0.671605\n",
      "epoch 3; iter: 0; batch classifier loss: 0.545193; batch adversarial loss: 0.719358\n",
      "epoch 4; iter: 0; batch classifier loss: 0.968584; batch adversarial loss: 0.693636\n",
      "epoch 5; iter: 0; batch classifier loss: 0.527650; batch adversarial loss: 0.631732\n",
      "epoch 6; iter: 0; batch classifier loss: 0.553207; batch adversarial loss: 0.690571\n",
      "epoch 7; iter: 0; batch classifier loss: 0.579226; batch adversarial loss: 0.615036\n",
      "epoch 8; iter: 0; batch classifier loss: 0.592185; batch adversarial loss: 0.658181\n",
      "epoch 9; iter: 0; batch classifier loss: 0.674065; batch adversarial loss: 0.632453\n",
      "epoch 10; iter: 0; batch classifier loss: 0.627059; batch adversarial loss: 0.632712\n",
      "epoch 11; iter: 0; batch classifier loss: 0.576074; batch adversarial loss: 0.724335\n",
      "epoch 12; iter: 0; batch classifier loss: 0.529798; batch adversarial loss: 0.607783\n",
      "epoch 13; iter: 0; batch classifier loss: 0.653588; batch adversarial loss: 0.696202\n",
      "epoch 14; iter: 0; batch classifier loss: 0.520938; batch adversarial loss: 0.689059\n",
      "epoch 15; iter: 0; batch classifier loss: 0.563839; batch adversarial loss: 0.626207\n",
      "epoch 16; iter: 0; batch classifier loss: 0.570807; batch adversarial loss: 0.711203\n",
      "epoch 17; iter: 0; batch classifier loss: 0.546630; batch adversarial loss: 0.649786\n",
      "epoch 18; iter: 0; batch classifier loss: 0.663728; batch adversarial loss: 0.604086\n",
      "epoch 19; iter: 0; batch classifier loss: 0.613840; batch adversarial loss: 0.602367\n",
      "epoch 20; iter: 0; batch classifier loss: 0.719795; batch adversarial loss: 0.681040\n",
      "epoch 21; iter: 0; batch classifier loss: 0.669037; batch adversarial loss: 0.659611\n",
      "epoch 22; iter: 0; batch classifier loss: 0.628851; batch adversarial loss: 0.634954\n",
      "epoch 23; iter: 0; batch classifier loss: 0.618973; batch adversarial loss: 0.612036\n",
      "epoch 24; iter: 0; batch classifier loss: 0.692702; batch adversarial loss: 0.665078\n",
      "epoch 25; iter: 0; batch classifier loss: 0.482200; batch adversarial loss: 0.640674\n",
      "epoch 26; iter: 0; batch classifier loss: 0.585933; batch adversarial loss: 0.669019\n",
      "epoch 27; iter: 0; batch classifier loss: 0.603617; batch adversarial loss: 0.706684\n",
      "epoch 28; iter: 0; batch classifier loss: 0.595637; batch adversarial loss: 0.668979\n",
      "epoch 29; iter: 0; batch classifier loss: 0.577970; batch adversarial loss: 0.674333\n",
      "epoch 30; iter: 0; batch classifier loss: 0.560183; batch adversarial loss: 0.706253\n",
      "epoch 31; iter: 0; batch classifier loss: 0.655126; batch adversarial loss: 0.548050\n",
      "epoch 32; iter: 0; batch classifier loss: 0.529351; batch adversarial loss: 0.633612\n",
      "epoch 33; iter: 0; batch classifier loss: 0.663259; batch adversarial loss: 0.673758\n",
      "epoch 34; iter: 0; batch classifier loss: 0.610258; batch adversarial loss: 0.572503\n",
      "epoch 35; iter: 0; batch classifier loss: 0.506724; batch adversarial loss: 0.631718\n",
      "epoch 36; iter: 0; batch classifier loss: 0.540391; batch adversarial loss: 0.653520\n",
      "epoch 37; iter: 0; batch classifier loss: 0.556484; batch adversarial loss: 0.641031\n",
      "epoch 38; iter: 0; batch classifier loss: 0.675325; batch adversarial loss: 0.612683\n",
      "epoch 39; iter: 0; batch classifier loss: 0.526334; batch adversarial loss: 0.642507\n",
      "epoch 40; iter: 0; batch classifier loss: 0.652291; batch adversarial loss: 0.635095\n",
      "epoch 41; iter: 0; batch classifier loss: 0.702837; batch adversarial loss: 0.634691\n",
      "epoch 42; iter: 0; batch classifier loss: 0.544821; batch adversarial loss: 0.588662\n",
      "epoch 43; iter: 0; batch classifier loss: 0.573676; batch adversarial loss: 0.677375\n",
      "epoch 44; iter: 0; batch classifier loss: 0.626539; batch adversarial loss: 0.706873\n",
      "epoch 45; iter: 0; batch classifier loss: 0.598397; batch adversarial loss: 0.639861\n",
      "epoch 46; iter: 0; batch classifier loss: 0.607417; batch adversarial loss: 0.714622\n",
      "epoch 47; iter: 0; batch classifier loss: 0.534680; batch adversarial loss: 0.679381\n",
      "epoch 48; iter: 0; batch classifier loss: 0.613424; batch adversarial loss: 0.675000\n",
      "epoch 49; iter: 0; batch classifier loss: 0.517972; batch adversarial loss: 0.649919\n",
      "epoch 50; iter: 0; batch classifier loss: 0.566462; batch adversarial loss: 0.672543\n",
      "epoch 51; iter: 0; batch classifier loss: 0.495333; batch adversarial loss: 0.657831\n",
      "epoch 52; iter: 0; batch classifier loss: 0.602914; batch adversarial loss: 0.667674\n",
      "epoch 53; iter: 0; batch classifier loss: 0.582029; batch adversarial loss: 0.631634\n",
      "epoch 54; iter: 0; batch classifier loss: 0.529990; batch adversarial loss: 0.637928\n",
      "epoch 55; iter: 0; batch classifier loss: 0.567418; batch adversarial loss: 0.715849\n",
      "epoch 56; iter: 0; batch classifier loss: 0.574437; batch adversarial loss: 0.626235\n",
      "epoch 57; iter: 0; batch classifier loss: 0.653935; batch adversarial loss: 0.629712\n",
      "epoch 58; iter: 0; batch classifier loss: 0.602132; batch adversarial loss: 0.572593\n",
      "epoch 59; iter: 0; batch classifier loss: 0.553520; batch adversarial loss: 0.629588\n",
      "epoch 60; iter: 0; batch classifier loss: 0.531812; batch adversarial loss: 0.703623\n",
      "epoch 61; iter: 0; batch classifier loss: 0.518825; batch adversarial loss: 0.654674\n",
      "epoch 62; iter: 0; batch classifier loss: 0.618971; batch adversarial loss: 0.614259\n",
      "epoch 63; iter: 0; batch classifier loss: 0.568089; batch adversarial loss: 0.726872\n",
      "epoch 64; iter: 0; batch classifier loss: 0.487107; batch adversarial loss: 0.648078\n",
      "epoch 65; iter: 0; batch classifier loss: 0.640943; batch adversarial loss: 0.615519\n",
      "epoch 66; iter: 0; batch classifier loss: 0.574375; batch adversarial loss: 0.611384\n",
      "epoch 67; iter: 0; batch classifier loss: 0.536576; batch adversarial loss: 0.637861\n",
      "epoch 68; iter: 0; batch classifier loss: 0.563643; batch adversarial loss: 0.639788\n",
      "epoch 69; iter: 0; batch classifier loss: 0.539212; batch adversarial loss: 0.666452\n",
      "epoch 70; iter: 0; batch classifier loss: 0.555247; batch adversarial loss: 0.672237\n",
      "epoch 71; iter: 0; batch classifier loss: 0.518473; batch adversarial loss: 0.669051\n",
      "epoch 72; iter: 0; batch classifier loss: 0.491325; batch adversarial loss: 0.629597\n",
      "epoch 73; iter: 0; batch classifier loss: 0.679181; batch adversarial loss: 0.634694\n",
      "epoch 74; iter: 0; batch classifier loss: 0.483238; batch adversarial loss: 0.724670\n",
      "epoch 75; iter: 0; batch classifier loss: 0.505287; batch adversarial loss: 0.666582\n",
      "epoch 76; iter: 0; batch classifier loss: 0.517017; batch adversarial loss: 0.617513\n",
      "epoch 77; iter: 0; batch classifier loss: 0.612457; batch adversarial loss: 0.686871\n",
      "epoch 78; iter: 0; batch classifier loss: 0.499327; batch adversarial loss: 0.608835\n",
      "epoch 79; iter: 0; batch classifier loss: 0.534520; batch adversarial loss: 0.607712\n",
      "epoch 80; iter: 0; batch classifier loss: 0.564010; batch adversarial loss: 0.664529\n",
      "epoch 81; iter: 0; batch classifier loss: 0.537403; batch adversarial loss: 0.650101\n",
      "epoch 82; iter: 0; batch classifier loss: 0.580514; batch adversarial loss: 0.640478\n",
      "epoch 83; iter: 0; batch classifier loss: 0.515231; batch adversarial loss: 0.666250\n",
      "epoch 84; iter: 0; batch classifier loss: 0.621072; batch adversarial loss: 0.645071\n",
      "epoch 85; iter: 0; batch classifier loss: 0.614623; batch adversarial loss: 0.616113\n",
      "epoch 86; iter: 0; batch classifier loss: 0.611789; batch adversarial loss: 0.676016\n",
      "epoch 87; iter: 0; batch classifier loss: 0.592566; batch adversarial loss: 0.623846\n",
      "epoch 88; iter: 0; batch classifier loss: 0.523695; batch adversarial loss: 0.658735\n",
      "epoch 89; iter: 0; batch classifier loss: 0.563051; batch adversarial loss: 0.590405\n",
      "epoch 90; iter: 0; batch classifier loss: 0.596690; batch adversarial loss: 0.545926\n",
      "epoch 91; iter: 0; batch classifier loss: 0.500656; batch adversarial loss: 0.613384\n",
      "epoch 92; iter: 0; batch classifier loss: 0.654106; batch adversarial loss: 0.616256\n",
      "epoch 93; iter: 0; batch classifier loss: 0.587460; batch adversarial loss: 0.696900\n",
      "epoch 94; iter: 0; batch classifier loss: 0.555539; batch adversarial loss: 0.676361\n",
      "epoch 95; iter: 0; batch classifier loss: 0.604134; batch adversarial loss: 0.647892\n",
      "epoch 96; iter: 0; batch classifier loss: 0.522482; batch adversarial loss: 0.630093\n",
      "epoch 97; iter: 0; batch classifier loss: 0.519983; batch adversarial loss: 0.662065\n",
      "epoch 98; iter: 0; batch classifier loss: 0.494803; batch adversarial loss: 0.691634\n",
      "epoch 99; iter: 0; batch classifier loss: 0.658877; batch adversarial loss: 0.677755\n"
     ]
    },
    {
     "data": {
      "text/plain": [
       "<aif360.algorithms.inprocessing.adversarial_debiasing.AdversarialDebiasing at 0x14c22f198>"
      ]
     },
     "execution_count": 32,
     "metadata": {},
     "output_type": "execute_result"
    }
   ],
   "source": [
    "sess.close()\n",
    "tf.reset_default_graph()\n",
    "sess = tf.Session()\n",
    "db_model = AdversarialDebiasing(privileged_groups = privileged_groups,\n",
    "                          unprivileged_groups = unprivileged_groups,\n",
    "                          scope_name='debiased_classifier',\n",
    "                            num_epochs  = 100,\n",
    "                            batch_size = 50,\n",
    "                            adversary_loss_weight = .1,     \n",
    "                            debias=True,\n",
    "                          sess=sess)\n",
    "\n",
    "db_model.fit(train[1]) "
   ]
  },
  {
   "cell_type": "code",
   "execution_count": 33,
   "metadata": {},
   "outputs": [],
   "source": [
    "adb_preds_2 = db_model.predict(val[1])\n"
   ]
  },
  {
   "cell_type": "code",
   "execution_count": 34,
   "metadata": {},
   "outputs": [],
   "source": [
    "adb_preds = [adb_preds_1, adb_preds_2]"
   ]
  },
  {
   "cell_type": "code",
   "execution_count": 35,
   "metadata": {},
   "outputs": [],
   "source": [
    "adb_mean, adb_di = get_dataset_metrics_list(adb_preds)\n"
   ]
  },
  {
   "cell_type": "code",
   "execution_count": 36,
   "metadata": {},
   "outputs": [
    {
     "data": {
      "image/png": "[encoded data removed]",
      "text/plain": [
       "<Figure size 576x432 with 2 Axes>"
      ]
     },
     "metadata": {
      "needs_background": "light"
     },
     "output_type": "display_data"
    }
   ],
   "source": [
    "plot_mean_diff_and_di(val_mean, val_di, adb_mean, adb_di, 'images/adb_metrics.png')"
   ]
  },
  {
   "cell_type": "markdown",
   "metadata": {},
   "source": [
    "## Inprocessing PrejudiceRemover"
   ]
  },
  {
   "cell_type": "code",
   "execution_count": null,
   "metadata": {},
   "outputs": [],
   "source": [
    "pr = PrejudiceRemover(sensitive_attr='sex', class_attr='salary')\n",
    "pr.fit(train[0])\n",
    "pr2 = PrejudiceRemover(sensitive_attr='sex', class_attr='salary')\n",
    "pr2.fit(train[1])"
   ]
  },
  {
   "cell_type": "code",
   "execution_count": null,
   "metadata": {},
   "outputs": [],
   "source": [
    "pr_preds_1 = pr.predict(val[0])\n",
    "pr_preds_2 = pr2.predict(val[1])\n",
    "pr_preds = [pr_preds_1, pr_preds_2]\n"
   ]
  },
  {
   "cell_type": "code",
   "execution_count": null,
   "metadata": {},
   "outputs": [],
   "source": [
    "pr_mean, pr_di = get_dataset_metrics_list(pr_preds)\n",
    "plot_mean_diff_and_di(val_mean, val_di, pr_mean, pr_di, 'images/pr_metrics.png')"
   ]
  },
  {
   "cell_type": "markdown",
   "metadata": {},
   "source": [
    "### PostProcessing with Calibrated Odd Postprocessing"
   ]
  },
  {
   "cell_type": "markdown",
   "metadata": {},
   "source": [
    "#### With Random Forest Predictions"
   ]
  },
  {
   "cell_type": "code",
   "execution_count": null,
   "metadata": {},
   "outputs": [],
   "source": [
    "cpp_rf = CalibratedEqOddsPostprocessing(privileged_groups = privileged_groups,\n",
    "                                     unprivileged_groups = unprivileged_groups,\n",
    "                                     cost_constraint='weighted')\n",
    "cpp2_rf= CalibratedEqOddsPostprocessing(privileged_groups = privileged_groups,\n",
    "                                     unprivileged_groups = unprivileged_groups,\n",
    "                                     cost_constraint='weighted')\n",
    "\n",
    "cpp_rf.fit(val[0], pred_list[0])\n",
    "cpp2_rf.fit(val[1], pred_list[1])"
   ]
  },
  {
   "cell_type": "code",
   "execution_count": null,
   "metadata": {},
   "outputs": [],
   "source": [
    "cpp_preds_rf_1 = cpp_rf.predict(pred_list[0])\n",
    "cpp_preds_rf_2 = cpp2_rf.predict(pred_list[1])\n",
    "cpp_rf_preds = [cpp_preds_rf_1, cpp_preds_rf_2]\n"
   ]
  },
  {
   "cell_type": "code",
   "execution_count": null,
   "metadata": {},
   "outputs": [],
   "source": [
    "cpp_rf_mean, cpp_rf_di = get_dataset_metrics_list(cpp_rf_preds)\n",
    "plot_mean_diff_and_di(val_mean, val_di, cpp_rf_mean, cpp_rf_di, 'images/cpp_rf_metrics.png')"
   ]
  },
  {
   "cell_type": "markdown",
   "metadata": {},
   "source": [
    "#### With Adversarial Debiasing Predictions \n"
   ]
  },
  {
   "cell_type": "code",
   "execution_count": null,
   "metadata": {},
   "outputs": [],
   "source": [
    "cpp_adb = CalibratedEqOddsPostprocessing(privileged_groups = privileged_groups,\n",
    "                                     unprivileged_groups = unprivileged_groups,\n",
    "                                     cost_constraint='weighted')\n",
    "cpp2_adb = CalibratedEqOddsPostprocessing(privileged_groups = privileged_groups,\n",
    "                                     unprivileged_groups = unprivileged_groups,\n",
    "                                     cost_constraint='weighted')\n",
    "\n",
    "cpp_adb.fit(val[0],adb_preds[0])\n",
    "cpp2_adb.fit(val[1], adb_preds[1])"
   ]
  },
  {
   "cell_type": "code",
   "execution_count": null,
   "metadata": {},
   "outputs": [],
   "source": [
    "cpp_preds_adb_1 = cpp_adb.predict(adb_preds[0])\n",
    "cpp_preds_adb_2 = cpp2_adb.predict(adb_preds[1])\n",
    "cpp_adb_preds = [cpp_preds_adb_1, cpp_preds_adb_2]"
   ]
  },
  {
   "cell_type": "code",
   "execution_count": null,
   "metadata": {},
   "outputs": [],
   "source": [
    "cpp_adb_mean, cpp_adb_di = get_dataset_metrics_list(cpp_adb_preds)\n",
    "plot_mean_diff_and_di(adb_mean, adb_di, cpp_adb_mean, cpp_adb_di, 'images/cpp_adb_metrics.png')"
   ]
  },
  {
   "cell_type": "markdown",
   "metadata": {},
   "source": [
    "### Reviewing the Overall Metrics to Choose the Best Model"
   ]
  },
  {
   "cell_type": "code",
   "execution_count": null,
   "metadata": {},
   "outputs": [],
   "source": [
    "rf_metrics = get_classifier_metrics(val, pred_list)\n",
    "rf_rw_metrics = get_classifier_metrics(rw_val_datasets, rw_pred_list)\n",
    "adb_metrics = get_classifier_metrics(val, adb_preds)\n",
    "pr_metrics = get_classifier_metrics(val, pr_preds)\n",
    "cpp_rf_metrics = get_classifier_metrics(val, cpp_rf_preds)\n",
    "cpp_adb_metrics = get_classifier_metrics(val, cpp_adb_preds)\n"
   ]
  },
  {
   "cell_type": "code",
   "execution_count": null,
   "metadata": {},
   "outputs": [],
   "source": [
    "results_150 = {'Random Forest': np.array(rf_metrics)[:,0],\n",
    "                'Reweighted Random Forest':np.array(rf_rw_metrics)[:,0],\n",
    "                'Adversarial Debiasing':np.array(adb_metrics)[:,0], \n",
    "                'Prejudice Remover':np.array(pr_metrics)[:,0] ,\n",
    "                'Post-Proc Random Forest':np.array(cpp_rf_metrics)[:,0], \n",
    "               'Post-Proc Adversarial Debiasing':np.array(cpp_adb_metrics)[:,0]}\n",
    "\n",
    "results_200 = {'Random Forest': np.array(rf_metrics)[:,1],\n",
    "                'Reweighted Random Forest':np.array(rf_rw_metrics)[:,1],\n",
    "                'Adversarial Debiasing':np.array(adb_metrics)[:,1], \n",
    "                'Prejudice Remover':np.array(pr_metrics)[:,1] ,\n",
    "                'Post-Proc Random Forest':np.array(cpp_rf_metrics)[:,1], \n",
    "               'Post-Proc Adversarial Debiasing':np.array(cpp_adb_metrics)[:,1]}"
   ]
  },
  {
   "cell_type": "code",
   "execution_count": null,
   "metadata": {},
   "outputs": [],
   "source": [
    "#np.array([pred_mean[0], rw_pred_mean[0], adb_mean[0], pr_mean[0], cpp_rf_mean[0], cpp_adb_mean[0])\n",
    "results_150_df = pd.DataFrame.from_dict(results_150, orient='index', columns=['Accuracy', 'Balanced Accuracy', 'Average Odds Difference', 'Equal Opporunity Difference', 'Precision Difference']) \n",
    "results_200_df = pd.DataFrame.from_dict(results_200, orient='index', columns=['Accuracy', 'Balanced Accuracy', 'Average Odds Difference', 'Equal Opporunity Difference', 'Precision Difference'])\n",
    "\n",
    "results_150_df.insert(loc=0, column = 'Mean Difference', value = [pred_mean[0], rw_pred_mean[0], adb_mean[0], pr_mean[0], cpp_rf_mean[0], cpp_adb_mean[0]])\n",
    "results_200_df.insert(loc=0, column = 'Mean Difference', value = [pred_mean[1], rw_pred_mean[1], adb_mean[1], pr_mean[1], cpp_rf_mean[1], cpp_adb_mean[1]])\n",
    "\n",
    "results_150_df.insert(loc=1, column = '1-Disparate Impact', value = [pred_di[0], rw_pred_di[0], adb_di[0], pr_di[0], cpp_rf_di[0], cpp_adb_di[0]])\n",
    "results_200_df.insert(loc=1, column = '1-Disparate Impact', value = [pred_di[1], rw_pred_di[1], adb_di[1], pr_di[1], cpp_rf_di[1], cpp_adb_di[1]])\n",
    "\n",
    "\n"
   ]
  },
  {
   "cell_type": "code",
   "execution_count": null,
   "metadata": {},
   "outputs": [],
   "source": [
    "display(Markdown(\"#### Predicting Salary > 150,000 Model\"))\n",
    "print('Original Training Mean Difference {:2.3f} and 1-Disparate Impact {:2.3f} \\n'.format(train_mean[0], train_di[0]))\n",
    "print('Original Validation Mean Difference {:2.3f} and 1-Disparate Impact {:2.3f} \\n'.format(val_mean[0], val_di[0]))\n",
    "results_150_df"
   ]
  },
  {
   "cell_type": "code",
   "execution_count": null,
   "metadata": {},
   "outputs": [],
   "source": [
    "\n"
   ]
  },
  {
   "cell_type": "code",
   "execution_count": null,
   "metadata": {},
   "outputs": [],
   "source": [
    "fig, ax = plt.subplots(figsize = (12,8))\n",
    "x_axis = np.linspace(0,5,6)\n",
    "\n",
    "\n",
    "ax.scatter(x_axis, results_150_df.iloc[:,0].values, label='Mean Difference' )\n",
    "ax.scatter(x_axis, results_150_df.iloc[:,1].values, label='1 - Disparate Impact' )\n",
    "ax.scatter(x_axis, 1 - results_150_df.iloc[:,2].values, label='1 - Accuracy' )\n",
    "ax.scatter(x_axis, 1- results_150_df.iloc[:,3].values, label='1 - Balanced Accuracy' )\n",
    "ax.scatter(x_axis, results_150_df.iloc[:,4].values, label='Average Odds Difference' )\n",
    "ax.scatter(x_axis, results_150_df.iloc[:,5].values, label='Recall Difference' )\n",
    "ax.scatter(x_axis, results_150_df.iloc[:,6].values, label='Precision Difference' )\n",
    "\n",
    "ax.axhline(0, color='black')\n",
    "ax.set_xticks(x_axis)\n",
    "ax.set_xticklabels(results_150_df.index, rotation=15, color='black' )\n",
    "# ax.set_title('Dataset Metrics at Different Salary Threshold')\n",
    "# ax.set_xlabel('Salary Threshhold for Classifier Split')\n",
    "\n",
    "ax.legend(loc='upper right')\n",
    "ax.set_ylim(-.3, .5)\n",
    "ax.set_ylabel('Metric Scores', color = 'black')\n",
    "ax.set_title('Metric Comparisons of Each Model')\n",
    "plt.savefig('images/model_150_metrics')"
   ]
  },
  {
   "cell_type": "code",
   "execution_count": null,
   "metadata": {},
   "outputs": [],
   "source": [
    "display(Markdown(\"#### Predicting Salary > 200,000 Models\"))\n",
    "print('Original Training Mean Difference {:2.3f} and 1-Disparate Impact {:2.3f} \\n'.format(train_mean[1], train_di[1]))\n",
    "print('Original Validation Mean Difference {:2.3f} and 1-Disparate Impact {:2.3f} \\n'.format(val_mean[1], val_di[1]))\n",
    "results_200_df"
   ]
  },
  {
   "cell_type": "code",
   "execution_count": null,
   "metadata": {},
   "outputs": [],
   "source": [
    "fig, ax = plt.subplots(figsize = (12,8))\n",
    "x_axis = np.linspace(0,5,6)\n",
    "\n",
    "\n",
    "ax.plot(x_axis, results_200_df.iloc[:,0].values, label='Mean Difference' )\n",
    "ax.plot(x_axis, results_200_df.iloc[:,1].values, label='1 - Disparate Impact' )\n",
    "ax.plot(x_axis, 1 - results_200_df.iloc[:,2].values, label='1 - Accuracy' )\n",
    "ax.plot(x_axis, 1- results_200_df.iloc[:,3].values, label='1 - Balanced Accuracy' )\n",
    "ax.plot(x_axis, results_200_df.iloc[:,4].values, label='Average Odds Difference' )\n",
    "ax.plot(x_axis, results_200_df.iloc[:,5].values, label='Recall Difference' )\n",
    "ax.plot(x_axis, results_200_df.iloc[:,6].values, label='Precision Difference' )\n",
    "\n",
    "ax.axhline(0, color='black')\n",
    "ax.set_xticks(x_axis)\n",
    "ax.set_xticklabels(results_200_df.index, rotation=15 )\n",
    "# ax.set_title('Dataset Metrics at Different Salary Threshold')\n",
    "# ax.set_xlabel('Salary Threshhold for Classifier Split')\n",
    "\n",
    "ax.legend(loc='upper right')\n",
    "ax.set_ylim(-.3, .5)\n",
    "ax.set_title('Metric Comparisons of Each Model')\n",
    "plt.savefig('images/model_200_metrics')"
   ]
  },
  {
   "cell_type": "code",
   "execution_count": 111,
   "metadata": {},
   "outputs": [
    {
     "name": "stdout",
     "output_type": "stream",
     "text": [
      "Confusion Matrix for Men {'TP': 664.0, 'FP': 0.0, 'TN': 341.0, 'FN': 0.0}\n",
      "Confusion Matrix for Women {'TP': 312.0, 'FP': 0.0, 'TN': 283.0, 'FN': 0.0}\n"
     ]
    }
   ],
   "source": [
    "#Baseline\n",
    "priv, unpriv = get_confusion_matrix(val[0], val[0])"
   ]
  },
  {
   "cell_type": "code",
   "execution_count": 107,
   "metadata": {},
   "outputs": [
    {
     "name": "stdout",
     "output_type": "stream",
     "text": [
      "Confusion Matrix for Men\n"
     ]
    },
    {
     "data": {
      "text/html": [
       "<div>\n",
       "<style scoped>\n",
       "    .dataframe tbody tr th:only-of-type {\n",
       "        vertical-align: middle;\n",
       "    }\n",
       "\n",
       "    .dataframe tbody tr th {\n",
       "        vertical-align: top;\n",
       "    }\n",
       "\n",
       "    .dataframe thead th {\n",
       "        text-align: right;\n",
       "    }\n",
       "</style>\n",
       "<table border=\"1\" class=\"dataframe\">\n",
       "  <thead>\n",
       "    <tr style=\"text-align: right;\">\n",
       "      <th></th>\n",
       "      <th>Actual True</th>\n",
       "      <th>Actual False</th>\n",
       "    </tr>\n",
       "  </thead>\n",
       "  <tbody>\n",
       "    <tr>\n",
       "      <th>Predicted True</th>\n",
       "      <td>664.0</td>\n",
       "      <td>0.0</td>\n",
       "    </tr>\n",
       "    <tr>\n",
       "      <th>Predicted False</th>\n",
       "      <td>0.0</td>\n",
       "      <td>341.0</td>\n",
       "    </tr>\n",
       "  </tbody>\n",
       "</table>\n",
       "</div>"
      ],
      "text/plain": [
       "                 Actual True  Actual False\n",
       "Predicted True         664.0           0.0\n",
       "Predicted False          0.0         341.0"
      ]
     },
     "execution_count": 107,
     "metadata": {},
     "output_type": "execute_result"
    }
   ],
   "source": [
    "print('Confusion Matrix for Men')\n",
    "confusion_matrix_to_df_from_dict(priv)\n"
   ]
  },
  {
   "cell_type": "code",
   "execution_count": 108,
   "metadata": {},
   "outputs": [
    {
     "name": "stdout",
     "output_type": "stream",
     "text": [
      "Confusion Matrix for Women\n"
     ]
    },
    {
     "data": {
      "text/html": [
       "<div>\n",
       "<style scoped>\n",
       "    .dataframe tbody tr th:only-of-type {\n",
       "        vertical-align: middle;\n",
       "    }\n",
       "\n",
       "    .dataframe tbody tr th {\n",
       "        vertical-align: top;\n",
       "    }\n",
       "\n",
       "    .dataframe thead th {\n",
       "        text-align: right;\n",
       "    }\n",
       "</style>\n",
       "<table border=\"1\" class=\"dataframe\">\n",
       "  <thead>\n",
       "    <tr style=\"text-align: right;\">\n",
       "      <th></th>\n",
       "      <th>Actual True</th>\n",
       "      <th>Actual False</th>\n",
       "    </tr>\n",
       "  </thead>\n",
       "  <tbody>\n",
       "    <tr>\n",
       "      <th>Predicted True</th>\n",
       "      <td>312.0</td>\n",
       "      <td>0.0</td>\n",
       "    </tr>\n",
       "    <tr>\n",
       "      <th>Predicted False</th>\n",
       "      <td>0.0</td>\n",
       "      <td>283.0</td>\n",
       "    </tr>\n",
       "  </tbody>\n",
       "</table>\n",
       "</div>"
      ],
      "text/plain": [
       "                 Actual True  Actual False\n",
       "Predicted True         312.0           0.0\n",
       "Predicted False          0.0         283.0"
      ]
     },
     "execution_count": 108,
     "metadata": {},
     "output_type": "execute_result"
    }
   ],
   "source": [
    "print('Confusion Matrix for Women')\n",
    "confusion_matrix_to_df_from_dict(unpriv)"
   ]
  },
  {
   "cell_type": "code",
   "execution_count": 110,
   "metadata": {},
   "outputs": [
    {
     "name": "stdout",
     "output_type": "stream",
     "text": [
      "Confusion Matrix for Men {'TP': 662.0, 'FP': 238.0, 'TN': 103.0, 'FN': 2.0}\n",
      "Confusion Matrix for Women {'TP': 311.0, 'FP': 98.0, 'TN': 185.0, 'FN': 1.0}\n"
     ]
    }
   ],
   "source": [
    "rf_priv, rf_unpriv = get_confusion_matrix(val[0], pred_list[0])"
   ]
  },
  {
   "cell_type": "code",
   "execution_count": 112,
   "metadata": {},
   "outputs": [
    {
     "name": "stdout",
     "output_type": "stream",
     "text": [
      "Confusion Matrix for Men\n"
     ]
    },
    {
     "data": {
      "text/html": [
       "<div>\n",
       "<style scoped>\n",
       "    .dataframe tbody tr th:only-of-type {\n",
       "        vertical-align: middle;\n",
       "    }\n",
       "\n",
       "    .dataframe tbody tr th {\n",
       "        vertical-align: top;\n",
       "    }\n",
       "\n",
       "    .dataframe thead th {\n",
       "        text-align: right;\n",
       "    }\n",
       "</style>\n",
       "<table border=\"1\" class=\"dataframe\">\n",
       "  <thead>\n",
       "    <tr style=\"text-align: right;\">\n",
       "      <th></th>\n",
       "      <th>Actual True</th>\n",
       "      <th>Actual False</th>\n",
       "    </tr>\n",
       "  </thead>\n",
       "  <tbody>\n",
       "    <tr>\n",
       "      <th>Predicted True</th>\n",
       "      <td>662.0</td>\n",
       "      <td>238.0</td>\n",
       "    </tr>\n",
       "    <tr>\n",
       "      <th>Predicted False</th>\n",
       "      <td>2.0</td>\n",
       "      <td>103.0</td>\n",
       "    </tr>\n",
       "  </tbody>\n",
       "</table>\n",
       "</div>"
      ],
      "text/plain": [
       "                 Actual True  Actual False\n",
       "Predicted True         662.0         238.0\n",
       "Predicted False          2.0         103.0"
      ]
     },
     "execution_count": 112,
     "metadata": {},
     "output_type": "execute_result"
    }
   ],
   "source": [
    "print('Confusion Matrix for Men')\n",
    "confusion_matrix_to_df_from_dict(rf_priv)"
   ]
  },
  {
   "cell_type": "code",
   "execution_count": 113,
   "metadata": {},
   "outputs": [
    {
     "name": "stdout",
     "output_type": "stream",
     "text": [
      "Confusion Matrix for Women\n"
     ]
    },
    {
     "data": {
      "text/html": [
       "<div>\n",
       "<style scoped>\n",
       "    .dataframe tbody tr th:only-of-type {\n",
       "        vertical-align: middle;\n",
       "    }\n",
       "\n",
       "    .dataframe tbody tr th {\n",
       "        vertical-align: top;\n",
       "    }\n",
       "\n",
       "    .dataframe thead th {\n",
       "        text-align: right;\n",
       "    }\n",
       "</style>\n",
       "<table border=\"1\" class=\"dataframe\">\n",
       "  <thead>\n",
       "    <tr style=\"text-align: right;\">\n",
       "      <th></th>\n",
       "      <th>Actual True</th>\n",
       "      <th>Actual False</th>\n",
       "    </tr>\n",
       "  </thead>\n",
       "  <tbody>\n",
       "    <tr>\n",
       "      <th>Predicted True</th>\n",
       "      <td>311.0</td>\n",
       "      <td>98.0</td>\n",
       "    </tr>\n",
       "    <tr>\n",
       "      <th>Predicted False</th>\n",
       "      <td>1.0</td>\n",
       "      <td>185.0</td>\n",
       "    </tr>\n",
       "  </tbody>\n",
       "</table>\n",
       "</div>"
      ],
      "text/plain": [
       "                 Actual True  Actual False\n",
       "Predicted True         311.0          98.0\n",
       "Predicted False          1.0         185.0"
      ]
     },
     "execution_count": 113,
     "metadata": {},
     "output_type": "execute_result"
    }
   ],
   "source": [
    "print('Confusion Matrix for Women')\n",
    "confusion_matrix_to_df_from_dict(rf_unpriv)"
   ]
  },
  {
   "cell_type": "code",
   "execution_count": 114,
   "metadata": {},
   "outputs": [
    {
     "name": "stdout",
     "output_type": "stream",
     "text": [
      "Confusion Matrix for Men {'TP': 611.2034638554215, 'FP': 273.5604105571847, 'TN': 118.38958944281526, 'FN': 1.8465361445783133}\n",
      "Confusion Matrix for Women {'TP': 361.78669871794875, 'FP': 80.35653710247351, 'TN': 151.6934628975265, 'FN': 1.163301282051282}\n"
     ]
    }
   ],
   "source": [
    "rf_rw_priv, rf_rw_unpriv = get_confusion_matrix(rw_val_datasets[0], rw_pred_list[0])"
   ]
  },
  {
   "cell_type": "code",
   "execution_count": 121,
   "metadata": {},
   "outputs": [
    {
     "name": "stdout",
     "output_type": "stream",
     "text": [
      "Confusion Matrix for Men\n"
     ]
    },
    {
     "data": {
      "text/html": [
       "<div>\n",
       "<style scoped>\n",
       "    .dataframe tbody tr th:only-of-type {\n",
       "        vertical-align: middle;\n",
       "    }\n",
       "\n",
       "    .dataframe tbody tr th {\n",
       "        vertical-align: top;\n",
       "    }\n",
       "\n",
       "    .dataframe thead th {\n",
       "        text-align: right;\n",
       "    }\n",
       "</style>\n",
       "<table border=\"1\" class=\"dataframe\">\n",
       "  <thead>\n",
       "    <tr style=\"text-align: right;\">\n",
       "      <th></th>\n",
       "      <th>Actual True</th>\n",
       "      <th>Actual False</th>\n",
       "    </tr>\n",
       "  </thead>\n",
       "  <tbody>\n",
       "    <tr>\n",
       "      <th>Predicted True</th>\n",
       "      <td>611.0</td>\n",
       "      <td>274.0</td>\n",
       "    </tr>\n",
       "    <tr>\n",
       "      <th>Predicted False</th>\n",
       "      <td>2.0</td>\n",
       "      <td>118.0</td>\n",
       "    </tr>\n",
       "  </tbody>\n",
       "</table>\n",
       "</div>"
      ],
      "text/plain": [
       "                 Actual True  Actual False\n",
       "Predicted True         611.0         274.0\n",
       "Predicted False          2.0         118.0"
      ]
     },
     "execution_count": 121,
     "metadata": {},
     "output_type": "execute_result"
    }
   ],
   "source": [
    "print('Confusion Matrix for Men')\n",
    "confusion_matrix_to_df_from_dict(rf_rw_priv)"
   ]
  },
  {
   "cell_type": "code",
   "execution_count": 122,
   "metadata": {},
   "outputs": [
    {
     "name": "stdout",
     "output_type": "stream",
     "text": [
      "Confusion Matrix for Women\n"
     ]
    },
    {
     "data": {
      "text/html": [
       "<div>\n",
       "<style scoped>\n",
       "    .dataframe tbody tr th:only-of-type {\n",
       "        vertical-align: middle;\n",
       "    }\n",
       "\n",
       "    .dataframe tbody tr th {\n",
       "        vertical-align: top;\n",
       "    }\n",
       "\n",
       "    .dataframe thead th {\n",
       "        text-align: right;\n",
       "    }\n",
       "</style>\n",
       "<table border=\"1\" class=\"dataframe\">\n",
       "  <thead>\n",
       "    <tr style=\"text-align: right;\">\n",
       "      <th></th>\n",
       "      <th>Actual True</th>\n",
       "      <th>Actual False</th>\n",
       "    </tr>\n",
       "  </thead>\n",
       "  <tbody>\n",
       "    <tr>\n",
       "      <th>Predicted True</th>\n",
       "      <td>362.0</td>\n",
       "      <td>80.0</td>\n",
       "    </tr>\n",
       "    <tr>\n",
       "      <th>Predicted False</th>\n",
       "      <td>1.0</td>\n",
       "      <td>152.0</td>\n",
       "    </tr>\n",
       "  </tbody>\n",
       "</table>\n",
       "</div>"
      ],
      "text/plain": [
       "                 Actual True  Actual False\n",
       "Predicted True         362.0          80.0\n",
       "Predicted False          1.0         152.0"
      ]
     },
     "execution_count": 122,
     "metadata": {},
     "output_type": "execute_result"
    }
   ],
   "source": [
    "print('Confusion Matrix for Women')\n",
    "confusion_matrix_to_df_from_dict(rf_rw_unpriv)"
   ]
  },
  {
   "cell_type": "code",
   "execution_count": 123,
   "metadata": {},
   "outputs": [
    {
     "name": "stdout",
     "output_type": "stream",
     "text": [
      "Confusion Matrix for Men {'TP': 649.0, 'FP': 236.0, 'TN': 105.0, 'FN': 15.0}\n",
      "Confusion Matrix for Women {'TP': 310.0, 'FP': 98.0, 'TN': 185.0, 'FN': 2.0}\n"
     ]
    }
   ],
   "source": [
    "adb_priv, adb_unpriv = get_confusion_matrix(val[0], adb_preds[0])"
   ]
  },
  {
   "cell_type": "code",
   "execution_count": 125,
   "metadata": {},
   "outputs": [
    {
     "name": "stdout",
     "output_type": "stream",
     "text": [
      "Confusion Matrix for Men\n"
     ]
    },
    {
     "data": {
      "text/html": [
       "<div>\n",
       "<style scoped>\n",
       "    .dataframe tbody tr th:only-of-type {\n",
       "        vertical-align: middle;\n",
       "    }\n",
       "\n",
       "    .dataframe tbody tr th {\n",
       "        vertical-align: top;\n",
       "    }\n",
       "\n",
       "    .dataframe thead th {\n",
       "        text-align: right;\n",
       "    }\n",
       "</style>\n",
       "<table border=\"1\" class=\"dataframe\">\n",
       "  <thead>\n",
       "    <tr style=\"text-align: right;\">\n",
       "      <th></th>\n",
       "      <th>Actual True</th>\n",
       "      <th>Actual False</th>\n",
       "    </tr>\n",
       "  </thead>\n",
       "  <tbody>\n",
       "    <tr>\n",
       "      <th>Predicted True</th>\n",
       "      <td>649.0</td>\n",
       "      <td>236.0</td>\n",
       "    </tr>\n",
       "    <tr>\n",
       "      <th>Predicted False</th>\n",
       "      <td>15.0</td>\n",
       "      <td>105.0</td>\n",
       "    </tr>\n",
       "  </tbody>\n",
       "</table>\n",
       "</div>"
      ],
      "text/plain": [
       "                 Actual True  Actual False\n",
       "Predicted True         649.0         236.0\n",
       "Predicted False         15.0         105.0"
      ]
     },
     "execution_count": 125,
     "metadata": {},
     "output_type": "execute_result"
    }
   ],
   "source": [
    "print('Confusion Matrix for Men')\n",
    "confusion_matrix_to_df_from_dict(adb_priv)"
   ]
  },
  {
   "cell_type": "code",
   "execution_count": 124,
   "metadata": {},
   "outputs": [
    {
     "name": "stdout",
     "output_type": "stream",
     "text": [
      "Confusion Matrix for Women\n"
     ]
    },
    {
     "data": {
      "text/html": [
       "<div>\n",
       "<style scoped>\n",
       "    .dataframe tbody tr th:only-of-type {\n",
       "        vertical-align: middle;\n",
       "    }\n",
       "\n",
       "    .dataframe tbody tr th {\n",
       "        vertical-align: top;\n",
       "    }\n",
       "\n",
       "    .dataframe thead th {\n",
       "        text-align: right;\n",
       "    }\n",
       "</style>\n",
       "<table border=\"1\" class=\"dataframe\">\n",
       "  <thead>\n",
       "    <tr style=\"text-align: right;\">\n",
       "      <th></th>\n",
       "      <th>Actual True</th>\n",
       "      <th>Actual False</th>\n",
       "    </tr>\n",
       "  </thead>\n",
       "  <tbody>\n",
       "    <tr>\n",
       "      <th>Predicted True</th>\n",
       "      <td>310.0</td>\n",
       "      <td>98.0</td>\n",
       "    </tr>\n",
       "    <tr>\n",
       "      <th>Predicted False</th>\n",
       "      <td>2.0</td>\n",
       "      <td>185.0</td>\n",
       "    </tr>\n",
       "  </tbody>\n",
       "</table>\n",
       "</div>"
      ],
      "text/plain": [
       "                 Actual True  Actual False\n",
       "Predicted True         310.0          98.0\n",
       "Predicted False          2.0         185.0"
      ]
     },
     "execution_count": 124,
     "metadata": {},
     "output_type": "execute_result"
    }
   ],
   "source": [
    "print('Confusion Matrix for Women')\n",
    "confusion_matrix_to_df_from_dict(adb_unpriv)"
   ]
  },
  {
   "cell_type": "code",
   "execution_count": 155,
   "metadata": {},
   "outputs": [
    {
     "name": "stdout",
     "output_type": "stream",
     "text": [
      "Confusion Matrix for Men {'TP': 662.0, 'FP': 238.0, 'TN': 103.0, 'FN': 2.0}\n",
      "Confusion Matrix for Women {'TP': 311.0, 'FP': 98.0, 'TN': 185.0, 'FN': 1.0}\n"
     ]
    }
   ],
   "source": [
    "pr_priv, pr_unpriv = get_confusion_matrix(val[0], pr_preds[0])"
   ]
  },
  {
   "cell_type": "code",
   "execution_count": 157,
   "metadata": {},
   "outputs": [
    {
     "name": "stdout",
     "output_type": "stream",
     "text": [
      "Confusion Matrix for Men\n"
     ]
    },
    {
     "data": {
      "text/html": [
       "<div>\n",
       "<style scoped>\n",
       "    .dataframe tbody tr th:only-of-type {\n",
       "        vertical-align: middle;\n",
       "    }\n",
       "\n",
       "    .dataframe tbody tr th {\n",
       "        vertical-align: top;\n",
       "    }\n",
       "\n",
       "    .dataframe thead th {\n",
       "        text-align: right;\n",
       "    }\n",
       "</style>\n",
       "<table border=\"1\" class=\"dataframe\">\n",
       "  <thead>\n",
       "    <tr style=\"text-align: right;\">\n",
       "      <th></th>\n",
       "      <th>Actual True</th>\n",
       "      <th>Actual False</th>\n",
       "    </tr>\n",
       "  </thead>\n",
       "  <tbody>\n",
       "    <tr>\n",
       "      <th>Predicted True</th>\n",
       "      <td>662.0</td>\n",
       "      <td>238.0</td>\n",
       "    </tr>\n",
       "    <tr>\n",
       "      <th>Predicted False</th>\n",
       "      <td>2.0</td>\n",
       "      <td>103.0</td>\n",
       "    </tr>\n",
       "  </tbody>\n",
       "</table>\n",
       "</div>"
      ],
      "text/plain": [
       "                 Actual True  Actual False\n",
       "Predicted True         662.0         238.0\n",
       "Predicted False          2.0         103.0"
      ]
     },
     "execution_count": 157,
     "metadata": {},
     "output_type": "execute_result"
    }
   ],
   "source": [
    "print('Confusion Matrix for Men')\n",
    "confusion_matrix_to_df_from_dict(pr_priv)"
   ]
  },
  {
   "cell_type": "code",
   "execution_count": 156,
   "metadata": {},
   "outputs": [
    {
     "name": "stdout",
     "output_type": "stream",
     "text": [
      "Confusion Matrix for Women\n"
     ]
    },
    {
     "data": {
      "text/html": [
       "<div>\n",
       "<style scoped>\n",
       "    .dataframe tbody tr th:only-of-type {\n",
       "        vertical-align: middle;\n",
       "    }\n",
       "\n",
       "    .dataframe tbody tr th {\n",
       "        vertical-align: top;\n",
       "    }\n",
       "\n",
       "    .dataframe thead th {\n",
       "        text-align: right;\n",
       "    }\n",
       "</style>\n",
       "<table border=\"1\" class=\"dataframe\">\n",
       "  <thead>\n",
       "    <tr style=\"text-align: right;\">\n",
       "      <th></th>\n",
       "      <th>Actual True</th>\n",
       "      <th>Actual False</th>\n",
       "    </tr>\n",
       "  </thead>\n",
       "  <tbody>\n",
       "    <tr>\n",
       "      <th>Predicted True</th>\n",
       "      <td>311.0</td>\n",
       "      <td>98.0</td>\n",
       "    </tr>\n",
       "    <tr>\n",
       "      <th>Predicted False</th>\n",
       "      <td>1.0</td>\n",
       "      <td>185.0</td>\n",
       "    </tr>\n",
       "  </tbody>\n",
       "</table>\n",
       "</div>"
      ],
      "text/plain": [
       "                 Actual True  Actual False\n",
       "Predicted True         311.0          98.0\n",
       "Predicted False          1.0         185.0"
      ]
     },
     "execution_count": 156,
     "metadata": {},
     "output_type": "execute_result"
    }
   ],
   "source": [
    "print('Confusion Matrix for Women')\n",
    "confusion_matrix_to_df_from_dict(pr_unpriv)"
   ]
  },
  {
   "cell_type": "code",
   "execution_count": 126,
   "metadata": {},
   "outputs": [
    {
     "name": "stdout",
     "output_type": "stream",
     "text": [
      "Confusion Matrix for Men {'TP': 664.0, 'FP': 0.0, 'TN': 341.0, 'FN': 0.0}\n",
      "Confusion Matrix for Women {'TP': 312.0, 'FP': 0.0, 'TN': 283.0, 'FN': 0.0}\n"
     ]
    }
   ],
   "source": [
    "cpp_rf_priv, cpp_rf_unpriv = get_confusion_matrix(val[0], cpp_rf_preds[0])"
   ]
  },
  {
   "cell_type": "code",
   "execution_count": 127,
   "metadata": {},
   "outputs": [
    {
     "name": "stdout",
     "output_type": "stream",
     "text": [
      "Confusion Matrix for Men\n"
     ]
    },
    {
     "data": {
      "text/html": [
       "<div>\n",
       "<style scoped>\n",
       "    .dataframe tbody tr th:only-of-type {\n",
       "        vertical-align: middle;\n",
       "    }\n",
       "\n",
       "    .dataframe tbody tr th {\n",
       "        vertical-align: top;\n",
       "    }\n",
       "\n",
       "    .dataframe thead th {\n",
       "        text-align: right;\n",
       "    }\n",
       "</style>\n",
       "<table border=\"1\" class=\"dataframe\">\n",
       "  <thead>\n",
       "    <tr style=\"text-align: right;\">\n",
       "      <th></th>\n",
       "      <th>Actual True</th>\n",
       "      <th>Actual False</th>\n",
       "    </tr>\n",
       "  </thead>\n",
       "  <tbody>\n",
       "    <tr>\n",
       "      <th>Predicted True</th>\n",
       "      <td>664.0</td>\n",
       "      <td>0.0</td>\n",
       "    </tr>\n",
       "    <tr>\n",
       "      <th>Predicted False</th>\n",
       "      <td>0.0</td>\n",
       "      <td>341.0</td>\n",
       "    </tr>\n",
       "  </tbody>\n",
       "</table>\n",
       "</div>"
      ],
      "text/plain": [
       "                 Actual True  Actual False\n",
       "Predicted True         664.0           0.0\n",
       "Predicted False          0.0         341.0"
      ]
     },
     "execution_count": 127,
     "metadata": {},
     "output_type": "execute_result"
    }
   ],
   "source": [
    "print('Confusion Matrix for Men')\n",
    "confusion_matrix_to_df_from_dict(cpp_rf_priv)"
   ]
  },
  {
   "cell_type": "code",
   "execution_count": 128,
   "metadata": {},
   "outputs": [
    {
     "name": "stdout",
     "output_type": "stream",
     "text": [
      "Confusion Matrix for Women\n"
     ]
    },
    {
     "data": {
      "text/html": [
       "<div>\n",
       "<style scoped>\n",
       "    .dataframe tbody tr th:only-of-type {\n",
       "        vertical-align: middle;\n",
       "    }\n",
       "\n",
       "    .dataframe tbody tr th {\n",
       "        vertical-align: top;\n",
       "    }\n",
       "\n",
       "    .dataframe thead th {\n",
       "        text-align: right;\n",
       "    }\n",
       "</style>\n",
       "<table border=\"1\" class=\"dataframe\">\n",
       "  <thead>\n",
       "    <tr style=\"text-align: right;\">\n",
       "      <th></th>\n",
       "      <th>Actual True</th>\n",
       "      <th>Actual False</th>\n",
       "    </tr>\n",
       "  </thead>\n",
       "  <tbody>\n",
       "    <tr>\n",
       "      <th>Predicted True</th>\n",
       "      <td>312.0</td>\n",
       "      <td>0.0</td>\n",
       "    </tr>\n",
       "    <tr>\n",
       "      <th>Predicted False</th>\n",
       "      <td>0.0</td>\n",
       "      <td>283.0</td>\n",
       "    </tr>\n",
       "  </tbody>\n",
       "</table>\n",
       "</div>"
      ],
      "text/plain": [
       "                 Actual True  Actual False\n",
       "Predicted True         312.0           0.0\n",
       "Predicted False          0.0         283.0"
      ]
     },
     "execution_count": 128,
     "metadata": {},
     "output_type": "execute_result"
    }
   ],
   "source": [
    "print('Confusion Matrix for Women')\n",
    "confusion_matrix_to_df_from_dict(cpp_rf_unpriv)"
   ]
  },
  {
   "cell_type": "code",
   "execution_count": null,
   "metadata": {},
   "outputs": [],
   "source": []
  }
 ],
 "metadata": {
  "kernelspec": {
   "display_name": "Python 3",
   "language": "python",
   "name": "python3"
  },
  "language_info": {
   "codemirror_mode": {
    "name": "ipython",
    "version": 3
   },
   "file_extension": ".py",
   "mimetype": "text/x-python",
   "name": "python",
   "nbconvert_exporter": "python",
   "pygments_lexer": "ipython3",
   "version": "3.7.3"
  }
 },
 "nbformat": 4,
 "nbformat_minor": 4
}
