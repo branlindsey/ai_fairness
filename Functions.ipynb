{
 "cells": [
  {
   "cell_type": "code",
   "execution_count": 1,
   "metadata": {},
   "outputs": [
    {
     "name": "stderr",
     "output_type": "stream",
     "text": [
      "//anaconda3/lib/python3.7/site-packages/dask/dataframe/utils.py:15: FutureWarning: pandas.util.testing is deprecated. Use the functions in the public API at pandas.testing instead.\n",
      "  import pandas.util.testing as tm\n"
     ]
    }
   ],
   "source": [
    "#Standard\n",
    "import pandas as pd\n",
    "import numpy as np\n",
    "import matplotlib.pyplot as plt\n",
    "%matplotlib inline\n",
    "plt.style.use('ggplot')\n",
    "\n",
    "#AIF360 Dataset Classes \n",
    "from aif360.datasets import StandardDataset\n",
    "from aif360.datasets import BinaryLabelDataset\n",
    "\n",
    "#AIF360 Metrics Classes  \n",
    "from aif360.metrics import BinaryLabelDatasetMetric, ClassificationMetric\n",
    "\n",
    "from aif360.metrics import ClassificationMetric\n",
    "\n",
    "#AIF360 Algorithms \n",
    "from aif360.algorithms.preprocessing import Reweighing\n",
    "from aif360.algorithms.inprocessing import AdversarialDebiasing\n",
    "from aif360.algorithms.postprocessing import CalibratedEqOddsPostprocessing, EqOddsPostprocessing\n",
    "# AI360 Explainers\n",
    "from aif360.explainers import MetricTextExplainer\n",
    "\n",
    "#Sklearn\n",
    "from sklearn.ensemble import RandomForestClassifier\n",
    "from sklearn.metrics import accuracy_score, recall_score, precision_score\n",
    "from sklearn.model_selection import GridSearchCV, RandomizedSearchCV,train_test_split\n",
    "\n",
    "#Tensorflow -- install version before 2.0\n",
    "import tensorflow as tf \n",
    "\n",
    "#For Markdown\n",
    "from IPython.display import Markdown, display\n",
    "\n",
    "#Helper Functions\n",
    "from src.classifier_functions import *\n",
    "from src.dataset_functions import *"
   ]
  },
  {
   "cell_type": "code",
   "execution_count": 224,
   "metadata": {},
   "outputs": [],
   "source": [
    "salary_list = [60000, 100000, 150000, 200000, 250000, 300000, 350000]"
   ]
  },
  {
   "cell_type": "code",
   "execution_count": 225,
   "metadata": {},
   "outputs": [],
   "source": [
    "datasets = create_multiple_datasets(create_binary_dataset_salary, salary_list)"
   ]
  },
  {
   "cell_type": "code",
   "execution_count": 226,
   "metadata": {},
   "outputs": [],
   "source": [
    "means, impact = get_dataset_metrics_list(datasets)\n"
   ]
  },
  {
   "cell_type": "code",
   "execution_count": 227,
   "metadata": {},
   "outputs": [
    {
     "data": {
      "text/plain": [
       "[-0.002797514915318544,\n",
       " -0.14185487472152958,\n",
       " -0.15509419201537045,\n",
       " -0.12145545439959105,\n",
       " -0.06845718960460986,\n",
       " -0.04120975631200614,\n",
       " -0.015883927270456254]"
      ]
     },
     "execution_count": 227,
     "metadata": {},
     "output_type": "execute_result"
    }
   ],
   "source": [
    "means"
   ]
  },
  {
   "cell_type": "code",
   "execution_count": 228,
   "metadata": {},
   "outputs": [
    {
     "data": {
      "image/png": "[encoded data removed]",
      "text/plain": [
       "<Figure size 576x432 with 1 Axes>"
      ]
     },
     "metadata": {
      "needs_background": "light"
     },
     "output_type": "display_data"
    }
   ],
   "source": [
    "fig, ax = plt.subplots(figsize = (8,6))\n",
    "x_axis = range(len(salary_list))\n",
    "\n",
    "ax.bar(x_axis, means, label='Mean Difference' )\n",
    "ax.bar(x_axis, impact, label='1 - Disparate Impact')\n",
    "ax.axhline(0)\n",
    "ax.set_xticks(x_axis)\n",
    "ax.set_xticklabels(salary_list)\n",
    "ax.set_title('Dataset Metrics at Different Salary Threshold')\n",
    "ax.set_xlabel('Salary Threshhold for Classifier Split')\n",
    "ax.legend()\n",
    "plt.savefig('images/model_metrics')"
   ]
  },
  {
   "cell_type": "code",
   "execution_count": 229,
   "metadata": {},
   "outputs": [
    {
     "data": {
      "text/plain": [
       "range(0, 7)"
      ]
     },
     "execution_count": 229,
     "metadata": {},
     "output_type": "execute_result"
    }
   ],
   "source": [
    "x_axis"
   ]
  },
  {
   "cell_type": "code",
   "execution_count": 230,
   "metadata": {},
   "outputs": [
    {
     "data": {
      "text/plain": [
       "[60000, 100000, 150000, 200000, 250000, 300000, 350000]"
      ]
     },
     "execution_count": 230,
     "metadata": {},
     "output_type": "execute_result"
    }
   ],
   "source": [
    "salary_list"
   ]
  },
  {
   "cell_type": "code",
   "execution_count": 231,
   "metadata": {},
   "outputs": [],
   "source": [
    "def create_split_lists(dataset_list):\n",
    "    #Create Train, Validation, Test Sets\n",
    "    data_train_list =[]\n",
    "    data_val_list = []\n",
    "    data_test_list =[]\n",
    "    for dataset in dataset_list:\n",
    "        data_train, data_vt = dataset.split([0.7], shuffle=True)\n",
    "        data_val, data_test = data_vt.split([0.5], shuffle=True)\n",
    "\n",
    "        data_train_list.append(data_train)\n",
    "        data_val_list.append(data_val) \n",
    "        data_test_list.append(data_test) \n",
    "    return data_train_list, data_val_list, data_test_list \n",
    "    \n"
   ]
  },
  {
   "cell_type": "code",
   "execution_count": 232,
   "metadata": {},
   "outputs": [],
   "source": [
    "train_list, val_list, test_list = create_split_lists(datasets)"
   ]
  },
  {
   "cell_type": "code",
   "execution_count": null,
   "metadata": {},
   "outputs": [],
   "source": []
  },
  {
   "cell_type": "code",
   "execution_count": 236,
   "metadata": {},
   "outputs": [],
   "source": [
    "def get_predictions(estimator, train_list, test_list):\n",
    "    pred_list = []\n",
    "    for train_, test_ in zip(train_list, test_list):\n",
    "        X_train = train_.features\n",
    "        y_train = train_.labels.ravel()\n",
    "        X_test = test_.features  \n",
    "        model = estimator\n",
    "        model.fit(X_train, y_train)\n",
    "        y_pred = model.predict(X_test)\n",
    "        preds = test_.copy()\n",
    "        preds.labels = y_pred.ravel()\n",
    "        pred_list.append(preds)\n",
    "    return pred_list\n",
    "\n",
    "    "
   ]
  },
  {
   "cell_type": "code",
   "execution_count": 237,
   "metadata": {},
   "outputs": [],
   "source": [
    "pred_list = get_predictions(RandomForestClassifier(n_estimators=500, max_depth=5, ), \n",
    "                train_list, val_list)"
   ]
  },
  {
   "cell_type": "code",
   "execution_count": 162,
   "metadata": {},
   "outputs": [
    {
     "data": {
      "text/plain": [
       "array([[1., 0., 4., ..., 0., 0., 1.],\n",
       "       [1., 1., 3., ..., 1., 0., 0.],\n",
       "       [0., 1., 1., ..., 0., 0., 0.],\n",
       "       ...,\n",
       "       [0., 0., 1., ..., 0., 0., 1.],\n",
       "       [1., 1., 1., ..., 1., 0., 0.],\n",
       "       [0., 0., 2., ..., 0., 0., 1.]])"
      ]
     },
     "execution_count": 162,
     "metadata": {},
     "output_type": "execute_result"
    }
   ],
   "source": [
    "val_list[0].features"
   ]
  },
  {
   "cell_type": "code",
   "execution_count": 156,
   "metadata": {},
   "outputs": [
    {
     "data": {
      "text/plain": [
       "aif360.datasets.binary_label_dataset.BinaryLabelDataset"
      ]
     },
     "execution_count": 156,
     "metadata": {},
     "output_type": "execute_result"
    }
   ],
   "source": [
    "#get_classifier_metrics()"
   ]
  },
  {
   "cell_type": "code",
   "execution_count": 184,
   "metadata": {},
   "outputs": [],
   "source": [
    "def show_classifier_metrics(test_list, prediction_list):\n",
    "    privileged_groups= [{'sex':1}]\n",
    "    unprivileged_groups= [{'sex': 0}]\n",
    "    \n",
    "    \n",
    "    counter = 1 \n",
    "    for test_, pred_ in zip(test_list, prediction_list):\n",
    "        \n",
    "        display(Markdown(\"#### Model {}  dataset metrics\".format(counter)))\n",
    "        \n",
    "\n",
    "        model_metric = ClassificationMetric(test_, pred_, \n",
    "                            unprivileged_groups=unprivileged_groups, \n",
    "                            privileged_groups=privileged_groups)\n",
    "\n",
    "        ex_model_metric= MetricTextExplainer(model_metric)\n",
    "        print(ex_model_metric.average_odds_difference())\n",
    "\n",
    "        print('Difference in Recall between Unprivileged and Privileged: {:.3f}'\n",
    "          .format(model_metric.equal_opportunity_difference()))\n",
    "\n",
    "        print('Difference in Precision between Unprivileged and Privileged: {:.3f}.'\n",
    "            .format(model_metric.precision(privileged=False)- model_metric.precision(privileged=True)))\n",
    "        counter +=1"
   ]
  },
  {
   "cell_type": "code",
   "execution_count": 238,
   "metadata": {},
   "outputs": [
    {
     "data": {
      "text/markdown": [
       "#### Model 1  dataset metrics"
      ],
      "text/plain": [
       "<IPython.core.display.Markdown object>"
      ]
     },
     "metadata": {},
     "output_type": "display_data"
    },
    {
     "name": "stdout",
     "output_type": "stream",
     "text": [
      "Average odds difference (average of TPR difference and FPR difference, 0 = equality of odds): 0.0\n",
      "Difference in Recall between Unprivileged and Privileged: 0.000\n",
      "Difference in Precision between Unprivileged and Privileged: -0.004.\n"
     ]
    },
    {
     "data": {
      "text/markdown": [
       "#### Model 2  dataset metrics"
      ],
      "text/plain": [
       "<IPython.core.display.Markdown object>"
      ]
     },
     "metadata": {},
     "output_type": "display_data"
    },
    {
     "name": "stdout",
     "output_type": "stream",
     "text": [
      "Average odds difference (average of TPR difference and FPR difference, 0 = equality of odds): -0.14063700413138747\n",
      "Difference in Recall between Unprivileged and Privileged: -0.069\n",
      "Difference in Precision between Unprivileged and Privileged: -0.035.\n"
     ]
    },
    {
     "data": {
      "text/markdown": [
       "#### Model 3  dataset metrics"
      ],
      "text/plain": [
       "<IPython.core.display.Markdown object>"
      ]
     },
     "metadata": {},
     "output_type": "display_data"
    },
    {
     "name": "stdout",
     "output_type": "stream",
     "text": [
      "Average odds difference (average of TPR difference and FPR difference, 0 = equality of odds): -0.17854914464416427\n",
      "Difference in Recall between Unprivileged and Privileged: 0.001\n",
      "Difference in Precision between Unprivileged and Privileged: 0.006.\n"
     ]
    },
    {
     "data": {
      "text/markdown": [
       "#### Model 4  dataset metrics"
      ],
      "text/plain": [
       "<IPython.core.display.Markdown object>"
      ]
     },
     "metadata": {},
     "output_type": "display_data"
    },
    {
     "name": "stdout",
     "output_type": "stream",
     "text": [
      "Average odds difference (average of TPR difference and FPR difference, 0 = equality of odds): -0.07749304358000009\n",
      "Difference in Recall between Unprivileged and Privileged: -0.028\n",
      "Difference in Precision between Unprivileged and Privileged: 0.079.\n"
     ]
    },
    {
     "data": {
      "text/markdown": [
       "#### Model 5  dataset metrics"
      ],
      "text/plain": [
       "<IPython.core.display.Markdown object>"
      ]
     },
     "metadata": {},
     "output_type": "display_data"
    },
    {
     "name": "stdout",
     "output_type": "stream",
     "text": [
      "Average odds difference (average of TPR difference and FPR difference, 0 = equality of odds): -0.0021880333227537185\n",
      "Difference in Recall between Unprivileged and Privileged: -0.003\n",
      "Difference in Precision between Unprivileged and Privileged: -0.167.\n"
     ]
    },
    {
     "data": {
      "text/markdown": [
       "#### Model 6  dataset metrics"
      ],
      "text/plain": [
       "<IPython.core.display.Markdown object>"
      ]
     },
     "metadata": {},
     "output_type": "display_data"
    },
    {
     "name": "stdout",
     "output_type": "stream",
     "text": [
      "Average odds difference (average of TPR difference and FPR difference, 0 = equality of odds): 0.0\n",
      "Difference in Recall between Unprivileged and Privileged: 0.000\n",
      "Difference in Precision between Unprivileged and Privileged: 0.000.\n"
     ]
    },
    {
     "data": {
      "text/markdown": [
       "#### Model 7  dataset metrics"
      ],
      "text/plain": [
       "<IPython.core.display.Markdown object>"
      ]
     },
     "metadata": {},
     "output_type": "display_data"
    },
    {
     "name": "stdout",
     "output_type": "stream",
     "text": [
      "Average odds difference (average of TPR difference and FPR difference, 0 = equality of odds): -0.009007936507936508\n",
      "Difference in Recall between Unprivileged and Privileged: -0.020\n",
      "Difference in Precision between Unprivileged and Privileged: -1.000.\n"
     ]
    }
   ],
   "source": [
    "show_classifier_metrics(val_list, pred_list)\n",
    "\n"
   ]
  },
  {
   "cell_type": "code",
   "execution_count": 239,
   "metadata": {},
   "outputs": [],
   "source": [
    "def get_classifier_metrics(test_list, prediction_list):\n",
    "    privileged_groups= [{'sex':1}]\n",
    "    unprivileged_groups= [{'sex': 0}]\n",
    "    acc_list = []\n",
    "    bal_acc_list = []\n",
    "    avg_odds_list=[]\n",
    "    recall_diff_list = []\n",
    "    precision_diff_list = []\n",
    "    for test_, pred_ in zip(test_list, prediction_list):\n",
    "        model_metric = ClassificationMetric(test_, pred_, \n",
    "                            unprivileged_groups=unprivileged_groups, \n",
    "                            privileged_groups=privileged_groups)\n",
    "        \n",
    "        acc_list.append(model_metric.accuracy().round(3))\n",
    "        bal_acc_list.append(((model_metric.true_positive_rate()+ model_metric.true_negative_rate(privileged=True))/2).round(3))\n",
    "        avg_odds_list.append(model_metric.average_odds_difference().round(3))\n",
    "        recall_diff_list.append(model_metric.equal_opportunity_difference().round(3))\n",
    "        precision_diff_list.append((model_metric.precision(privileged=False)- model_metric.precision(privileged=True)).round(3))  \n",
    "    return acc_list, bal_acc_list, avg_odds_list, recall_diff_list, precision_diff_list"
   ]
  },
  {
   "cell_type": "code",
   "execution_count": 240,
   "metadata": {},
   "outputs": [],
   "source": [
    "classifier_stats = get_classifier_metrics(val_list, pred_list)"
   ]
  },
  {
   "cell_type": "code",
   "execution_count": 241,
   "metadata": {},
   "outputs": [
    {
     "data": {
      "text/plain": [
       "([0.995, 0.889, 0.8, 0.654, 0.737, 0.865, 0.951],\n",
       " [0.5, 0.739, 0.647, 0.599, 0.503, 0.5, 0.507],\n",
       " [0.0, -0.141, -0.179, -0.077, -0.002, 0.0, -0.009],\n",
       " [0.0, -0.069, 0.001, -0.028, -0.003, 0.0, -0.02],\n",
       " [-0.004, -0.035, 0.006, 0.079, -0.167, 0.0, -1.0])"
      ]
     },
     "execution_count": 241,
     "metadata": {},
     "output_type": "execute_result"
    }
   ],
   "source": [
    "classifier_stats"
   ]
  },
  {
   "cell_type": "code",
   "execution_count": 114,
   "metadata": {},
   "outputs": [],
   "source": [
    "def rescue_code(function):\n",
    "    import inspect\n",
    "    get_ipython().set_next_input(\"\".join(inspect.getsourcelines(function)[0]))\n",
    "rescue_code(get_predictions)"
   ]
  },
  {
   "cell_type": "code",
   "execution_count": 246,
   "metadata": {},
   "outputs": [
    {
     "data": {
      "text/plain": [
       "<matplotlib.legend.Legend at 0x1504fe748>"
      ]
     },
     "execution_count": 246,
     "metadata": {},
     "output_type": "execute_result"
    },
    {
     "data": {
      "image/png": "[encoded data removed]",
      "text/plain": [
       "<Figure size 576x432 with 1 Axes>"
      ]
     },
     "metadata": {
      "needs_background": "light"
     },
     "output_type": "display_data"
    }
   ],
   "source": [
    "fig, ax = plt.subplots(figsize = (8,6))\n",
    "x_axis = range(len(classifier_stats[0]))\n",
    "\n",
    "ax.plot(x_axis, classifier_stats[0], label='Accuracy' )\n",
    "ax.plot(x_axis, classifier_stats[1], label='Balanced Accuracy' )\n",
    "ax.plot(x_axis, classifier_stats[2], label='Average Odds Difference' )\n",
    "ax.plot(x_axis, classifier_stats[3], label='Recall Difference' )\n",
    "ax.plot(x_axis, classifier_stats[4], label='Precision Difference' )\n",
    "\n",
    "ax.axhline(0)\n",
    "ax.set_xticks(x_axis)\n",
    "ax.set_xticklabels(salary_list)\n",
    "# ax.set_title('Dataset Metrics at Different Salary Threshold')\n",
    "# ax.set_xlabel('Salary Threshhold for Classifier Split')\n",
    "ax.legend()\n",
    "#plt.savefig('images/model_metrics')"
   ]
  },
  {
   "cell_type": "code",
   "execution_count": null,
   "metadata": {},
   "outputs": [],
   "source": []
  }
 ],
 "metadata": {
  "kernelspec": {
   "display_name": "Python 3",
   "language": "python",
   "name": "python3"
  },
  "language_info": {
   "codemirror_mode": {
    "name": "ipython",
    "version": 3
   },
   "file_extension": ".py",
   "mimetype": "text/x-python",
   "name": "python",
   "nbconvert_exporter": "python",
   "pygments_lexer": "ipython3",
   "version": "3.7.3"
  }
 },
 "nbformat": 4,
 "nbformat_minor": 4
}
