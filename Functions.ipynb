{
 "cells": [
  {
   "cell_type": "code",
   "execution_count": 10,
   "metadata": {},
   "outputs": [
    {
     "name": "stderr",
     "output_type": "stream",
     "text": [
      "//anaconda3/lib/python3.7/site-packages/dask/dataframe/utils.py:15: FutureWarning: pandas.util.testing is deprecated. Use the functions in the public API at pandas.testing instead.\n",
      "  import pandas.util.testing as tm\n"
     ]
    }
   ],
   "source": [
    "#Standard\n",
    "import pandas as pd\n",
    "import numpy as np\n",
    "import matplotlib.pyplot as plt\n",
    "%matplotlib inline\n",
    "\n",
    "#AIF360 Dataset Classes \n",
    "from aif360.datasets import StandardDataset\n",
    "from aif360.datasets import BinaryLabelDataset\n",
    "\n",
    "#AIF360 Metrics Classes  \n",
    "from aif360.metrics import BinaryLabelDatasetMetric, ClassificationMetric\n",
    "from aif360.algorithms.preprocessing import Reweighing\n",
    "from aif360.metrics import ClassificationMetric\n",
    "\n",
    "#AIF360 Algorithms \n",
    "from aif360.algorithms.preprocessing import Reweighing\n",
    "from aif360.algorithms.inprocessing import AdversarialDebiasing\n",
    "from aif360.algorithms.postprocessing import CalibratedEqOddsPostprocessing, EqOddsPostprocessing\n",
    "# AI360 Explainers\n",
    "from aif360.explainers import MetricTextExplainer\n",
    "\n",
    "#Sklearn\n",
    "from sklearn.ensemble import RandomForestClassifier\n",
    "from sklearn.metrics import accuracy_score, recall_score, precision_score\n",
    "from sklearn.model_selection import GridSearchCV, RandomizedSearchCV,train_test_split\n",
    "\n",
    "#Tensorflow -- install version before 2.0\n",
    "import tensorflow as tf \n",
    "\n",
    "#For Markdown\n",
    "from IPython.display import Markdown, display\n",
    "\n",
    "#Helper Functions\n",
    "from src.classifier_functions import *"
   ]
  },
  {
   "cell_type": "code",
   "execution_count": null,
   "metadata": {},
   "outputs": [],
   "source": []
  },
  {
   "cell_type": "code",
   "execution_count": 74,
   "metadata": {},
   "outputs": [],
   "source": [
    "def create_binary_dataset_salary(salary):    \n",
    "    \"\"\"This will create a binary dataset from the csv with a set salary \n",
    "    as the threshold for later predictions.\"\"\"\n",
    "    \n",
    "    data = pd.read_csv('../company_x.csv', index_col='employee_id')\n",
    "    data_with_label = data.copy()\n",
    "    data_with_label['salary'] = data_with_label['salary'].transform(lambda x: x > salary).astype(int)\n",
    "    data_with_label['sex'] = data_with_label['sex'].transform(lambda x: x == 'M').astype(int)\n",
    "\n",
    "    std_data = StandardDataset(df=data_with_label,   \n",
    "                             label_name='salary',\n",
    "                             favorable_classes =[1],\n",
    "                            protected_attribute_names=['sex'], \n",
    "                             privileged_classes=[[1]],\n",
    "                            categorical_features=['degree_level', 'dept'], \n",
    "                              features_to_drop=['boss_id'])\n",
    "\n",
    "    df_data = std_data.convert_to_dataframe()\n",
    "    binary_dataset = BinaryLabelDataset(favorable_label=1, unfavorable_label=0, df=df_data[0], label_names=['salary'],\n",
    "                  protected_attribute_names=['sex'])\n",
    "    \n",
    "    return binary_dataset\n"
   ]
  },
  {
   "cell_type": "code",
   "execution_count": 80,
   "metadata": {},
   "outputs": [],
   "source": [
    "salary_list = [60000, 150000, 200000, 250000, 300000, 350000]"
   ]
  },
  {
   "cell_type": "code",
   "execution_count": 81,
   "metadata": {},
   "outputs": [],
   "source": [
    "def create_multiple_datasets(dataset_creator, salary_thresh_list):\n",
    "    binary_dataset_list = []\n",
    "    #Create Datasets with Different Salaries \n",
    "    for salary in salary_thresh_list:\n",
    "        binary_dataset = dataset_creator(salary)\n",
    "        binary_dataset_list.append(binary_dataset)\n",
    "    return binary_dataset_list\n"
   ]
  },
  {
   "cell_type": "code",
   "execution_count": 82,
   "metadata": {},
   "outputs": [],
   "source": [
    "datasets = create_multiple_datasets(create_binary_dataset_salary, salary_list)"
   ]
  },
  {
   "cell_type": "code",
   "execution_count": null,
   "metadata": {},
   "outputs": [],
   "source": [
    "def get_dataset_metrics_list(binary_dataset_list):\n",
    "    #Set privileged and unprivileged groups\n",
    "    privileged_groups= [{'sex':1}]\n",
    "    unprivileged_groups= [{'sex': 0}]\n",
    "    \n",
    "    mean_diff_list = []\n",
    "    one_minus_disp_imp_list = []\n",
    "    for dataset in binary_dataset_list:\n",
    "        metrics = BinaryLabelDatasetMetric(dataset, \n",
    "                            unprivileged_groups=unprivileged_groups, \n",
    "                            privileged_groups=privileged_groups)\n",
    "        mean_diff_list.append(metrics.mean_difference())\n",
    "        one_minus_disp_imp_list.append(1 - metrics.disparate_impact())\n",
    "    return mean_diff_list, one_minus_disp_imp_list"
   ]
  },
  {
   "cell_type": "code",
   "execution_count": 83,
   "metadata": {},
   "outputs": [],
   "source": [
    "def get_dataset_metrics(binary_dataset_list):\n",
    "    #Set privileged and unprivileged groups\n",
    "    privileged_groups= [{'sex':1}]\n",
    "    unprivileged_groups= [{'sex': 0}]\n",
    "    \n",
    "    for dataset in binary_dataset_list:\n",
    "        display(Markdown(\"#### Model  dataset metrics\"))\n",
    "        metrics = BinaryLabelDatasetMetric(dataset, \n",
    "                            unprivileged_groups=unprivileged_groups, \n",
    "                            privileged_groups=privileged_groups)\n",
    "\n",
    "        ex_metrics = MetricTextExplainer(metrics)\n",
    "\n",
    "        print(ex_metrics.mean_difference())\n",
    "        print('\\n')\n",
    "        print(ex_metrics.disparate_impact())\n"
   ]
  },
  {
   "cell_type": "code",
   "execution_count": null,
   "metadata": {},
   "outputs": [],
   "source": [
    "means, impact = get_dataset_metrics_list(datasets)\n"
   ]
  },
  {
   "cell_type": "code",
   "execution_count": 59,
   "metadata": {},
   "outputs": [
    {
     "data": {
      "text/plain": [
       "[-0.14185487472152958,\n",
       " -0.15509419201537045,\n",
       " -0.12145545439959105,\n",
       " -0.06845718960460986,\n",
       " -0.04120975631200614]"
      ]
     },
     "execution_count": 59,
     "metadata": {},
     "output_type": "execute_result"
    }
   ],
   "source": [
    "means"
   ]
  },
  {
   "cell_type": "code",
   "execution_count": 84,
   "metadata": {},
   "outputs": [
    {
     "data": {
      "text/plain": [
       "<matplotlib.lines.Line2D at 0x6de56bdd8>"
      ]
     },
     "execution_count": 84,
     "metadata": {},
     "output_type": "execute_result"
    },
    {
     "data": {
      "image/png": "[encoded data removed]",
      "text/plain": [
       "<Figure size 576x432 with 1 Axes>"
      ]
     },
     "metadata": {
      "needs_background": "light"
     },
     "output_type": "display_data"
    }
   ],
   "source": [
    "fig, ax = plt.subplots(figsize = (8,6))\n",
    "x_axis = range(len(means))\n",
    "\n",
    "ax.plot(x_axis, means, label='Mean Difference' )\n",
    "ax.plot(x_axis, impact, label='1 - Disparate Impact')\n",
    "ax.axhline(0)"
   ]
  },
  {
   "cell_type": "code",
   "execution_count": null,
   "metadata": {},
   "outputs": [],
   "source": []
  }
 ],
 "metadata": {
  "kernelspec": {
   "display_name": "Python 3",
   "language": "python",
   "name": "python3"
  },
  "language_info": {
   "codemirror_mode": {
    "name": "ipython",
    "version": 3
   },
   "file_extension": ".py",
   "mimetype": "text/x-python",
   "name": "python",
   "nbconvert_exporter": "python",
   "pygments_lexer": "ipython3",
   "version": "3.7.3"
  }
 },
 "nbformat": 4,
 "nbformat_minor": 4
}
