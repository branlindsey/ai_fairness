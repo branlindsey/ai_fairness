{
 "cells": [
  {
   "cell_type": "code",
   "execution_count": 1,
   "metadata": {},
   "outputs": [
    {
     "name": "stderr",
     "output_type": "stream",
     "text": [
      "//anaconda3/lib/python3.7/site-packages/dask/dataframe/utils.py:15: FutureWarning: pandas.util.testing is deprecated. Use the functions in the public API at pandas.testing instead.\n",
      "  import pandas.util.testing as tm\n"
     ]
    }
   ],
   "source": [
    "#Standard\n",
    "import pandas as pd\n",
    "import numpy as np\n",
    "import matplotlib.pyplot as plt\n",
    "%matplotlib inline\n",
    "plt.style.use('ggplot')\n",
    "\n",
    "#AIF360 Dataset Classes \n",
    "from aif360.datasets import StandardDataset\n",
    "from aif360.datasets import BinaryLabelDataset\n",
    "\n",
    "#AIF360 Metrics Classes  \n",
    "from aif360.metrics import BinaryLabelDatasetMetric, ClassificationMetric\n",
    "\n",
    "from aif360.metrics import ClassificationMetric\n",
    "\n",
    "#AIF360 Algorithms \n",
    "from aif360.algorithms.preprocessing import Reweighing\n",
    "from aif360.algorithms.inprocessing import AdversarialDebiasing\n",
    "from aif360.algorithms.postprocessing import CalibratedEqOddsPostprocessing, EqOddsPostprocessing\n",
    "# AI360 Explainers\n",
    "from aif360.explainers import MetricTextExplainer\n",
    "\n",
    "#Sklearn\n",
    "from sklearn.ensemble import RandomForestClassifier\n",
    "from sklearn.metrics import accuracy_score, recall_score, precision_score\n",
    "from sklearn.model_selection import GridSearchCV, RandomizedSearchCV,train_test_split\n",
    "\n",
    "#Tensorflow -- install version before 2.0\n",
    "import tensorflow as tf \n",
    "\n",
    "#For Markdown\n",
    "from IPython.display import Markdown, display\n",
    "\n",
    "#Helper Functions\n",
    "from src.classifier_functions import *\n",
    "from src.dataset_functions import *"
   ]
  },
  {
   "cell_type": "code",
   "execution_count": 2,
   "metadata": {},
   "outputs": [],
   "source": [
    "salary_list = [60000, 100000, 150000, 200000, 250000, 300000, 350000]"
   ]
  },
  {
   "cell_type": "code",
   "execution_count": 3,
   "metadata": {},
   "outputs": [],
   "source": [
    "datasets = create_multiple_datasets(create_binary_dataset_salary, salary_list)"
   ]
  },
  {
   "cell_type": "code",
   "execution_count": 4,
   "metadata": {},
   "outputs": [],
   "source": [
    "means, impact = get_dataset_metrics_list(datasets)\n"
   ]
  },
  {
   "cell_type": "code",
   "execution_count": 5,
   "metadata": {},
   "outputs": [
    {
     "data": {
      "text/plain": [
       "[-0.002797514915318544,\n",
       " -0.14185487472152958,\n",
       " -0.15509419201537045,\n",
       " -0.12145545439959105,\n",
       " -0.06845718960460986,\n",
       " -0.04120975631200614,\n",
       " -0.015883927270456254]"
      ]
     },
     "execution_count": 5,
     "metadata": {},
     "output_type": "execute_result"
    }
   ],
   "source": [
    "means"
   ]
  },
  {
   "cell_type": "code",
   "execution_count": 39,
   "metadata": {},
   "outputs": [
    {
     "data": {
      "image/png": "[encoded data removed]",
      "text/plain": [
       "<Figure size 576x432 with 1 Axes>"
      ]
     },
     "metadata": {
      "needs_background": "light"
     },
     "output_type": "display_data"
    }
   ],
   "source": [
    "fig, ax = plt.subplots(figsize = (8,6))\n",
    "x_axis = range(len(salary_list))\n",
    "\n",
    "ax.bar(x_axis, means, label='Mean Difference' )\n",
    "ax.bar(x_axis, impact, label='1 - Disparate Impact')\n",
    "ax.axhline(0)\n",
    "ax.set_xticks(x_axis)\n",
    "ax.set_xticklabels(salary_list)\n",
    "ax.set_title('Dataset Metrics at Different Salary Threshold')\n",
    "ax.set_xlabel('Salary Threshhold for Classifier Split')\n",
    "ax.legend()\n",
    "plt.savefig('images/model_metrics')"
   ]
  },
  {
   "cell_type": "code",
   "execution_count": 7,
   "metadata": {},
   "outputs": [
    {
     "data": {
      "text/plain": [
       "range(0, 7)"
      ]
     },
     "execution_count": 7,
     "metadata": {},
     "output_type": "execute_result"
    }
   ],
   "source": [
    "x_axis"
   ]
  },
  {
   "cell_type": "code",
   "execution_count": 8,
   "metadata": {},
   "outputs": [
    {
     "data": {
      "text/plain": [
       "[60000, 100000, 150000, 200000, 250000, 300000, 350000]"
      ]
     },
     "execution_count": 8,
     "metadata": {},
     "output_type": "execute_result"
    }
   ],
   "source": [
    "salary_list"
   ]
  },
  {
   "cell_type": "code",
   "execution_count": 9,
   "metadata": {},
   "outputs": [],
   "source": [
    "def create_split_lists(dataset_list):\n",
    "    #Create Train, Validation, Test Sets\n",
    "    data_train_list =[]\n",
    "    data_val_list = []\n",
    "    data_test_list =[]\n",
    "    for dataset in dataset_list:\n",
    "        data_train, data_vt = dataset.split([0.7], shuffle=True)\n",
    "        data_val, data_test = data_vt.split([0.5], shuffle=True)\n",
    "\n",
    "        data_train_list.append(data_train)\n",
    "        data_val_list.append(data_val) \n",
    "        data_test_list.append(data_test) \n",
    "    return data_train_list, data_val_list, data_test_list \n",
    "    \n"
   ]
  },
  {
   "cell_type": "code",
   "execution_count": 10,
   "metadata": {},
   "outputs": [],
   "source": [
    "train_list, val_list, test_list = create_split_lists(datasets)"
   ]
  },
  {
   "cell_type": "code",
   "execution_count": null,
   "metadata": {},
   "outputs": [],
   "source": []
  },
  {
   "cell_type": "code",
   "execution_count": 11,
   "metadata": {},
   "outputs": [],
   "source": [
    "def get_predictions(estimator, train_list, test_list):\n",
    "    pred_list = []\n",
    "    for train_, test_ in zip(train_list, test_list):\n",
    "        X_train = train_.features\n",
    "        y_train = train_.labels.ravel()\n",
    "        X_test = test_.features  \n",
    "        model = estimator\n",
    "        model.fit(X_train, y_train)\n",
    "        y_pred = model.predict(X_test)\n",
    "        preds = test_.copy()\n",
    "        preds.labels = y_pred.ravel()\n",
    "        pred_list.append(preds)\n",
    "    return pred_list\n",
    "\n",
    "    "
   ]
  },
  {
   "cell_type": "code",
   "execution_count": 12,
   "metadata": {},
   "outputs": [],
   "source": [
    "pred_list = get_predictions(RandomForestClassifier(n_estimators=500, max_depth=5, ), \n",
    "                train_list, val_list)"
   ]
  },
  {
   "cell_type": "code",
   "execution_count": 13,
   "metadata": {},
   "outputs": [
    {
     "data": {
      "text/plain": [
       "array([[ 0.,  0.,  5., ...,  0.,  0.,  0.],\n",
       "       [ 0.,  0.,  1., ...,  1.,  0.,  0.],\n",
       "       [ 0.,  1., 24., ...,  0.,  0.,  0.],\n",
       "       ...,\n",
       "       [ 1.,  1.,  5., ...,  0.,  0.,  1.],\n",
       "       [ 0.,  0.,  4., ...,  1.,  0.,  0.],\n",
       "       [ 1.,  1.,  9., ...,  1.,  0.,  0.]])"
      ]
     },
     "execution_count": 13,
     "metadata": {},
     "output_type": "execute_result"
    }
   ],
   "source": [
    "val_list[0].features"
   ]
  },
  {
   "cell_type": "code",
   "execution_count": 14,
   "metadata": {},
   "outputs": [],
   "source": [
    "#get_classifier_metrics()"
   ]
  },
  {
   "cell_type": "code",
   "execution_count": 15,
   "metadata": {},
   "outputs": [],
   "source": [
    "def show_classifier_metrics(test_list, prediction_list):\n",
    "    privileged_groups= [{'sex':1}]\n",
    "    unprivileged_groups= [{'sex': 0}]\n",
    "    \n",
    "    \n",
    "    counter = 1 \n",
    "    for test_, pred_ in zip(test_list, prediction_list):\n",
    "        \n",
    "        display(Markdown(\"#### Model {}  dataset metrics\".format(counter)))\n",
    "        \n",
    "\n",
    "        model_metric = ClassificationMetric(test_, pred_, \n",
    "                            unprivileged_groups=unprivileged_groups, \n",
    "                            privileged_groups=privileged_groups)\n",
    "\n",
    "        ex_model_metric= MetricTextExplainer(model_metric)\n",
    "        print(ex_model_metric.average_odds_difference())\n",
    "\n",
    "        print('Difference in Recall between Unprivileged and Privileged: {:.3f}'\n",
    "          .format(model_metric.equal_opportunity_difference()))\n",
    "\n",
    "        print('Difference in Precision between Unprivileged and Privileged: {:.3f}.'\n",
    "            .format(model_metric.precision(privileged=False)- model_metric.precision(privileged=True)))\n",
    "        counter +=1"
   ]
  },
  {
   "cell_type": "code",
   "execution_count": 16,
   "metadata": {},
   "outputs": [
    {
     "data": {
      "text/markdown": [
       "#### Model 1  dataset metrics"
      ],
      "text/plain": [
       "<IPython.core.display.Markdown object>"
      ]
     },
     "metadata": {},
     "output_type": "display_data"
    },
    {
     "name": "stdout",
     "output_type": "stream",
     "text": [
      "Average odds difference (average of TPR difference and FPR difference, 0 = equality of odds): 0.0\n",
      "Difference in Recall between Unprivileged and Privileged: 0.000\n",
      "Difference in Precision between Unprivileged and Privileged: -0.002.\n"
     ]
    },
    {
     "data": {
      "text/markdown": [
       "#### Model 2  dataset metrics"
      ],
      "text/plain": [
       "<IPython.core.display.Markdown object>"
      ]
     },
     "metadata": {},
     "output_type": "display_data"
    },
    {
     "name": "stdout",
     "output_type": "stream",
     "text": [
      "Average odds difference (average of TPR difference and FPR difference, 0 = equality of odds): -0.16794159768943634\n",
      "Difference in Recall between Unprivileged and Privileged: -0.051\n",
      "Difference in Precision between Unprivileged and Privileged: 0.004.\n"
     ]
    },
    {
     "data": {
      "text/markdown": [
       "#### Model 3  dataset metrics"
      ],
      "text/plain": [
       "<IPython.core.display.Markdown object>"
      ]
     },
     "metadata": {},
     "output_type": "display_data"
    },
    {
     "name": "stdout",
     "output_type": "stream",
     "text": [
      "Average odds difference (average of TPR difference and FPR difference, 0 = equality of odds): -0.16455209120514946\n",
      "Difference in Recall between Unprivileged and Privileged: -0.000\n",
      "Difference in Precision between Unprivileged and Privileged: 0.030.\n"
     ]
    },
    {
     "data": {
      "text/markdown": [
       "#### Model 4  dataset metrics"
      ],
      "text/plain": [
       "<IPython.core.display.Markdown object>"
      ]
     },
     "metadata": {},
     "output_type": "display_data"
    },
    {
     "name": "stdout",
     "output_type": "stream",
     "text": [
      "Average odds difference (average of TPR difference and FPR difference, 0 = equality of odds): -0.09473129270789779\n",
      "Difference in Recall between Unprivileged and Privileged: -0.055\n",
      "Difference in Precision between Unprivileged and Privileged: 0.074.\n"
     ]
    },
    {
     "data": {
      "text/markdown": [
       "#### Model 5  dataset metrics"
      ],
      "text/plain": [
       "<IPython.core.display.Markdown object>"
      ]
     },
     "metadata": {},
     "output_type": "display_data"
    },
    {
     "name": "stdout",
     "output_type": "stream",
     "text": [
      "Average odds difference (average of TPR difference and FPR difference, 0 = equality of odds): 0.005821013739743783\n",
      "Difference in Recall between Unprivileged and Privileged: 0.013\n",
      "Difference in Precision between Unprivileged and Privileged: 0.066.\n"
     ]
    },
    {
     "data": {
      "text/markdown": [
       "#### Model 6  dataset metrics"
      ],
      "text/plain": [
       "<IPython.core.display.Markdown object>"
      ]
     },
     "metadata": {},
     "output_type": "display_data"
    },
    {
     "name": "stdout",
     "output_type": "stream",
     "text": [
      "Average odds difference (average of TPR difference and FPR difference, 0 = equality of odds): 0.010869565217391304\n",
      "Difference in Recall between Unprivileged and Privileged: 0.022\n",
      "Difference in Precision between Unprivileged and Privileged: 1.000.\n"
     ]
    },
    {
     "data": {
      "text/markdown": [
       "#### Model 7  dataset metrics"
      ],
      "text/plain": [
       "<IPython.core.display.Markdown object>"
      ]
     },
     "metadata": {},
     "output_type": "display_data"
    },
    {
     "name": "stdout",
     "output_type": "stream",
     "text": [
      "Average odds difference (average of TPR difference and FPR difference, 0 = equality of odds): 0.02187067773167358\n",
      "Difference in Recall between Unprivileged and Privileged: 0.042\n",
      "Difference in Precision between Unprivileged and Privileged: 0.500.\n"
     ]
    }
   ],
   "source": [
    "show_classifier_metrics(val_list, pred_list)\n",
    "\n"
   ]
  },
  {
   "cell_type": "code",
   "execution_count": 17,
   "metadata": {},
   "outputs": [],
   "source": [
    "def get_classifier_metrics(test_list, prediction_list):\n",
    "    privileged_groups= [{'sex':1}]\n",
    "    unprivileged_groups= [{'sex': 0}]\n",
    "    acc_list = []\n",
    "    bal_acc_list = []\n",
    "    avg_odds_list=[]\n",
    "    recall_diff_list = []\n",
    "    precision_diff_list = []\n",
    "    for test_, pred_ in zip(test_list, prediction_list):\n",
    "        model_metric = ClassificationMetric(test_, pred_, \n",
    "                            unprivileged_groups=unprivileged_groups, \n",
    "                            privileged_groups=privileged_groups)\n",
    "        \n",
    "        acc_list.append(model_metric.accuracy().round(3))\n",
    "        bal_acc_list.append(((model_metric.true_positive_rate()+ model_metric.true_negative_rate(privileged=True))/2).round(3))\n",
    "        avg_odds_list.append(model_metric.average_odds_difference().round(3))\n",
    "        recall_diff_list.append(model_metric.equal_opportunity_difference().round(3))\n",
    "        precision_diff_list.append((model_metric.precision(privileged=False)- model_metric.precision(privileged=True)).round(3))  \n",
    "    return acc_list, bal_acc_list, avg_odds_list, recall_diff_list, precision_diff_list"
   ]
  },
  {
   "cell_type": "code",
   "execution_count": 18,
   "metadata": {},
   "outputs": [],
   "source": [
    "classifier_stats = get_classifier_metrics(val_list, pred_list)"
   ]
  },
  {
   "cell_type": "code",
   "execution_count": 19,
   "metadata": {},
   "outputs": [
    {
     "data": {
      "text/plain": [
       "([0.994, 0.899, 0.769, 0.664, 0.73, 0.871, 0.95],\n",
       " [0.5, 0.728, 0.636, 0.612, 0.507, 0.503, 0.507],\n",
       " [0.0, -0.168, -0.165, -0.095, 0.006, 0.011, 0.022],\n",
       " [0.0, -0.051, -0.0, -0.055, 0.013, 0.022, 0.042],\n",
       " [-0.002, 0.004, 0.03, 0.074, 0.066, 1.0, 0.5])"
      ]
     },
     "execution_count": 19,
     "metadata": {},
     "output_type": "execute_result"
    }
   ],
   "source": [
    "classifier_stats"
   ]
  },
  {
   "cell_type": "code",
   "execution_count": 40,
   "metadata": {},
   "outputs": [
    {
     "data": {
      "text/plain": [
       "<matplotlib.legend.Legend at 0x1502d2198>"
      ]
     },
     "execution_count": 40,
     "metadata": {},
     "output_type": "execute_result"
    },
    {
     "data": {
      "image/png": "[encoded data removed]",
      "text/plain": [
       "<Figure size 576x432 with 1 Axes>"
      ]
     },
     "metadata": {
      "needs_background": "light"
     },
     "output_type": "display_data"
    }
   ],
   "source": [
    "fig, ax = plt.subplots(figsize = (8,6))\n",
    "x_axis = range(len(classifier_stats[0]))\n",
    "\n",
    "ax.plot(x_axis, classifier_stats[0], label='Accuracy' )\n",
    "ax.plot(x_axis, classifier_stats[1], label='Balanced Accuracy' )\n",
    "ax.plot(x_axis, classifier_stats[2], label='Average Odds Difference' )\n",
    "ax.plot(x_axis, classifier_stats[3], label='Recall Difference' )\n",
    "ax.plot(x_axis, classifier_stats[4], label='Precision Difference' )\n",
    "\n",
    "ax.axhline(0)\n",
    "ax.set_xticks(x_axis)\n",
    "ax.set_xticklabels(salary_list)\n",
    "# ax.set_title('Dataset Metrics at Different Salary Threshold')\n",
    "# ax.set_xlabel('Salary Threshhold for Classifier Split')\n",
    "ax.legend()\n",
    "plt.savefig('images/classifier_metrics')"
   ]
  },
  {
   "cell_type": "code",
   "execution_count": 28,
   "metadata": {},
   "outputs": [],
   "source": [
    "test_mean, test_di = get_dataset_metrics_list(val_list)"
   ]
  },
  {
   "cell_type": "code",
   "execution_count": 37,
   "metadata": {},
   "outputs": [
    {
     "name": "stderr",
     "output_type": "stream",
     "text": [
      "//anaconda3/lib/python3.7/site-packages/aif360/metrics/dataset_metric.py:82: RuntimeWarning: divide by zero encountered in double_scalars\n",
      "  return metric_fun(privileged=False) / metric_fun(privileged=True)\n"
     ]
    }
   ],
   "source": [
    "pred_mean, pred_di = get_dataset_metrics_list(pred_list)"
   ]
  },
  {
   "cell_type": "code",
   "execution_count": 38,
   "metadata": {},
   "outputs": [
    {
     "data": {
      "image/png": "[encoded data removed]",
      "text/plain": [
       "<Figure size 864x432 with 2 Axes>"
      ]
     },
     "metadata": {
      "needs_background": "light"
     },
     "output_type": "display_data"
    }
   ],
   "source": [
    "fig, axes = plt.subplots(1,2, figsize = (12,6))\n",
    "x_axis = range(len(salary_list))\n",
    "\n",
    "axes[0].bar(x_axis, test_mean, label='Mean Difference' )\n",
    "axes[0].bar(x_axis, test_di, label='1 - Disparate Impact')\n",
    "axes[0].axhline(0)\n",
    "axes[0].set_xticks(x_axis)\n",
    "axes[0].set_xticklabels(salary_list)\n",
    "axes[0].set_title('Test Dataset Metrics at Different Salary Threshold')\n",
    "axes[0].set_xlabel('Salary Threshhold for Classifier Split')\n",
    "\n",
    "axes[1].bar(x_axis, pred_mean, label='Mean Difference' )\n",
    "axes[1].bar(x_axis, pred_di, label='1 - Disparate Impact')\n",
    "axes[1].axhline(0)\n",
    "axes[1].set_xticks(x_axis)\n",
    "axes[1].set_xticklabels(salary_list)\n",
    "axes[1].set_title('Prediction Dataset Metrics at Different Salary Threshold')\n",
    "axes[1].set_xlabel('Salary Threshhold for Classifier Split')\n",
    "\n",
    "\n",
    "plt.legend()\n",
    "plt.savefig('images/side_by_side_metrics')"
   ]
  },
  {
   "cell_type": "code",
   "execution_count": null,
   "metadata": {},
   "outputs": [],
   "source": []
  }
 ],
 "metadata": {
  "kernelspec": {
   "display_name": "Python 3",
   "language": "python",
   "name": "python3"
  },
  "language_info": {
   "codemirror_mode": {
    "name": "ipython",
    "version": 3
   },
   "file_extension": ".py",
   "mimetype": "text/x-python",
   "name": "python",
   "nbconvert_exporter": "python",
   "pygments_lexer": "ipython3",
   "version": "3.7.3"
  }
 },
 "nbformat": 4,
 "nbformat_minor": 4
}
