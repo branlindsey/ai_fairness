{
 "cells": [
  {
   "cell_type": "code",
   "execution_count": 4,
   "metadata": {},
   "outputs": [
    {
     "name": "stderr",
     "output_type": "stream",
     "text": [
      "//anaconda3/lib/python3.7/site-packages/dask/dataframe/utils.py:15: FutureWarning: pandas.util.testing is deprecated. Use the functions in the public API at pandas.testing instead.\n",
      "  import pandas.util.testing as tm\n"
     ]
    }
   ],
   "source": [
    "#Standard\n",
    "import pandas as pd\n",
    "import numpy as np\n",
    "import matplotlib.pyplot as plt\n",
    "%matplotlib inline\n",
    "plt.style.use('ggplot')\n",
    "\n",
    "#AIF360 Dataset Classes \n",
    "from aif360.datasets import StandardDataset\n",
    "from aif360.datasets import BinaryLabelDataset\n",
    "\n",
    "#AIF360 Metrics Classes  \n",
    "from aif360.metrics import BinaryLabelDatasetMetric, ClassificationMetric\n",
    "\n",
    "from aif360.metrics import ClassificationMetric\n",
    "\n",
    "#AIF360 Algorithms \n",
    "from aif360.algorithms.preprocessing import Reweighing\n",
    "from aif360.algorithms.inprocessing import AdversarialDebiasing\n",
    "from aif360.algorithms.postprocessing import CalibratedEqOddsPostprocessing, EqOddsPostprocessing\n",
    "# AI360 Explainers\n",
    "from aif360.explainers import MetricTextExplainer\n",
    "\n",
    "#Sklearn\n",
    "from sklearn.ensemble import RandomForestClassifier\n",
    "from sklearn.metrics import accuracy_score, recall_score, precision_score\n",
    "from sklearn.model_selection import GridSearchCV, RandomizedSearchCV,train_test_split\n",
    "\n",
    "#Tensorflow -- install version before 2.0\n",
    "import tensorflow as tf \n",
    "\n",
    "#For Markdown\n",
    "from IPython.display import Markdown, display\n",
    "\n",
    "#Helper Functions\n",
    "from src.classifier_functions import *\n",
    "from src.dataset_functions import *"
   ]
  },
  {
   "cell_type": "code",
   "execution_count": 72,
   "metadata": {},
   "outputs": [],
   "source": [
    "salary_list = [100000, 125000, 150000, 175000, 200000, 225000, 250000]"
   ]
  },
  {
   "cell_type": "code",
   "execution_count": 73,
   "metadata": {},
   "outputs": [],
   "source": [
    "datasets = create_multiple_datasets(create_binary_dataset_salary, salary_list)"
   ]
  },
  {
   "cell_type": "code",
   "execution_count": 74,
   "metadata": {},
   "outputs": [],
   "source": [
    "means, impact = get_dataset_metrics_list(datasets)\n"
   ]
  },
  {
   "cell_type": "code",
   "execution_count": 75,
   "metadata": {},
   "outputs": [
    {
     "data": {
      "text/plain": [
       "[-0.14185487472152958,\n",
       " -0.16401331241161143,\n",
       " -0.15509419201537045,\n",
       " -0.14209465548393385,\n",
       " -0.12145545439959105,\n",
       " -0.09054074487034675,\n",
       " -0.06845718960460986]"
      ]
     },
     "execution_count": 75,
     "metadata": {},
     "output_type": "execute_result"
    }
   ],
   "source": [
    "means"
   ]
  },
  {
   "cell_type": "code",
   "execution_count": 76,
   "metadata": {},
   "outputs": [
    {
     "data": {
      "image/png": "[encoded data removed]",
      "text/plain": [
       "<Figure size 576x432 with 1 Axes>"
      ]
     },
     "metadata": {
      "needs_background": "light"
     },
     "output_type": "display_data"
    }
   ],
   "source": [
    "fig, ax = plt.subplots(figsize = (8,6))\n",
    "x_axis = range(len(salary_list))\n",
    "\n",
    "ax.bar(x_axis, means, label='Mean Difference' )\n",
    "ax.bar(x_axis, impact, label='1 - Disparate Impact')\n",
    "ax.axhline(0)\n",
    "ax.set_xticks(x_axis)\n",
    "ax.set_xticklabels(salary_list)\n",
    "ax.set_title('Dataset Metrics at Different Salary Threshold')\n",
    "ax.set_xlabel('Salary Threshhold for Classifier Split')\n",
    "ax.legend()\n",
    "plt.savefig('images/model_metrics')"
   ]
  },
  {
   "cell_type": "code",
   "execution_count": 52,
   "metadata": {},
   "outputs": [
    {
     "data": {
      "text/plain": [
       "range(0, 7)"
      ]
     },
     "execution_count": 52,
     "metadata": {},
     "output_type": "execute_result"
    }
   ],
   "source": [
    "x_axis"
   ]
  },
  {
   "cell_type": "code",
   "execution_count": 53,
   "metadata": {},
   "outputs": [
    {
     "data": {
      "text/plain": [
       "[17500, 175000, 175000, 175000, 175000, 1750000, 175000]"
      ]
     },
     "execution_count": 53,
     "metadata": {},
     "output_type": "execute_result"
    }
   ],
   "source": [
    "salary_list"
   ]
  },
  {
   "cell_type": "code",
   "execution_count": 77,
   "metadata": {},
   "outputs": [],
   "source": [
    "def create_split_lists(dataset_list):\n",
    "    #Create Train, Validation, Test Sets\n",
    "    data_train_list =[]\n",
    "    data_val_list = []\n",
    "    data_test_list =[]\n",
    "    for dataset in dataset_list:\n",
    "        data_train, data_vt = dataset.split([0.7], shuffle=True)\n",
    "        data_val, data_test = data_vt.split([0.5], shuffle=True)\n",
    "\n",
    "        data_train_list.append(data_train)\n",
    "        data_val_list.append(data_val) \n",
    "        data_test_list.append(data_test) \n",
    "    return data_train_list, data_val_list, data_test_list \n",
    "    \n"
   ]
  },
  {
   "cell_type": "code",
   "execution_count": 78,
   "metadata": {},
   "outputs": [],
   "source": [
    "train_list, val_list, test_list = create_split_lists(datasets)"
   ]
  },
  {
   "cell_type": "code",
   "execution_count": null,
   "metadata": {},
   "outputs": [],
   "source": []
  },
  {
   "cell_type": "code",
   "execution_count": 79,
   "metadata": {},
   "outputs": [],
   "source": [
    "def get_predictions(estimator, train_list, test_list):\n",
    "    pred_list = []\n",
    "    for train_, test_ in zip(train_list, test_list):\n",
    "        X_train = train_.features\n",
    "        y_train = train_.labels.ravel()\n",
    "        X_test = test_.features  \n",
    "        model = estimator\n",
    "        model.fit(X_train, y_train)\n",
    "        y_pred = model.predict(X_test)\n",
    "        preds = test_.copy()\n",
    "        preds.labels = y_pred.ravel()\n",
    "        pred_list.append(preds)\n",
    "    return pred_list\n",
    "\n",
    "    "
   ]
  },
  {
   "cell_type": "code",
   "execution_count": 80,
   "metadata": {},
   "outputs": [],
   "source": [
    "pred_list = get_predictions(RandomForestClassifier(n_estimators=500, max_depth=5, ), \n",
    "                train_list, val_list)"
   ]
  },
  {
   "cell_type": "code",
   "execution_count": 81,
   "metadata": {},
   "outputs": [
    {
     "data": {
      "text/plain": [
       "array([[0., 0., 4., ..., 0., 0., 1.],\n",
       "       [0., 1., 1., ..., 0., 0., 1.],\n",
       "       [0., 0., 3., ..., 0., 0., 1.],\n",
       "       ...,\n",
       "       [0., 0., 1., ..., 0., 0., 0.],\n",
       "       [0., 0., 3., ..., 0., 1., 0.],\n",
       "       [1., 1., 4., ..., 0., 0., 1.]])"
      ]
     },
     "execution_count": 81,
     "metadata": {},
     "output_type": "execute_result"
    }
   ],
   "source": [
    "val_list[0].features"
   ]
  },
  {
   "cell_type": "code",
   "execution_count": 82,
   "metadata": {},
   "outputs": [],
   "source": [
    "#get_classifier_metrics()"
   ]
  },
  {
   "cell_type": "code",
   "execution_count": 83,
   "metadata": {},
   "outputs": [],
   "source": [
    "def show_classifier_metrics(test_list, prediction_list):\n",
    "    privileged_groups= [{'sex':1}]\n",
    "    unprivileged_groups= [{'sex': 0}]\n",
    "    \n",
    "    \n",
    "    counter = 1 \n",
    "    for test_, pred_ in zip(test_list, prediction_list):\n",
    "        \n",
    "        display(Markdown(\"#### Model {}  dataset metrics\".format(counter)))\n",
    "        \n",
    "\n",
    "        model_metric = ClassificationMetric(test_, pred_, \n",
    "                            unprivileged_groups=unprivileged_groups, \n",
    "                            privileged_groups=privileged_groups)\n",
    "\n",
    "        ex_model_metric= MetricTextExplainer(model_metric)\n",
    "        print(ex_model_metric.average_odds_difference())\n",
    "\n",
    "        print('Difference in Recall between Unprivileged and Privileged: {:.3f}'\n",
    "          .format(model_metric.equal_opportunity_difference()))\n",
    "\n",
    "        print('Difference in Precision between Unprivileged and Privileged: {:.3f}.'\n",
    "            .format(model_metric.precision(privileged=False)- model_metric.precision(privileged=True)))\n",
    "        counter +=1"
   ]
  },
  {
   "cell_type": "code",
   "execution_count": 84,
   "metadata": {},
   "outputs": [
    {
     "data": {
      "text/markdown": [
       "#### Model 1  dataset metrics"
      ],
      "text/plain": [
       "<IPython.core.display.Markdown object>"
      ]
     },
     "metadata": {},
     "output_type": "display_data"
    },
    {
     "name": "stdout",
     "output_type": "stream",
     "text": [
      "Average odds difference (average of TPR difference and FPR difference, 0 = equality of odds): -0.1692814101230195\n",
      "Difference in Recall between Unprivileged and Privileged: -0.071\n",
      "Difference in Precision between Unprivileged and Privileged: 0.002.\n"
     ]
    },
    {
     "data": {
      "text/markdown": [
       "#### Model 2  dataset metrics"
      ],
      "text/plain": [
       "<IPython.core.display.Markdown object>"
      ]
     },
     "metadata": {},
     "output_type": "display_data"
    },
    {
     "name": "stdout",
     "output_type": "stream",
     "text": [
      "Average odds difference (average of TPR difference and FPR difference, 0 = equality of odds): -0.1479634699965715\n",
      "Difference in Recall between Unprivileged and Privileged: -0.005\n",
      "Difference in Precision between Unprivileged and Privileged: -0.031.\n"
     ]
    },
    {
     "data": {
      "text/markdown": [
       "#### Model 3  dataset metrics"
      ],
      "text/plain": [
       "<IPython.core.display.Markdown object>"
      ]
     },
     "metadata": {},
     "output_type": "display_data"
    },
    {
     "name": "stdout",
     "output_type": "stream",
     "text": [
      "Average odds difference (average of TPR difference and FPR difference, 0 = equality of odds): -0.16970588083756435\n",
      "Difference in Recall between Unprivileged and Privileged: -0.009\n",
      "Difference in Precision between Unprivileged and Privileged: 0.002.\n"
     ]
    },
    {
     "data": {
      "text/markdown": [
       "#### Model 4  dataset metrics"
      ],
      "text/plain": [
       "<IPython.core.display.Markdown object>"
      ]
     },
     "metadata": {},
     "output_type": "display_data"
    },
    {
     "name": "stdout",
     "output_type": "stream",
     "text": [
      "Average odds difference (average of TPR difference and FPR difference, 0 = equality of odds): -0.14935726653536185\n",
      "Difference in Recall between Unprivileged and Privileged: -0.002\n",
      "Difference in Precision between Unprivileged and Privileged: -0.055.\n"
     ]
    },
    {
     "data": {
      "text/markdown": [
       "#### Model 5  dataset metrics"
      ],
      "text/plain": [
       "<IPython.core.display.Markdown object>"
      ]
     },
     "metadata": {},
     "output_type": "display_data"
    },
    {
     "name": "stdout",
     "output_type": "stream",
     "text": [
      "Average odds difference (average of TPR difference and FPR difference, 0 = equality of odds): -0.07446427517481258\n",
      "Difference in Recall between Unprivileged and Privileged: -0.040\n",
      "Difference in Precision between Unprivileged and Privileged: 0.037.\n"
     ]
    },
    {
     "data": {
      "text/markdown": [
       "#### Model 6  dataset metrics"
      ],
      "text/plain": [
       "<IPython.core.display.Markdown object>"
      ]
     },
     "metadata": {},
     "output_type": "display_data"
    },
    {
     "name": "stdout",
     "output_type": "stream",
     "text": [
      "Average odds difference (average of TPR difference and FPR difference, 0 = equality of odds): -0.07368787425045353\n",
      "Difference in Recall between Unprivileged and Privileged: -0.065\n",
      "Difference in Precision between Unprivileged and Privileged: 0.037.\n"
     ]
    },
    {
     "data": {
      "text/markdown": [
       "#### Model 7  dataset metrics"
      ],
      "text/plain": [
       "<IPython.core.display.Markdown object>"
      ]
     },
     "metadata": {},
     "output_type": "display_data"
    },
    {
     "name": "stdout",
     "output_type": "stream",
     "text": [
      "Average odds difference (average of TPR difference and FPR difference, 0 = equality of odds): 0.0003177977115685017\n",
      "Difference in Recall between Unprivileged and Privileged: 0.002\n",
      "Difference in Precision between Unprivileged and Privileged: 0.095.\n"
     ]
    }
   ],
   "source": [
    "show_classifier_metrics(val_list, pred_list)\n",
    "\n"
   ]
  },
  {
   "cell_type": "code",
   "execution_count": 85,
   "metadata": {},
   "outputs": [],
   "source": [
    "def get_classifier_metrics(test_list, prediction_list):\n",
    "    privileged_groups= [{'sex':1}]\n",
    "    unprivileged_groups= [{'sex': 0}]\n",
    "    acc_list = []\n",
    "    bal_acc_list = []\n",
    "    avg_odds_list=[]\n",
    "    recall_diff_list = []\n",
    "    precision_diff_list = []\n",
    "    for test_, pred_ in zip(test_list, prediction_list):\n",
    "        model_metric = ClassificationMetric(test_, pred_, \n",
    "                            unprivileged_groups=unprivileged_groups, \n",
    "                            privileged_groups=privileged_groups)\n",
    "        \n",
    "        acc_list.append(model_metric.accuracy().round(3))\n",
    "        bal_acc_list.append(((model_metric.true_positive_rate()+ model_metric.true_negative_rate(privileged=True))/2).round(3))\n",
    "        avg_odds_list.append(model_metric.average_odds_difference().round(3))\n",
    "        recall_diff_list.append(model_metric.equal_opportunity_difference().round(3))\n",
    "        precision_diff_list.append((model_metric.precision(privileged=False)- model_metric.precision(privileged=True)).round(3))  \n",
    "    return acc_list, bal_acc_list, avg_odds_list, recall_diff_list, precision_diff_list"
   ]
  },
  {
   "cell_type": "code",
   "execution_count": 86,
   "metadata": {},
   "outputs": [],
   "source": [
    "classifier_stats = get_classifier_metrics(val_list, pred_list)"
   ]
  },
  {
   "cell_type": "code",
   "execution_count": 87,
   "metadata": {},
   "outputs": [
    {
     "data": {
      "text/plain": [
       "([0.891, 0.849, 0.772, 0.697, 0.658, 0.717, 0.723],\n",
       " [0.721, 0.681, 0.633, 0.607, 0.61, 0.646, 0.505],\n",
       " [-0.169, -0.148, -0.17, -0.149, -0.074, -0.074, 0.0],\n",
       " [-0.071, -0.005, -0.009, -0.002, -0.04, -0.065, 0.002],\n",
       " [0.002, -0.031, 0.002, -0.055, 0.037, 0.037, 0.095])"
      ]
     },
     "execution_count": 87,
     "metadata": {},
     "output_type": "execute_result"
    }
   ],
   "source": [
    "classifier_stats"
   ]
  },
  {
   "cell_type": "code",
   "execution_count": 88,
   "metadata": {},
   "outputs": [
    {
     "data": {
      "image/png": "[encoded data removed]",
      "text/plain": [
       "<Figure size 576x432 with 1 Axes>"
      ]
     },
     "metadata": {
      "needs_background": "light"
     },
     "output_type": "display_data"
    }
   ],
   "source": [
    "fig, ax = plt.subplots(figsize = (8,6))\n",
    "x_axis = range(len(classifier_stats[0]))\n",
    "\n",
    "ax.plot(x_axis, classifier_stats[0], label='Accuracy' )\n",
    "ax.plot(x_axis, classifier_stats[1], label='Balanced Accuracy' )\n",
    "ax.plot(x_axis, classifier_stats[2], label='Average Odds Difference' )\n",
    "ax.plot(x_axis, classifier_stats[3], label='Recall Difference' )\n",
    "ax.plot(x_axis, classifier_stats[4], label='Precision Difference' )\n",
    "\n",
    "ax.axhline(0)\n",
    "ax.set_xticks(x_axis)\n",
    "ax.set_xticklabels(salary_list)\n",
    "# ax.set_title('Dataset Metrics at Different Salary Threshold')\n",
    "# ax.set_xlabel('Salary Threshhold for Classifier Split')\n",
    "ax.legend()\n",
    "plt.savefig('images/classifier_metrics')"
   ]
  },
  {
   "cell_type": "code",
   "execution_count": 89,
   "metadata": {},
   "outputs": [],
   "source": [
    "test_mean, test_di = get_dataset_metrics_list(val_list)"
   ]
  },
  {
   "cell_type": "code",
   "execution_count": 90,
   "metadata": {},
   "outputs": [],
   "source": [
    "pred_mean, pred_di = get_dataset_metrics_list(pred_list)"
   ]
  },
  {
   "cell_type": "code",
   "execution_count": 91,
   "metadata": {},
   "outputs": [],
   "source": [
    "train_mean, train_di = get_dataset_metrics_list(train_list)"
   ]
  },
  {
   "cell_type": "code",
   "execution_count": 94,
   "metadata": {},
   "outputs": [
    {
     "data": {
      "image/png": "[encoded data removed]",
      "text/plain": [
       "<Figure size 576x720 with 2 Axes>"
      ]
     },
     "metadata": {
      "needs_background": "light"
     },
     "output_type": "display_data"
    }
   ],
   "source": [
    "fig, axes = plt.subplots(2,1, figsize = (8,10))\n",
    "x_axis = range(len(salary_list))\n",
    "\n",
    "axes[0].bar(x_axis, test_mean, label='Mean Difference' )\n",
    "axes[0].bar(x_axis, test_di, label='1 - Disparate Impact')\n",
    "axes[0].axhline(0)\n",
    "axes[0].set_xticks(x_axis)\n",
    "axes[0].set_xticklabels(salary_list)\n",
    "axes[0].set_title('Test Dataset Metrics at Different Salary Threshold')\n",
    "axes[0].set_xlabel('Salary Threshhold for Classifier Split')\n",
    "axes[0].set_ylim(-.5, .5)\n",
    "\n",
    "axes[1].bar(x_axis, pred_mean, label='Mean Difference' )\n",
    "axes[1].bar(x_axis, pred_di, label='1 - Disparate Impact')\n",
    "axes[1].axhline(0)\n",
    "axes[1].set_xticks(x_axis)\n",
    "axes[1].set_xticklabels(salary_list)\n",
    "axes[1].set_title('Prediction Dataset Metrics at Different Salary Threshold')\n",
    "axes[1].set_xlabel('Salary Threshhold for Classifier Split')\n",
    "axes[1].set_ylim(-.5, .5)\n",
    "\n",
    "plt.legend()\n",
    "plt.savefig('images/side_by_side_metrics')"
   ]
  },
  {
   "cell_type": "code",
   "execution_count": null,
   "metadata": {},
   "outputs": [],
   "source": []
  },
  {
   "cell_type": "code",
   "execution_count": null,
   "metadata": {},
   "outputs": [],
   "source": []
  }
 ],
 "metadata": {
  "kernelspec": {
   "display_name": "Python 3",
   "language": "python",
   "name": "python3"
  },
  "language_info": {
   "codemirror_mode": {
    "name": "ipython",
    "version": 3
   },
   "file_extension": ".py",
   "mimetype": "text/x-python",
   "name": "python",
   "nbconvert_exporter": "python",
   "pygments_lexer": "ipython3",
   "version": "3.7.3"
  }
 },
 "nbformat": 4,
 "nbformat_minor": 4
}
