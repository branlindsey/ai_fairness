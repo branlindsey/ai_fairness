{
 "cells": [
  {
   "cell_type": "markdown",
   "metadata": {},
   "source": [
    "### CS Info\n",
    "\n",
    "There has been lots of talking about diversity in the workplace, especially in technology. The Head of HR at your company is very concerned about that and has asked you to analyze internal data about employees and see whether results suggest that the company is treating all its employees fairly or not.\n",
    "Specifically, she gave you the following tasks:\n",
    "In the company there are 6 levels (described below). Identify, for each employee, her corresponding level.\n",
    "Individual Contributors(IC) - they don’t manage anyone\n",
    "Middle Managers(MM) - they are the direct bosses of IC\n",
    "Directors(D) - they are the direct bosses of MM\n",
    "VP - D direct bosses\n",
    "Executives (E) - VP direct bosses\n",
    "CEO - The direct boss of E.\n",
    "How many people each employee manages? Consider that if John directly manages 2 people and these two people manage 5 people each, then we conclude that John manages 12 people.\n",
    "Build a model to predict the salary of each employee.\n",
    "Describe the main factors impacting employee salaries. Do you think the company has been treating all its employees fairly? What are the next steps you would suggest to the Head of HR?"
   ]
  },
  {
   "cell_type": "code",
   "execution_count": 105,
   "metadata": {},
   "outputs": [],
   "source": [
    "import pandas as pd\n",
    "import numpy as np\n",
    "import matplotlib.pyplot as plt\n",
    "\n",
    "%matplotlib inline "
   ]
  },
  {
   "cell_type": "code",
   "execution_count": 232,
   "metadata": {},
   "outputs": [],
   "source": [
    "employee = pd.read_csv('../diversity/employee.csv')"
   ]
  },
  {
   "cell_type": "code",
   "execution_count": 233,
   "metadata": {},
   "outputs": [
    {
     "name": "stdout",
     "output_type": "stream",
     "text": [
      "<class 'pandas.core.frame.DataFrame'>\n",
      "RangeIndex: 10000 entries, 0 to 9999\n",
      "Data columns (total 6 columns):\n",
      " #   Column          Non-Null Count  Dtype  \n",
      "---  ------          --------------  -----  \n",
      " 0   employee_id     10000 non-null  int64  \n",
      " 1   signing_bonus   10000 non-null  int64  \n",
      " 2   salary          10000 non-null  float64\n",
      " 3   degree_level    10000 non-null  object \n",
      " 4   sex             10000 non-null  object \n",
      " 5   yrs_experience  10000 non-null  int64  \n",
      "dtypes: float64(1), int64(3), object(2)\n",
      "memory usage: 468.9+ KB\n"
     ]
    }
   ],
   "source": [
    "employee.info()"
   ]
  },
  {
   "cell_type": "code",
   "execution_count": 234,
   "metadata": {},
   "outputs": [
    {
     "data": {
      "text/html": [
       "<div>\n",
       "<style scoped>\n",
       "    .dataframe tbody tr th:only-of-type {\n",
       "        vertical-align: middle;\n",
       "    }\n",
       "\n",
       "    .dataframe tbody tr th {\n",
       "        vertical-align: top;\n",
       "    }\n",
       "\n",
       "    .dataframe thead th {\n",
       "        text-align: right;\n",
       "    }\n",
       "</style>\n",
       "<table border=\"1\" class=\"dataframe\">\n",
       "  <thead>\n",
       "    <tr style=\"text-align: right;\">\n",
       "      <th></th>\n",
       "      <th>salary</th>\n",
       "    </tr>\n",
       "    <tr>\n",
       "      <th>degree_level</th>\n",
       "      <th></th>\n",
       "    </tr>\n",
       "  </thead>\n",
       "  <tbody>\n",
       "    <tr>\n",
       "      <th>Bachelor</th>\n",
       "      <td>187939.0</td>\n",
       "    </tr>\n",
       "    <tr>\n",
       "      <th>High_School</th>\n",
       "      <td>188089.0</td>\n",
       "    </tr>\n",
       "    <tr>\n",
       "      <th>Master</th>\n",
       "      <td>188145.0</td>\n",
       "    </tr>\n",
       "    <tr>\n",
       "      <th>PhD</th>\n",
       "      <td>191804.0</td>\n",
       "    </tr>\n",
       "  </tbody>\n",
       "</table>\n",
       "</div>"
      ],
      "text/plain": [
       "                salary\n",
       "degree_level          \n",
       "Bachelor      187939.0\n",
       "High_School   188089.0\n",
       "Master        188145.0\n",
       "PhD           191804.0"
      ]
     },
     "execution_count": 234,
     "metadata": {},
     "output_type": "execute_result"
    }
   ],
   "source": [
    "employee[['degree_level', 'salary']].groupby('degree_level').mean().round()"
   ]
  },
  {
   "cell_type": "code",
   "execution_count": 235,
   "metadata": {},
   "outputs": [],
   "source": [
    "merged = pd.merge(employee, company, how='inner', on=['employee_id'])"
   ]
  },
  {
   "cell_type": "code",
   "execution_count": 236,
   "metadata": {},
   "outputs": [
    {
     "name": "stdout",
     "output_type": "stream",
     "text": [
      "<class 'pandas.core.frame.DataFrame'>\n",
      "Int64Index: 10000 entries, 0 to 9999\n",
      "Data columns (total 8 columns):\n",
      " #   Column          Non-Null Count  Dtype  \n",
      "---  ------          --------------  -----  \n",
      " 0   employee_id     10000 non-null  int64  \n",
      " 1   signing_bonus   10000 non-null  int64  \n",
      " 2   salary          10000 non-null  float64\n",
      " 3   degree_level    10000 non-null  object \n",
      " 4   sex             10000 non-null  object \n",
      " 5   yrs_experience  10000 non-null  int64  \n",
      " 6   boss_id         9999 non-null   float64\n",
      " 7   dept            10000 non-null  object \n",
      "dtypes: float64(2), int64(3), object(3)\n",
      "memory usage: 703.1+ KB\n"
     ]
    }
   ],
   "source": [
    "merged.info()"
   ]
  },
  {
   "cell_type": "code",
   "execution_count": 237,
   "metadata": {},
   "outputs": [],
   "source": [
    "merged['boss_id'].fillna(100000, inplace=True)\n",
    "merged['boss_id'] = merged['boss_id'].astype(int)"
   ]
  },
  {
   "cell_type": "code",
   "execution_count": 238,
   "metadata": {},
   "outputs": [
    {
     "data": {
      "text/html": [
       "<div>\n",
       "<style scoped>\n",
       "    .dataframe tbody tr th:only-of-type {\n",
       "        vertical-align: middle;\n",
       "    }\n",
       "\n",
       "    .dataframe tbody tr th {\n",
       "        vertical-align: top;\n",
       "    }\n",
       "\n",
       "    .dataframe thead th {\n",
       "        text-align: right;\n",
       "    }\n",
       "</style>\n",
       "<table border=\"1\" class=\"dataframe\">\n",
       "  <thead>\n",
       "    <tr style=\"text-align: right;\">\n",
       "      <th></th>\n",
       "      <th>employee_id</th>\n",
       "      <th>signing_bonus</th>\n",
       "      <th>salary</th>\n",
       "      <th>degree_level</th>\n",
       "      <th>sex</th>\n",
       "      <th>yrs_experience</th>\n",
       "      <th>boss_id</th>\n",
       "      <th>dept</th>\n",
       "    </tr>\n",
       "  </thead>\n",
       "  <tbody>\n",
       "    <tr>\n",
       "      <th>8184</th>\n",
       "      <td>93708</td>\n",
       "      <td>1</td>\n",
       "      <td>500000.0</td>\n",
       "      <td>PhD</td>\n",
       "      <td>F</td>\n",
       "      <td>28</td>\n",
       "      <td>61554</td>\n",
       "      <td>HR</td>\n",
       "    </tr>\n",
       "    <tr>\n",
       "      <th>8235</th>\n",
       "      <td>51535</td>\n",
       "      <td>1</td>\n",
       "      <td>650000.0</td>\n",
       "      <td>PhD</td>\n",
       "      <td>M</td>\n",
       "      <td>33</td>\n",
       "      <td>61554</td>\n",
       "      <td>engineering</td>\n",
       "    </tr>\n",
       "    <tr>\n",
       "      <th>9119</th>\n",
       "      <td>11277</td>\n",
       "      <td>1</td>\n",
       "      <td>550000.0</td>\n",
       "      <td>Master</td>\n",
       "      <td>M</td>\n",
       "      <td>22</td>\n",
       "      <td>61554</td>\n",
       "      <td>sales</td>\n",
       "    </tr>\n",
       "    <tr>\n",
       "      <th>9410</th>\n",
       "      <td>110464</td>\n",
       "      <td>1</td>\n",
       "      <td>550000.0</td>\n",
       "      <td>Master</td>\n",
       "      <td>M</td>\n",
       "      <td>21</td>\n",
       "      <td>61554</td>\n",
       "      <td>marketing</td>\n",
       "    </tr>\n",
       "  </tbody>\n",
       "</table>\n",
       "</div>"
      ],
      "text/plain": [
       "      employee_id  signing_bonus    salary degree_level sex  yrs_experience  \\\n",
       "8184        93708              1  500000.0          PhD   F              28   \n",
       "8235        51535              1  650000.0          PhD   M              33   \n",
       "9119        11277              1  550000.0       Master   M              22   \n",
       "9410       110464              1  550000.0       Master   M              21   \n",
       "\n",
       "      boss_id         dept  \n",
       "8184    61554           HR  \n",
       "8235    61554  engineering  \n",
       "9119    61554        sales  \n",
       "9410    61554    marketing  "
      ]
     },
     "execution_count": 238,
     "metadata": {},
     "output_type": "execute_result"
    }
   ],
   "source": [
    "merged[merged['boss_id']==61554] "
   ]
  },
  {
   "cell_type": "code",
   "execution_count": 239,
   "metadata": {},
   "outputs": [],
   "source": [
    "boss = set(merged.boss_id)\n",
    "\n",
    "merged['is_manager'] = merged['employee_id'].apply(lambda x: x in boss)\n"
   ]
  },
  {
   "cell_type": "code",
   "execution_count": 240,
   "metadata": {},
   "outputs": [],
   "source": [
    "\n",
    "reports = (merged['boss_id'].value_counts())\n",
    "reports_df = pd.DataFrame(reports)"
   ]
  },
  {
   "cell_type": "code",
   "execution_count": 241,
   "metadata": {},
   "outputs": [],
   "source": [
    "merged = pd.merge(merged, reports, how='left', left_on=['employee_id'], right_on=reports.index)"
   ]
  },
  {
   "cell_type": "code",
   "execution_count": 242,
   "metadata": {},
   "outputs": [],
   "source": [
    "merged['boss_id_y'].fillna(0, inplace=True)"
   ]
  },
  {
   "cell_type": "code",
   "execution_count": 243,
   "metadata": {},
   "outputs": [],
   "source": [
    "merged['direct_reports'] = merged['boss_id_y']"
   ]
  },
  {
   "cell_type": "code",
   "execution_count": 244,
   "metadata": {},
   "outputs": [],
   "source": [
    "merged['boss_id'] = merged['boss_id_x']"
   ]
  },
  {
   "cell_type": "code",
   "execution_count": 245,
   "metadata": {},
   "outputs": [],
   "source": [
    "merged.drop(labels=['boss_id_y', 'boss_id_x'], axis=1, inplace=True)"
   ]
  },
  {
   "cell_type": "code",
   "execution_count": 194,
   "metadata": {
    "collapsed": true,
    "jupyter": {
     "outputs_hidden": true
    }
   },
   "outputs": [
    {
     "data": {
      "text/html": [
       "<div>\n",
       "<style scoped>\n",
       "    .dataframe tbody tr th:only-of-type {\n",
       "        vertical-align: middle;\n",
       "    }\n",
       "\n",
       "    .dataframe tbody tr th {\n",
       "        vertical-align: top;\n",
       "    }\n",
       "\n",
       "    .dataframe thead th {\n",
       "        text-align: right;\n",
       "    }\n",
       "</style>\n",
       "<table border=\"1\" class=\"dataframe\">\n",
       "  <thead>\n",
       "    <tr style=\"text-align: right;\">\n",
       "      <th></th>\n",
       "      <th>signing_bonus</th>\n",
       "      <th>salary</th>\n",
       "      <th>degree_level</th>\n",
       "      <th>sex</th>\n",
       "      <th>yrs_experience</th>\n",
       "      <th>dept</th>\n",
       "      <th>is_manager</th>\n",
       "      <th>direct_reports</th>\n",
       "      <th>boss_id</th>\n",
       "    </tr>\n",
       "    <tr>\n",
       "      <th>employee_id</th>\n",
       "      <th></th>\n",
       "      <th></th>\n",
       "      <th></th>\n",
       "      <th></th>\n",
       "      <th></th>\n",
       "      <th></th>\n",
       "      <th></th>\n",
       "      <th></th>\n",
       "      <th></th>\n",
       "    </tr>\n",
       "  </thead>\n",
       "  <tbody>\n",
       "    <tr>\n",
       "      <th>138719</th>\n",
       "      <td>0</td>\n",
       "      <td>273000.0</td>\n",
       "      <td>Master</td>\n",
       "      <td>M</td>\n",
       "      <td>2</td>\n",
       "      <td>engineering</td>\n",
       "      <td>False</td>\n",
       "      <td>0.0</td>\n",
       "      <td>43602.0</td>\n",
       "    </tr>\n",
       "    <tr>\n",
       "      <th>3192</th>\n",
       "      <td>0</td>\n",
       "      <td>301000.0</td>\n",
       "      <td>Bachelor</td>\n",
       "      <td>F</td>\n",
       "      <td>1</td>\n",
       "      <td>sales</td>\n",
       "      <td>False</td>\n",
       "      <td>0.0</td>\n",
       "      <td>87847.0</td>\n",
       "    </tr>\n",
       "    <tr>\n",
       "      <th>114657</th>\n",
       "      <td>0</td>\n",
       "      <td>261000.0</td>\n",
       "      <td>Master</td>\n",
       "      <td>F</td>\n",
       "      <td>2</td>\n",
       "      <td>sales</td>\n",
       "      <td>False</td>\n",
       "      <td>0.0</td>\n",
       "      <td>180854.0</td>\n",
       "    </tr>\n",
       "    <tr>\n",
       "      <th>29039</th>\n",
       "      <td>0</td>\n",
       "      <td>86000.0</td>\n",
       "      <td>High_School</td>\n",
       "      <td>F</td>\n",
       "      <td>4</td>\n",
       "      <td>HR</td>\n",
       "      <td>False</td>\n",
       "      <td>0.0</td>\n",
       "      <td>88370.0</td>\n",
       "    </tr>\n",
       "    <tr>\n",
       "      <th>118607</th>\n",
       "      <td>0</td>\n",
       "      <td>126000.0</td>\n",
       "      <td>Bachelor</td>\n",
       "      <td>F</td>\n",
       "      <td>3</td>\n",
       "      <td>sales</td>\n",
       "      <td>False</td>\n",
       "      <td>0.0</td>\n",
       "      <td>23565.0</td>\n",
       "    </tr>\n",
       "    <tr>\n",
       "      <th>91334</th>\n",
       "      <td>0</td>\n",
       "      <td>221000.0</td>\n",
       "      <td>PhD</td>\n",
       "      <td>F</td>\n",
       "      <td>2</td>\n",
       "      <td>sales</td>\n",
       "      <td>False</td>\n",
       "      <td>0.0</td>\n",
       "      <td>62990.0</td>\n",
       "    </tr>\n",
       "    <tr>\n",
       "      <th>101901</th>\n",
       "      <td>1</td>\n",
       "      <td>194000.0</td>\n",
       "      <td>PhD</td>\n",
       "      <td>M</td>\n",
       "      <td>12</td>\n",
       "      <td>engineering</td>\n",
       "      <td>True</td>\n",
       "      <td>6.0</td>\n",
       "      <td>7558.0</td>\n",
       "    </tr>\n",
       "    <tr>\n",
       "      <th>171111</th>\n",
       "      <td>1</td>\n",
       "      <td>119000.0</td>\n",
       "      <td>Master</td>\n",
       "      <td>F</td>\n",
       "      <td>1</td>\n",
       "      <td>engineering</td>\n",
       "      <td>False</td>\n",
       "      <td>0.0</td>\n",
       "      <td>30468.0</td>\n",
       "    </tr>\n",
       "    <tr>\n",
       "      <th>23443</th>\n",
       "      <td>1</td>\n",
       "      <td>217000.0</td>\n",
       "      <td>PhD</td>\n",
       "      <td>M</td>\n",
       "      <td>8</td>\n",
       "      <td>sales</td>\n",
       "      <td>False</td>\n",
       "      <td>0.0</td>\n",
       "      <td>130585.0</td>\n",
       "    </tr>\n",
       "    <tr>\n",
       "      <th>24195</th>\n",
       "      <td>0</td>\n",
       "      <td>230000.0</td>\n",
       "      <td>Master</td>\n",
       "      <td>M</td>\n",
       "      <td>4</td>\n",
       "      <td>engineering</td>\n",
       "      <td>False</td>\n",
       "      <td>0.0</td>\n",
       "      <td>1050.0</td>\n",
       "    </tr>\n",
       "    <tr>\n",
       "      <th>184295</th>\n",
       "      <td>0</td>\n",
       "      <td>218000.0</td>\n",
       "      <td>PhD</td>\n",
       "      <td>M</td>\n",
       "      <td>5</td>\n",
       "      <td>marketing</td>\n",
       "      <td>False</td>\n",
       "      <td>0.0</td>\n",
       "      <td>18627.0</td>\n",
       "    </tr>\n",
       "    <tr>\n",
       "      <th>153551</th>\n",
       "      <td>0</td>\n",
       "      <td>232000.0</td>\n",
       "      <td>PhD</td>\n",
       "      <td>M</td>\n",
       "      <td>10</td>\n",
       "      <td>sales</td>\n",
       "      <td>True</td>\n",
       "      <td>9.0</td>\n",
       "      <td>47755.0</td>\n",
       "    </tr>\n",
       "    <tr>\n",
       "      <th>104709</th>\n",
       "      <td>0</td>\n",
       "      <td>320000.0</td>\n",
       "      <td>PhD</td>\n",
       "      <td>M</td>\n",
       "      <td>6</td>\n",
       "      <td>marketing</td>\n",
       "      <td>False</td>\n",
       "      <td>0.0</td>\n",
       "      <td>94683.0</td>\n",
       "    </tr>\n",
       "    <tr>\n",
       "      <th>175864</th>\n",
       "      <td>0</td>\n",
       "      <td>394000.0</td>\n",
       "      <td>Master</td>\n",
       "      <td>M</td>\n",
       "      <td>5</td>\n",
       "      <td>engineering</td>\n",
       "      <td>False</td>\n",
       "      <td>0.0</td>\n",
       "      <td>110091.0</td>\n",
       "    </tr>\n",
       "    <tr>\n",
       "      <th>113738</th>\n",
       "      <td>1</td>\n",
       "      <td>204000.0</td>\n",
       "      <td>Bachelor</td>\n",
       "      <td>M</td>\n",
       "      <td>4</td>\n",
       "      <td>sales</td>\n",
       "      <td>False</td>\n",
       "      <td>0.0</td>\n",
       "      <td>112643.0</td>\n",
       "    </tr>\n",
       "    <tr>\n",
       "      <th>23737</th>\n",
       "      <td>0</td>\n",
       "      <td>76000.0</td>\n",
       "      <td>Bachelor</td>\n",
       "      <td>F</td>\n",
       "      <td>13</td>\n",
       "      <td>HR</td>\n",
       "      <td>True</td>\n",
       "      <td>17.0</td>\n",
       "      <td>198893.0</td>\n",
       "    </tr>\n",
       "    <tr>\n",
       "      <th>27476</th>\n",
       "      <td>0</td>\n",
       "      <td>358000.0</td>\n",
       "      <td>Bachelor</td>\n",
       "      <td>F</td>\n",
       "      <td>3</td>\n",
       "      <td>sales</td>\n",
       "      <td>False</td>\n",
       "      <td>0.0</td>\n",
       "      <td>56451.0</td>\n",
       "    </tr>\n",
       "    <tr>\n",
       "      <th>25181</th>\n",
       "      <td>0</td>\n",
       "      <td>171000.0</td>\n",
       "      <td>PhD</td>\n",
       "      <td>M</td>\n",
       "      <td>2</td>\n",
       "      <td>sales</td>\n",
       "      <td>False</td>\n",
       "      <td>0.0</td>\n",
       "      <td>154381.0</td>\n",
       "    </tr>\n",
       "    <tr>\n",
       "      <th>98520</th>\n",
       "      <td>0</td>\n",
       "      <td>300000.0</td>\n",
       "      <td>Master</td>\n",
       "      <td>M</td>\n",
       "      <td>7</td>\n",
       "      <td>marketing</td>\n",
       "      <td>True</td>\n",
       "      <td>20.0</td>\n",
       "      <td>70434.0</td>\n",
       "    </tr>\n",
       "    <tr>\n",
       "      <th>78629</th>\n",
       "      <td>0</td>\n",
       "      <td>187000.0</td>\n",
       "      <td>PhD</td>\n",
       "      <td>M</td>\n",
       "      <td>6</td>\n",
       "      <td>sales</td>\n",
       "      <td>False</td>\n",
       "      <td>0.0</td>\n",
       "      <td>46997.0</td>\n",
       "    </tr>\n",
       "    <tr>\n",
       "      <th>161480</th>\n",
       "      <td>0</td>\n",
       "      <td>287000.0</td>\n",
       "      <td>PhD</td>\n",
       "      <td>M</td>\n",
       "      <td>3</td>\n",
       "      <td>engineering</td>\n",
       "      <td>False</td>\n",
       "      <td>0.0</td>\n",
       "      <td>80728.0</td>\n",
       "    </tr>\n",
       "    <tr>\n",
       "      <th>32443</th>\n",
       "      <td>0</td>\n",
       "      <td>73000.0</td>\n",
       "      <td>High_School</td>\n",
       "      <td>M</td>\n",
       "      <td>3</td>\n",
       "      <td>HR</td>\n",
       "      <td>False</td>\n",
       "      <td>0.0</td>\n",
       "      <td>183283.0</td>\n",
       "    </tr>\n",
       "    <tr>\n",
       "      <th>37097</th>\n",
       "      <td>0</td>\n",
       "      <td>196000.0</td>\n",
       "      <td>Bachelor</td>\n",
       "      <td>M</td>\n",
       "      <td>3</td>\n",
       "      <td>sales</td>\n",
       "      <td>False</td>\n",
       "      <td>0.0</td>\n",
       "      <td>192145.0</td>\n",
       "    </tr>\n",
       "    <tr>\n",
       "      <th>121956</th>\n",
       "      <td>0</td>\n",
       "      <td>281000.0</td>\n",
       "      <td>High_School</td>\n",
       "      <td>F</td>\n",
       "      <td>3</td>\n",
       "      <td>sales</td>\n",
       "      <td>False</td>\n",
       "      <td>0.0</td>\n",
       "      <td>85791.0</td>\n",
       "    </tr>\n",
       "    <tr>\n",
       "      <th>186463</th>\n",
       "      <td>1</td>\n",
       "      <td>82000.0</td>\n",
       "      <td>Master</td>\n",
       "      <td>M</td>\n",
       "      <td>1</td>\n",
       "      <td>engineering</td>\n",
       "      <td>False</td>\n",
       "      <td>0.0</td>\n",
       "      <td>154891.0</td>\n",
       "    </tr>\n",
       "    <tr>\n",
       "      <th>186082</th>\n",
       "      <td>0</td>\n",
       "      <td>343000.0</td>\n",
       "      <td>PhD</td>\n",
       "      <td>M</td>\n",
       "      <td>1</td>\n",
       "      <td>marketing</td>\n",
       "      <td>False</td>\n",
       "      <td>0.0</td>\n",
       "      <td>175365.0</td>\n",
       "    </tr>\n",
       "    <tr>\n",
       "      <th>72481</th>\n",
       "      <td>0</td>\n",
       "      <td>160000.0</td>\n",
       "      <td>Master</td>\n",
       "      <td>M</td>\n",
       "      <td>7</td>\n",
       "      <td>sales</td>\n",
       "      <td>False</td>\n",
       "      <td>0.0</td>\n",
       "      <td>182116.0</td>\n",
       "    </tr>\n",
       "    <tr>\n",
       "      <th>195194</th>\n",
       "      <td>1</td>\n",
       "      <td>88000.0</td>\n",
       "      <td>High_School</td>\n",
       "      <td>F</td>\n",
       "      <td>1</td>\n",
       "      <td>HR</td>\n",
       "      <td>False</td>\n",
       "      <td>0.0</td>\n",
       "      <td>39460.0</td>\n",
       "    </tr>\n",
       "    <tr>\n",
       "      <th>161633</th>\n",
       "      <td>0</td>\n",
       "      <td>90000.0</td>\n",
       "      <td>PhD</td>\n",
       "      <td>F</td>\n",
       "      <td>5</td>\n",
       "      <td>HR</td>\n",
       "      <td>False</td>\n",
       "      <td>0.0</td>\n",
       "      <td>43937.0</td>\n",
       "    </tr>\n",
       "    <tr>\n",
       "      <th>121680</th>\n",
       "      <td>0</td>\n",
       "      <td>64000.0</td>\n",
       "      <td>High_School</td>\n",
       "      <td>M</td>\n",
       "      <td>3</td>\n",
       "      <td>sales</td>\n",
       "      <td>False</td>\n",
       "      <td>0.0</td>\n",
       "      <td>54315.0</td>\n",
       "    </tr>\n",
       "    <tr>\n",
       "      <th>189061</th>\n",
       "      <td>0</td>\n",
       "      <td>387000.0</td>\n",
       "      <td>High_School</td>\n",
       "      <td>M</td>\n",
       "      <td>7</td>\n",
       "      <td>engineering</td>\n",
       "      <td>False</td>\n",
       "      <td>0.0</td>\n",
       "      <td>116750.0</td>\n",
       "    </tr>\n",
       "    <tr>\n",
       "      <th>28915</th>\n",
       "      <td>1</td>\n",
       "      <td>122000.0</td>\n",
       "      <td>PhD</td>\n",
       "      <td>M</td>\n",
       "      <td>4</td>\n",
       "      <td>sales</td>\n",
       "      <td>False</td>\n",
       "      <td>0.0</td>\n",
       "      <td>18939.0</td>\n",
       "    </tr>\n",
       "    <tr>\n",
       "      <th>96249</th>\n",
       "      <td>0</td>\n",
       "      <td>345000.0</td>\n",
       "      <td>PhD</td>\n",
       "      <td>M</td>\n",
       "      <td>4</td>\n",
       "      <td>marketing</td>\n",
       "      <td>False</td>\n",
       "      <td>0.0</td>\n",
       "      <td>8856.0</td>\n",
       "    </tr>\n",
       "    <tr>\n",
       "      <th>76886</th>\n",
       "      <td>1</td>\n",
       "      <td>234000.0</td>\n",
       "      <td>Bachelor</td>\n",
       "      <td>M</td>\n",
       "      <td>5</td>\n",
       "      <td>sales</td>\n",
       "      <td>False</td>\n",
       "      <td>0.0</td>\n",
       "      <td>153291.0</td>\n",
       "    </tr>\n",
       "    <tr>\n",
       "      <th>66641</th>\n",
       "      <td>0</td>\n",
       "      <td>204000.0</td>\n",
       "      <td>PhD</td>\n",
       "      <td>M</td>\n",
       "      <td>1</td>\n",
       "      <td>marketing</td>\n",
       "      <td>False</td>\n",
       "      <td>0.0</td>\n",
       "      <td>198814.0</td>\n",
       "    </tr>\n",
       "    <tr>\n",
       "      <th>129610</th>\n",
       "      <td>0</td>\n",
       "      <td>113000.0</td>\n",
       "      <td>Bachelor</td>\n",
       "      <td>M</td>\n",
       "      <td>3</td>\n",
       "      <td>marketing</td>\n",
       "      <td>False</td>\n",
       "      <td>0.0</td>\n",
       "      <td>156927.0</td>\n",
       "    </tr>\n",
       "    <tr>\n",
       "      <th>88697</th>\n",
       "      <td>0</td>\n",
       "      <td>139000.0</td>\n",
       "      <td>Bachelor</td>\n",
       "      <td>M</td>\n",
       "      <td>1</td>\n",
       "      <td>marketing</td>\n",
       "      <td>False</td>\n",
       "      <td>0.0</td>\n",
       "      <td>180924.0</td>\n",
       "    </tr>\n",
       "    <tr>\n",
       "      <th>33686</th>\n",
       "      <td>0</td>\n",
       "      <td>192000.0</td>\n",
       "      <td>Bachelor</td>\n",
       "      <td>F</td>\n",
       "      <td>2</td>\n",
       "      <td>marketing</td>\n",
       "      <td>False</td>\n",
       "      <td>0.0</td>\n",
       "      <td>181219.0</td>\n",
       "    </tr>\n",
       "    <tr>\n",
       "      <th>198880</th>\n",
       "      <td>1</td>\n",
       "      <td>219000.0</td>\n",
       "      <td>Master</td>\n",
       "      <td>M</td>\n",
       "      <td>5</td>\n",
       "      <td>sales</td>\n",
       "      <td>False</td>\n",
       "      <td>0.0</td>\n",
       "      <td>175593.0</td>\n",
       "    </tr>\n",
       "    <tr>\n",
       "      <th>45482</th>\n",
       "      <td>1</td>\n",
       "      <td>110000.0</td>\n",
       "      <td>PhD</td>\n",
       "      <td>M</td>\n",
       "      <td>4</td>\n",
       "      <td>sales</td>\n",
       "      <td>False</td>\n",
       "      <td>0.0</td>\n",
       "      <td>85717.0</td>\n",
       "    </tr>\n",
       "    <tr>\n",
       "      <th>77317</th>\n",
       "      <td>1</td>\n",
       "      <td>135000.0</td>\n",
       "      <td>Bachelor</td>\n",
       "      <td>M</td>\n",
       "      <td>1</td>\n",
       "      <td>engineering</td>\n",
       "      <td>False</td>\n",
       "      <td>0.0</td>\n",
       "      <td>116774.0</td>\n",
       "    </tr>\n",
       "    <tr>\n",
       "      <th>15460</th>\n",
       "      <td>0</td>\n",
       "      <td>185000.0</td>\n",
       "      <td>Master</td>\n",
       "      <td>M</td>\n",
       "      <td>1</td>\n",
       "      <td>sales</td>\n",
       "      <td>False</td>\n",
       "      <td>0.0</td>\n",
       "      <td>97878.0</td>\n",
       "    </tr>\n",
       "    <tr>\n",
       "      <th>134371</th>\n",
       "      <td>0</td>\n",
       "      <td>239000.0</td>\n",
       "      <td>Master</td>\n",
       "      <td>F</td>\n",
       "      <td>8</td>\n",
       "      <td>sales</td>\n",
       "      <td>False</td>\n",
       "      <td>0.0</td>\n",
       "      <td>103448.0</td>\n",
       "    </tr>\n",
       "    <tr>\n",
       "      <th>66892</th>\n",
       "      <td>0</td>\n",
       "      <td>137000.0</td>\n",
       "      <td>High_School</td>\n",
       "      <td>F</td>\n",
       "      <td>2</td>\n",
       "      <td>engineering</td>\n",
       "      <td>False</td>\n",
       "      <td>0.0</td>\n",
       "      <td>195165.0</td>\n",
       "    </tr>\n",
       "    <tr>\n",
       "      <th>166336</th>\n",
       "      <td>0</td>\n",
       "      <td>119000.0</td>\n",
       "      <td>Bachelor</td>\n",
       "      <td>M</td>\n",
       "      <td>1</td>\n",
       "      <td>marketing</td>\n",
       "      <td>False</td>\n",
       "      <td>0.0</td>\n",
       "      <td>11275.0</td>\n",
       "    </tr>\n",
       "    <tr>\n",
       "      <th>181529</th>\n",
       "      <td>1</td>\n",
       "      <td>232000.0</td>\n",
       "      <td>High_School</td>\n",
       "      <td>F</td>\n",
       "      <td>5</td>\n",
       "      <td>marketing</td>\n",
       "      <td>False</td>\n",
       "      <td>0.0</td>\n",
       "      <td>177805.0</td>\n",
       "    </tr>\n",
       "    <tr>\n",
       "      <th>64364</th>\n",
       "      <td>0</td>\n",
       "      <td>313000.0</td>\n",
       "      <td>Master</td>\n",
       "      <td>M</td>\n",
       "      <td>5</td>\n",
       "      <td>engineering</td>\n",
       "      <td>False</td>\n",
       "      <td>0.0</td>\n",
       "      <td>12877.0</td>\n",
       "    </tr>\n",
       "    <tr>\n",
       "      <th>114955</th>\n",
       "      <td>0</td>\n",
       "      <td>309000.0</td>\n",
       "      <td>Master</td>\n",
       "      <td>F</td>\n",
       "      <td>1</td>\n",
       "      <td>engineering</td>\n",
       "      <td>False</td>\n",
       "      <td>0.0</td>\n",
       "      <td>64750.0</td>\n",
       "    </tr>\n",
       "    <tr>\n",
       "      <th>18742</th>\n",
       "      <td>0</td>\n",
       "      <td>109000.0</td>\n",
       "      <td>Master</td>\n",
       "      <td>F</td>\n",
       "      <td>1</td>\n",
       "      <td>HR</td>\n",
       "      <td>False</td>\n",
       "      <td>0.0</td>\n",
       "      <td>139278.0</td>\n",
       "    </tr>\n",
       "    <tr>\n",
       "      <th>132916</th>\n",
       "      <td>1</td>\n",
       "      <td>252000.0</td>\n",
       "      <td>High_School</td>\n",
       "      <td>M</td>\n",
       "      <td>3</td>\n",
       "      <td>sales</td>\n",
       "      <td>False</td>\n",
       "      <td>0.0</td>\n",
       "      <td>69379.0</td>\n",
       "    </tr>\n",
       "  </tbody>\n",
       "</table>\n",
       "</div>"
      ],
      "text/plain": [
       "             signing_bonus    salary degree_level sex  yrs_experience  \\\n",
       "employee_id                                                             \n",
       "138719                   0  273000.0       Master   M               2   \n",
       "3192                     0  301000.0     Bachelor   F               1   \n",
       "114657                   0  261000.0       Master   F               2   \n",
       "29039                    0   86000.0  High_School   F               4   \n",
       "118607                   0  126000.0     Bachelor   F               3   \n",
       "91334                    0  221000.0          PhD   F               2   \n",
       "101901                   1  194000.0          PhD   M              12   \n",
       "171111                   1  119000.0       Master   F               1   \n",
       "23443                    1  217000.0          PhD   M               8   \n",
       "24195                    0  230000.0       Master   M               4   \n",
       "184295                   0  218000.0          PhD   M               5   \n",
       "153551                   0  232000.0          PhD   M              10   \n",
       "104709                   0  320000.0          PhD   M               6   \n",
       "175864                   0  394000.0       Master   M               5   \n",
       "113738                   1  204000.0     Bachelor   M               4   \n",
       "23737                    0   76000.0     Bachelor   F              13   \n",
       "27476                    0  358000.0     Bachelor   F               3   \n",
       "25181                    0  171000.0          PhD   M               2   \n",
       "98520                    0  300000.0       Master   M               7   \n",
       "78629                    0  187000.0          PhD   M               6   \n",
       "161480                   0  287000.0          PhD   M               3   \n",
       "32443                    0   73000.0  High_School   M               3   \n",
       "37097                    0  196000.0     Bachelor   M               3   \n",
       "121956                   0  281000.0  High_School   F               3   \n",
       "186463                   1   82000.0       Master   M               1   \n",
       "186082                   0  343000.0          PhD   M               1   \n",
       "72481                    0  160000.0       Master   M               7   \n",
       "195194                   1   88000.0  High_School   F               1   \n",
       "161633                   0   90000.0          PhD   F               5   \n",
       "121680                   0   64000.0  High_School   M               3   \n",
       "189061                   0  387000.0  High_School   M               7   \n",
       "28915                    1  122000.0          PhD   M               4   \n",
       "96249                    0  345000.0          PhD   M               4   \n",
       "76886                    1  234000.0     Bachelor   M               5   \n",
       "66641                    0  204000.0          PhD   M               1   \n",
       "129610                   0  113000.0     Bachelor   M               3   \n",
       "88697                    0  139000.0     Bachelor   M               1   \n",
       "33686                    0  192000.0     Bachelor   F               2   \n",
       "198880                   1  219000.0       Master   M               5   \n",
       "45482                    1  110000.0          PhD   M               4   \n",
       "77317                    1  135000.0     Bachelor   M               1   \n",
       "15460                    0  185000.0       Master   M               1   \n",
       "134371                   0  239000.0       Master   F               8   \n",
       "66892                    0  137000.0  High_School   F               2   \n",
       "166336                   0  119000.0     Bachelor   M               1   \n",
       "181529                   1  232000.0  High_School   F               5   \n",
       "64364                    0  313000.0       Master   M               5   \n",
       "114955                   0  309000.0       Master   F               1   \n",
       "18742                    0  109000.0       Master   F               1   \n",
       "132916                   1  252000.0  High_School   M               3   \n",
       "\n",
       "                    dept  is_manager  direct_reports   boss_id  \n",
       "employee_id                                                     \n",
       "138719       engineering       False             0.0   43602.0  \n",
       "3192               sales       False             0.0   87847.0  \n",
       "114657             sales       False             0.0  180854.0  \n",
       "29039                 HR       False             0.0   88370.0  \n",
       "118607             sales       False             0.0   23565.0  \n",
       "91334              sales       False             0.0   62990.0  \n",
       "101901       engineering        True             6.0    7558.0  \n",
       "171111       engineering       False             0.0   30468.0  \n",
       "23443              sales       False             0.0  130585.0  \n",
       "24195        engineering       False             0.0    1050.0  \n",
       "184295         marketing       False             0.0   18627.0  \n",
       "153551             sales        True             9.0   47755.0  \n",
       "104709         marketing       False             0.0   94683.0  \n",
       "175864       engineering       False             0.0  110091.0  \n",
       "113738             sales       False             0.0  112643.0  \n",
       "23737                 HR        True            17.0  198893.0  \n",
       "27476              sales       False             0.0   56451.0  \n",
       "25181              sales       False             0.0  154381.0  \n",
       "98520          marketing        True            20.0   70434.0  \n",
       "78629              sales       False             0.0   46997.0  \n",
       "161480       engineering       False             0.0   80728.0  \n",
       "32443                 HR       False             0.0  183283.0  \n",
       "37097              sales       False             0.0  192145.0  \n",
       "121956             sales       False             0.0   85791.0  \n",
       "186463       engineering       False             0.0  154891.0  \n",
       "186082         marketing       False             0.0  175365.0  \n",
       "72481              sales       False             0.0  182116.0  \n",
       "195194                HR       False             0.0   39460.0  \n",
       "161633                HR       False             0.0   43937.0  \n",
       "121680             sales       False             0.0   54315.0  \n",
       "189061       engineering       False             0.0  116750.0  \n",
       "28915              sales       False             0.0   18939.0  \n",
       "96249          marketing       False             0.0    8856.0  \n",
       "76886              sales       False             0.0  153291.0  \n",
       "66641          marketing       False             0.0  198814.0  \n",
       "129610         marketing       False             0.0  156927.0  \n",
       "88697          marketing       False             0.0  180924.0  \n",
       "33686          marketing       False             0.0  181219.0  \n",
       "198880             sales       False             0.0  175593.0  \n",
       "45482              sales       False             0.0   85717.0  \n",
       "77317        engineering       False             0.0  116774.0  \n",
       "15460              sales       False             0.0   97878.0  \n",
       "134371             sales       False             0.0  103448.0  \n",
       "66892        engineering       False             0.0  195165.0  \n",
       "166336         marketing       False             0.0   11275.0  \n",
       "181529         marketing       False             0.0  177805.0  \n",
       "64364        engineering       False             0.0   12877.0  \n",
       "114955       engineering       False             0.0   64750.0  \n",
       "18742                 HR       False             0.0  139278.0  \n",
       "132916             sales       False             0.0   69379.0  "
      ]
     },
     "execution_count": 194,
     "metadata": {},
     "output_type": "execute_result"
    }
   ],
   "source": [
    "merged.head(50)"
   ]
  },
  {
   "cell_type": "code",
   "execution_count": 267,
   "metadata": {},
   "outputs": [],
   "source": [
    "merged.set_index(keys='employee_id', inplace=True)\n",
    "merged.to_csv('../company_x.csv')"
   ]
  },
  {
   "cell_type": "code",
   "execution_count": 199,
   "metadata": {},
   "outputs": [],
   "source": [
    "##Total Reports"
   ]
  },
  {
   "cell_type": "code",
   "execution_count": 268,
   "metadata": {},
   "outputs": [],
   "source": [
    "from collections import defaultdict\n",
    "emp_dict = defaultdict(int)"
   ]
  },
  {
   "cell_type": "code",
   "execution_count": 286,
   "metadata": {},
   "outputs": [],
   "source": [
    "emp_list = list(merged['boss_id'].index)\n",
    "boss_list = list(merged['boss_id'].values)"
   ]
  },
  {
   "cell_type": "code",
   "execution_count": 334,
   "metadata": {},
   "outputs": [],
   "source": [
    "d_reports= defaultdict(list)\n",
    "for boss,employee in zip(boss_list,emp_list):\n",
    "    d_reports[boss].append(employee)\n",
    "\n",
    "my_boss = defaultdict()\n",
    "for boss,employee in zip(boss_list,emp_list):\n",
    "    my_boss[employee] = boss    "
   ]
  },
  {
   "cell_type": "code",
   "execution_count": 342,
   "metadata": {},
   "outputs": [],
   "source": [
    "total_reports = {}\n",
    "for emp in emp_list:\n",
    "    total_reports[emp] = 0"
   ]
  },
  {
   "cell_type": "code",
   "execution_count": 343,
   "metadata": {},
   "outputs": [],
   "source": [
    "ceo_id = 61554"
   ]
  },
  {
   "cell_type": "code",
   "execution_count": 344,
   "metadata": {},
   "outputs": [],
   "source": [
    "for emp in my_boss:\n",
    "    if emp == ceo_id:\n",
    "        continue \n",
    "    while True:\n",
    "        boss = my_boss[emp]\n",
    "        if boss != ceo_id:\n",
    "            total_reports[boss] += 1\n",
    "        elif boss == ceo_id:\n",
    "            break \n",
    "        emp = boss     "
   ]
  },
  {
   "cell_type": "code",
   "execution_count": 366,
   "metadata": {},
   "outputs": [],
   "source": [
    "total_reports = pd.Series(total_reports)"
   ]
  },
  {
   "cell_type": "code",
   "execution_count": 367,
   "metadata": {},
   "outputs": [],
   "source": [
    "merged['total_reports'] = total_reports"
   ]
  },
  {
   "cell_type": "code",
   "execution_count": 372,
   "metadata": {},
   "outputs": [],
   "source": [
    "merged.loc[ceo_id, 'total_reports'] = 9999"
   ]
  },
  {
   "cell_type": "code",
   "execution_count": 375,
   "metadata": {},
   "outputs": [],
   "source": [
    "#Save CSV \n",
    "merged.to_csv('../company_x.csv')"
   ]
  },
  {
   "cell_type": "code",
   "execution_count": 378,
   "metadata": {},
   "outputs": [],
   "source": [
    "#Company Level "
   ]
  },
  {
   "cell_type": "code",
   "execution_count": 347,
   "metadata": {},
   "outputs": [],
   "source": [
    "company_level = {}\n",
    "for emp in emp_list:\n",
    "    company_level[emp] = 0"
   ]
  },
  {
   "cell_type": "code",
   "execution_count": 379,
   "metadata": {},
   "outputs": [],
   "source": [
    "for emp in my_boss:\n",
    "    counter = 0 \n",
    "    if emp == ceo_id:\n",
    "        continue \n",
    "    while True:\n",
    "        boss = my_boss[emp]\n",
    "        if boss != ceo_id:\n",
    "            counter += 1 \n",
    "        elif boss == ceo_id:\n",
    "            break  \n",
    "        emp = boss    \n",
    "        company_level[emp] = counter"
   ]
  },
  {
   "cell_type": "code",
   "execution_count": 382,
   "metadata": {},
   "outputs": [
    {
     "data": {
      "text/plain": [
       "4"
      ]
     },
     "execution_count": 382,
     "metadata": {},
     "output_type": "execute_result"
    }
   ],
   "source": [
    "company_level[93708] "
   ]
  },
  {
   "cell_type": "code",
   "execution_count": 383,
   "metadata": {},
   "outputs": [],
   "source": [
    "company_level = pd.Series(company_level)"
   ]
  },
  {
   "cell_type": "code",
   "execution_count": 384,
   "metadata": {},
   "outputs": [],
   "source": [
    "merged['company_level'] = company_level"
   ]
  },
  {
   "cell_type": "code",
   "execution_count": 385,
   "metadata": {},
   "outputs": [],
   "source": [
    "#Save CSV \n",
    "merged.to_csv('../company_x.csv')"
   ]
  },
  {
   "cell_type": "code",
   "execution_count": 386,
   "metadata": {},
   "outputs": [
    {
     "data": {
      "text/html": [
       "<div>\n",
       "<style scoped>\n",
       "    .dataframe tbody tr th:only-of-type {\n",
       "        vertical-align: middle;\n",
       "    }\n",
       "\n",
       "    .dataframe tbody tr th {\n",
       "        vertical-align: top;\n",
       "    }\n",
       "\n",
       "    .dataframe thead th {\n",
       "        text-align: right;\n",
       "    }\n",
       "</style>\n",
       "<table border=\"1\" class=\"dataframe\">\n",
       "  <thead>\n",
       "    <tr style=\"text-align: right;\">\n",
       "      <th></th>\n",
       "      <th>signing_bonus</th>\n",
       "      <th>salary</th>\n",
       "      <th>degree_level</th>\n",
       "      <th>sex</th>\n",
       "      <th>yrs_experience</th>\n",
       "      <th>dept</th>\n",
       "      <th>is_manager</th>\n",
       "      <th>direct_reports</th>\n",
       "      <th>boss_id</th>\n",
       "      <th>total_reports</th>\n",
       "      <th>company_level</th>\n",
       "    </tr>\n",
       "    <tr>\n",
       "      <th>employee_id</th>\n",
       "      <th></th>\n",
       "      <th></th>\n",
       "      <th></th>\n",
       "      <th></th>\n",
       "      <th></th>\n",
       "      <th></th>\n",
       "      <th></th>\n",
       "      <th></th>\n",
       "      <th></th>\n",
       "      <th></th>\n",
       "      <th></th>\n",
       "    </tr>\n",
       "  </thead>\n",
       "  <tbody>\n",
       "    <tr>\n",
       "      <th>138719</th>\n",
       "      <td>0</td>\n",
       "      <td>273000.0</td>\n",
       "      <td>Master</td>\n",
       "      <td>M</td>\n",
       "      <td>2</td>\n",
       "      <td>engineering</td>\n",
       "      <td>False</td>\n",
       "      <td>0.0</td>\n",
       "      <td>43602</td>\n",
       "      <td>0</td>\n",
       "      <td>0</td>\n",
       "    </tr>\n",
       "    <tr>\n",
       "      <th>3192</th>\n",
       "      <td>0</td>\n",
       "      <td>301000.0</td>\n",
       "      <td>Bachelor</td>\n",
       "      <td>F</td>\n",
       "      <td>1</td>\n",
       "      <td>sales</td>\n",
       "      <td>False</td>\n",
       "      <td>0.0</td>\n",
       "      <td>87847</td>\n",
       "      <td>0</td>\n",
       "      <td>0</td>\n",
       "    </tr>\n",
       "    <tr>\n",
       "      <th>114657</th>\n",
       "      <td>0</td>\n",
       "      <td>261000.0</td>\n",
       "      <td>Master</td>\n",
       "      <td>F</td>\n",
       "      <td>2</td>\n",
       "      <td>sales</td>\n",
       "      <td>False</td>\n",
       "      <td>0.0</td>\n",
       "      <td>180854</td>\n",
       "      <td>0</td>\n",
       "      <td>0</td>\n",
       "    </tr>\n",
       "    <tr>\n",
       "      <th>29039</th>\n",
       "      <td>0</td>\n",
       "      <td>86000.0</td>\n",
       "      <td>High_School</td>\n",
       "      <td>F</td>\n",
       "      <td>4</td>\n",
       "      <td>HR</td>\n",
       "      <td>False</td>\n",
       "      <td>0.0</td>\n",
       "      <td>88370</td>\n",
       "      <td>0</td>\n",
       "      <td>0</td>\n",
       "    </tr>\n",
       "    <tr>\n",
       "      <th>118607</th>\n",
       "      <td>0</td>\n",
       "      <td>126000.0</td>\n",
       "      <td>Bachelor</td>\n",
       "      <td>F</td>\n",
       "      <td>3</td>\n",
       "      <td>sales</td>\n",
       "      <td>False</td>\n",
       "      <td>0.0</td>\n",
       "      <td>23565</td>\n",
       "      <td>0</td>\n",
       "      <td>0</td>\n",
       "    </tr>\n",
       "  </tbody>\n",
       "</table>\n",
       "</div>"
      ],
      "text/plain": [
       "             signing_bonus    salary degree_level sex  yrs_experience  \\\n",
       "employee_id                                                             \n",
       "138719                   0  273000.0       Master   M               2   \n",
       "3192                     0  301000.0     Bachelor   F               1   \n",
       "114657                   0  261000.0       Master   F               2   \n",
       "29039                    0   86000.0  High_School   F               4   \n",
       "118607                   0  126000.0     Bachelor   F               3   \n",
       "\n",
       "                    dept  is_manager  direct_reports  boss_id  total_reports  \\\n",
       "employee_id                                                                    \n",
       "138719       engineering       False             0.0    43602              0   \n",
       "3192               sales       False             0.0    87847              0   \n",
       "114657             sales       False             0.0   180854              0   \n",
       "29039                 HR       False             0.0    88370              0   \n",
       "118607             sales       False             0.0    23565              0   \n",
       "\n",
       "             company_level  \n",
       "employee_id                 \n",
       "138719                   0  \n",
       "3192                     0  \n",
       "114657                   0  \n",
       "29039                    0  \n",
       "118607                   0  "
      ]
     },
     "execution_count": 386,
     "metadata": {},
     "output_type": "execute_result"
    }
   ],
   "source": [
    "merged.head()"
   ]
  },
  {
   "cell_type": "code",
   "execution_count": null,
   "metadata": {},
   "outputs": [],
   "source": [
    "aeq_data = merged.copy()\n",
    "aeq_data = aeq_data.drop(labels=['boss_id, )"
   ]
  },
  {
   "cell_type": "markdown",
   "metadata": {},
   "source": [
    "## EDA "
   ]
  },
  {
   "cell_type": "code",
   "execution_count": 433,
   "metadata": {},
   "outputs": [
    {
     "data": {
      "text/plain": [
       "M    0.64\n",
       "F    0.36\n",
       "Name: sex, dtype: float64"
      ]
     },
     "execution_count": 433,
     "metadata": {},
     "output_type": "execute_result"
    }
   ],
   "source": [
    "(merged['sex'].value_counts() / 10000).round(2)"
   ]
  },
  {
   "cell_type": "code",
   "execution_count": 403,
   "metadata": {},
   "outputs": [
    {
     "data": {
      "text/plain": [
       "Text(0.5, 1.0, 'Employee Salaries')"
      ]
     },
     "execution_count": 403,
     "metadata": {},
     "output_type": "execute_result"
    },
    {
     "data": {
      "image/png": "[encoded data removed]",
      "text/plain": [
       "<Figure size 576x432 with 1 Axes>"
      ]
     },
     "metadata": {
      "needs_background": "light"
     },
     "output_type": "display_data"
    }
   ],
   "source": [
    "fig, ax = plt.subplots(figsize=(8,6))\n",
    "\n",
    "ax.hist(merged['salary'], bins=50)\n",
    "ax.set_xlabel('Salary')\n",
    "ax.set_ylabel('Amount of Employees')\n",
    "ax.set_title('Employee Salaries')"
   ]
  },
  {
   "cell_type": "code",
   "execution_count": 388,
   "metadata": {},
   "outputs": [],
   "source": [
    "man = merged[merged['sex']=='M']\n",
    "woman = mans = merged[merged['sex']=='F']"
   ]
  },
  {
   "cell_type": "code",
   "execution_count": 408,
   "metadata": {},
   "outputs": [
    {
     "data": {
      "text/plain": [
       "<matplotlib.legend.Legend at 0x117409e10>"
      ]
     },
     "execution_count": 408,
     "metadata": {},
     "output_type": "execute_result"
    },
    {
     "data": {
      "image/png": "[encoded data removed]",
      "text/plain": [
       "<Figure size 576x432 with 1 Axes>"
      ]
     },
     "metadata": {
      "needs_background": "light"
     },
     "output_type": "display_data"
    }
   ],
   "source": [
    "fig, ax = plt.subplots(figsize=(8,6))\n",
    "\n",
    "ax.hist(merged['salary'], bins=50, label='All Employees', alpha=.5)\n",
    "ax.hist(man['salary'], bins=25, alpha=.3, label='Men', color='red')\n",
    "ax.hist(woman['salary'], bins=25, alpha=.3, label='Women', color='green')\n",
    "ax.set_xlabel('Amount of Employees')\n",
    "ax.set_ylabel('Amount of Employees')\n",
    "ax.set_title('Employee Salaries')\n",
    "ax.legend()"
   ]
  },
  {
   "cell_type": "code",
   "execution_count": 396,
   "metadata": {},
   "outputs": [
    {
     "data": {
      "text/plain": [
       "<matplotlib.legend.Legend at 0x1167f5710>"
      ]
     },
     "execution_count": 396,
     "metadata": {},
     "output_type": "execute_result"
    },
    {
     "data": {
      "image/png": "[encoded data removed]",
      "text/plain": [
       "<Figure size 576x432 with 1 Axes>"
      ]
     },
     "metadata": {
      "needs_background": "light"
     },
     "output_type": "display_data"
    }
   ],
   "source": [
    "fig, ax = plt.subplots(figsize=(8,6))\n",
    "\n",
    "\n",
    "ind = np.arange(2)\n",
    "width = 0.35\n",
    "\n",
    "ax.bar(ind-width/2, man['is_manager'].value_counts(), width, label='Men')\n",
    "ax.bar(ind+width/2, woman['is_manager'].value_counts(), width, label='Women')\n",
    "ax.set_ylabel('Number of Employees')\n",
    "ax.set_xticks(ind)\n",
    "ax.set_xticklabels(['Manager', 'Not Manager'])\n",
    "ax.legend()"
   ]
  },
  {
   "cell_type": "code",
   "execution_count": 101,
   "metadata": {},
   "outputs": [
    {
     "data": {
      "text/plain": [
       "0.10529585339338407"
      ]
     },
     "execution_count": 101,
     "metadata": {},
     "output_type": "execute_result"
    }
   ],
   "source": [
    "man['is_manager'].sum() / len(man['is_manager'])"
   ]
  },
  {
   "cell_type": "code",
   "execution_count": 397,
   "metadata": {},
   "outputs": [
    {
     "data": {
      "text/plain": [
       "0.09014321819713564"
      ]
     },
     "execution_count": 397,
     "metadata": {},
     "output_type": "execute_result"
    }
   ],
   "source": [
    "woman['is_manager'].sum() / len(woman['is_manager'])"
   ]
  },
  {
   "cell_type": "code",
   "execution_count": 15,
   "metadata": {},
   "outputs": [
    {
     "data": {
      "text/plain": [
       "array([138719,   3192, 114657, ..., 193115,  14249,  72227])"
      ]
     },
     "execution_count": 15,
     "metadata": {},
     "output_type": "execute_result"
    }
   ],
   "source": [
    "merged['employee_id'].values"
   ]
  },
  {
   "cell_type": "code",
   "execution_count": 426,
   "metadata": {},
   "outputs": [
    {
     "data": {
      "text/plain": [
       "company_level  sex\n",
       "0              M      5761\n",
       "               F      3240\n",
       "1              M       546\n",
       "               F       266\n",
       "2              M       102\n",
       "               F        46\n",
       "3              M        26\n",
       "               F         8\n",
       "4              M         3\n",
       "               F         1\n",
       "5              M         1\n",
       "Name: sex, dtype: int64"
      ]
     },
     "execution_count": 426,
     "metadata": {},
     "output_type": "execute_result"
    }
   ],
   "source": [
    "merged[['company_level', 'sex']].groupby(['company_level'])['sex'].value_counts()"
   ]
  },
  {
   "cell_type": "code",
   "execution_count": 429,
   "metadata": {},
   "outputs": [
    {
     "data": {
      "text/plain": [
       "degree_level  sex\n",
       "Bachelor      M      1758\n",
       "              F       977\n",
       "High_School   M      1083\n",
       "              F       574\n",
       "Master        M      1785\n",
       "              F      1001\n",
       "PhD           M      1813\n",
       "              F      1009\n",
       "Name: sex, dtype: int64"
      ]
     },
     "execution_count": 429,
     "metadata": {},
     "output_type": "execute_result"
    }
   ],
   "source": [
    "merged[['degree_level', 'sex']].groupby(['degree_level'])['sex'].value_counts()"
   ]
  },
  {
   "cell_type": "code",
   "execution_count": 440,
   "metadata": {},
   "outputs": [
    {
     "data": {
      "text/html": [
       "<div>\n",
       "<style scoped>\n",
       "    .dataframe tbody tr th:only-of-type {\n",
       "        vertical-align: middle;\n",
       "    }\n",
       "\n",
       "    .dataframe tbody tr th {\n",
       "        vertical-align: top;\n",
       "    }\n",
       "\n",
       "    .dataframe thead tr th {\n",
       "        text-align: left;\n",
       "    }\n",
       "\n",
       "    .dataframe thead tr:last-of-type th {\n",
       "        text-align: right;\n",
       "    }\n",
       "</style>\n",
       "<table border=\"1\" class=\"dataframe\">\n",
       "  <thead>\n",
       "    <tr>\n",
       "      <th></th>\n",
       "      <th></th>\n",
       "      <th colspan=\"8\" halign=\"left\">salary</th>\n",
       "    </tr>\n",
       "    <tr>\n",
       "      <th></th>\n",
       "      <th></th>\n",
       "      <th>count</th>\n",
       "      <th>mean</th>\n",
       "      <th>std</th>\n",
       "      <th>min</th>\n",
       "      <th>25%</th>\n",
       "      <th>50%</th>\n",
       "      <th>75%</th>\n",
       "      <th>max</th>\n",
       "    </tr>\n",
       "    <tr>\n",
       "      <th>dept</th>\n",
       "      <th>sex</th>\n",
       "      <th></th>\n",
       "      <th></th>\n",
       "      <th></th>\n",
       "      <th></th>\n",
       "      <th></th>\n",
       "      <th></th>\n",
       "      <th></th>\n",
       "      <th></th>\n",
       "    </tr>\n",
       "  </thead>\n",
       "  <tbody>\n",
       "    <tr>\n",
       "      <th>CEO</th>\n",
       "      <th>M</th>\n",
       "      <td>1.0</td>\n",
       "      <td>700000.0</td>\n",
       "      <td>NaN</td>\n",
       "      <td>700000.0</td>\n",
       "      <td>700000.0</td>\n",
       "      <td>700000.0</td>\n",
       "      <td>700000.0</td>\n",
       "      <td>700000.0</td>\n",
       "    </tr>\n",
       "    <tr>\n",
       "      <th rowspan=\"2\" valign=\"top\">HR</th>\n",
       "      <th>F</th>\n",
       "      <td>1058.0</td>\n",
       "      <td>84400.0</td>\n",
       "      <td>22963.0</td>\n",
       "      <td>60000.0</td>\n",
       "      <td>69000.0</td>\n",
       "      <td>80000.0</td>\n",
       "      <td>94000.0</td>\n",
       "      <td>500000.0</td>\n",
       "    </tr>\n",
       "    <tr>\n",
       "      <th>M</th>\n",
       "      <td>636.0</td>\n",
       "      <td>84827.0</td>\n",
       "      <td>25967.0</td>\n",
       "      <td>60000.0</td>\n",
       "      <td>68000.0</td>\n",
       "      <td>79000.0</td>\n",
       "      <td>93000.0</td>\n",
       "      <td>361000.0</td>\n",
       "    </tr>\n",
       "    <tr>\n",
       "      <th rowspan=\"2\" valign=\"top\">engineering</th>\n",
       "      <th>F</th>\n",
       "      <td>671.0</td>\n",
       "      <td>246785.0</td>\n",
       "      <td>88771.0</td>\n",
       "      <td>61000.0</td>\n",
       "      <td>177500.0</td>\n",
       "      <td>253000.0</td>\n",
       "      <td>317000.0</td>\n",
       "      <td>399000.0</td>\n",
       "    </tr>\n",
       "    <tr>\n",
       "      <th>M</th>\n",
       "      <td>2025.0</td>\n",
       "      <td>242444.0</td>\n",
       "      <td>87174.0</td>\n",
       "      <td>60000.0</td>\n",
       "      <td>175000.0</td>\n",
       "      <td>246000.0</td>\n",
       "      <td>312000.0</td>\n",
       "      <td>650000.0</td>\n",
       "    </tr>\n",
       "    <tr>\n",
       "      <th rowspan=\"2\" valign=\"top\">marketing</th>\n",
       "      <th>F</th>\n",
       "      <td>651.0</td>\n",
       "      <td>192502.0</td>\n",
       "      <td>74874.0</td>\n",
       "      <td>60000.0</td>\n",
       "      <td>135000.0</td>\n",
       "      <td>184000.0</td>\n",
       "      <td>252500.0</td>\n",
       "      <td>399000.0</td>\n",
       "    </tr>\n",
       "    <tr>\n",
       "      <th>M</th>\n",
       "      <td>1359.0</td>\n",
       "      <td>195639.0</td>\n",
       "      <td>76505.0</td>\n",
       "      <td>60000.0</td>\n",
       "      <td>136500.0</td>\n",
       "      <td>192000.0</td>\n",
       "      <td>248000.0</td>\n",
       "      <td>550000.0</td>\n",
       "    </tr>\n",
       "    <tr>\n",
       "      <th rowspan=\"2\" valign=\"top\">sales</th>\n",
       "      <th>F</th>\n",
       "      <td>1181.0</td>\n",
       "      <td>194618.0</td>\n",
       "      <td>72070.0</td>\n",
       "      <td>60000.0</td>\n",
       "      <td>139000.0</td>\n",
       "      <td>190000.0</td>\n",
       "      <td>245000.0</td>\n",
       "      <td>398000.0</td>\n",
       "    </tr>\n",
       "    <tr>\n",
       "      <th>M</th>\n",
       "      <td>2418.0</td>\n",
       "      <td>194207.0</td>\n",
       "      <td>72926.0</td>\n",
       "      <td>60000.0</td>\n",
       "      <td>140000.0</td>\n",
       "      <td>190000.0</td>\n",
       "      <td>244000.0</td>\n",
       "      <td>550000.0</td>\n",
       "    </tr>\n",
       "  </tbody>\n",
       "</table>\n",
       "</div>"
      ],
      "text/plain": [
       "                 salary                                                   \\\n",
       "                  count      mean      std       min       25%       50%   \n",
       "dept        sex                                                            \n",
       "CEO         M       1.0  700000.0      NaN  700000.0  700000.0  700000.0   \n",
       "HR          F    1058.0   84400.0  22963.0   60000.0   69000.0   80000.0   \n",
       "            M     636.0   84827.0  25967.0   60000.0   68000.0   79000.0   \n",
       "engineering F     671.0  246785.0  88771.0   61000.0  177500.0  253000.0   \n",
       "            M    2025.0  242444.0  87174.0   60000.0  175000.0  246000.0   \n",
       "marketing   F     651.0  192502.0  74874.0   60000.0  135000.0  184000.0   \n",
       "            M    1359.0  195639.0  76505.0   60000.0  136500.0  192000.0   \n",
       "sales       F    1181.0  194618.0  72070.0   60000.0  139000.0  190000.0   \n",
       "            M    2418.0  194207.0  72926.0   60000.0  140000.0  190000.0   \n",
       "\n",
       "                                     \n",
       "                      75%       max  \n",
       "dept        sex                      \n",
       "CEO         M    700000.0  700000.0  \n",
       "HR          F     94000.0  500000.0  \n",
       "            M     93000.0  361000.0  \n",
       "engineering F    317000.0  399000.0  \n",
       "            M    312000.0  650000.0  \n",
       "marketing   F    252500.0  399000.0  \n",
       "            M    248000.0  550000.0  \n",
       "sales       F    245000.0  398000.0  \n",
       "            M    244000.0  550000.0  "
      ]
     },
     "execution_count": 440,
     "metadata": {},
     "output_type": "execute_result"
    }
   ],
   "source": [
    "merged[['dept', 'sex', 'salary']].groupby(['dept', 'sex']).describe().round()"
   ]
  },
  {
   "cell_type": "code",
   "execution_count": 441,
   "metadata": {},
   "outputs": [
    {
     "data": {
      "text/html": [
       "<div>\n",
       "<style scoped>\n",
       "    .dataframe tbody tr th:only-of-type {\n",
       "        vertical-align: middle;\n",
       "    }\n",
       "\n",
       "    .dataframe tbody tr th {\n",
       "        vertical-align: top;\n",
       "    }\n",
       "\n",
       "    .dataframe thead tr th {\n",
       "        text-align: left;\n",
       "    }\n",
       "\n",
       "    .dataframe thead tr:last-of-type th {\n",
       "        text-align: right;\n",
       "    }\n",
       "</style>\n",
       "<table border=\"1\" class=\"dataframe\">\n",
       "  <thead>\n",
       "    <tr>\n",
       "      <th></th>\n",
       "      <th></th>\n",
       "      <th colspan=\"8\" halign=\"left\">yrs_experience</th>\n",
       "    </tr>\n",
       "    <tr>\n",
       "      <th></th>\n",
       "      <th></th>\n",
       "      <th>count</th>\n",
       "      <th>mean</th>\n",
       "      <th>std</th>\n",
       "      <th>min</th>\n",
       "      <th>25%</th>\n",
       "      <th>50%</th>\n",
       "      <th>75%</th>\n",
       "      <th>max</th>\n",
       "    </tr>\n",
       "    <tr>\n",
       "      <th>dept</th>\n",
       "      <th>sex</th>\n",
       "      <th></th>\n",
       "      <th></th>\n",
       "      <th></th>\n",
       "      <th></th>\n",
       "      <th></th>\n",
       "      <th></th>\n",
       "      <th></th>\n",
       "      <th></th>\n",
       "    </tr>\n",
       "  </thead>\n",
       "  <tbody>\n",
       "    <tr>\n",
       "      <th>CEO</th>\n",
       "      <th>M</th>\n",
       "      <td>1.0</td>\n",
       "      <td>7.0</td>\n",
       "      <td>NaN</td>\n",
       "      <td>7.0</td>\n",
       "      <td>7.0</td>\n",
       "      <td>7.0</td>\n",
       "      <td>7.0</td>\n",
       "      <td>7.0</td>\n",
       "    </tr>\n",
       "    <tr>\n",
       "      <th rowspan=\"2\" valign=\"top\">HR</th>\n",
       "      <th>F</th>\n",
       "      <td>1058.0</td>\n",
       "      <td>4.0</td>\n",
       "      <td>3.0</td>\n",
       "      <td>1.0</td>\n",
       "      <td>2.0</td>\n",
       "      <td>3.0</td>\n",
       "      <td>5.0</td>\n",
       "      <td>28.0</td>\n",
       "    </tr>\n",
       "    <tr>\n",
       "      <th>M</th>\n",
       "      <td>636.0</td>\n",
       "      <td>4.0</td>\n",
       "      <td>3.0</td>\n",
       "      <td>1.0</td>\n",
       "      <td>2.0</td>\n",
       "      <td>3.0</td>\n",
       "      <td>5.0</td>\n",
       "      <td>30.0</td>\n",
       "    </tr>\n",
       "    <tr>\n",
       "      <th rowspan=\"2\" valign=\"top\">engineering</th>\n",
       "      <th>F</th>\n",
       "      <td>671.0</td>\n",
       "      <td>4.0</td>\n",
       "      <td>3.0</td>\n",
       "      <td>1.0</td>\n",
       "      <td>2.0</td>\n",
       "      <td>3.0</td>\n",
       "      <td>5.0</td>\n",
       "      <td>33.0</td>\n",
       "    </tr>\n",
       "    <tr>\n",
       "      <th>M</th>\n",
       "      <td>2025.0</td>\n",
       "      <td>4.0</td>\n",
       "      <td>3.0</td>\n",
       "      <td>1.0</td>\n",
       "      <td>2.0</td>\n",
       "      <td>3.0</td>\n",
       "      <td>5.0</td>\n",
       "      <td>33.0</td>\n",
       "    </tr>\n",
       "    <tr>\n",
       "      <th rowspan=\"2\" valign=\"top\">marketing</th>\n",
       "      <th>F</th>\n",
       "      <td>651.0</td>\n",
       "      <td>4.0</td>\n",
       "      <td>4.0</td>\n",
       "      <td>1.0</td>\n",
       "      <td>2.0</td>\n",
       "      <td>3.0</td>\n",
       "      <td>5.0</td>\n",
       "      <td>24.0</td>\n",
       "    </tr>\n",
       "    <tr>\n",
       "      <th>M</th>\n",
       "      <td>1359.0</td>\n",
       "      <td>4.0</td>\n",
       "      <td>3.0</td>\n",
       "      <td>1.0</td>\n",
       "      <td>2.0</td>\n",
       "      <td>3.0</td>\n",
       "      <td>5.0</td>\n",
       "      <td>33.0</td>\n",
       "    </tr>\n",
       "    <tr>\n",
       "      <th rowspan=\"2\" valign=\"top\">sales</th>\n",
       "      <th>F</th>\n",
       "      <td>1181.0</td>\n",
       "      <td>4.0</td>\n",
       "      <td>3.0</td>\n",
       "      <td>1.0</td>\n",
       "      <td>2.0</td>\n",
       "      <td>3.0</td>\n",
       "      <td>5.0</td>\n",
       "      <td>34.0</td>\n",
       "    </tr>\n",
       "    <tr>\n",
       "      <th>M</th>\n",
       "      <td>2418.0</td>\n",
       "      <td>4.0</td>\n",
       "      <td>3.0</td>\n",
       "      <td>1.0</td>\n",
       "      <td>2.0</td>\n",
       "      <td>3.0</td>\n",
       "      <td>5.0</td>\n",
       "      <td>32.0</td>\n",
       "    </tr>\n",
       "  </tbody>\n",
       "</table>\n",
       "</div>"
      ],
      "text/plain": [
       "                yrs_experience                                    \n",
       "                         count mean  std  min  25%  50%  75%   max\n",
       "dept        sex                                                   \n",
       "CEO         M              1.0  7.0  NaN  7.0  7.0  7.0  7.0   7.0\n",
       "HR          F           1058.0  4.0  3.0  1.0  2.0  3.0  5.0  28.0\n",
       "            M            636.0  4.0  3.0  1.0  2.0  3.0  5.0  30.0\n",
       "engineering F            671.0  4.0  3.0  1.0  2.0  3.0  5.0  33.0\n",
       "            M           2025.0  4.0  3.0  1.0  2.0  3.0  5.0  33.0\n",
       "marketing   F            651.0  4.0  4.0  1.0  2.0  3.0  5.0  24.0\n",
       "            M           1359.0  4.0  3.0  1.0  2.0  3.0  5.0  33.0\n",
       "sales       F           1181.0  4.0  3.0  1.0  2.0  3.0  5.0  34.0\n",
       "            M           2418.0  4.0  3.0  1.0  2.0  3.0  5.0  32.0"
      ]
     },
     "execution_count": 441,
     "metadata": {},
     "output_type": "execute_result"
    }
   ],
   "source": [
    "merged[['dept', 'sex', 'yrs_experience']].groupby(['dept', 'sex']).describe().round()"
   ]
  },
  {
   "cell_type": "code",
   "execution_count": 445,
   "metadata": {},
   "outputs": [
    {
     "data": {
      "text/plain": [
       "dept         sex  company_level\n",
       "CEO          M    5                   1\n",
       "HR           F    0                 972\n",
       "                  1                  74\n",
       "                  2                  10\n",
       "                  3                   1\n",
       "                  4                   1\n",
       "             M    0                 553\n",
       "                  1                  62\n",
       "                  2                  16\n",
       "                  3                   5\n",
       "engineering  F    0                 605\n",
       "                  1                  57\n",
       "                  2                   7\n",
       "                  3                   2\n",
       "             M    0                1824\n",
       "                  1                 160\n",
       "                  2                  32\n",
       "                  3                   8\n",
       "                  4                   1\n",
       "marketing    F    0                 588\n",
       "                  1                  46\n",
       "                  2                  15\n",
       "                  3                   2\n",
       "             M    0                1214\n",
       "                  1                 118\n",
       "                  2                  19\n",
       "                  3                   7\n",
       "                  4                   1\n",
       "sales        F    0                1075\n",
       "                  1                  89\n",
       "                  2                  14\n",
       "                  3                   3\n",
       "             M    0                2170\n",
       "                  1                 206\n",
       "                  2                  35\n",
       "                  3                   6\n",
       "                  4                   1\n",
       "Name: company_level, dtype: int64"
      ]
     },
     "execution_count": 445,
     "metadata": {},
     "output_type": "execute_result"
    }
   ],
   "source": [
    "merged[['dept', 'sex', 'company_level']].groupby(['dept', 'sex'])['company_level'].value_counts()"
   ]
  },
  {
   "cell_type": "code",
   "execution_count": 444,
   "metadata": {},
   "outputs": [
    {
     "data": {
      "text/plain": [
       "dept         sex  is_manager\n",
       "CEO          M    True             1\n",
       "HR           F    False          972\n",
       "                  True            86\n",
       "             M    False          553\n",
       "                  True            83\n",
       "engineering  F    False          605\n",
       "                  True            66\n",
       "             M    False         1824\n",
       "                  True           201\n",
       "marketing    F    False          588\n",
       "                  True            63\n",
       "             M    False         1214\n",
       "                  True           145\n",
       "sales        F    False         1075\n",
       "                  True           106\n",
       "             M    False         2170\n",
       "                  True           248\n",
       "Name: is_manager, dtype: int64"
      ]
     },
     "execution_count": 444,
     "metadata": {},
     "output_type": "execute_result"
    }
   ],
   "source": [
    "merged[['dept', 'sex', 'is_manager']].groupby(['dept', 'sex'])['is_manager'].value_counts()"
   ]
  },
  {
   "cell_type": "markdown",
   "metadata": {},
   "source": [
    "Men are overrepresented in management HR.  "
   ]
  },
  {
   "cell_type": "code",
   "execution_count": 454,
   "metadata": {},
   "outputs": [
    {
     "data": {
      "text/plain": [
       "sex  signing_bonus\n",
       "F    0                2594\n",
       "     1                 967\n",
       "M    0                4392\n",
       "     1                2047\n",
       "Name: signing_bonus, dtype: int64"
      ]
     },
     "execution_count": 454,
     "metadata": {},
     "output_type": "execute_result"
    }
   ],
   "source": [
    "merged[['sex', 'signing_bonus']].groupby(['sex'])['signing_bonus'].value_counts()"
   ]
  },
  {
   "cell_type": "code",
   "execution_count": 456,
   "metadata": {},
   "outputs": [
    {
     "data": {
      "text/plain": [
       "0.3727833461835004"
      ]
     },
     "execution_count": 456,
     "metadata": {},
     "output_type": "execute_result"
    }
   ],
   "source": [
    "967/2594"
   ]
  },
  {
   "cell_type": "code",
   "execution_count": 457,
   "metadata": {},
   "outputs": [
    {
     "data": {
      "text/plain": [
       "0.4660746812386157"
      ]
     },
     "execution_count": 457,
     "metadata": {},
     "output_type": "execute_result"
    }
   ],
   "source": [
    "2047/4392"
   ]
  },
  {
   "cell_type": "code",
   "execution_count": 458,
   "metadata": {},
   "outputs": [
    {
     "data": {
      "text/plain": [
       "dept         signing_bonus\n",
       "CEO          1                   1\n",
       "HR           0                1473\n",
       "             1                 221\n",
       "engineering  0                1643\n",
       "             1                1053\n",
       "marketing    0                1387\n",
       "             1                 623\n",
       "sales        0                2483\n",
       "             1                1116\n",
       "Name: signing_bonus, dtype: int64"
      ]
     },
     "execution_count": 458,
     "metadata": {},
     "output_type": "execute_result"
    }
   ],
   "source": [
    "merged[['dept', 'signing_bonus']].groupby(['dept'])['signing_bonus'].value_counts()"
   ]
  },
  {
   "cell_type": "code",
   "execution_count": 463,
   "metadata": {},
   "outputs": [
    {
     "data": {
      "text/plain": [
       "0.3905786350148368"
      ]
     },
     "execution_count": 463,
     "metadata": {},
     "output_type": "execute_result"
    }
   ],
   "source": [
    "1053/(1643+1053)"
   ]
  },
  {
   "cell_type": "code",
   "execution_count": 462,
   "metadata": {},
   "outputs": [
    {
     "data": {
      "text/plain": [
       "0.3099502487562189"
      ]
     },
     "execution_count": 462,
     "metadata": {},
     "output_type": "execute_result"
    }
   ],
   "source": [
    "623/(1387+623)"
   ]
  },
  {
   "cell_type": "code",
   "execution_count": null,
   "metadata": {},
   "outputs": [],
   "source": []
  },
  {
   "cell_type": "markdown",
   "metadata": {},
   "source": [
    "Clearly HR is not getting the benefits of a signing bonus likethe other depts.  "
   ]
  }
 ],
 "metadata": {
  "kernelspec": {
   "display_name": "Python 3",
   "language": "python",
   "name": "python3"
  },
  "language_info": {
   "codemirror_mode": {
    "name": "ipython",
    "version": 3
   },
   "file_extension": ".py",
   "mimetype": "text/x-python",
   "name": "python",
   "nbconvert_exporter": "python",
   "pygments_lexer": "ipython3",
   "version": "3.7.3"
  }
 },
 "nbformat": 4,
 "nbformat_minor": 4
}
