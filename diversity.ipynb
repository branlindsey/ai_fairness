{
 "cells": [
  {
   "cell_type": "markdown",
   "metadata": {},
   "source": [
    "### CS Info\n",
    "\n",
    "There has been lots of talking about diversity in the workplace, especially in technology. The Head of HR at your company is very concerned about that and has asked you to analyze internal data about employees and see whether results suggest that the company is treating all its employees fairly or not.\n",
    "Specifically, she gave you the following tasks:\n",
    "In the company there are 6 levels (described below). Identify, for each employee, her corresponding level.\n",
    "Individual Contributors(IC) - they don’t manage anyone\n",
    "Middle Managers(MM) - they are the direct bosses of IC\n",
    "Directors(D) - they are the direct bosses of MM\n",
    "VP - D direct bosses\n",
    "Executives (E) - VP direct bosses\n",
    "CEO - The direct boss of E.\n",
    "How many people each employee manages? Consider that if John directly manages 2 people and these two people manage 5 people each, then we conclude that John manages 12 people.\n",
    "Build a model to predict the salary of each employee.\n",
    "Describe the main factors impacting employee salaries. Do you think the company has been treating all its employees fairly? What are the next steps you would suggest to the Head of HR?"
   ]
  },
  {
   "cell_type": "code",
   "execution_count": 67,
   "metadata": {},
   "outputs": [],
   "source": [
    "import pandas as pd\n",
    "import numpy as np\n",
    "import matplotlib.pyplot as plt\n",
    "\n",
    "plt.style.use('ggplot')\n",
    "\n",
    "%matplotlib inline "
   ]
  },
  {
   "cell_type": "code",
   "execution_count": 68,
   "metadata": {},
   "outputs": [],
   "source": [
    "employee = pd.read_csv('../diversity/employee.csv')\n",
    "company = pd.read_csv('../diversity/company_hierarchy.csv')"
   ]
  },
  {
   "cell_type": "code",
   "execution_count": 69,
   "metadata": {},
   "outputs": [
    {
     "name": "stdout",
     "output_type": "stream",
     "text": [
      "<class 'pandas.core.frame.DataFrame'>\n",
      "RangeIndex: 10000 entries, 0 to 9999\n",
      "Data columns (total 6 columns):\n",
      " #   Column          Non-Null Count  Dtype  \n",
      "---  ------          --------------  -----  \n",
      " 0   employee_id     10000 non-null  int64  \n",
      " 1   signing_bonus   10000 non-null  int64  \n",
      " 2   salary          10000 non-null  float64\n",
      " 3   degree_level    10000 non-null  object \n",
      " 4   sex             10000 non-null  object \n",
      " 5   yrs_experience  10000 non-null  int64  \n",
      "dtypes: float64(1), int64(3), object(2)\n",
      "memory usage: 468.9+ KB\n"
     ]
    }
   ],
   "source": [
    "employee.info()"
   ]
  },
  {
   "cell_type": "code",
   "execution_count": 70,
   "metadata": {},
   "outputs": [],
   "source": [
    "merged = pd.merge(employee, company, how='inner', on=['employee_id'])"
   ]
  },
  {
   "cell_type": "code",
   "execution_count": 71,
   "metadata": {},
   "outputs": [
    {
     "name": "stdout",
     "output_type": "stream",
     "text": [
      "<class 'pandas.core.frame.DataFrame'>\n",
      "Int64Index: 10000 entries, 0 to 9999\n",
      "Data columns (total 8 columns):\n",
      " #   Column          Non-Null Count  Dtype  \n",
      "---  ------          --------------  -----  \n",
      " 0   employee_id     10000 non-null  int64  \n",
      " 1   signing_bonus   10000 non-null  int64  \n",
      " 2   salary          10000 non-null  float64\n",
      " 3   degree_level    10000 non-null  object \n",
      " 4   sex             10000 non-null  object \n",
      " 5   yrs_experience  10000 non-null  int64  \n",
      " 6   boss_id         9999 non-null   float64\n",
      " 7   dept            10000 non-null  object \n",
      "dtypes: float64(2), int64(3), object(3)\n",
      "memory usage: 703.1+ KB\n"
     ]
    }
   ],
   "source": [
    "merged.info()"
   ]
  },
  {
   "cell_type": "code",
   "execution_count": 72,
   "metadata": {},
   "outputs": [],
   "source": [
    "#Making a Manager Column\n",
    "merged['boss_id'].fillna(100000, inplace=True)\n",
    "merged['boss_id'] = merged['boss_id'].astype(int)\n",
    "\n",
    "\n",
    "boss = set(merged.boss_id)\n",
    "merged['is_manager'] = merged['employee_id'].apply(lambda x: x in boss).astype(int)\n"
   ]
  },
  {
   "cell_type": "code",
   "execution_count": 73,
   "metadata": {},
   "outputs": [],
   "source": [
    "#Making a Direct Reports Column\n",
    "reports = (merged['boss_id'].value_counts())\n",
    "reports_df = pd.DataFrame(reports)\n",
    "\n",
    "merged = pd.merge(merged, reports, how='left', left_on=['employee_id'], right_on=reports.index)\n",
    "merged['boss_id_y'].fillna(0, inplace=True)\n",
    "merged['direct_reports'] = merged['boss_id_y']\n",
    "merged['boss_id'] = merged['boss_id_x']\n",
    "\n",
    "merged.drop(labels=['boss_id_y', 'boss_id_x'], axis=1, inplace=True)"
   ]
  },
  {
   "cell_type": "code",
   "execution_count": 74,
   "metadata": {},
   "outputs": [],
   "source": [
    "#Set Index to Employee Id\n",
    "merged.set_index(keys='employee_id', inplace=True)"
   ]
  },
  {
   "cell_type": "code",
   "execution_count": 75,
   "metadata": {},
   "outputs": [],
   "source": [
    "##Total Reports"
   ]
  },
  {
   "cell_type": "code",
   "execution_count": 76,
   "metadata": {},
   "outputs": [],
   "source": [
    "from collections import defaultdict\n",
    "emp_list = list(merged['boss_id'].index)\n",
    "boss_list = list(merged['boss_id'].values)"
   ]
  },
  {
   "cell_type": "code",
   "execution_count": 77,
   "metadata": {},
   "outputs": [],
   "source": [
    "d_reports= defaultdict(list)\n",
    "for boss,employee in zip(boss_list,emp_list):\n",
    "    d_reports[boss].append(employee)\n",
    "\n",
    "my_boss = defaultdict()\n",
    "for boss,employee in zip(boss_list,emp_list):\n",
    "    my_boss[employee] = boss    "
   ]
  },
  {
   "cell_type": "code",
   "execution_count": 78,
   "metadata": {},
   "outputs": [],
   "source": [
    "total_reports = {}\n",
    "for emp in emp_list:\n",
    "    total_reports[emp] = 0"
   ]
  },
  {
   "cell_type": "code",
   "execution_count": 79,
   "metadata": {},
   "outputs": [],
   "source": [
    "ceo_id = 61554\n",
    "\n",
    "for emp in my_boss:\n",
    "    if emp == ceo_id:\n",
    "        continue \n",
    "    while True:\n",
    "        boss = my_boss[emp]\n",
    "        if boss != ceo_id:\n",
    "            total_reports[boss] += 1\n",
    "        elif boss == ceo_id:\n",
    "            break \n",
    "        emp = boss     "
   ]
  },
  {
   "cell_type": "code",
   "execution_count": 80,
   "metadata": {},
   "outputs": [],
   "source": [
    "total_reports = pd.Series(total_reports)"
   ]
  },
  {
   "cell_type": "code",
   "execution_count": 81,
   "metadata": {},
   "outputs": [],
   "source": [
    "merged['total_reports'] = total_reports"
   ]
  },
  {
   "cell_type": "code",
   "execution_count": 82,
   "metadata": {},
   "outputs": [],
   "source": [
    "merged.loc[ceo_id, 'total_reports'] = 9999"
   ]
  },
  {
   "cell_type": "code",
   "execution_count": 83,
   "metadata": {},
   "outputs": [],
   "source": [
    "#Company Level "
   ]
  },
  {
   "cell_type": "code",
   "execution_count": 84,
   "metadata": {},
   "outputs": [],
   "source": [
    "company_level = {}\n",
    "for emp in emp_list:\n",
    "    company_level[emp] = 0"
   ]
  },
  {
   "cell_type": "code",
   "execution_count": 85,
   "metadata": {},
   "outputs": [],
   "source": [
    "for emp in my_boss:\n",
    "    counter = 0 \n",
    "    if emp == ceo_id:\n",
    "        continue \n",
    "    while True:\n",
    "        boss = my_boss[emp]\n",
    "        if boss != ceo_id:\n",
    "            counter += 1 \n",
    "        elif boss == ceo_id:\n",
    "            break  \n",
    "        emp = boss    \n",
    "        company_level[emp] = counter"
   ]
  },
  {
   "cell_type": "code",
   "execution_count": 86,
   "metadata": {},
   "outputs": [],
   "source": [
    "company_level = pd.Series(company_level)"
   ]
  },
  {
   "cell_type": "code",
   "execution_count": 87,
   "metadata": {},
   "outputs": [],
   "source": [
    "merged['company_level'] = company_level"
   ]
  },
  {
   "cell_type": "code",
   "execution_count": 88,
   "metadata": {},
   "outputs": [],
   "source": [
    "#Save CSV \n",
    "merged.to_csv('../company_x.csv')"
   ]
  },
  {
   "cell_type": "code",
   "execution_count": 89,
   "metadata": {},
   "outputs": [
    {
     "data": {
      "text/html": [
       "<div>\n",
       "<style scoped>\n",
       "    .dataframe tbody tr th:only-of-type {\n",
       "        vertical-align: middle;\n",
       "    }\n",
       "\n",
       "    .dataframe tbody tr th {\n",
       "        vertical-align: top;\n",
       "    }\n",
       "\n",
       "    .dataframe thead th {\n",
       "        text-align: right;\n",
       "    }\n",
       "</style>\n",
       "<table border=\"1\" class=\"dataframe\">\n",
       "  <thead>\n",
       "    <tr style=\"text-align: right;\">\n",
       "      <th></th>\n",
       "      <th>signing_bonus</th>\n",
       "      <th>salary</th>\n",
       "      <th>degree_level</th>\n",
       "      <th>sex</th>\n",
       "      <th>yrs_experience</th>\n",
       "      <th>dept</th>\n",
       "      <th>is_manager</th>\n",
       "      <th>direct_reports</th>\n",
       "      <th>boss_id</th>\n",
       "      <th>total_reports</th>\n",
       "      <th>company_level</th>\n",
       "    </tr>\n",
       "    <tr>\n",
       "      <th>employee_id</th>\n",
       "      <th></th>\n",
       "      <th></th>\n",
       "      <th></th>\n",
       "      <th></th>\n",
       "      <th></th>\n",
       "      <th></th>\n",
       "      <th></th>\n",
       "      <th></th>\n",
       "      <th></th>\n",
       "      <th></th>\n",
       "      <th></th>\n",
       "    </tr>\n",
       "  </thead>\n",
       "  <tbody>\n",
       "    <tr>\n",
       "      <th>138719</th>\n",
       "      <td>0</td>\n",
       "      <td>273000.0</td>\n",
       "      <td>Master</td>\n",
       "      <td>M</td>\n",
       "      <td>2</td>\n",
       "      <td>engineering</td>\n",
       "      <td>0</td>\n",
       "      <td>0.0</td>\n",
       "      <td>43602</td>\n",
       "      <td>0</td>\n",
       "      <td>0</td>\n",
       "    </tr>\n",
       "    <tr>\n",
       "      <th>3192</th>\n",
       "      <td>0</td>\n",
       "      <td>301000.0</td>\n",
       "      <td>Bachelor</td>\n",
       "      <td>F</td>\n",
       "      <td>1</td>\n",
       "      <td>sales</td>\n",
       "      <td>0</td>\n",
       "      <td>0.0</td>\n",
       "      <td>87847</td>\n",
       "      <td>0</td>\n",
       "      <td>0</td>\n",
       "    </tr>\n",
       "    <tr>\n",
       "      <th>114657</th>\n",
       "      <td>0</td>\n",
       "      <td>261000.0</td>\n",
       "      <td>Master</td>\n",
       "      <td>F</td>\n",
       "      <td>2</td>\n",
       "      <td>sales</td>\n",
       "      <td>0</td>\n",
       "      <td>0.0</td>\n",
       "      <td>180854</td>\n",
       "      <td>0</td>\n",
       "      <td>0</td>\n",
       "    </tr>\n",
       "    <tr>\n",
       "      <th>29039</th>\n",
       "      <td>0</td>\n",
       "      <td>86000.0</td>\n",
       "      <td>High_School</td>\n",
       "      <td>F</td>\n",
       "      <td>4</td>\n",
       "      <td>HR</td>\n",
       "      <td>0</td>\n",
       "      <td>0.0</td>\n",
       "      <td>88370</td>\n",
       "      <td>0</td>\n",
       "      <td>0</td>\n",
       "    </tr>\n",
       "    <tr>\n",
       "      <th>118607</th>\n",
       "      <td>0</td>\n",
       "      <td>126000.0</td>\n",
       "      <td>Bachelor</td>\n",
       "      <td>F</td>\n",
       "      <td>3</td>\n",
       "      <td>sales</td>\n",
       "      <td>0</td>\n",
       "      <td>0.0</td>\n",
       "      <td>23565</td>\n",
       "      <td>0</td>\n",
       "      <td>0</td>\n",
       "    </tr>\n",
       "  </tbody>\n",
       "</table>\n",
       "</div>"
      ],
      "text/plain": [
       "             signing_bonus    salary degree_level sex  yrs_experience  \\\n",
       "employee_id                                                             \n",
       "138719                   0  273000.0       Master   M               2   \n",
       "3192                     0  301000.0     Bachelor   F               1   \n",
       "114657                   0  261000.0       Master   F               2   \n",
       "29039                    0   86000.0  High_School   F               4   \n",
       "118607                   0  126000.0     Bachelor   F               3   \n",
       "\n",
       "                    dept  is_manager  direct_reports  boss_id  total_reports  \\\n",
       "employee_id                                                                    \n",
       "138719       engineering           0             0.0    43602              0   \n",
       "3192               sales           0             0.0    87847              0   \n",
       "114657             sales           0             0.0   180854              0   \n",
       "29039                 HR           0             0.0    88370              0   \n",
       "118607             sales           0             0.0    23565              0   \n",
       "\n",
       "             company_level  \n",
       "employee_id                 \n",
       "138719                   0  \n",
       "3192                     0  \n",
       "114657                   0  \n",
       "29039                    0  \n",
       "118607                   0  "
      ]
     },
     "execution_count": 89,
     "metadata": {},
     "output_type": "execute_result"
    }
   ],
   "source": [
    "merged.head()"
   ]
  },
  {
   "cell_type": "code",
   "execution_count": 90,
   "metadata": {},
   "outputs": [],
   "source": [
    "# aeq_data = merged.copy()\n",
    "# aeq_data = aeq_data.drop(labels=['boss_id, )"
   ]
  },
  {
   "cell_type": "markdown",
   "metadata": {},
   "source": [
    "## EDA "
   ]
  },
  {
   "cell_type": "code",
   "execution_count": 91,
   "metadata": {},
   "outputs": [
    {
     "data": {
      "text/plain": [
       "M    0.64\n",
       "F    0.36\n",
       "Name: sex, dtype: float64"
      ]
     },
     "execution_count": 91,
     "metadata": {},
     "output_type": "execute_result"
    }
   ],
   "source": [
    "(merged['sex'].value_counts() / 10000).round(2)"
   ]
  },
  {
   "cell_type": "code",
   "execution_count": 92,
   "metadata": {},
   "outputs": [
    {
     "data": {
      "text/plain": [
       "Text(0.5, 1.0, 'Employee Salaries')"
      ]
     },
     "execution_count": 92,
     "metadata": {},
     "output_type": "execute_result"
    },
    {
     "data": {
      "image/png": "[encoded data removed]",
      "text/plain": [
       "<Figure size 576x432 with 1 Axes>"
      ]
     },
     "metadata": {
      "needs_background": "light"
     },
     "output_type": "display_data"
    }
   ],
   "source": [
    "fig, ax = plt.subplots(figsize=(8,6))\n",
    "\n",
    "ax.hist(merged['salary'], bins=50)\n",
    "ax.set_xlabel('Salary')\n",
    "ax.set_ylabel('Amount of Employees')\n",
    "ax.set_title('Employee Salaries')"
   ]
  },
  {
   "cell_type": "code",
   "execution_count": 93,
   "metadata": {},
   "outputs": [],
   "source": [
    "man = merged[merged['sex']=='M']\n",
    "woman = mans = merged[merged['sex']=='F']"
   ]
  },
  {
   "cell_type": "code",
   "execution_count": 94,
   "metadata": {},
   "outputs": [
    {
     "data": {
      "image/png": "[encoded data removed]",
      "text/plain": [
       "<Figure size 576x432 with 1 Axes>"
      ]
     },
     "metadata": {
      "needs_background": "light"
     },
     "output_type": "display_data"
    }
   ],
   "source": [
    "fig, ax = plt.subplots(figsize=(8,6))\n",
    "\n",
    "ax.hist(merged['salary'], bins=100, label='All Employees', alpha=.5, color='blue')\n",
    "ax.hist(man['salary'], bins=100, alpha=.3, label='Men', color='red')\n",
    "ax.hist(woman['salary'], bins=100, alpha=.3, label='Women', color='green')\n",
    "ax.set_xlabel('Amount of Employees')\n",
    "ax.set_ylabel('Salary')\n",
    "ax.set_title('Employee Salaries')\n",
    "ax.legend()\n",
    "plt.savefig('images/salaries')"
   ]
  },
  {
   "cell_type": "code",
   "execution_count": 95,
   "metadata": {},
   "outputs": [
    {
     "data": {
      "text/plain": [
       "<matplotlib.legend.Legend at 0x11292deb8>"
      ]
     },
     "execution_count": 95,
     "metadata": {},
     "output_type": "execute_result"
    },
    {
     "data": {
      "image/png": "[encoded data removed]",
      "text/plain": [
       "<Figure size 576x432 with 1 Axes>"
      ]
     },
     "metadata": {
      "needs_background": "light"
     },
     "output_type": "display_data"
    }
   ],
   "source": [
    "fig, ax = plt.subplots(figsize=(8,6))\n",
    "\n",
    "\n",
    "ind = np.arange(2)\n",
    "width = 0.35\n",
    "\n",
    "ax.bar(ind-width/2, man['is_manager'].value_counts(), width, label='Men')\n",
    "ax.bar(ind+width/2, woman['is_manager'].value_counts(), width, label='Women')\n",
    "ax.set_ylabel('Number of Employees')\n",
    "ax.set_xticks(ind)\n",
    "ax.set_xticklabels(['Manager', 'Not Manager'])\n",
    "ax.legend()"
   ]
  },
  {
   "cell_type": "code",
   "execution_count": 96,
   "metadata": {},
   "outputs": [
    {
     "data": {
      "text/plain": [
       "0.10529585339338407"
      ]
     },
     "execution_count": 96,
     "metadata": {},
     "output_type": "execute_result"
    }
   ],
   "source": [
    "man['is_manager'].sum() / len(man['is_manager'])"
   ]
  },
  {
   "cell_type": "code",
   "execution_count": 97,
   "metadata": {},
   "outputs": [
    {
     "data": {
      "text/plain": [
       "0.09014321819713564"
      ]
     },
     "execution_count": 97,
     "metadata": {},
     "output_type": "execute_result"
    }
   ],
   "source": [
    "woman['is_manager'].sum() / len(woman['is_manager'])"
   ]
  },
  {
   "cell_type": "code",
   "execution_count": 98,
   "metadata": {},
   "outputs": [
    {
     "data": {
      "text/plain": [
       "company_level  sex\n",
       "0              M      5762\n",
       "               F      3240\n",
       "1              M       546\n",
       "               F       266\n",
       "2              M       102\n",
       "               F        46\n",
       "3              M        26\n",
       "               F         8\n",
       "4              M         3\n",
       "               F         1\n",
       "Name: sex, dtype: int64"
      ]
     },
     "execution_count": 98,
     "metadata": {},
     "output_type": "execute_result"
    }
   ],
   "source": [
    "merged[['company_level', 'sex']].groupby(['company_level'])['sex'].value_counts()"
   ]
  },
  {
   "cell_type": "code",
   "execution_count": 99,
   "metadata": {},
   "outputs": [
    {
     "data": {
      "text/plain": [
       "degree_level  sex\n",
       "Bachelor      M      1758\n",
       "              F       977\n",
       "High_School   M      1083\n",
       "              F       574\n",
       "Master        M      1785\n",
       "              F      1001\n",
       "PhD           M      1813\n",
       "              F      1009\n",
       "Name: sex, dtype: int64"
      ]
     },
     "execution_count": 99,
     "metadata": {},
     "output_type": "execute_result"
    }
   ],
   "source": [
    "merged[['degree_level', 'sex']].groupby(['degree_level'])['sex'].value_counts()"
   ]
  },
  {
   "cell_type": "code",
   "execution_count": 100,
   "metadata": {},
   "outputs": [],
   "source": [
    "salary_table = pd.DataFrame(merged[['dept', 'sex', 'salary']].groupby(['dept', 'sex']).describe().round())"
   ]
  },
  {
   "cell_type": "code",
   "execution_count": 101,
   "metadata": {},
   "outputs": [
    {
     "data": {
      "text/html": [
       "<div>\n",
       "<style scoped>\n",
       "    .dataframe tbody tr th:only-of-type {\n",
       "        vertical-align: middle;\n",
       "    }\n",
       "\n",
       "    .dataframe tbody tr th {\n",
       "        vertical-align: top;\n",
       "    }\n",
       "\n",
       "    .dataframe thead tr th {\n",
       "        text-align: left;\n",
       "    }\n",
       "\n",
       "    .dataframe thead tr:last-of-type th {\n",
       "        text-align: right;\n",
       "    }\n",
       "</style>\n",
       "<table border=\"1\" class=\"dataframe\">\n",
       "  <thead>\n",
       "    <tr>\n",
       "      <th></th>\n",
       "      <th></th>\n",
       "      <th colspan=\"8\" halign=\"left\">salary</th>\n",
       "    </tr>\n",
       "    <tr>\n",
       "      <th></th>\n",
       "      <th></th>\n",
       "      <th>count</th>\n",
       "      <th>mean</th>\n",
       "      <th>std</th>\n",
       "      <th>min</th>\n",
       "      <th>25%</th>\n",
       "      <th>50%</th>\n",
       "      <th>75%</th>\n",
       "      <th>max</th>\n",
       "    </tr>\n",
       "    <tr>\n",
       "      <th>dept</th>\n",
       "      <th>sex</th>\n",
       "      <th></th>\n",
       "      <th></th>\n",
       "      <th></th>\n",
       "      <th></th>\n",
       "      <th></th>\n",
       "      <th></th>\n",
       "      <th></th>\n",
       "      <th></th>\n",
       "    </tr>\n",
       "  </thead>\n",
       "  <tbody>\n",
       "    <tr>\n",
       "      <th>CEO</th>\n",
       "      <th>M</th>\n",
       "      <td>1.0</td>\n",
       "      <td>700000.0</td>\n",
       "      <td>NaN</td>\n",
       "      <td>700000.0</td>\n",
       "      <td>700000.0</td>\n",
       "      <td>700000.0</td>\n",
       "      <td>700000.0</td>\n",
       "      <td>700000.0</td>\n",
       "    </tr>\n",
       "    <tr>\n",
       "      <th rowspan=\"2\" valign=\"top\">HR</th>\n",
       "      <th>F</th>\n",
       "      <td>1058.0</td>\n",
       "      <td>84400.0</td>\n",
       "      <td>22963.0</td>\n",
       "      <td>60000.0</td>\n",
       "      <td>69000.0</td>\n",
       "      <td>80000.0</td>\n",
       "      <td>94000.0</td>\n",
       "      <td>500000.0</td>\n",
       "    </tr>\n",
       "    <tr>\n",
       "      <th>M</th>\n",
       "      <td>636.0</td>\n",
       "      <td>84827.0</td>\n",
       "      <td>25967.0</td>\n",
       "      <td>60000.0</td>\n",
       "      <td>68000.0</td>\n",
       "      <td>79000.0</td>\n",
       "      <td>93000.0</td>\n",
       "      <td>361000.0</td>\n",
       "    </tr>\n",
       "    <tr>\n",
       "      <th rowspan=\"2\" valign=\"top\">engineering</th>\n",
       "      <th>F</th>\n",
       "      <td>671.0</td>\n",
       "      <td>246785.0</td>\n",
       "      <td>88771.0</td>\n",
       "      <td>61000.0</td>\n",
       "      <td>177500.0</td>\n",
       "      <td>253000.0</td>\n",
       "      <td>317000.0</td>\n",
       "      <td>399000.0</td>\n",
       "    </tr>\n",
       "    <tr>\n",
       "      <th>M</th>\n",
       "      <td>2025.0</td>\n",
       "      <td>242444.0</td>\n",
       "      <td>87174.0</td>\n",
       "      <td>60000.0</td>\n",
       "      <td>175000.0</td>\n",
       "      <td>246000.0</td>\n",
       "      <td>312000.0</td>\n",
       "      <td>650000.0</td>\n",
       "    </tr>\n",
       "    <tr>\n",
       "      <th rowspan=\"2\" valign=\"top\">marketing</th>\n",
       "      <th>F</th>\n",
       "      <td>651.0</td>\n",
       "      <td>192502.0</td>\n",
       "      <td>74874.0</td>\n",
       "      <td>60000.0</td>\n",
       "      <td>135000.0</td>\n",
       "      <td>184000.0</td>\n",
       "      <td>252500.0</td>\n",
       "      <td>399000.0</td>\n",
       "    </tr>\n",
       "    <tr>\n",
       "      <th>M</th>\n",
       "      <td>1359.0</td>\n",
       "      <td>195639.0</td>\n",
       "      <td>76505.0</td>\n",
       "      <td>60000.0</td>\n",
       "      <td>136500.0</td>\n",
       "      <td>192000.0</td>\n",
       "      <td>248000.0</td>\n",
       "      <td>550000.0</td>\n",
       "    </tr>\n",
       "    <tr>\n",
       "      <th rowspan=\"2\" valign=\"top\">sales</th>\n",
       "      <th>F</th>\n",
       "      <td>1181.0</td>\n",
       "      <td>194618.0</td>\n",
       "      <td>72070.0</td>\n",
       "      <td>60000.0</td>\n",
       "      <td>139000.0</td>\n",
       "      <td>190000.0</td>\n",
       "      <td>245000.0</td>\n",
       "      <td>398000.0</td>\n",
       "    </tr>\n",
       "    <tr>\n",
       "      <th>M</th>\n",
       "      <td>2418.0</td>\n",
       "      <td>194207.0</td>\n",
       "      <td>72926.0</td>\n",
       "      <td>60000.0</td>\n",
       "      <td>140000.0</td>\n",
       "      <td>190000.0</td>\n",
       "      <td>244000.0</td>\n",
       "      <td>550000.0</td>\n",
       "    </tr>\n",
       "  </tbody>\n",
       "</table>\n",
       "</div>"
      ],
      "text/plain": [
       "                 salary                                                   \\\n",
       "                  count      mean      std       min       25%       50%   \n",
       "dept        sex                                                            \n",
       "CEO         M       1.0  700000.0      NaN  700000.0  700000.0  700000.0   \n",
       "HR          F    1058.0   84400.0  22963.0   60000.0   69000.0   80000.0   \n",
       "            M     636.0   84827.0  25967.0   60000.0   68000.0   79000.0   \n",
       "engineering F     671.0  246785.0  88771.0   61000.0  177500.0  253000.0   \n",
       "            M    2025.0  242444.0  87174.0   60000.0  175000.0  246000.0   \n",
       "marketing   F     651.0  192502.0  74874.0   60000.0  135000.0  184000.0   \n",
       "            M    1359.0  195639.0  76505.0   60000.0  136500.0  192000.0   \n",
       "sales       F    1181.0  194618.0  72070.0   60000.0  139000.0  190000.0   \n",
       "            M    2418.0  194207.0  72926.0   60000.0  140000.0  190000.0   \n",
       "\n",
       "                                     \n",
       "                      75%       max  \n",
       "dept        sex                      \n",
       "CEO         M    700000.0  700000.0  \n",
       "HR          F     94000.0  500000.0  \n",
       "            M     93000.0  361000.0  \n",
       "engineering F    317000.0  399000.0  \n",
       "            M    312000.0  650000.0  \n",
       "marketing   F    252500.0  399000.0  \n",
       "            M    248000.0  550000.0  \n",
       "sales       F    245000.0  398000.0  \n",
       "            M    244000.0  550000.0  "
      ]
     },
     "execution_count": 101,
     "metadata": {},
     "output_type": "execute_result"
    }
   ],
   "source": [
    "salary_table"
   ]
  },
  {
   "cell_type": "code",
   "execution_count": 102,
   "metadata": {},
   "outputs": [
    {
     "data": {
      "text/html": [
       "<div>\n",
       "<style scoped>\n",
       "    .dataframe tbody tr th:only-of-type {\n",
       "        vertical-align: middle;\n",
       "    }\n",
       "\n",
       "    .dataframe tbody tr th {\n",
       "        vertical-align: top;\n",
       "    }\n",
       "\n",
       "    .dataframe thead tr th {\n",
       "        text-align: left;\n",
       "    }\n",
       "\n",
       "    .dataframe thead tr:last-of-type th {\n",
       "        text-align: right;\n",
       "    }\n",
       "</style>\n",
       "<table border=\"1\" class=\"dataframe\">\n",
       "  <thead>\n",
       "    <tr>\n",
       "      <th></th>\n",
       "      <th></th>\n",
       "      <th colspan=\"8\" halign=\"left\">yrs_experience</th>\n",
       "    </tr>\n",
       "    <tr>\n",
       "      <th></th>\n",
       "      <th></th>\n",
       "      <th>count</th>\n",
       "      <th>mean</th>\n",
       "      <th>std</th>\n",
       "      <th>min</th>\n",
       "      <th>25%</th>\n",
       "      <th>50%</th>\n",
       "      <th>75%</th>\n",
       "      <th>max</th>\n",
       "    </tr>\n",
       "    <tr>\n",
       "      <th>dept</th>\n",
       "      <th>sex</th>\n",
       "      <th></th>\n",
       "      <th></th>\n",
       "      <th></th>\n",
       "      <th></th>\n",
       "      <th></th>\n",
       "      <th></th>\n",
       "      <th></th>\n",
       "      <th></th>\n",
       "    </tr>\n",
       "  </thead>\n",
       "  <tbody>\n",
       "    <tr>\n",
       "      <th>CEO</th>\n",
       "      <th>M</th>\n",
       "      <td>1.0</td>\n",
       "      <td>7.0</td>\n",
       "      <td>NaN</td>\n",
       "      <td>7.0</td>\n",
       "      <td>7.0</td>\n",
       "      <td>7.0</td>\n",
       "      <td>7.0</td>\n",
       "      <td>7.0</td>\n",
       "    </tr>\n",
       "    <tr>\n",
       "      <th rowspan=\"2\" valign=\"top\">HR</th>\n",
       "      <th>F</th>\n",
       "      <td>1058.0</td>\n",
       "      <td>4.0</td>\n",
       "      <td>3.0</td>\n",
       "      <td>1.0</td>\n",
       "      <td>2.0</td>\n",
       "      <td>3.0</td>\n",
       "      <td>5.0</td>\n",
       "      <td>28.0</td>\n",
       "    </tr>\n",
       "    <tr>\n",
       "      <th>M</th>\n",
       "      <td>636.0</td>\n",
       "      <td>4.0</td>\n",
       "      <td>3.0</td>\n",
       "      <td>1.0</td>\n",
       "      <td>2.0</td>\n",
       "      <td>3.0</td>\n",
       "      <td>5.0</td>\n",
       "      <td>30.0</td>\n",
       "    </tr>\n",
       "    <tr>\n",
       "      <th rowspan=\"2\" valign=\"top\">engineering</th>\n",
       "      <th>F</th>\n",
       "      <td>671.0</td>\n",
       "      <td>4.0</td>\n",
       "      <td>3.0</td>\n",
       "      <td>1.0</td>\n",
       "      <td>2.0</td>\n",
       "      <td>3.0</td>\n",
       "      <td>5.0</td>\n",
       "      <td>33.0</td>\n",
       "    </tr>\n",
       "    <tr>\n",
       "      <th>M</th>\n",
       "      <td>2025.0</td>\n",
       "      <td>4.0</td>\n",
       "      <td>3.0</td>\n",
       "      <td>1.0</td>\n",
       "      <td>2.0</td>\n",
       "      <td>3.0</td>\n",
       "      <td>5.0</td>\n",
       "      <td>33.0</td>\n",
       "    </tr>\n",
       "    <tr>\n",
       "      <th rowspan=\"2\" valign=\"top\">marketing</th>\n",
       "      <th>F</th>\n",
       "      <td>651.0</td>\n",
       "      <td>4.0</td>\n",
       "      <td>4.0</td>\n",
       "      <td>1.0</td>\n",
       "      <td>2.0</td>\n",
       "      <td>3.0</td>\n",
       "      <td>5.0</td>\n",
       "      <td>24.0</td>\n",
       "    </tr>\n",
       "    <tr>\n",
       "      <th>M</th>\n",
       "      <td>1359.0</td>\n",
       "      <td>4.0</td>\n",
       "      <td>3.0</td>\n",
       "      <td>1.0</td>\n",
       "      <td>2.0</td>\n",
       "      <td>3.0</td>\n",
       "      <td>5.0</td>\n",
       "      <td>33.0</td>\n",
       "    </tr>\n",
       "    <tr>\n",
       "      <th rowspan=\"2\" valign=\"top\">sales</th>\n",
       "      <th>F</th>\n",
       "      <td>1181.0</td>\n",
       "      <td>4.0</td>\n",
       "      <td>3.0</td>\n",
       "      <td>1.0</td>\n",
       "      <td>2.0</td>\n",
       "      <td>3.0</td>\n",
       "      <td>5.0</td>\n",
       "      <td>34.0</td>\n",
       "    </tr>\n",
       "    <tr>\n",
       "      <th>M</th>\n",
       "      <td>2418.0</td>\n",
       "      <td>4.0</td>\n",
       "      <td>3.0</td>\n",
       "      <td>1.0</td>\n",
       "      <td>2.0</td>\n",
       "      <td>3.0</td>\n",
       "      <td>5.0</td>\n",
       "      <td>32.0</td>\n",
       "    </tr>\n",
       "  </tbody>\n",
       "</table>\n",
       "</div>"
      ],
      "text/plain": [
       "                yrs_experience                                    \n",
       "                         count mean  std  min  25%  50%  75%   max\n",
       "dept        sex                                                   \n",
       "CEO         M              1.0  7.0  NaN  7.0  7.0  7.0  7.0   7.0\n",
       "HR          F           1058.0  4.0  3.0  1.0  2.0  3.0  5.0  28.0\n",
       "            M            636.0  4.0  3.0  1.0  2.0  3.0  5.0  30.0\n",
       "engineering F            671.0  4.0  3.0  1.0  2.0  3.0  5.0  33.0\n",
       "            M           2025.0  4.0  3.0  1.0  2.0  3.0  5.0  33.0\n",
       "marketing   F            651.0  4.0  4.0  1.0  2.0  3.0  5.0  24.0\n",
       "            M           1359.0  4.0  3.0  1.0  2.0  3.0  5.0  33.0\n",
       "sales       F           1181.0  4.0  3.0  1.0  2.0  3.0  5.0  34.0\n",
       "            M           2418.0  4.0  3.0  1.0  2.0  3.0  5.0  32.0"
      ]
     },
     "execution_count": 102,
     "metadata": {},
     "output_type": "execute_result"
    }
   ],
   "source": [
    "merged[['dept', 'sex', 'yrs_experience']].groupby(['dept', 'sex']).describe().round()"
   ]
  },
  {
   "cell_type": "code",
   "execution_count": 103,
   "metadata": {},
   "outputs": [
    {
     "data": {
      "text/plain": [
       "dept         sex  company_level\n",
       "CEO          M    0                   1\n",
       "HR           F    0                 972\n",
       "                  1                  74\n",
       "                  2                  10\n",
       "                  3                   1\n",
       "                  4                   1\n",
       "             M    0                 553\n",
       "                  1                  62\n",
       "                  2                  16\n",
       "                  3                   5\n",
       "engineering  F    0                 605\n",
       "                  1                  57\n",
       "                  2                   7\n",
       "                  3                   2\n",
       "             M    0                1824\n",
       "                  1                 160\n",
       "                  2                  32\n",
       "                  3                   8\n",
       "                  4                   1\n",
       "marketing    F    0                 588\n",
       "                  1                  46\n",
       "                  2                  15\n",
       "                  3                   2\n",
       "             M    0                1214\n",
       "                  1                 118\n",
       "                  2                  19\n",
       "                  3                   7\n",
       "                  4                   1\n",
       "sales        F    0                1075\n",
       "                  1                  89\n",
       "                  2                  14\n",
       "                  3                   3\n",
       "             M    0                2170\n",
       "                  1                 206\n",
       "                  2                  35\n",
       "                  3                   6\n",
       "                  4                   1\n",
       "Name: company_level, dtype: int64"
      ]
     },
     "execution_count": 103,
     "metadata": {},
     "output_type": "execute_result"
    }
   ],
   "source": [
    "merged[['dept', 'sex', 'company_level']].groupby(['dept', 'sex'])['company_level'].value_counts()"
   ]
  },
  {
   "cell_type": "code",
   "execution_count": 104,
   "metadata": {},
   "outputs": [
    {
     "data": {
      "text/plain": [
       "dept         sex  is_manager\n",
       "CEO          M    1                1\n",
       "HR           F    0              972\n",
       "                  1               86\n",
       "             M    0              553\n",
       "                  1               83\n",
       "engineering  F    0              605\n",
       "                  1               66\n",
       "             M    0             1824\n",
       "                  1              201\n",
       "marketing    F    0              588\n",
       "                  1               63\n",
       "             M    0             1214\n",
       "                  1              145\n",
       "sales        F    0             1075\n",
       "                  1              106\n",
       "             M    0             2170\n",
       "                  1              248\n",
       "Name: is_manager, dtype: int64"
      ]
     },
     "execution_count": 104,
     "metadata": {},
     "output_type": "execute_result"
    }
   ],
   "source": [
    "merged[['dept', 'sex', 'is_manager']].groupby(['dept', 'sex'])['is_manager'].value_counts()"
   ]
  },
  {
   "cell_type": "markdown",
   "metadata": {},
   "source": [
    "Men are overrepresented in management HR.  "
   ]
  },
  {
   "cell_type": "code",
   "execution_count": 105,
   "metadata": {},
   "outputs": [
    {
     "data": {
      "text/plain": [
       "sex  signing_bonus\n",
       "F    0                2594\n",
       "     1                 967\n",
       "M    0                4392\n",
       "     1                2047\n",
       "Name: signing_bonus, dtype: int64"
      ]
     },
     "execution_count": 105,
     "metadata": {},
     "output_type": "execute_result"
    }
   ],
   "source": [
    "merged[['sex', 'signing_bonus']].groupby(['sex'])['signing_bonus'].value_counts()"
   ]
  },
  {
   "cell_type": "code",
   "execution_count": 106,
   "metadata": {},
   "outputs": [
    {
     "data": {
      "text/plain": [
       "0.3727833461835004"
      ]
     },
     "execution_count": 106,
     "metadata": {},
     "output_type": "execute_result"
    }
   ],
   "source": [
    "967/2594"
   ]
  },
  {
   "cell_type": "code",
   "execution_count": 107,
   "metadata": {},
   "outputs": [
    {
     "data": {
      "text/plain": [
       "0.4660746812386157"
      ]
     },
     "execution_count": 107,
     "metadata": {},
     "output_type": "execute_result"
    }
   ],
   "source": [
    "2047/4392"
   ]
  },
  {
   "cell_type": "code",
   "execution_count": 108,
   "metadata": {},
   "outputs": [
    {
     "data": {
      "text/plain": [
       "dept         signing_bonus\n",
       "CEO          1                   1\n",
       "HR           0                1473\n",
       "             1                 221\n",
       "engineering  0                1643\n",
       "             1                1053\n",
       "marketing    0                1387\n",
       "             1                 623\n",
       "sales        0                2483\n",
       "             1                1116\n",
       "Name: signing_bonus, dtype: int64"
      ]
     },
     "execution_count": 108,
     "metadata": {},
     "output_type": "execute_result"
    }
   ],
   "source": [
    "merged[['dept', 'signing_bonus']].groupby(['dept'])['signing_bonus'].value_counts()"
   ]
  },
  {
   "cell_type": "code",
   "execution_count": 109,
   "metadata": {},
   "outputs": [
    {
     "data": {
      "text/plain": [
       "0.3905786350148368"
      ]
     },
     "execution_count": 109,
     "metadata": {},
     "output_type": "execute_result"
    }
   ],
   "source": [
    "1053/(1643+1053)"
   ]
  },
  {
   "cell_type": "code",
   "execution_count": 110,
   "metadata": {},
   "outputs": [
    {
     "data": {
      "text/plain": [
       "0.3099502487562189"
      ]
     },
     "execution_count": 110,
     "metadata": {},
     "output_type": "execute_result"
    }
   ],
   "source": [
    "623/(1387+623)"
   ]
  },
  {
   "cell_type": "code",
   "execution_count": null,
   "metadata": {},
   "outputs": [],
   "source": []
  },
  {
   "cell_type": "markdown",
   "metadata": {},
   "source": [
    "Clearly HR is not getting the benefits of a signing bonus likethe other depts.  "
   ]
  },
  {
   "cell_type": "code",
   "execution_count": null,
   "metadata": {},
   "outputs": [],
   "source": []
  },
  {
   "cell_type": "markdown",
   "metadata": {},
   "source": [
    "## Signing Bonus with Bias! "
   ]
  },
  {
   "cell_type": "code",
   "execution_count": 111,
   "metadata": {},
   "outputs": [],
   "source": [
    "import scipy.stats as stats\n",
    "\n"
   ]
  },
  {
   "cell_type": "code",
   "execution_count": 112,
   "metadata": {},
   "outputs": [
    {
     "data": {
      "text/plain": [
       "1"
      ]
     },
     "execution_count": 112,
     "metadata": {},
     "output_type": "execute_result"
    }
   ],
   "source": [
    "stats.binom(1, .8).rvs()"
   ]
  },
  {
   "cell_type": "code",
   "execution_count": 113,
   "metadata": {},
   "outputs": [
    {
     "data": {
      "text/plain": [
       "1"
      ]
     },
     "execution_count": 113,
     "metadata": {},
     "output_type": "execute_result"
    }
   ],
   "source": [
    "stats.binom(1,.2).rvs()"
   ]
  },
  {
   "cell_type": "code",
   "execution_count": 114,
   "metadata": {},
   "outputs": [],
   "source": [
    "def got_signing_bonus(x):\n",
    "    if x == 'M':\n",
    "        value =  stats.binom(1, .7).rvs()\n",
    "    else:\n",
    "        value = stats.binom(1,.5).rvs()\n",
    "    return value\n",
    "        "
   ]
  },
  {
   "cell_type": "code",
   "execution_count": 115,
   "metadata": {},
   "outputs": [],
   "source": [
    "new_merged = merged.copy()\n",
    "\n",
    "new_merged['new_signing_bonus'] = new_merged['sex'].transform(lambda x: (got_signing_bonus(x)))"
   ]
  },
  {
   "cell_type": "code",
   "execution_count": 116,
   "metadata": {},
   "outputs": [
    {
     "data": {
      "text/html": [
       "<div>\n",
       "<style scoped>\n",
       "    .dataframe tbody tr th:only-of-type {\n",
       "        vertical-align: middle;\n",
       "    }\n",
       "\n",
       "    .dataframe tbody tr th {\n",
       "        vertical-align: top;\n",
       "    }\n",
       "\n",
       "    .dataframe thead th {\n",
       "        text-align: right;\n",
       "    }\n",
       "</style>\n",
       "<table border=\"1\" class=\"dataframe\">\n",
       "  <thead>\n",
       "    <tr style=\"text-align: right;\">\n",
       "      <th></th>\n",
       "      <th>signing_bonus</th>\n",
       "      <th>salary</th>\n",
       "      <th>degree_level</th>\n",
       "      <th>sex</th>\n",
       "      <th>yrs_experience</th>\n",
       "      <th>dept</th>\n",
       "      <th>is_manager</th>\n",
       "      <th>direct_reports</th>\n",
       "      <th>boss_id</th>\n",
       "      <th>total_reports</th>\n",
       "      <th>company_level</th>\n",
       "    </tr>\n",
       "    <tr>\n",
       "      <th>employee_id</th>\n",
       "      <th></th>\n",
       "      <th></th>\n",
       "      <th></th>\n",
       "      <th></th>\n",
       "      <th></th>\n",
       "      <th></th>\n",
       "      <th></th>\n",
       "      <th></th>\n",
       "      <th></th>\n",
       "      <th></th>\n",
       "      <th></th>\n",
       "    </tr>\n",
       "  </thead>\n",
       "  <tbody>\n",
       "    <tr>\n",
       "      <th>138719</th>\n",
       "      <td>0</td>\n",
       "      <td>273000.0</td>\n",
       "      <td>Master</td>\n",
       "      <td>M</td>\n",
       "      <td>2</td>\n",
       "      <td>engineering</td>\n",
       "      <td>0</td>\n",
       "      <td>0.0</td>\n",
       "      <td>43602</td>\n",
       "      <td>0</td>\n",
       "      <td>0</td>\n",
       "    </tr>\n",
       "    <tr>\n",
       "      <th>3192</th>\n",
       "      <td>0</td>\n",
       "      <td>301000.0</td>\n",
       "      <td>Bachelor</td>\n",
       "      <td>F</td>\n",
       "      <td>1</td>\n",
       "      <td>sales</td>\n",
       "      <td>0</td>\n",
       "      <td>0.0</td>\n",
       "      <td>87847</td>\n",
       "      <td>0</td>\n",
       "      <td>0</td>\n",
       "    </tr>\n",
       "    <tr>\n",
       "      <th>114657</th>\n",
       "      <td>0</td>\n",
       "      <td>261000.0</td>\n",
       "      <td>Master</td>\n",
       "      <td>F</td>\n",
       "      <td>2</td>\n",
       "      <td>sales</td>\n",
       "      <td>0</td>\n",
       "      <td>0.0</td>\n",
       "      <td>180854</td>\n",
       "      <td>0</td>\n",
       "      <td>0</td>\n",
       "    </tr>\n",
       "    <tr>\n",
       "      <th>29039</th>\n",
       "      <td>0</td>\n",
       "      <td>86000.0</td>\n",
       "      <td>High_School</td>\n",
       "      <td>F</td>\n",
       "      <td>4</td>\n",
       "      <td>HR</td>\n",
       "      <td>0</td>\n",
       "      <td>0.0</td>\n",
       "      <td>88370</td>\n",
       "      <td>0</td>\n",
       "      <td>0</td>\n",
       "    </tr>\n",
       "    <tr>\n",
       "      <th>118607</th>\n",
       "      <td>0</td>\n",
       "      <td>126000.0</td>\n",
       "      <td>Bachelor</td>\n",
       "      <td>F</td>\n",
       "      <td>3</td>\n",
       "      <td>sales</td>\n",
       "      <td>0</td>\n",
       "      <td>0.0</td>\n",
       "      <td>23565</td>\n",
       "      <td>0</td>\n",
       "      <td>0</td>\n",
       "    </tr>\n",
       "  </tbody>\n",
       "</table>\n",
       "</div>"
      ],
      "text/plain": [
       "             signing_bonus    salary degree_level sex  yrs_experience  \\\n",
       "employee_id                                                             \n",
       "138719                   0  273000.0       Master   M               2   \n",
       "3192                     0  301000.0     Bachelor   F               1   \n",
       "114657                   0  261000.0       Master   F               2   \n",
       "29039                    0   86000.0  High_School   F               4   \n",
       "118607                   0  126000.0     Bachelor   F               3   \n",
       "\n",
       "                    dept  is_manager  direct_reports  boss_id  total_reports  \\\n",
       "employee_id                                                                    \n",
       "138719       engineering           0             0.0    43602              0   \n",
       "3192               sales           0             0.0    87847              0   \n",
       "114657             sales           0             0.0   180854              0   \n",
       "29039                 HR           0             0.0    88370              0   \n",
       "118607             sales           0             0.0    23565              0   \n",
       "\n",
       "             company_level  \n",
       "employee_id                 \n",
       "138719                   0  \n",
       "3192                     0  \n",
       "114657                   0  \n",
       "29039                    0  \n",
       "118607                   0  "
      ]
     },
     "execution_count": 116,
     "metadata": {},
     "output_type": "execute_result"
    }
   ],
   "source": [
    "merged.head()"
   ]
  },
  {
   "cell_type": "code",
   "execution_count": 117,
   "metadata": {},
   "outputs": [],
   "source": [
    "\n",
    "new_merged.drop(labels='signing_bonus', axis=1, inplace=True)"
   ]
  },
  {
   "cell_type": "code",
   "execution_count": 118,
   "metadata": {},
   "outputs": [
    {
     "data": {
      "text/html": [
       "<div>\n",
       "<style scoped>\n",
       "    .dataframe tbody tr th:only-of-type {\n",
       "        vertical-align: middle;\n",
       "    }\n",
       "\n",
       "    .dataframe tbody tr th {\n",
       "        vertical-align: top;\n",
       "    }\n",
       "\n",
       "    .dataframe thead th {\n",
       "        text-align: right;\n",
       "    }\n",
       "</style>\n",
       "<table border=\"1\" class=\"dataframe\">\n",
       "  <thead>\n",
       "    <tr style=\"text-align: right;\">\n",
       "      <th></th>\n",
       "      <th>salary</th>\n",
       "      <th>degree_level</th>\n",
       "      <th>sex</th>\n",
       "      <th>yrs_experience</th>\n",
       "      <th>dept</th>\n",
       "      <th>is_manager</th>\n",
       "      <th>direct_reports</th>\n",
       "      <th>boss_id</th>\n",
       "      <th>total_reports</th>\n",
       "      <th>company_level</th>\n",
       "      <th>new_signing_bonus</th>\n",
       "    </tr>\n",
       "    <tr>\n",
       "      <th>employee_id</th>\n",
       "      <th></th>\n",
       "      <th></th>\n",
       "      <th></th>\n",
       "      <th></th>\n",
       "      <th></th>\n",
       "      <th></th>\n",
       "      <th></th>\n",
       "      <th></th>\n",
       "      <th></th>\n",
       "      <th></th>\n",
       "      <th></th>\n",
       "    </tr>\n",
       "  </thead>\n",
       "  <tbody>\n",
       "    <tr>\n",
       "      <th>138719</th>\n",
       "      <td>273000.0</td>\n",
       "      <td>Master</td>\n",
       "      <td>M</td>\n",
       "      <td>2</td>\n",
       "      <td>engineering</td>\n",
       "      <td>0</td>\n",
       "      <td>0.0</td>\n",
       "      <td>43602</td>\n",
       "      <td>0</td>\n",
       "      <td>0</td>\n",
       "      <td>1</td>\n",
       "    </tr>\n",
       "    <tr>\n",
       "      <th>3192</th>\n",
       "      <td>301000.0</td>\n",
       "      <td>Bachelor</td>\n",
       "      <td>F</td>\n",
       "      <td>1</td>\n",
       "      <td>sales</td>\n",
       "      <td>0</td>\n",
       "      <td>0.0</td>\n",
       "      <td>87847</td>\n",
       "      <td>0</td>\n",
       "      <td>0</td>\n",
       "      <td>0</td>\n",
       "    </tr>\n",
       "    <tr>\n",
       "      <th>114657</th>\n",
       "      <td>261000.0</td>\n",
       "      <td>Master</td>\n",
       "      <td>F</td>\n",
       "      <td>2</td>\n",
       "      <td>sales</td>\n",
       "      <td>0</td>\n",
       "      <td>0.0</td>\n",
       "      <td>180854</td>\n",
       "      <td>0</td>\n",
       "      <td>0</td>\n",
       "      <td>0</td>\n",
       "    </tr>\n",
       "    <tr>\n",
       "      <th>29039</th>\n",
       "      <td>86000.0</td>\n",
       "      <td>High_School</td>\n",
       "      <td>F</td>\n",
       "      <td>4</td>\n",
       "      <td>HR</td>\n",
       "      <td>0</td>\n",
       "      <td>0.0</td>\n",
       "      <td>88370</td>\n",
       "      <td>0</td>\n",
       "      <td>0</td>\n",
       "      <td>1</td>\n",
       "    </tr>\n",
       "    <tr>\n",
       "      <th>118607</th>\n",
       "      <td>126000.0</td>\n",
       "      <td>Bachelor</td>\n",
       "      <td>F</td>\n",
       "      <td>3</td>\n",
       "      <td>sales</td>\n",
       "      <td>0</td>\n",
       "      <td>0.0</td>\n",
       "      <td>23565</td>\n",
       "      <td>0</td>\n",
       "      <td>0</td>\n",
       "      <td>0</td>\n",
       "    </tr>\n",
       "  </tbody>\n",
       "</table>\n",
       "</div>"
      ],
      "text/plain": [
       "               salary degree_level sex  yrs_experience         dept  \\\n",
       "employee_id                                                           \n",
       "138719       273000.0       Master   M               2  engineering   \n",
       "3192         301000.0     Bachelor   F               1        sales   \n",
       "114657       261000.0       Master   F               2        sales   \n",
       "29039         86000.0  High_School   F               4           HR   \n",
       "118607       126000.0     Bachelor   F               3        sales   \n",
       "\n",
       "             is_manager  direct_reports  boss_id  total_reports  \\\n",
       "employee_id                                                       \n",
       "138719                0             0.0    43602              0   \n",
       "3192                  0             0.0    87847              0   \n",
       "114657                0             0.0   180854              0   \n",
       "29039                 0             0.0    88370              0   \n",
       "118607                0             0.0    23565              0   \n",
       "\n",
       "             company_level  new_signing_bonus  \n",
       "employee_id                                    \n",
       "138719                   0                  1  \n",
       "3192                     0                  0  \n",
       "114657                   0                  0  \n",
       "29039                    0                  1  \n",
       "118607                   0                  0  "
      ]
     },
     "execution_count": 118,
     "metadata": {},
     "output_type": "execute_result"
    }
   ],
   "source": [
    "new_merged.head()"
   ]
  },
  {
   "cell_type": "code",
   "execution_count": 119,
   "metadata": {},
   "outputs": [],
   "source": [
    "new_merged.to_csv('../company_x_sb.csv')"
   ]
  }
 ],
 "metadata": {
  "kernelspec": {
   "display_name": "Python 3",
   "language": "python",
   "name": "python3"
  },
  "language_info": {
   "codemirror_mode": {
    "name": "ipython",
    "version": 3
   },
   "file_extension": ".py",
   "mimetype": "text/x-python",
   "name": "python",
   "nbconvert_exporter": "python",
   "pygments_lexer": "ipython3",
   "version": "3.7.3"
  }
 },
 "nbformat": 4,
 "nbformat_minor": 4
}
