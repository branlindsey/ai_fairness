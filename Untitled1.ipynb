{
 "cells": [
  {
   "cell_type": "code",
   "execution_count": null,
   "metadata": {},
   "outputs": [],
   "source": [
    "def create_binary_dataset():    \n",
    "    \"\"\"This will create a binary dataset from the csv with a set salary \n",
    "    as the threshold for later predictions.\n",
    "    \n",
    "    Input - A numeric salary to be set as the threshold\n",
    "    \n",
    "    Out - A AIF360 binary dataset with one-hot encoded categorical columns\n",
    "    \"\"\"\n",
    "    \n",
    "    data = pd.read_csv('../company_x.csv', index_col='employee_id')\n",
    "    data_with_label = data.copy()\n",
    "    data_with_label['salary'] = data_with_label['salary'].transform(lambda x: x > salary).astype(int)\n",
    "    data_with_label['sex'] = data_with_label['sex'].transform(lambda x: x == 'M').astype(int)\n",
    "\n",
    "    std_data = StandardDataset(df=data_with_label,   \n",
    "                             label_name='salary',\n",
    "                             favorable_classes =[1],\n",
    "                            protected_attribute_names=['sex'], \n",
    "                             privileged_classes=[[1]],\n",
    "                            categorical_features=['degree_level', 'dept'], \n",
    "                              features_to_drop=['boss_id'])\n",
    "\n",
    "    df_data = std_data.convert_to_dataframe()\n",
    "    binary_dataset = BinaryLabelDataset(favorable_label=1, unfavorable_label=0, df=df_data[0], label_names=['salary'],\n",
    "                  protected_attribute_names=['sex'])\n",
    "    \n",
    "    return binary_dataset"
   ]
  }
 ],
 "metadata": {
  "kernelspec": {
   "display_name": "Python 3",
   "language": "python",
   "name": "python3"
  },
  "language_info": {
   "name": ""
  }
 },
 "nbformat": 4,
 "nbformat_minor": 4
}
